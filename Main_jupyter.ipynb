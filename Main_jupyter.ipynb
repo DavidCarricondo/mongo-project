{
 "cells": [
  {
   "cell_type": "code",
   "execution_count": 1,
   "metadata": {},
   "outputs": [
    {
     "data": {
      "text/plain": [
       "True"
      ]
     },
     "execution_count": 1,
     "metadata": {},
     "output_type": "execute_result"
    }
   ],
   "source": [
    "from pymongo import MongoClient\n",
    "import requests\n",
    "import pandas as pd\n",
    "import os\n",
    "from dotenv import load_dotenv\n",
    "import json\n",
    "import folium\n",
    "import src.cleaning_functions as fn\n",
    "import src.google_api_functions as gf\n",
    "import src.mongo_query_functions as mf\n",
    "load_dotenv()"
   ]
  },
  {
   "cell_type": "code",
   "execution_count": 4,
   "metadata": {},
   "outputs": [
    {
     "name": "stdout",
     "output_type": "stream",
     "text": [
      "mongodb://localhost/companies\n"
     ]
    }
   ],
   "source": [
    "\n",
    "dbName = \"companies\"\n",
    "mongodbURL = f\"mongodb://localhost/{dbName}\"\n",
    "print(mongodbURL)\n",
    "client = MongoClient(mongodbURL, connectTimeoutMS=10000,serverSelectionTimeoutMS=10000)\n",
    "db = client.get_database()"
   ]
  },
  {
   "cell_type": "markdown",
   "metadata": {},
   "source": [
    "# Filtering for offices in England"
   ]
  },
  {
   "cell_type": "code",
   "execution_count": 5,
   "metadata": {},
   "outputs": [],
   "source": [
    "#Find the all the different country codes to choose the one for england\n",
    "query={'offices': { '$exists': 'true', '$not': {'$size': 0} }}\n",
    "web_offices = list(db.companies.find(query,{\"offices\":1,\"name\":1}))\n",
    "\n",
    "countries=set()\n",
    "for i,e in enumerate(web_offices):\n",
    "    countries.add(e['offices'][0]['country_code'])\n",
    "#countries #GBR is the code for Great Britain"
   ]
  },
  {
   "cell_type": "code",
   "execution_count": 6,
   "metadata": {},
   "outputs": [],
   "source": [
    "#Start with filtering only for companies with offices in England\n",
    "query={'offices':{'$elemMatch':{'country_code':'GBR'}}}\n",
    "project = {\"name\":1, \"offices\":1,'total_money_raised':1,'founded_year':1, 'category_code':1}\n",
    "gb_offices = list(db.companies.find(query,project))"
   ]
  },
  {
   "cell_type": "code",
   "execution_count": 8,
   "metadata": {},
   "outputs": [],
   "source": [
    "office_df = pd.DataFrame(gb_offices).explode('offices')"
   ]
  },
  {
   "cell_type": "code",
   "execution_count": 9,
   "metadata": {},
   "outputs": [
    {
     "name": "stdout",
     "output_type": "stream",
     "text": [
      "(2574, 6)\n"
     ]
    },
    {
     "data": {
      "text/html": [
       "<div>\n",
       "<style scoped>\n",
       "    .dataframe tbody tr th:only-of-type {\n",
       "        vertical-align: middle;\n",
       "    }\n",
       "\n",
       "    .dataframe tbody tr th {\n",
       "        vertical-align: top;\n",
       "    }\n",
       "\n",
       "    .dataframe thead th {\n",
       "        text-align: right;\n",
       "    }\n",
       "</style>\n",
       "<table border=\"1\" class=\"dataframe\">\n",
       "  <thead>\n",
       "    <tr style=\"text-align: right;\">\n",
       "      <th></th>\n",
       "      <th>_id</th>\n",
       "      <th>name</th>\n",
       "      <th>category_code</th>\n",
       "      <th>founded_year</th>\n",
       "      <th>total_money_raised</th>\n",
       "      <th>offices</th>\n",
       "    </tr>\n",
       "  </thead>\n",
       "  <tbody>\n",
       "    <tr>\n",
       "      <th>0</th>\n",
       "      <td>52cdef7c4bab8bd675297da0</td>\n",
       "      <td>Babelgum</td>\n",
       "      <td>games_video</td>\n",
       "      <td>2007.0</td>\n",
       "      <td>$13.2M</td>\n",
       "      <td>{'description': '', 'address1': '', 'address2'...</td>\n",
       "    </tr>\n",
       "    <tr>\n",
       "      <th>1</th>\n",
       "      <td>52cdef7c4bab8bd675297da6</td>\n",
       "      <td>SpinVox</td>\n",
       "      <td>messaging</td>\n",
       "      <td>NaN</td>\n",
       "      <td>$106M</td>\n",
       "      <td>{'description': 'Corporate Headquarters', 'add...</td>\n",
       "    </tr>\n",
       "    <tr>\n",
       "      <th>2</th>\n",
       "      <td>52cdef7c4bab8bd675297da8</td>\n",
       "      <td>OpenX</td>\n",
       "      <td>advertising</td>\n",
       "      <td>2008.0</td>\n",
       "      <td>$75.5M</td>\n",
       "      <td>{'description': 'Headquarters', 'address1': '8...</td>\n",
       "    </tr>\n",
       "  </tbody>\n",
       "</table>\n",
       "</div>"
      ],
      "text/plain": [
       "                        _id      name category_code  founded_year  \\\n",
       "0  52cdef7c4bab8bd675297da0  Babelgum   games_video        2007.0   \n",
       "1  52cdef7c4bab8bd675297da6   SpinVox     messaging           NaN   \n",
       "2  52cdef7c4bab8bd675297da8     OpenX   advertising        2008.0   \n",
       "\n",
       "  total_money_raised                                            offices  \n",
       "0             $13.2M  {'description': '', 'address1': '', 'address2'...  \n",
       "1              $106M  {'description': 'Corporate Headquarters', 'add...  \n",
       "2             $75.5M  {'description': 'Headquarters', 'address1': '8...  "
      ]
     },
     "execution_count": 9,
     "metadata": {},
     "output_type": "execute_result"
    }
   ],
   "source": [
    "print(office_df.shape)\n",
    "office_df.head(3)"
   ]
  },
  {
   "cell_type": "code",
   "execution_count": 10,
   "metadata": {},
   "outputs": [
    {
     "data": {
      "text/html": [
       "<div>\n",
       "<style scoped>\n",
       "    .dataframe tbody tr th:only-of-type {\n",
       "        vertical-align: middle;\n",
       "    }\n",
       "\n",
       "    .dataframe tbody tr th {\n",
       "        vertical-align: top;\n",
       "    }\n",
       "\n",
       "    .dataframe thead th {\n",
       "        text-align: right;\n",
       "    }\n",
       "</style>\n",
       "<table border=\"1\" class=\"dataframe\">\n",
       "  <thead>\n",
       "    <tr style=\"text-align: right;\">\n",
       "      <th></th>\n",
       "      <th>0</th>\n",
       "      <th>1</th>\n",
       "      <th>2</th>\n",
       "    </tr>\n",
       "  </thead>\n",
       "  <tbody>\n",
       "    <tr>\n",
       "      <th>0</th>\n",
       "      <td>GBR</td>\n",
       "      <td>London</td>\n",
       "      <td>{'type': 'Point', 'coordinates': [-6.267494, 5...</td>\n",
       "    </tr>\n",
       "    <tr>\n",
       "      <th>1</th>\n",
       "      <td>GBR</td>\n",
       "      <td>Buckinghamshire</td>\n",
       "      <td>None</td>\n",
       "    </tr>\n",
       "    <tr>\n",
       "      <th>2</th>\n",
       "      <td>USA</td>\n",
       "      <td>Pasadena</td>\n",
       "      <td>{'type': 'Point', 'coordinates': [-118.1327468...</td>\n",
       "    </tr>\n",
       "  </tbody>\n",
       "</table>\n",
       "</div>"
      ],
      "text/plain": [
       "     0                1                                                  2\n",
       "0  GBR           London  {'type': 'Point', 'coordinates': [-6.267494, 5...\n",
       "1  GBR  Buckinghamshire                                               None\n",
       "2  USA         Pasadena  {'type': 'Point', 'coordinates': [-118.1327468..."
      ]
     },
     "execution_count": 10,
     "metadata": {},
     "output_type": "execute_result"
    }
   ],
   "source": [
    "#Extract get geoJson format from column offices with the extract_loc function\n",
    "offices = office_df.apply(fn.extract_loc,axis=1, result_type=\"expand\")\n",
    "offices.head(3)"
   ]
  },
  {
   "cell_type": "code",
   "execution_count": 11,
   "metadata": {},
   "outputs": [
    {
     "name": "stdout",
     "output_type": "stream",
     "text": [
      "(611, 9)\n",
      "__id              object\n",
      "name              object\n",
      "category_code     object\n",
      "founded_year     float64\n",
      "raised            object\n",
      "offices           object\n",
      "country           object\n",
      "city              object\n",
      "location          object\n",
      "dtype: object\n"
     ]
    },
    {
     "data": {
      "text/html": [
       "<div>\n",
       "<style scoped>\n",
       "    .dataframe tbody tr th:only-of-type {\n",
       "        vertical-align: middle;\n",
       "    }\n",
       "\n",
       "    .dataframe tbody tr th {\n",
       "        vertical-align: top;\n",
       "    }\n",
       "\n",
       "    .dataframe thead th {\n",
       "        text-align: right;\n",
       "    }\n",
       "</style>\n",
       "<table border=\"1\" class=\"dataframe\">\n",
       "  <thead>\n",
       "    <tr style=\"text-align: right;\">\n",
       "      <th></th>\n",
       "      <th>__id</th>\n",
       "      <th>name</th>\n",
       "      <th>category_code</th>\n",
       "      <th>founded_year</th>\n",
       "      <th>raised</th>\n",
       "      <th>offices</th>\n",
       "      <th>country</th>\n",
       "      <th>city</th>\n",
       "      <th>location</th>\n",
       "    </tr>\n",
       "  </thead>\n",
       "  <tbody>\n",
       "    <tr>\n",
       "      <th>0</th>\n",
       "      <td>52cdef7c4bab8bd675297da0</td>\n",
       "      <td>Babelgum</td>\n",
       "      <td>games_video</td>\n",
       "      <td>2007.0</td>\n",
       "      <td>$13.2M</td>\n",
       "      <td>{'description': '', 'address1': '', 'address2'...</td>\n",
       "      <td>GBR</td>\n",
       "      <td>London</td>\n",
       "      <td>{'type': 'Point', 'coordinates': [-6.267494, 5...</td>\n",
       "    </tr>\n",
       "    <tr>\n",
       "      <th>4</th>\n",
       "      <td>52cdef7c4bab8bd675297dcc</td>\n",
       "      <td>AllPeers</td>\n",
       "      <td>web</td>\n",
       "      <td>2004.0</td>\n",
       "      <td>$0</td>\n",
       "      <td>{'description': None, 'address1': None, 'addre...</td>\n",
       "      <td>GBR</td>\n",
       "      <td>Oxford</td>\n",
       "      <td>{'type': 'Point', 'coordinates': [-1.255824, 5...</td>\n",
       "    </tr>\n",
       "    <tr>\n",
       "      <th>5</th>\n",
       "      <td>52cdef7c4bab8bd675297de9</td>\n",
       "      <td>Zamzar</td>\n",
       "      <td>web</td>\n",
       "      <td>2006.0</td>\n",
       "      <td>$0</td>\n",
       "      <td>{'description': '', 'address1': '', 'address2'...</td>\n",
       "      <td>GBR</td>\n",
       "      <td>Southampton</td>\n",
       "      <td>{'type': 'Point', 'coordinates': [-1.3610845, ...</td>\n",
       "    </tr>\n",
       "  </tbody>\n",
       "</table>\n",
       "</div>"
      ],
      "text/plain": [
       "                       __id      name category_code  founded_year  raised  \\\n",
       "0  52cdef7c4bab8bd675297da0  Babelgum   games_video        2007.0  $13.2M   \n",
       "4  52cdef7c4bab8bd675297dcc  AllPeers           web        2004.0      $0   \n",
       "5  52cdef7c4bab8bd675297de9    Zamzar           web        2006.0      $0   \n",
       "\n",
       "                                             offices country         city  \\\n",
       "0  {'description': '', 'address1': '', 'address2'...     GBR       London   \n",
       "4  {'description': None, 'address1': None, 'addre...     GBR       Oxford   \n",
       "5  {'description': '', 'address1': '', 'address2'...     GBR  Southampton   \n",
       "\n",
       "                                            location  \n",
       "0  {'type': 'Point', 'coordinates': [-6.267494, 5...  \n",
       "4  {'type': 'Point', 'coordinates': [-1.255824, 5...  \n",
       "5  {'type': 'Point', 'coordinates': [-1.3610845, ...  "
      ]
     },
     "execution_count": 11,
     "metadata": {},
     "output_type": "execute_result"
    }
   ],
   "source": [
    "#Append it to office_df\n",
    "offices_loc = pd.concat([office_df, offices], axis=1)\n",
    "offices_loc.columns = ['__id', 'name', 'category_code','founded_year',  'raised', 'offices','country', 'city', 'location']\n",
    "\n",
    "#Only offices in england\n",
    "offices_loc = offices_loc[offices_loc.country=='GBR']\n",
    "\n",
    "#Only offices with a valid lat long\n",
    "offices_loc = offices_loc[~offices_loc.location.isnull()]\n",
    "\n",
    "#Explore the result\n",
    "print(offices_loc.shape)\n",
    "print(offices_loc.dtypes)\n",
    "offices_loc.head(3)"
   ]
  },
  {
   "cell_type": "code",
   "execution_count": 12,
   "metadata": {},
   "outputs": [],
   "source": [
    "#Formatting the raised money column with the clean_raised function\n",
    "offices_loc['raised'] = offices_loc.raised.apply(fn.clean_raised)"
   ]
  },
  {
   "cell_type": "code",
   "execution_count": 13,
   "metadata": {},
   "outputs": [
    {
     "data": {
      "text/plain": [
       "{'type': 'Point', 'coordinates': [-2.250166, 53.473606]}"
      ]
     },
     "execution_count": 13,
     "metadata": {},
     "output_type": "execute_result"
    }
   ],
   "source": [
    "offices_loc=offices_loc[['name', 'founded_year', 'category_code', 'raised', 'city', 'location']].reset_index()\n",
    "offices_loc['location'][4]"
   ]
  },
  {
   "cell_type": "code",
   "execution_count": 24,
   "metadata": {},
   "outputs": [],
   "source": [
    "#Export to json:\n",
    "offices_loc.to_json(\"OUTPUT/offices_loc.json\",orient=\"records\")"
   ]
  },
  {
   "cell_type": "code",
   "execution_count": 25,
   "metadata": {
    "scrolled": true
   },
   "outputs": [
    {
     "name": "stdout",
     "output_type": "stream",
     "text": [
      "2020-04-20T18:37:32.986+0200\tconnected to: mongodb://localhost/\n",
      "2020-04-20T18:37:32.987+0200\tdropping: companies.offices_loc_england\n",
      "2020-04-20T18:37:33.317+0200\t611 document(s) imported successfully. 0 document(s) failed to import.\n"
     ]
    }
   ],
   "source": [
    "#Incorporating new collection to database and create geoloc index\n",
    "!mongoimport --db companies --collection offices_loc_england --drop --jsonArray OUTPUT/offices_loc.json\n"
   ]
  },
  {
   "cell_type": "code",
   "execution_count": 26,
   "metadata": {},
   "outputs": [
    {
     "data": {
      "text/plain": [
       "'location_2dsphere'"
      ]
     },
     "execution_count": 26,
     "metadata": {},
     "output_type": "execute_result"
    }
   ],
   "source": [
    "db.list_collection_names()\n",
    "#Create a GeoJson index for this collection\n",
    "db.offices_loc_england.create_index([(\"location\", '2dsphere')])"
   ]
  },
  {
   "cell_type": "code",
   "execution_count": 27,
   "metadata": {},
   "outputs": [
    {
     "data": {
      "text/plain": [
       "{'_id_': {'v': 2, 'key': [('_id', 1)], 'ns': 'companies.offices_loc_england'},\n",
       " 'location_2dsphere': {'v': 2,\n",
       "  'key': [('location', '2dsphere')],\n",
       "  'ns': 'companies.offices_loc_england',\n",
       "  '2dsphereIndexVersion': 3}}"
      ]
     },
     "execution_count": 27,
     "metadata": {},
     "output_type": "execute_result"
    }
   ],
   "source": [
    "#Make sure that I assigned a correct GeoJson index in Mongo compass\n",
    "db.offices_loc_england.index_information()"
   ]
  },
  {
   "cell_type": "markdown",
   "metadata": {},
   "source": [
    "## Filtering to accomodate developers: top notch companies (raised 1 mill dollars) nearby"
   ]
  },
  {
   "cell_type": "code",
   "execution_count": 28,
   "metadata": {},
   "outputs": [],
   "source": [
    "offices = list(db.offices_loc_england.find({}))"
   ]
  },
  {
   "cell_type": "code",
   "execution_count": 29,
   "metadata": {},
   "outputs": [
    {
     "data": {
      "text/plain": [
       "611"
      ]
     },
     "execution_count": 29,
     "metadata": {},
     "output_type": "execute_result"
    }
   ],
   "source": [
    "len(offices)"
   ]
  },
  {
   "cell_type": "code",
   "execution_count": 30,
   "metadata": {},
   "outputs": [],
   "source": [
    "#Check wich categories are available to filter out those I am not interested in.\n",
    "p = list(db.companies.find({},{'category_code':1}))\n",
    "category = set()\n",
    "for e in p:\n",
    "    category.add(e['category_code'])\n",
    "#category "
   ]
  },
  {
   "cell_type": "code",
   "execution_count": 31,
   "metadata": {},
   "outputs": [
    {
     "data": {
      "text/plain": [
       "404"
      ]
     },
     "execution_count": 31,
     "metadata": {},
     "output_type": "execute_result"
    }
   ],
   "source": [
    "#Filter for offices with tech companies that have raised more than 1 mill within 5km range\n",
    "new_offices = mf.near_filter(db.offices_loc_england, offices,mf.near_success_offices, 'pro_nearby')\n",
    "len(new_offices)"
   ]
  },
  {
   "cell_type": "markdown",
   "metadata": {},
   "source": [
    "## Second filter: travelling for executives\n"
   ]
  },
  {
   "cell_type": "code",
   "execution_count": 86,
   "metadata": {},
   "outputs": [],
   "source": [
    "#Get apiKey for google:\n",
    "apiKey = os.getenv(\"GOOGLE_API2\")"
   ]
  },
  {
   "cell_type": "code",
   "execution_count": 91,
   "metadata": {},
   "outputs": [],
   "source": [
    "##Offices that are within 20 kilometers from an international airport\n",
    "filtered_lst=[]\n",
    "for of in new_offices:\n",
    "    n_airport = len(gf.get_google(gf.get_latlong(of), radius=20000, typ ='airport',apiKey=apiKey, keyw='international'))\n",
    "    if n_airport > 0:\n",
    "        of['airp_nearby'] = n_airport \n",
    "        filtered_lst.append(of)"
   ]
  },
  {
   "cell_type": "code",
   "execution_count": 92,
   "metadata": {},
   "outputs": [
    {
     "data": {
      "text/plain": [
       "378"
      ]
     },
     "execution_count": 92,
     "metadata": {},
     "output_type": "execute_result"
    }
   ],
   "source": [
    "#Luckily most of our candidates are in London and Manchester, where travelling is easy\n",
    "len(filtered_lst)"
   ]
  },
  {
   "cell_type": "markdown",
   "metadata": {},
   "source": [
    "## Kindergartens and nurseries and primary schools"
   ]
  },
  {
   "cell_type": "code",
   "execution_count": null,
   "metadata": {},
   "outputs": [],
   "source": [
    "##Offices that are within 1 kilometers from a nursery or kindergarten. \n",
    "#This time we will be a bit more demanding and make the name include one of a series of words:\n",
    "kinder_lst = gf.school_kinder_filter(kinder_lst, ['kindergarten', 'nursery', 'primary'],'kinder', \n",
    "                                  radius=1000, typ='kindergarten', keyw='kindergarten', apiKey=apiKey)"
   ]
  },
  {
   "cell_type": "code",
   "execution_count": 98,
   "metadata": {},
   "outputs": [
    {
     "data": {
      "text/plain": [
       "199"
      ]
     },
     "execution_count": 98,
     "metadata": {},
     "output_type": "execute_result"
    }
   ],
   "source": [
    "len(kinder_lst)"
   ]
  },
  {
   "cell_type": "code",
   "execution_count": 112,
   "metadata": {},
   "outputs": [],
   "source": [
    "#For those with kids a bit older, let's make sure that they also have a primary school nearby\n",
    "school_lst = gf.school_kinder_filter(kinder_lst, ['school', 'primary'],'school', \n",
    "                                  radius=1000, typ='school', keyw='primary', apiKey=apiKey)"
   ]
  },
  {
   "cell_type": "code",
   "execution_count": 121,
   "metadata": {},
   "outputs": [
    {
     "data": {
      "text/plain": [
       "198"
      ]
     },
     "execution_count": 121,
     "metadata": {},
     "output_type": "execute_result"
    }
   ],
   "source": [
    "#It looks that kindergartens are way more limiting than primary schools\n",
    "len(school_lst)"
   ]
  },
  {
   "cell_type": "markdown",
   "metadata": {},
   "source": [
    "## Starbucks\n"
   ]
  },
  {
   "cell_type": "code",
   "execution_count": 114,
   "metadata": {},
   "outputs": [],
   "source": [
    "#The API from starbucks does not allow any email domain to register, \n",
    "# therefore, I will use actual store lat long from a kaggle dataset\n",
    "\n",
    "starbuck = pd.read_csv('INPUT/starbucks_stores.csv')\n",
    "#filtering to stores in england\n",
    "starbuck = starbuck[starbuck.Country=='GB']"
   ]
  },
  {
   "cell_type": "code",
   "execution_count": 115,
   "metadata": {},
   "outputs": [],
   "source": [
    "#Using the create_geojson function, I create a location geoJson in this df\n",
    "starbuck['location'] = starbuck.apply(mf.create_geojson, axis=1)"
   ]
  },
  {
   "cell_type": "code",
   "execution_count": 116,
   "metadata": {},
   "outputs": [],
   "source": [
    "#Drop the useless columns and export to a json\n",
    "starbucks = starbuck[['Store Name', 'City', 'location']]\n",
    "starbucks.to_json(\"OUTPUT/starbucks.json\",orient=\"records\")"
   ]
  },
  {
   "cell_type": "code",
   "execution_count": 117,
   "metadata": {},
   "outputs": [
    {
     "name": "stdout",
     "output_type": "stream",
     "text": [
      "2020-04-20T13:00:00.719+0200\tconnected to: mongodb://localhost/\n",
      "2020-04-20T13:00:00.720+0200\tdropping: companies.starbucks\n",
      "2020-04-20T13:00:01.089+0200\t901 document(s) imported successfully. 0 document(s) failed to import.\n"
     ]
    }
   ],
   "source": [
    "!mongoimport --db companies --collection starbucks --drop --jsonArray OUTPUT/starbucks.json"
   ]
  },
  {
   "cell_type": "code",
   "execution_count": 118,
   "metadata": {},
   "outputs": [
    {
     "data": {
      "text/plain": [
       "'location_2dsphere'"
      ]
     },
     "execution_count": 118,
     "metadata": {},
     "output_type": "execute_result"
    }
   ],
   "source": [
    "#CReate geoJson index\n",
    "db.starbucks.create_index([(\"location\", '2dsphere')])"
   ]
  },
  {
   "cell_type": "code",
   "execution_count": 126,
   "metadata": {},
   "outputs": [
    {
     "data": {
      "text/plain": [
       "{'_id_': {'v': 2, 'key': [('_id', 1)], 'ns': 'companies.starbucks'},\n",
       " 'location_2dsphere': {'v': 2,\n",
       "  'key': [('location', '2dsphere')],\n",
       "  'ns': 'companies.starbucks',\n",
       "  '2dsphereIndexVersion': 3}}"
      ]
     },
     "execution_count": 126,
     "metadata": {},
     "output_type": "execute_result"
    }
   ],
   "source": [
    "db.starbucks.index_information()"
   ]
  },
  {
   "cell_type": "code",
   "execution_count": 157,
   "metadata": {},
   "outputs": [
    {
     "name": "stderr",
     "output_type": "stream",
     "text": [
      "/home/david/.local/lib/python3.6/site-packages/ipykernel_launcher.py:3: DeprecationWarning: count is deprecated. Use Collection.count_documents instead.\n",
      "  This is separate from the ipykernel package so we can avoid doing imports until\n"
     ]
    }
   ],
   "source": [
    "#Filter the offices to those that within 200m from an starbucks\n",
    "\n",
    "starbucks_lst=[]\n",
    "for of in school_lst:\n",
    "    n_strbk = mf.near_starbuck(db.starbucks, of['location'], dist=200)\n",
    "    if n_strbk > 0:\n",
    "        of['starbucks'] = n_strbk \n",
    "        starbucks_lst.append(of)"
   ]
  },
  {
   "cell_type": "code",
   "execution_count": 158,
   "metadata": {},
   "outputs": [
    {
     "data": {
      "text/plain": [
       "22"
      ]
     },
     "execution_count": 158,
     "metadata": {},
     "output_type": "execute_result"
    }
   ],
   "source": [
    "len(starbucks_lst)"
   ]
  },
  {
   "cell_type": "markdown",
   "metadata": {},
   "source": [
    "## The vegan CEO"
   ]
  },
  {
   "cell_type": "code",
   "execution_count": 160,
   "metadata": {},
   "outputs": [],
   "source": [
    "#Make sure the CEO can get her vegan lunch\n",
    "ceo_lst = []\n",
    "for of in starbucks_lst:\n",
    "    n = len(gf.get_google(gf.get_latlong(of), radius=200, typ='restaurant', keyw='vegan', apiKey=apiKey))\n",
    "    if n > 0:\n",
    "        of['starbucks'] = n \n",
    "        ceo_lst.append(of)"
   ]
  },
  {
   "cell_type": "code",
   "execution_count": 161,
   "metadata": {},
   "outputs": [
    {
     "data": {
      "text/plain": [
       "20"
      ]
     },
     "execution_count": 161,
     "metadata": {},
     "output_type": "execute_result"
    }
   ],
   "source": [
    "len(ceo_lst)"
   ]
  },
  {
   "cell_type": "markdown",
   "metadata": {},
   "source": [
    "## Friday disco party\n"
   ]
  },
  {
   "cell_type": "code",
   "execution_count": 230,
   "metadata": {},
   "outputs": [],
   "source": [
    "#Places with night life within 300m\n",
    "final = []\n",
    "for of in ceo_lst:\n",
    "    n = len(gf.get_google(gf.get_latlong(of), radius=200, typ='bar', keyw='night-club', apiKey=apiKey))\n",
    "    if n > 0:\n",
    "        of['disco'] = n \n",
    "        final.append(of)"
   ]
  },
  {
   "cell_type": "code",
   "execution_count": 231,
   "metadata": {},
   "outputs": [
    {
     "data": {
      "text/plain": [
       "15"
      ]
     },
     "execution_count": 231,
     "metadata": {},
     "output_type": "execute_result"
    }
   ],
   "source": [
    "len(final)"
   ]
  },
  {
   "cell_type": "markdown",
   "metadata": {},
   "source": [
    "**We are left with a total of 15 candidates for the location of our new office**"
   ]
  },
  {
   "cell_type": "code",
   "execution_count": 318,
   "metadata": {},
   "outputs": [
    {
     "data": {
      "text/html": [
       "<div>\n",
       "<style scoped>\n",
       "    .dataframe tbody tr th:only-of-type {\n",
       "        vertical-align: middle;\n",
       "    }\n",
       "\n",
       "    .dataframe tbody tr th {\n",
       "        vertical-align: top;\n",
       "    }\n",
       "\n",
       "    .dataframe thead th {\n",
       "        text-align: right;\n",
       "    }\n",
       "</style>\n",
       "<table border=\"1\" class=\"dataframe\">\n",
       "  <thead>\n",
       "    <tr style=\"text-align: right;\">\n",
       "      <th></th>\n",
       "      <th>level_0</th>\n",
       "      <th>index</th>\n",
       "      <th>name</th>\n",
       "      <th>founded_year</th>\n",
       "      <th>category_code</th>\n",
       "      <th>raised</th>\n",
       "      <th>city</th>\n",
       "      <th>location</th>\n",
       "      <th>pro_nearby</th>\n",
       "      <th>airp_nearby</th>\n",
       "      <th>kinder</th>\n",
       "      <th>school</th>\n",
       "      <th>starbucks</th>\n",
       "      <th>disco</th>\n",
       "    </tr>\n",
       "  </thead>\n",
       "  <tbody>\n",
       "    <tr>\n",
       "      <th>0</th>\n",
       "      <td>5</td>\n",
       "      <td>397</td>\n",
       "      <td>Big Property Ladder</td>\n",
       "      <td>1995.0</td>\n",
       "      <td>other</td>\n",
       "      <td>0.000</td>\n",
       "      <td>London.</td>\n",
       "      <td>{'type': 'Point', 'coordinates': [-0.1392765, ...</td>\n",
       "      <td>37</td>\n",
       "      <td>7</td>\n",
       "      <td>1</td>\n",
       "      <td>6</td>\n",
       "      <td>7</td>\n",
       "      <td>12</td>\n",
       "    </tr>\n",
       "    <tr>\n",
       "      <th>1</th>\n",
       "      <td>8</td>\n",
       "      <td>785</td>\n",
       "      <td>Quick TV</td>\n",
       "      <td>2007.0</td>\n",
       "      <td>enterprise</td>\n",
       "      <td>3.613</td>\n",
       "      <td>London</td>\n",
       "      <td>{'type': 'Point', 'coordinates': [-0.1392765, ...</td>\n",
       "      <td>37</td>\n",
       "      <td>7</td>\n",
       "      <td>1</td>\n",
       "      <td>6</td>\n",
       "      <td>7</td>\n",
       "      <td>12</td>\n",
       "    </tr>\n",
       "    <tr>\n",
       "      <th>2</th>\n",
       "      <td>12</td>\n",
       "      <td>1070</td>\n",
       "      <td>Eglue Business Technologies</td>\n",
       "      <td>2001.0</td>\n",
       "      <td>software</td>\n",
       "      <td>27.000</td>\n",
       "      <td>London</td>\n",
       "      <td>{'type': 'Point', 'coordinates': [-0.1392765, ...</td>\n",
       "      <td>37</td>\n",
       "      <td>7</td>\n",
       "      <td>1</td>\n",
       "      <td>6</td>\n",
       "      <td>7</td>\n",
       "      <td>12</td>\n",
       "    </tr>\n",
       "    <tr>\n",
       "      <th>3</th>\n",
       "      <td>6</td>\n",
       "      <td>576</td>\n",
       "      <td>litl</td>\n",
       "      <td>2007.0</td>\n",
       "      <td>hardware</td>\n",
       "      <td>0.000</td>\n",
       "      <td>London</td>\n",
       "      <td>{'type': 'Point', 'coordinates': [-0.139244, 5...</td>\n",
       "      <td>37</td>\n",
       "      <td>7</td>\n",
       "      <td>1</td>\n",
       "      <td>6</td>\n",
       "      <td>7</td>\n",
       "      <td>10</td>\n",
       "    </tr>\n",
       "    <tr>\n",
       "      <th>4</th>\n",
       "      <td>7</td>\n",
       "      <td>590</td>\n",
       "      <td>Box UK</td>\n",
       "      <td>1998.0</td>\n",
       "      <td>software</td>\n",
       "      <td>0.000</td>\n",
       "      <td>London</td>\n",
       "      <td>{'type': 'Point', 'coordinates': [-0.1392447, ...</td>\n",
       "      <td>37</td>\n",
       "      <td>7</td>\n",
       "      <td>1</td>\n",
       "      <td>6</td>\n",
       "      <td>7</td>\n",
       "      <td>10</td>\n",
       "    </tr>\n",
       "  </tbody>\n",
       "</table>\n",
       "</div>"
      ],
      "text/plain": [
       "   level_0  index                         name  founded_year category_code  \\\n",
       "0        5    397          Big Property Ladder        1995.0         other   \n",
       "1        8    785                     Quick TV        2007.0    enterprise   \n",
       "2       12   1070  Eglue Business Technologies        2001.0      software   \n",
       "3        6    576                         litl        2007.0      hardware   \n",
       "4        7    590                       Box UK        1998.0      software   \n",
       "\n",
       "   raised     city                                           location  \\\n",
       "0   0.000  London.  {'type': 'Point', 'coordinates': [-0.1392765, ...   \n",
       "1   3.613   London  {'type': 'Point', 'coordinates': [-0.1392765, ...   \n",
       "2  27.000   London  {'type': 'Point', 'coordinates': [-0.1392765, ...   \n",
       "3   0.000   London  {'type': 'Point', 'coordinates': [-0.139244, 5...   \n",
       "4   0.000   London  {'type': 'Point', 'coordinates': [-0.1392447, ...   \n",
       "\n",
       "   pro_nearby  airp_nearby  kinder  school  starbucks  disco  \n",
       "0          37            7       1       6          7     12  \n",
       "1          37            7       1       6          7     12  \n",
       "2          37            7       1       6          7     12  \n",
       "3          37            7       1       6          7     10  \n",
       "4          37            7       1       6          7     10  "
      ]
     },
     "execution_count": 318,
     "metadata": {},
     "output_type": "execute_result"
    }
   ],
   "source": [
    "#Now we can sort the values according our findings following the priorities\n",
    "final_df = pd.DataFrame(final)\n",
    "final_df=final_df.drop('_id', axis=1)\n",
    "final_df = final_df.sort_values(by=['pro_nearby', \n",
    "                                    'airp_nearby', 'kinder',\n",
    "                                    'school', 'starbucks','disco'], ascending=False).reset_index()\n",
    "final_df.head()\n"
   ]
  },
  {
   "cell_type": "code",
   "execution_count": 245,
   "metadata": {},
   "outputs": [
    {
     "data": {
      "text/html": [
       "<div style=\"width:100%;\"><div style=\"position:relative;width:100%;height:0;padding-bottom:60%;\"><iframe src=\"about:blank\" style=\"position:absolute;width:100%;height:100%;left:0;top:0;border:none !important;\" data-html=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 onload=\"this.contentDocument.open();this.contentDocument.write(atob(this.getAttribute('data-html')));this.contentDocument.close();\" allowfullscreen webkitallowfullscreen mozallowfullscreen></iframe></div></div>"
      ],
      "text/plain": [
       "<folium.folium.Map at 0x7f80efc25128>"
      ]
     },
     "execution_count": 245,
     "metadata": {},
     "output_type": "execute_result"
    }
   ],
   "source": [
    "m = folium.Map(location=[53.920779, -1.70759],\n",
    "               zoom_start=5,\n",
    "              tiles='OpenStreet Map'#'Stamen Terrain'\n",
    "              )\n",
    "\n",
    "\n",
    "tooltip = 'City'\n",
    "\n",
    "for e in final_df.iterrows():\n",
    "    html = f\"\"\"\n",
    "    <strong> City : #{e[1][6]}</strong>\n",
    "    \"\"\"\n",
    "    long= e[1][7]['coordinates'][-1]\n",
    "    lat=e[1][7]['coordinates'][0]\n",
    "    folium.Marker([long, lat], \n",
    "                  popup=html, \n",
    "                  tooltip=tooltip, \n",
    "                  icon=folium.Icon(icon='home',color='blue')).add_to(m)\n",
    "\n",
    "\n",
    "m.add_child(folium.LatLngPopup())"
   ]
  },
  {
   "cell_type": "code",
   "execution_count": 169,
   "metadata": {},
   "outputs": [],
   "source": [
    "final_df.to_json(\"OUTPUT/final.json\",orient=\"records\")"
   ]
  },
  {
   "cell_type": "markdown",
   "metadata": {},
   "source": [
    "## Scoring"
   ]
  },
  {
   "cell_type": "code",
   "execution_count": null,
   "metadata": {},
   "outputs": [],
   "source": [
    "#All the 15 locations pass all the filters, however, variability is important, and therefore, \n",
    "# those that have only one of one class will be penalized. "
   ]
  },
  {
   "cell_type": "code",
   "execution_count": 322,
   "metadata": {},
   "outputs": [],
   "source": [
    "final_df['score'] = final_df.apply(fn.score, axis=1)"
   ]
  },
  {
   "cell_type": "code",
   "execution_count": 304,
   "metadata": {},
   "outputs": [
    {
     "data": {
      "text/plain": [
       "{'type': 'Point', 'coordinates': [-0.1392765, 51.5115309]}"
      ]
     },
     "execution_count": 304,
     "metadata": {},
     "output_type": "execute_result"
    }
   ],
   "source": [
    "final_df= final_df.sort_values(by='score')\n",
    "final_df['location'][0]"
   ]
  },
  {
   "cell_type": "code",
   "execution_count": 323,
   "metadata": {},
   "outputs": [
    {
     "name": "stdout",
     "output_type": "stream",
     "text": [
      "15.200000000000001 10.413333333333332\n"
     ]
    }
   ],
   "source": [
    "max_score=final_df['score'].max()\n",
    "mean_score=final_df['score'].mean()\n",
    "print(max_score, mean_score)"
   ]
  },
  {
   "cell_type": "code",
   "execution_count": 326,
   "metadata": {},
   "outputs": [],
   "source": [
    "#Using geocode api to get the actual address of the top score\n",
    "res = requests.get(\"https://geocode.xyz//51.5115309,-0.1392765?geoit=xml\",params={\"json\":1})\n"
   ]
  },
  {
   "cell_type": "code",
   "execution_count": 327,
   "metadata": {},
   "outputs": [
    {
     "name": "stdout",
     "output_type": "stream",
     "text": [
      "The selected location is in:  Regent Street London United Kingdom W1B4DA\n"
     ]
    }
   ],
   "source": [
    "address = res.json()\n",
    "print('The selected location is in: ',address['staddress'], address['city'], address['country'], address['postal'])"
   ]
  },
  {
   "cell_type": "markdown",
   "metadata": {},
   "source": [
    "## Visualizing"
   ]
  },
  {
   "cell_type": "code",
   "execution_count": 302,
   "metadata": {},
   "outputs": [
    {
     "data": {
      "text/html": [
       "<div style=\"width:100%;\"><div style=\"position:relative;width:100%;height:0;padding-bottom:60%;\"><iframe src=\"about:blank\" style=\"position:absolute;width:100%;height:100%;left:0;top:0;border:none !important;\" data-html=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 onload=\"this.contentDocument.open();this.contentDocument.write(atob(this.getAttribute('data-html')));this.contentDocument.close();\" allowfullscreen webkitallowfullscreen mozallowfullscreen></iframe></div></div>"
      ],
      "text/plain": [
       "<folium.folium.Map at 0x7f80ef754cf8>"
      ]
     },
     "execution_count": 302,
     "metadata": {},
     "output_type": "execute_result"
    }
   ],
   "source": [
    "m = folium.Map(location=[51.520779, -0.10759],\n",
    "               zoom_start=13,\n",
    "              tiles='OpenStreet Map'#'Stamen Terrain'\n",
    "              )\n",
    "\n",
    "\n",
    "tooltip = 'Click for info'\n",
    "\n",
    "for e in final_df.iterrows():\n",
    "    html = f\"\"\"\n",
    "    <strong> Score : #{e[1][14]}</strong>\n",
    "    <p>Pro_companies:{e[1][8]}</p>\n",
    "    <p>airports:{e[1][9]}</p>\n",
    "    <p>kinder:{e[1][10]}</p>\n",
    "    <p>schools:{e[1][11]}</p>\n",
    "    <p>starbucks:{e[1][12]}</p>\n",
    "    <p>discos:{e[1][13]}</p>\n",
    "    \"\"\"\n",
    "    long= e[1][7]['coordinates'][-1]\n",
    "    lat=e[1][7]['coordinates'][0]\n",
    "    if e[1][14]==max_score:\n",
    "        color='green'\n",
    "    elif e[1][14]>mean_score: color='blue'\n",
    "    else: color='red'\n",
    "    folium.Marker([long, lat], \n",
    "                  popup=html, \n",
    "                  tooltip=tooltip, \n",
    "                  icon=folium.Icon(icon='home',color=color)).add_to(m)\n",
    "\n",
    "folium.CircleMarker(\n",
    "    location=[51.5292, -0.0921],\n",
    "    radius=50,\n",
    "    popup='Optimal area',\n",
    "    color='#3186cc',\n",
    "    fill=True,\n",
    "    fill_color='#3186cc'\n",
    ").add_to(m)\n",
    "\n",
    "\n",
    "m.add_child(folium.LatLngPopup())\n"
   ]
  },
  {
   "cell_type": "code",
   "execution_count": 328,
   "metadata": {},
   "outputs": [],
   "source": [
    "m.save('OUTPUT/html_map.html')"
   ]
  }
 ],
 "metadata": {
  "kernelspec": {
   "display_name": "Python 3.6.9 64-bit",
   "language": "python",
   "name": "python36964bit36b15ce491344c3aaf77177bbb6e80c7"
  },
  "language_info": {
   "codemirror_mode": {
    "name": "ipython",
    "version": 3
   },
   "file_extension": ".py",
   "mimetype": "text/x-python",
   "name": "python",
   "nbconvert_exporter": "python",
   "pygments_lexer": "ipython3",
   "version": "3.6.9"
  }
 },
 "nbformat": 4,
 "nbformat_minor": 2
}
