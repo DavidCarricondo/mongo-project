{
 "cells": [
  {
   "cell_type": "code",
   "execution_count": 1,
   "metadata": {},
   "outputs": [
    {
     "data": {
      "text/plain": [
       "True"
      ]
     },
     "execution_count": 1,
     "metadata": {},
     "output_type": "execute_result"
    }
   ],
   "source": [
    "from pymongo import MongoClient\n",
    "import requests\n",
    "import pandas as pd\n",
    "import os\n",
    "from dotenv import load_dotenv\n",
    "import json\n",
    "import folium\n",
    "import src.cleaning_functions as fn\n",
    "import src.google_api_functions as gf\n",
    "import src.mongo_query_functions as mf\n",
    "load_dotenv()"
   ]
  },
  {
   "cell_type": "code",
   "execution_count": 2,
   "metadata": {},
   "outputs": [
    {
     "name": "stdout",
     "output_type": "stream",
     "text": [
      "mongodb://localhost/companies\n"
     ]
    }
   ],
   "source": [
    "#!sudo service mongod start\n",
    "dbName = \"companies\"\n",
    "mongodbURL = f\"mongodb://localhost/{dbName}\"\n",
    "print(mongodbURL)\n",
    "client = MongoClient(mongodbURL, connectTimeoutMS=10000,serverSelectionTimeoutMS=10000)\n",
    "db = client.get_database()"
   ]
  },
  {
   "cell_type": "markdown",
   "metadata": {},
   "source": [
    "# Filtering for offices in England"
   ]
  },
  {
   "cell_type": "code",
   "execution_count": 3,
   "metadata": {},
   "outputs": [],
   "source": [
    "#Find the all the different country codes to choose the one for england\n",
    "query={'offices': { '$exists': 'true', '$not': {'$size': 0} }}\n",
    "web_offices = list(db.companies.find(query,{\"offices\":1,\"name\":1}))\n",
    "\n",
    "countries=set()\n",
    "for i,e in enumerate(web_offices):\n",
    "    countries.add(e['offices'][0]['country_code'])\n",
    "#countries #GBR is the code for Great Britain"
   ]
  },
  {
   "cell_type": "code",
   "execution_count": 4,
   "metadata": {},
   "outputs": [],
   "source": [
    "#Start with filtering only for companies with offices in England\n",
    "query={'offices':{'$elemMatch':{'country_code':'GBR'}}}\n",
    "project = {\"name\":1, \"offices\":1,'total_money_raised':1,'founded_year':1, 'category_code':1}\n",
    "gb_offices = list(db.companies.find(query,project))"
   ]
  },
  {
   "cell_type": "code",
   "execution_count": 5,
   "metadata": {},
   "outputs": [],
   "source": [
    "office_df = pd.DataFrame(gb_offices).explode('offices')"
   ]
  },
  {
   "cell_type": "code",
   "execution_count": 6,
   "metadata": {},
   "outputs": [
    {
     "name": "stdout",
     "output_type": "stream",
     "text": [
      "(2574, 6)\n"
     ]
    },
    {
     "data": {
      "text/html": [
       "<div>\n",
       "<style scoped>\n",
       "    .dataframe tbody tr th:only-of-type {\n",
       "        vertical-align: middle;\n",
       "    }\n",
       "\n",
       "    .dataframe tbody tr th {\n",
       "        vertical-align: top;\n",
       "    }\n",
       "\n",
       "    .dataframe thead th {\n",
       "        text-align: right;\n",
       "    }\n",
       "</style>\n",
       "<table border=\"1\" class=\"dataframe\">\n",
       "  <thead>\n",
       "    <tr style=\"text-align: right;\">\n",
       "      <th></th>\n",
       "      <th>_id</th>\n",
       "      <th>name</th>\n",
       "      <th>category_code</th>\n",
       "      <th>founded_year</th>\n",
       "      <th>total_money_raised</th>\n",
       "      <th>offices</th>\n",
       "    </tr>\n",
       "  </thead>\n",
       "  <tbody>\n",
       "    <tr>\n",
       "      <th>0</th>\n",
       "      <td>52cdef7c4bab8bd675297da0</td>\n",
       "      <td>Babelgum</td>\n",
       "      <td>games_video</td>\n",
       "      <td>2007.0</td>\n",
       "      <td>$13.2M</td>\n",
       "      <td>{'description': '', 'address1': '', 'address2'...</td>\n",
       "    </tr>\n",
       "    <tr>\n",
       "      <th>1</th>\n",
       "      <td>52cdef7c4bab8bd675297da6</td>\n",
       "      <td>SpinVox</td>\n",
       "      <td>messaging</td>\n",
       "      <td>NaN</td>\n",
       "      <td>$106M</td>\n",
       "      <td>{'description': 'Corporate Headquarters', 'add...</td>\n",
       "    </tr>\n",
       "    <tr>\n",
       "      <th>2</th>\n",
       "      <td>52cdef7c4bab8bd675297da8</td>\n",
       "      <td>OpenX</td>\n",
       "      <td>advertising</td>\n",
       "      <td>2008.0</td>\n",
       "      <td>$75.5M</td>\n",
       "      <td>{'description': 'Headquarters', 'address1': '8...</td>\n",
       "    </tr>\n",
       "  </tbody>\n",
       "</table>\n",
       "</div>"
      ],
      "text/plain": [
       "                        _id      name category_code  founded_year  \\\n",
       "0  52cdef7c4bab8bd675297da0  Babelgum   games_video        2007.0   \n",
       "1  52cdef7c4bab8bd675297da6   SpinVox     messaging           NaN   \n",
       "2  52cdef7c4bab8bd675297da8     OpenX   advertising        2008.0   \n",
       "\n",
       "  total_money_raised                                            offices  \n",
       "0             $13.2M  {'description': '', 'address1': '', 'address2'...  \n",
       "1              $106M  {'description': 'Corporate Headquarters', 'add...  \n",
       "2             $75.5M  {'description': 'Headquarters', 'address1': '8...  "
      ]
     },
     "execution_count": 6,
     "metadata": {},
     "output_type": "execute_result"
    }
   ],
   "source": [
    "print(office_df.shape)\n",
    "office_df.head(3)"
   ]
  },
  {
   "cell_type": "code",
   "execution_count": 7,
   "metadata": {},
   "outputs": [
    {
     "data": {
      "text/html": [
       "<div>\n",
       "<style scoped>\n",
       "    .dataframe tbody tr th:only-of-type {\n",
       "        vertical-align: middle;\n",
       "    }\n",
       "\n",
       "    .dataframe tbody tr th {\n",
       "        vertical-align: top;\n",
       "    }\n",
       "\n",
       "    .dataframe thead th {\n",
       "        text-align: right;\n",
       "    }\n",
       "</style>\n",
       "<table border=\"1\" class=\"dataframe\">\n",
       "  <thead>\n",
       "    <tr style=\"text-align: right;\">\n",
       "      <th></th>\n",
       "      <th>0</th>\n",
       "      <th>1</th>\n",
       "      <th>2</th>\n",
       "    </tr>\n",
       "  </thead>\n",
       "  <tbody>\n",
       "    <tr>\n",
       "      <th>0</th>\n",
       "      <td>GBR</td>\n",
       "      <td>London</td>\n",
       "      <td>{'type': 'Point', 'coordinates': [-6.267494, 5...</td>\n",
       "    </tr>\n",
       "    <tr>\n",
       "      <th>1</th>\n",
       "      <td>GBR</td>\n",
       "      <td>Buckinghamshire</td>\n",
       "      <td>None</td>\n",
       "    </tr>\n",
       "    <tr>\n",
       "      <th>2</th>\n",
       "      <td>USA</td>\n",
       "      <td>Pasadena</td>\n",
       "      <td>{'type': 'Point', 'coordinates': [-118.1327468...</td>\n",
       "    </tr>\n",
       "  </tbody>\n",
       "</table>\n",
       "</div>"
      ],
      "text/plain": [
       "     0                1                                                  2\n",
       "0  GBR           London  {'type': 'Point', 'coordinates': [-6.267494, 5...\n",
       "1  GBR  Buckinghamshire                                               None\n",
       "2  USA         Pasadena  {'type': 'Point', 'coordinates': [-118.1327468..."
      ]
     },
     "execution_count": 7,
     "metadata": {},
     "output_type": "execute_result"
    }
   ],
   "source": [
    "#Extract get geoJson format from column offices with the extract_loc function\n",
    "offices = office_df.apply(fn.extract_loc,axis=1, result_type=\"expand\")\n",
    "offices.head(3)"
   ]
  },
  {
   "cell_type": "code",
   "execution_count": 8,
   "metadata": {},
   "outputs": [
    {
     "name": "stdout",
     "output_type": "stream",
     "text": [
      "(611, 9)\n",
      "__id              object\n",
      "name              object\n",
      "category_code     object\n",
      "founded_year     float64\n",
      "raised            object\n",
      "offices           object\n",
      "country           object\n",
      "city              object\n",
      "location          object\n",
      "dtype: object\n"
     ]
    },
    {
     "data": {
      "text/html": [
       "<div>\n",
       "<style scoped>\n",
       "    .dataframe tbody tr th:only-of-type {\n",
       "        vertical-align: middle;\n",
       "    }\n",
       "\n",
       "    .dataframe tbody tr th {\n",
       "        vertical-align: top;\n",
       "    }\n",
       "\n",
       "    .dataframe thead th {\n",
       "        text-align: right;\n",
       "    }\n",
       "</style>\n",
       "<table border=\"1\" class=\"dataframe\">\n",
       "  <thead>\n",
       "    <tr style=\"text-align: right;\">\n",
       "      <th></th>\n",
       "      <th>__id</th>\n",
       "      <th>name</th>\n",
       "      <th>category_code</th>\n",
       "      <th>founded_year</th>\n",
       "      <th>raised</th>\n",
       "      <th>offices</th>\n",
       "      <th>country</th>\n",
       "      <th>city</th>\n",
       "      <th>location</th>\n",
       "    </tr>\n",
       "  </thead>\n",
       "  <tbody>\n",
       "    <tr>\n",
       "      <th>0</th>\n",
       "      <td>52cdef7c4bab8bd675297da0</td>\n",
       "      <td>Babelgum</td>\n",
       "      <td>games_video</td>\n",
       "      <td>2007.0</td>\n",
       "      <td>$13.2M</td>\n",
       "      <td>{'description': '', 'address1': '', 'address2'...</td>\n",
       "      <td>GBR</td>\n",
       "      <td>London</td>\n",
       "      <td>{'type': 'Point', 'coordinates': [-6.267494, 5...</td>\n",
       "    </tr>\n",
       "    <tr>\n",
       "      <th>4</th>\n",
       "      <td>52cdef7c4bab8bd675297dcc</td>\n",
       "      <td>AllPeers</td>\n",
       "      <td>web</td>\n",
       "      <td>2004.0</td>\n",
       "      <td>$0</td>\n",
       "      <td>{'description': None, 'address1': None, 'addre...</td>\n",
       "      <td>GBR</td>\n",
       "      <td>Oxford</td>\n",
       "      <td>{'type': 'Point', 'coordinates': [-1.255824, 5...</td>\n",
       "    </tr>\n",
       "    <tr>\n",
       "      <th>5</th>\n",
       "      <td>52cdef7c4bab8bd675297de9</td>\n",
       "      <td>Zamzar</td>\n",
       "      <td>web</td>\n",
       "      <td>2006.0</td>\n",
       "      <td>$0</td>\n",
       "      <td>{'description': '', 'address1': '', 'address2'...</td>\n",
       "      <td>GBR</td>\n",
       "      <td>Southampton</td>\n",
       "      <td>{'type': 'Point', 'coordinates': [-1.3610845, ...</td>\n",
       "    </tr>\n",
       "  </tbody>\n",
       "</table>\n",
       "</div>"
      ],
      "text/plain": [
       "                       __id      name category_code  founded_year  raised  \\\n",
       "0  52cdef7c4bab8bd675297da0  Babelgum   games_video        2007.0  $13.2M   \n",
       "4  52cdef7c4bab8bd675297dcc  AllPeers           web        2004.0      $0   \n",
       "5  52cdef7c4bab8bd675297de9    Zamzar           web        2006.0      $0   \n",
       "\n",
       "                                             offices country         city  \\\n",
       "0  {'description': '', 'address1': '', 'address2'...     GBR       London   \n",
       "4  {'description': None, 'address1': None, 'addre...     GBR       Oxford   \n",
       "5  {'description': '', 'address1': '', 'address2'...     GBR  Southampton   \n",
       "\n",
       "                                            location  \n",
       "0  {'type': 'Point', 'coordinates': [-6.267494, 5...  \n",
       "4  {'type': 'Point', 'coordinates': [-1.255824, 5...  \n",
       "5  {'type': 'Point', 'coordinates': [-1.3610845, ...  "
      ]
     },
     "execution_count": 8,
     "metadata": {},
     "output_type": "execute_result"
    }
   ],
   "source": [
    "#Append it to office_df\n",
    "offices_loc = pd.concat([office_df, offices], axis=1)\n",
    "offices_loc.columns = ['__id', 'name', 'category_code','founded_year',  'raised', 'offices','country', 'city', 'location']\n",
    "\n",
    "#Only offices in england\n",
    "offices_loc = offices_loc[offices_loc.country=='GBR']\n",
    "\n",
    "#Only offices with a valid lat long\n",
    "offices_loc = offices_loc[~offices_loc.location.isnull()]\n",
    "\n",
    "#Explore the result\n",
    "print(offices_loc.shape)\n",
    "print(offices_loc.dtypes)\n",
    "offices_loc.head(3)"
   ]
  },
  {
   "cell_type": "code",
   "execution_count": 9,
   "metadata": {},
   "outputs": [],
   "source": [
    "#Formatting the raised money column with the clean_raised function\n",
    "offices_loc['raised'] = offices_loc.raised.apply(fn.clean_raised)"
   ]
  },
  {
   "cell_type": "code",
   "execution_count": 10,
   "metadata": {},
   "outputs": [
    {
     "data": {
      "text/plain": [
       "{'type': 'Point', 'coordinates': [-2.250166, 53.473606]}"
      ]
     },
     "execution_count": 10,
     "metadata": {},
     "output_type": "execute_result"
    }
   ],
   "source": [
    "offices_loc=offices_loc[['name', 'founded_year', 'category_code', 'raised', 'city', 'location']].reset_index()\n",
    "offices_loc['location'][4]"
   ]
  },
  {
   "cell_type": "code",
   "execution_count": 11,
   "metadata": {},
   "outputs": [],
   "source": [
    "#Export to json:\n",
    "offices_loc.to_json(\"OUTPUT/offices_loc.json\",orient=\"records\")"
   ]
  },
  {
   "cell_type": "code",
   "execution_count": 12,
   "metadata": {
    "scrolled": true
   },
   "outputs": [
    {
     "name": "stdout",
     "output_type": "stream",
     "text": [
      "2020-04-21T08:40:22.922+0200\tconnected to: mongodb://localhost/\n",
      "2020-04-21T08:40:22.923+0200\tdropping: companies.offices_loc_england\n",
      "2020-04-21T08:40:23.224+0200\t611 document(s) imported successfully. 0 document(s) failed to import.\n"
     ]
    }
   ],
   "source": [
    "#Incorporating new collection to database and create geoloc index\n",
    "!mongoimport --db companies --collection offices_loc_england --drop --jsonArray OUTPUT/offices_loc.json\n"
   ]
  },
  {
   "cell_type": "code",
   "execution_count": 13,
   "metadata": {},
   "outputs": [
    {
     "data": {
      "text/plain": [
       "'location_2dsphere'"
      ]
     },
     "execution_count": 13,
     "metadata": {},
     "output_type": "execute_result"
    }
   ],
   "source": [
    "db.list_collection_names()\n",
    "#Create a GeoJson index for this collection\n",
    "db.offices_loc_england.create_index([(\"location\", '2dsphere')])"
   ]
  },
  {
   "cell_type": "code",
   "execution_count": 14,
   "metadata": {},
   "outputs": [
    {
     "data": {
      "text/plain": [
       "{'_id_': {'v': 2, 'key': [('_id', 1)], 'ns': 'companies.offices_loc_england'},\n",
       " 'location_2dsphere': {'v': 2,\n",
       "  'key': [('location', '2dsphere')],\n",
       "  'ns': 'companies.offices_loc_england',\n",
       "  '2dsphereIndexVersion': 3}}"
      ]
     },
     "execution_count": 14,
     "metadata": {},
     "output_type": "execute_result"
    }
   ],
   "source": [
    "#Make sure that I assigned a correct GeoJson index in Mongo compass\n",
    "db.offices_loc_england.index_information()"
   ]
  },
  {
   "cell_type": "markdown",
   "metadata": {},
   "source": [
    "## Filtering to accomodate developers: top notch companies (raised 1 mill dollars) nearby"
   ]
  },
  {
   "cell_type": "code",
   "execution_count": 15,
   "metadata": {},
   "outputs": [],
   "source": [
    "offices = list(db.offices_loc_england.find({}))"
   ]
  },
  {
   "cell_type": "code",
   "execution_count": 16,
   "metadata": {},
   "outputs": [
    {
     "data": {
      "text/plain": [
       "611"
      ]
     },
     "execution_count": 16,
     "metadata": {},
     "output_type": "execute_result"
    }
   ],
   "source": [
    "len(offices)"
   ]
  },
  {
   "cell_type": "code",
   "execution_count": 17,
   "metadata": {},
   "outputs": [],
   "source": [
    "#Check wich categories are available to filter out those I am not interested in.\n",
    "p = list(db.companies.find({},{'category_code':1}))\n",
    "category = set()\n",
    "for e in p:\n",
    "    category.add(e['category_code'])\n",
    "#category "
   ]
  },
  {
   "cell_type": "code",
   "execution_count": 18,
   "metadata": {},
   "outputs": [
    {
     "data": {
      "text/plain": [
       "404"
      ]
     },
     "execution_count": 18,
     "metadata": {},
     "output_type": "execute_result"
    }
   ],
   "source": [
    "#Filter for offices with tech companies that have raised more than 1 mill within 5km range\n",
    "new_offices = mf.near_filter(db.offices_loc_england, offices,mf.near_success_offices, 'pro_nearby')\n",
    "len(new_offices)"
   ]
  },
  {
   "cell_type": "markdown",
   "metadata": {},
   "source": [
    "## Second filter: travelling for executives\n"
   ]
  },
  {
   "cell_type": "code",
   "execution_count": 20,
   "metadata": {},
   "outputs": [],
   "source": [
    "#Get apiKey for google:\n",
    "apiKey = os.getenv(\"GOOGLE_API2\")"
   ]
  },
  {
   "cell_type": "code",
   "execution_count": 21,
   "metadata": {},
   "outputs": [],
   "source": [
    "##Offices that are within 20 kilometers from an international airport using two custom functions to request from google\n",
    "filtered_lst=[]\n",
    "for of in new_offices:\n",
    "    n_airport = len(gf.get_google(gf.get_latlong(of), radius=20000, typ ='airport',apiKey=apiKey, keyw='international'))\n",
    "    if n_airport > 0:\n",
    "        of['airp_nearby'] = n_airport \n",
    "        filtered_lst.append(of)"
   ]
  },
  {
   "cell_type": "code",
   "execution_count": 24,
   "metadata": {},
   "outputs": [
    {
     "data": {
      "text/plain": [
       "378"
      ]
     },
     "execution_count": 24,
     "metadata": {},
     "output_type": "execute_result"
    }
   ],
   "source": [
    "#Luckily most of our candidates are in London and Manchester, where travelling is easy\n",
    "len(filtered_lst)"
   ]
  },
  {
   "cell_type": "markdown",
   "metadata": {},
   "source": [
    "## Kindergartens and nurseries and primary schools"
   ]
  },
  {
   "cell_type": "code",
   "execution_count": 25,
   "metadata": {},
   "outputs": [],
   "source": [
    "##Offices that are within 1 kilometers from a nursery or kindergarten. \n",
    "#This time we will be a bit more demanding and make the name include one of a series of words:\n",
    "kinder_lst = gf.school_kinder_filter(filtered_lst, ['kindergarten', 'nursery', 'primary'],'kinder', \n",
    "                                  radius=1000, typ='kindergarten', keyw='kindergarten', apiKey=apiKey)"
   ]
  },
  {
   "cell_type": "code",
   "execution_count": 26,
   "metadata": {},
   "outputs": [
    {
     "data": {
      "text/plain": [
       "201"
      ]
     },
     "execution_count": 26,
     "metadata": {},
     "output_type": "execute_result"
    }
   ],
   "source": [
    "len(kinder_lst)"
   ]
  },
  {
   "cell_type": "code",
   "execution_count": 27,
   "metadata": {},
   "outputs": [],
   "source": [
    "#For those with kids a bit older, let's make sure that they also have a primary school nearby\n",
    "school_lst = gf.school_kinder_filter(kinder_lst, ['school', 'primary'],'school', \n",
    "                                  radius=1000, typ='school', keyw='primary', apiKey=apiKey)"
   ]
  },
  {
   "cell_type": "code",
   "execution_count": 28,
   "metadata": {},
   "outputs": [
    {
     "data": {
      "text/plain": [
       "201"
      ]
     },
     "execution_count": 28,
     "metadata": {},
     "output_type": "execute_result"
    }
   ],
   "source": [
    "#It looks that kindergartens are way more limiting than primary schools\n",
    "len(school_lst)"
   ]
  },
  {
   "cell_type": "markdown",
   "metadata": {},
   "source": [
    "## Starbucks\n"
   ]
  },
  {
   "cell_type": "code",
   "execution_count": 29,
   "metadata": {},
   "outputs": [],
   "source": [
    "#The API from starbucks does not allow any email domain to register, \n",
    "# therefore, I will use actual store lat long from a kaggle dataset\n",
    "\n",
    "starbuck = pd.read_csv('INPUT/starbucks_stores.csv')\n",
    "#filtering to stores in england\n",
    "starbuck = starbuck[starbuck.Country=='GB']"
   ]
  },
  {
   "cell_type": "code",
   "execution_count": 30,
   "metadata": {},
   "outputs": [],
   "source": [
    "#Using the create_geojson function, I create a location geoJson in this df\n",
    "starbuck['location'] = starbuck.apply(mf.create_geojson, axis=1)"
   ]
  },
  {
   "cell_type": "code",
   "execution_count": 31,
   "metadata": {},
   "outputs": [],
   "source": [
    "#Drop the useless columns and export to a json\n",
    "starbucks = starbuck[['Store Name', 'City', 'location']]\n",
    "starbucks.to_json(\"OUTPUT/starbucks.json\",orient=\"records\")"
   ]
  },
  {
   "cell_type": "code",
   "execution_count": 32,
   "metadata": {},
   "outputs": [
    {
     "name": "stdout",
     "output_type": "stream",
     "text": [
      "2020-04-21T09:04:44.723+0200\tconnected to: mongodb://localhost/\n",
      "2020-04-21T09:04:44.724+0200\tdropping: companies.starbucks\n",
      "2020-04-21T09:04:45.241+0200\t901 document(s) imported successfully. 0 document(s) failed to import.\n"
     ]
    }
   ],
   "source": [
    "!mongoimport --db companies --collection starbucks --drop --jsonArray OUTPUT/starbucks.json"
   ]
  },
  {
   "cell_type": "code",
   "execution_count": 33,
   "metadata": {},
   "outputs": [
    {
     "data": {
      "text/plain": [
       "'location_2dsphere'"
      ]
     },
     "execution_count": 33,
     "metadata": {},
     "output_type": "execute_result"
    }
   ],
   "source": [
    "#CReate geoJson index\n",
    "db.starbucks.create_index([(\"location\", '2dsphere')])"
   ]
  },
  {
   "cell_type": "code",
   "execution_count": 34,
   "metadata": {},
   "outputs": [
    {
     "data": {
      "text/plain": [
       "{'_id_': {'v': 2, 'key': [('_id', 1)], 'ns': 'companies.starbucks'},\n",
       " 'location_2dsphere': {'v': 2,\n",
       "  'key': [('location', '2dsphere')],\n",
       "  'ns': 'companies.starbucks',\n",
       "  '2dsphereIndexVersion': 3}}"
      ]
     },
     "execution_count": 34,
     "metadata": {},
     "output_type": "execute_result"
    }
   ],
   "source": [
    "db.starbucks.index_information()"
   ]
  },
  {
   "cell_type": "code",
   "execution_count": 35,
   "metadata": {},
   "outputs": [],
   "source": [
    "#Filter the offices to those that within 200m from an starbucks\n",
    "\n",
    "starbucks_lst=[]\n",
    "for of in school_lst:\n",
    "    n_strbk = mf.near_starbuck(db.starbucks, of['location'], dist=200)\n",
    "    if n_strbk > 0:\n",
    "        of['starbucks'] = n_strbk \n",
    "        starbucks_lst.append(of)"
   ]
  },
  {
   "cell_type": "code",
   "execution_count": 36,
   "metadata": {},
   "outputs": [
    {
     "data": {
      "text/plain": [
       "23"
      ]
     },
     "execution_count": 36,
     "metadata": {},
     "output_type": "execute_result"
    }
   ],
   "source": [
    "len(starbucks_lst)"
   ]
  },
  {
   "cell_type": "markdown",
   "metadata": {},
   "source": [
    "## The vegan CEO"
   ]
  },
  {
   "cell_type": "code",
   "execution_count": 37,
   "metadata": {},
   "outputs": [],
   "source": [
    "#Make sure the CEO can get her vegan lunch\n",
    "ceo_lst = []\n",
    "for of in starbucks_lst:\n",
    "    n = len(gf.get_google(gf.get_latlong(of), radius=200, typ='restaurant', keyw='vegan', apiKey=apiKey))\n",
    "    if n > 0:\n",
    "        of['vegan'] = n \n",
    "        ceo_lst.append(of)"
   ]
  },
  {
   "cell_type": "code",
   "execution_count": 38,
   "metadata": {},
   "outputs": [
    {
     "data": {
      "text/plain": [
       "22"
      ]
     },
     "execution_count": 38,
     "metadata": {},
     "output_type": "execute_result"
    }
   ],
   "source": [
    "len(ceo_lst)"
   ]
  },
  {
   "cell_type": "markdown",
   "metadata": {},
   "source": [
    "## Friday disco party\n"
   ]
  },
  {
   "cell_type": "code",
   "execution_count": 39,
   "metadata": {},
   "outputs": [],
   "source": [
    "#Places with night life within 300m\n",
    "final = []\n",
    "for of in ceo_lst:\n",
    "    n = len(gf.get_google(gf.get_latlong(of), radius=200, typ='bar', keyw='night-club', apiKey=apiKey))\n",
    "    if n > 0:\n",
    "        of['disco'] = n \n",
    "        final.append(of)"
   ]
  },
  {
   "cell_type": "code",
   "execution_count": 40,
   "metadata": {},
   "outputs": [
    {
     "data": {
      "text/plain": [
       "17"
      ]
     },
     "execution_count": 40,
     "metadata": {},
     "output_type": "execute_result"
    }
   ],
   "source": [
    "len(final)"
   ]
  },
  {
   "cell_type": "markdown",
   "metadata": {},
   "source": [
    "**We are left with a total of 15 candidates for the location of our new office**"
   ]
  },
  {
   "cell_type": "code",
   "execution_count": 41,
   "metadata": {},
   "outputs": [
    {
     "data": {
      "text/html": [
       "<div>\n",
       "<style scoped>\n",
       "    .dataframe tbody tr th:only-of-type {\n",
       "        vertical-align: middle;\n",
       "    }\n",
       "\n",
       "    .dataframe tbody tr th {\n",
       "        vertical-align: top;\n",
       "    }\n",
       "\n",
       "    .dataframe thead th {\n",
       "        text-align: right;\n",
       "    }\n",
       "</style>\n",
       "<table border=\"1\" class=\"dataframe\">\n",
       "  <thead>\n",
       "    <tr style=\"text-align: right;\">\n",
       "      <th></th>\n",
       "      <th>level_0</th>\n",
       "      <th>index</th>\n",
       "      <th>name</th>\n",
       "      <th>founded_year</th>\n",
       "      <th>category_code</th>\n",
       "      <th>raised</th>\n",
       "      <th>city</th>\n",
       "      <th>location</th>\n",
       "      <th>pro_nearby</th>\n",
       "      <th>airp_nearby</th>\n",
       "      <th>kinder</th>\n",
       "      <th>school</th>\n",
       "      <th>starbucks</th>\n",
       "      <th>vegan</th>\n",
       "      <th>disco</th>\n",
       "    </tr>\n",
       "  </thead>\n",
       "  <tbody>\n",
       "    <tr>\n",
       "      <th>0</th>\n",
       "      <td>7</td>\n",
       "      <td>576</td>\n",
       "      <td>litl</td>\n",
       "      <td>2007.0</td>\n",
       "      <td>hardware</td>\n",
       "      <td>0.000</td>\n",
       "      <td>London</td>\n",
       "      <td>{'type': 'Point', 'coordinates': [-0.139244, 5...</td>\n",
       "      <td>37</td>\n",
       "      <td>7</td>\n",
       "      <td>1</td>\n",
       "      <td>7</td>\n",
       "      <td>8</td>\n",
       "      <td>6</td>\n",
       "      <td>10</td>\n",
       "    </tr>\n",
       "    <tr>\n",
       "      <th>1</th>\n",
       "      <td>6</td>\n",
       "      <td>397</td>\n",
       "      <td>Big Property Ladder</td>\n",
       "      <td>1995.0</td>\n",
       "      <td>other</td>\n",
       "      <td>0.000</td>\n",
       "      <td>London.</td>\n",
       "      <td>{'type': 'Point', 'coordinates': [-0.1392765, ...</td>\n",
       "      <td>37</td>\n",
       "      <td>7</td>\n",
       "      <td>1</td>\n",
       "      <td>6</td>\n",
       "      <td>8</td>\n",
       "      <td>6</td>\n",
       "      <td>10</td>\n",
       "    </tr>\n",
       "    <tr>\n",
       "      <th>2</th>\n",
       "      <td>10</td>\n",
       "      <td>785</td>\n",
       "      <td>Quick TV</td>\n",
       "      <td>2007.0</td>\n",
       "      <td>enterprise</td>\n",
       "      <td>3.613</td>\n",
       "      <td>London</td>\n",
       "      <td>{'type': 'Point', 'coordinates': [-0.1392765, ...</td>\n",
       "      <td>37</td>\n",
       "      <td>7</td>\n",
       "      <td>1</td>\n",
       "      <td>6</td>\n",
       "      <td>8</td>\n",
       "      <td>6</td>\n",
       "      <td>10</td>\n",
       "    </tr>\n",
       "    <tr>\n",
       "      <th>3</th>\n",
       "      <td>14</td>\n",
       "      <td>1070</td>\n",
       "      <td>Eglue Business Technologies</td>\n",
       "      <td>2001.0</td>\n",
       "      <td>software</td>\n",
       "      <td>27.000</td>\n",
       "      <td>London</td>\n",
       "      <td>{'type': 'Point', 'coordinates': [-0.1392765, ...</td>\n",
       "      <td>37</td>\n",
       "      <td>7</td>\n",
       "      <td>1</td>\n",
       "      <td>6</td>\n",
       "      <td>8</td>\n",
       "      <td>6</td>\n",
       "      <td>10</td>\n",
       "    </tr>\n",
       "    <tr>\n",
       "      <th>4</th>\n",
       "      <td>8</td>\n",
       "      <td>590</td>\n",
       "      <td>Box UK</td>\n",
       "      <td>1998.0</td>\n",
       "      <td>software</td>\n",
       "      <td>0.000</td>\n",
       "      <td>London</td>\n",
       "      <td>{'type': 'Point', 'coordinates': [-0.1392447, ...</td>\n",
       "      <td>37</td>\n",
       "      <td>7</td>\n",
       "      <td>1</td>\n",
       "      <td>6</td>\n",
       "      <td>8</td>\n",
       "      <td>5</td>\n",
       "      <td>10</td>\n",
       "    </tr>\n",
       "  </tbody>\n",
       "</table>\n",
       "</div>"
      ],
      "text/plain": [
       "   level_0  index                         name  founded_year category_code  \\\n",
       "0        7    576                         litl        2007.0      hardware   \n",
       "1        6    397          Big Property Ladder        1995.0         other   \n",
       "2       10    785                     Quick TV        2007.0    enterprise   \n",
       "3       14   1070  Eglue Business Technologies        2001.0      software   \n",
       "4        8    590                       Box UK        1998.0      software   \n",
       "\n",
       "   raised     city                                           location  \\\n",
       "0   0.000   London  {'type': 'Point', 'coordinates': [-0.139244, 5...   \n",
       "1   0.000  London.  {'type': 'Point', 'coordinates': [-0.1392765, ...   \n",
       "2   3.613   London  {'type': 'Point', 'coordinates': [-0.1392765, ...   \n",
       "3  27.000   London  {'type': 'Point', 'coordinates': [-0.1392765, ...   \n",
       "4   0.000   London  {'type': 'Point', 'coordinates': [-0.1392447, ...   \n",
       "\n",
       "   pro_nearby  airp_nearby  kinder  school  starbucks  vegan  disco  \n",
       "0          37            7       1       7          8      6     10  \n",
       "1          37            7       1       6          8      6     10  \n",
       "2          37            7       1       6          8      6     10  \n",
       "3          37            7       1       6          8      6     10  \n",
       "4          37            7       1       6          8      5     10  "
      ]
     },
     "execution_count": 41,
     "metadata": {},
     "output_type": "execute_result"
    }
   ],
   "source": [
    "#Now we can sort the values according our findings following the priorities\n",
    "final_df = pd.DataFrame(final)\n",
    "final_df=final_df.drop('_id', axis=1)\n",
    "final_df = final_df.sort_values(by=['pro_nearby', \n",
    "                                    'airp_nearby', 'kinder',\n",
    "                                    'school', 'starbucks','vegan','disco'], ascending=False).reset_index()\n",
    "final_df.head()\n"
   ]
  },
  {
   "cell_type": "code",
   "execution_count": 42,
   "metadata": {},
   "outputs": [
    {
     "data": {
      "text/html": [
       "<div style=\"width:100%;\"><div style=\"position:relative;width:100%;height:0;padding-bottom:60%;\"><iframe src=\"about:blank\" style=\"position:absolute;width:100%;height:100%;left:0;top:0;border:none !important;\" data-html=PCFET0NUWVBFIGh0bWw+CjxoZWFkPiAgICAKICAgIDxtZXRhIGh0dHAtZXF1aXY9ImNvbnRlbnQtdHlwZSIgY29udGVudD0idGV4dC9odG1sOyBjaGFyc2V0PVVURi04IiAvPgogICAgCiAgICAgICAgPHNjcmlwdD4KICAgICAgICAgICAgTF9OT19UT1VDSCA9IGZhbHNlOwogICAgICAgICAgICBMX0RJU0FCTEVfM0QgPSBmYWxzZTsKICAgICAgICA8L3NjcmlwdD4KICAgIAogICAgPHNjcmlwdCBzcmM9Imh0dHBzOi8vY2RuLmpzZGVsaXZyLm5ldC9ucG0vbGVhZmxldEAxLjUuMS9kaXN0L2xlYWZsZXQuanMiPjwvc2NyaXB0PgogICAgPHNjcmlwdCBzcmM9Imh0dHBzOi8vY29kZS5qcXVlcnkuY29tL2pxdWVyeS0xLjEyLjQubWluLmpzIj48L3NjcmlwdD4KICAgIDxzY3JpcHQgc3JjPSJodHRwczovL21heGNkbi5ib290c3RyYXBjZG4uY29tL2Jvb3RzdHJhcC8zLjIuMC9qcy9ib290c3RyYXAubWluLmpzIj48L3NjcmlwdD4KICAgIDxzY3JpcHQgc3JjPSJodHRwczovL2NkbmpzLmNsb3VkZmxhcmUuY29tL2FqYXgvbGlicy9MZWFmbGV0LmF3ZXNvbWUtbWFya2Vycy8yLjAuMi9sZWFmbGV0LmF3ZXNvbWUtbWFya2Vycy5qcyI+PC9zY3JpcHQ+CiAgICA8bGluayByZWw9InN0eWxlc2hlZXQiIGhyZWY9Imh0dHBzOi8vY2RuLmpzZGVsaXZyLm5ldC9ucG0vbGVhZmxldEAxLjUuMS9kaXN0L2xlYWZsZXQuY3NzIi8+CiAgICA8bGluayByZWw9InN0eWxlc2hlZXQiIGhyZWY9Imh0dHBzOi8vbWF4Y2RuLmJvb3RzdHJhcGNkbi5jb20vYm9vdHN0cmFwLzMuMi4wL2Nzcy9ib290c3RyYXAubWluLmNzcyIvPgogICAgPGxpbmsgcmVsPSJzdHlsZXNoZWV0IiBocmVmPSJodHRwczovL21heGNkbi5ib290c3RyYXBjZG4uY29tL2Jvb3RzdHJhcC8zLjIuMC9jc3MvYm9vdHN0cmFwLXRoZW1lLm1pbi5jc3MiLz4KICAgIDxsaW5rIHJlbD0ic3R5bGVzaGVldCIgaHJlZj0iaHR0cHM6Ly9tYXhjZG4uYm9vdHN0cmFwY2RuLmNvbS9mb250LWF3ZXNvbWUvNC42LjMvY3NzL2ZvbnQtYXdlc29tZS5taW4uY3NzIi8+CiAgICA8bGluayByZWw9InN0eWxlc2hlZXQiIGhyZWY9Imh0dHBzOi8vY2RuanMuY2xvdWRmbGFyZS5jb20vYWpheC9saWJzL0xlYWZsZXQuYXdlc29tZS1tYXJrZXJzLzIuMC4yL2xlYWZsZXQuYXdlc29tZS1tYXJrZXJzLmNzcyIvPgogICAgPGxpbmsgcmVsPSJzdHlsZXNoZWV0IiBocmVmPSJodHRwczovL3Jhd2Nkbi5naXRoYWNrLmNvbS9weXRob24tdmlzdWFsaXphdGlvbi9mb2xpdW0vbWFzdGVyL2ZvbGl1bS90ZW1wbGF0ZXMvbGVhZmxldC5hd2Vzb21lLnJvdGF0ZS5jc3MiLz4KICAgIDxzdHlsZT5odG1sLCBib2R5IHt3aWR0aDogMTAwJTtoZWlnaHQ6IDEwMCU7bWFyZ2luOiAwO3BhZGRpbmc6IDA7fTwvc3R5bGU+CiAgICA8c3R5bGU+I21hcCB7cG9zaXRpb246YWJzb2x1dGU7dG9wOjA7Ym90dG9tOjA7cmlnaHQ6MDtsZWZ0OjA7fTwvc3R5bGU+CiAgICAKICAgICAgICAgICAgPG1ldGEgbmFtZT0idmlld3BvcnQiIGNvbnRlbnQ9IndpZHRoPWRldmljZS13aWR0aCwKICAgICAgICAgICAgICAgIGluaXRpYWwtc2NhbGU9MS4wLCBtYXhpbXVtLXNjYWxlPTEuMCwgdXNlci1zY2FsYWJsZT1ubyIgLz4KICAgICAgICAgICAgPHN0eWxlPgogICAgICAgICAgICAgICAgI21hcF8zZDFmNDgzMzU5MjA0ODNjYTA1ZWQ3OTIzNWE2ZmViMCB7CiAgICAgICAgICAgICAgICAgICAgcG9zaXRpb246IHJlbGF0aXZlOwogICAgICAgICAgICAgICAgICAgIHdpZHRoOiAxMDAuMCU7CiAgICAgICAgICAgICAgICAgICAgaGVpZ2h0OiAxMDAuMCU7CiAgICAgICAgICAgICAgICAgICAgbGVmdDogMC4wJTsKICAgICAgICAgICAgICAgICAgICB0b3A6IDAuMCU7CiAgICAgICAgICAgICAgICB9CiAgICAgICAgICAgIDwvc3R5bGU+CiAgICAgICAgCjwvaGVhZD4KPGJvZHk+ICAgIAogICAgCiAgICAgICAgICAgIDxkaXYgY2xhc3M9ImZvbGl1bS1tYXAiIGlkPSJtYXBfM2QxZjQ4MzM1OTIwNDgzY2EwNWVkNzkyMzVhNmZlYjAiID48L2Rpdj4KICAgICAgICAKPC9ib2R5Pgo8c2NyaXB0PiAgICAKICAgIAogICAgICAgICAgICB2YXIgbWFwXzNkMWY0ODMzNTkyMDQ4M2NhMDVlZDc5MjM1YTZmZWIwID0gTC5tYXAoCiAgICAgICAgICAgICAgICAibWFwXzNkMWY0ODMzNTkyMDQ4M2NhMDVlZDc5MjM1YTZmZWIwIiwKICAgICAgICAgICAgICAgIHsKICAgICAgICAgICAgICAgICAgICBjZW50ZXI6IFs1My45MjA3NzksIC0xLjcwNzU5XSwKICAgICAgICAgICAgICAgICAgICBjcnM6IEwuQ1JTLkVQU0czODU3LAogICAgICAgICAgICAgICAgICAgIHpvb206IDUsCiAgICAgICAgICAgICAgICAgICAgem9vbUNvbnRyb2w6IHRydWUsCiAgICAgICAgICAgICAgICAgICAgcHJlZmVyQ2FudmFzOiBmYWxzZSwKICAgICAgICAgICAgICAgIH0KICAgICAgICAgICAgKTsKCiAgICAgICAgICAgIAoKICAgICAgICAKICAgIAogICAgICAgICAgICB2YXIgdGlsZV9sYXllcl9hM2EwN2ZlOTUwODc0MjViOTNkZTkxZTdiMmM3ZWM3MCA9IEwudGlsZUxheWVyKAogICAgICAgICAgICAgICAgImh0dHBzOi8ve3N9LnRpbGUub3BlbnN0cmVldG1hcC5vcmcve3p9L3t4fS97eX0ucG5nIiwKICAgICAgICAgICAgICAgIHsiYXR0cmlidXRpb24iOiAiRGF0YSBieSBcdTAwMjZjb3B5OyBcdTAwM2NhIGhyZWY9XCJodHRwOi8vb3BlbnN0cmVldG1hcC5vcmdcIlx1MDAzZU9wZW5TdHJlZXRNYXBcdTAwM2MvYVx1MDAzZSwgdW5kZXIgXHUwMDNjYSBocmVmPVwiaHR0cDovL3d3dy5vcGVuc3RyZWV0bWFwLm9yZy9jb3B5cmlnaHRcIlx1MDAzZU9EYkxcdTAwM2MvYVx1MDAzZS4iLCAiZGV0ZWN0UmV0aW5hIjogZmFsc2UsICJtYXhOYXRpdmVab29tIjogMTgsICJtYXhab29tIjogMTgsICJtaW5ab29tIjogMCwgIm5vV3JhcCI6IGZhbHNlLCAib3BhY2l0eSI6IDEsICJzdWJkb21haW5zIjogImFiYyIsICJ0bXMiOiBmYWxzZX0KICAgICAgICAgICAgKS5hZGRUbyhtYXBfM2QxZjQ4MzM1OTIwNDgzY2EwNWVkNzkyMzVhNmZlYjApOwogICAgICAgIAogICAgCiAgICAgICAgICAgIHZhciBtYXJrZXJfNTVmOTM4ODk1YWRhNGZmMmJhZjFlYTY5NzY0YTA2Y2EgPSBMLm1hcmtlcigKICAgICAgICAgICAgICAgIFs1MS41MTE0OTQsIC0wLjEzOTI0NF0sCiAgICAgICAgICAgICAgICB7fQogICAgICAgICAgICApLmFkZFRvKG1hcF8zZDFmNDgzMzU5MjA0ODNjYTA1ZWQ3OTIzNWE2ZmViMCk7CiAgICAgICAgCiAgICAKICAgICAgICAgICAgdmFyIGljb25fMWQyYzVhNGU1NTNjNDY2NGI4NDMwMDFjMTg4MDFhOWYgPSBMLkF3ZXNvbWVNYXJrZXJzLmljb24oCiAgICAgICAgICAgICAgICB7ImV4dHJhQ2xhc3NlcyI6ICJmYS1yb3RhdGUtMCIsICJpY29uIjogImhvbWUiLCAiaWNvbkNvbG9yIjogIndoaXRlIiwgIm1hcmtlckNvbG9yIjogImJsdWUiLCAicHJlZml4IjogImdseXBoaWNvbiJ9CiAgICAgICAgICAgICk7CiAgICAgICAgICAgIG1hcmtlcl81NWY5Mzg4OTVhZGE0ZmYyYmFmMWVhNjk3NjRhMDZjYS5zZXRJY29uKGljb25fMWQyYzVhNGU1NTNjNDY2NGI4NDMwMDFjMTg4MDFhOWYpOwogICAgICAgIAogICAgCiAgICAgICAgdmFyIHBvcHVwX2UzNzMwZDMzZWFiZTRjYmNhYWI4ZDQyOWNmOGE2NjM5ID0gTC5wb3B1cCh7Im1heFdpZHRoIjogIjEwMCUifSk7CgogICAgICAgIAogICAgICAgICAgICB2YXIgaHRtbF8wZTYzYjgxZDQ1YTQ0MWJmOGYzNWZmZTk2ZGNjZjg2ZiA9ICQoYDxkaXYgaWQ9Imh0bWxfMGU2M2I4MWQ0NWE0NDFiZjhmMzVmZmU5NmRjY2Y4NmYiIHN0eWxlPSJ3aWR0aDogMTAwLjAlOyBoZWlnaHQ6IDEwMC4wJTsiPiAgICAgPHN0cm9uZz4gQ2l0eSA6ICNMb25kb248L3N0cm9uZz4gICAgIDwvZGl2PmApWzBdOwogICAgICAgICAgICBwb3B1cF9lMzczMGQzM2VhYmU0Y2JjYWFiOGQ0MjljZjhhNjYzOS5zZXRDb250ZW50KGh0bWxfMGU2M2I4MWQ0NWE0NDFiZjhmMzVmZmU5NmRjY2Y4NmYpOwogICAgICAgIAoKICAgICAgICBtYXJrZXJfNTVmOTM4ODk1YWRhNGZmMmJhZjFlYTY5NzY0YTA2Y2EuYmluZFBvcHVwKHBvcHVwX2UzNzMwZDMzZWFiZTRjYmNhYWI4ZDQyOWNmOGE2NjM5KQogICAgICAgIDsKCiAgICAgICAgCiAgICAKICAgIAogICAgICAgICAgICBtYXJrZXJfNTVmOTM4ODk1YWRhNGZmMmJhZjFlYTY5NzY0YTA2Y2EuYmluZFRvb2x0aXAoCiAgICAgICAgICAgICAgICBgPGRpdj4KICAgICAgICAgICAgICAgICAgICAgQ2l0eQogICAgICAgICAgICAgICAgIDwvZGl2PmAsCiAgICAgICAgICAgICAgICB7InN0aWNreSI6IHRydWV9CiAgICAgICAgICAgICk7CiAgICAgICAgCiAgICAKICAgICAgICAgICAgdmFyIG1hcmtlcl8zMTZkYjE4NjVhNTc0MTBlOTNkNzA4YmFjNjc2MGRiNSA9IEwubWFya2VyKAogICAgICAgICAgICAgICAgWzUxLjUxMTUzMDksIC0wLjEzOTI3NjVdLAogICAgICAgICAgICAgICAge30KICAgICAgICAgICAgKS5hZGRUbyhtYXBfM2QxZjQ4MzM1OTIwNDgzY2EwNWVkNzkyMzVhNmZlYjApOwogICAgICAgIAogICAgCiAgICAgICAgICAgIHZhciBpY29uX2JiNjVhYTE1N2M4ZDQyMWFhNWVhMGY4ZmM3YWM1Y2UwID0gTC5Bd2Vzb21lTWFya2Vycy5pY29uKAogICAgICAgICAgICAgICAgeyJleHRyYUNsYXNzZXMiOiAiZmEtcm90YXRlLTAiLCAiaWNvbiI6ICJob21lIiwgImljb25Db2xvciI6ICJ3aGl0ZSIsICJtYXJrZXJDb2xvciI6ICJibHVlIiwgInByZWZpeCI6ICJnbHlwaGljb24ifQogICAgICAgICAgICApOwogICAgICAgICAgICBtYXJrZXJfMzE2ZGIxODY1YTU3NDEwZTkzZDcwOGJhYzY3NjBkYjUuc2V0SWNvbihpY29uX2JiNjVhYTE1N2M4ZDQyMWFhNWVhMGY4ZmM3YWM1Y2UwKTsKICAgICAgICAKICAgIAogICAgICAgIHZhciBwb3B1cF85MmIzMDY3YmViZTg0Nzk3OTQzMmIzOTI4MGNiYzJlYSA9IEwucG9wdXAoeyJtYXhXaWR0aCI6ICIxMDAlIn0pOwoKICAgICAgICAKICAgICAgICAgICAgdmFyIGh0bWxfMTRjZTA0NjYxZWU0NGY4M2I2Y2NiNGJhZWJlNDQ4MWMgPSAkKGA8ZGl2IGlkPSJodG1sXzE0Y2UwNDY2MWVlNDRmODNiNmNjYjRiYWViZTQ0ODFjIiBzdHlsZT0id2lkdGg6IDEwMC4wJTsgaGVpZ2h0OiAxMDAuMCU7Ij4gICAgIDxzdHJvbmc+IENpdHkgOiAjTG9uZG9uLjwvc3Ryb25nPiAgICAgPC9kaXY+YClbMF07CiAgICAgICAgICAgIHBvcHVwXzkyYjMwNjdiZWJlODQ3OTc5NDMyYjM5MjgwY2JjMmVhLnNldENvbnRlbnQoaHRtbF8xNGNlMDQ2NjFlZTQ0ZjgzYjZjY2I0YmFlYmU0NDgxYyk7CiAgICAgICAgCgogICAgICAgIG1hcmtlcl8zMTZkYjE4NjVhNTc0MTBlOTNkNzA4YmFjNjc2MGRiNS5iaW5kUG9wdXAocG9wdXBfOTJiMzA2N2JlYmU4NDc5Nzk0MzJiMzkyODBjYmMyZWEpCiAgICAgICAgOwoKICAgICAgICAKICAgIAogICAgCiAgICAgICAgICAgIG1hcmtlcl8zMTZkYjE4NjVhNTc0MTBlOTNkNzA4YmFjNjc2MGRiNS5iaW5kVG9vbHRpcCgKICAgICAgICAgICAgICAgIGA8ZGl2PgogICAgICAgICAgICAgICAgICAgICBDaXR5CiAgICAgICAgICAgICAgICAgPC9kaXY+YCwKICAgICAgICAgICAgICAgIHsic3RpY2t5IjogdHJ1ZX0KICAgICAgICAgICAgKTsKICAgICAgICAKICAgIAogICAgICAgICAgICB2YXIgbWFya2VyXzdmZmU5MTNkMTk3ZDQzNTdhNzg3Y2MzZDgzOTA2OTg2ID0gTC5tYXJrZXIoCiAgICAgICAgICAgICAgICBbNTEuNTExNTMwOSwgLTAuMTM5Mjc2NV0sCiAgICAgICAgICAgICAgICB7fQogICAgICAgICAgICApLmFkZFRvKG1hcF8zZDFmNDgzMzU5MjA0ODNjYTA1ZWQ3OTIzNWE2ZmViMCk7CiAgICAgICAgCiAgICAKICAgICAgICAgICAgdmFyIGljb25fMTFkYjAzMTE4YzBiNDkyNGI1YmI5NWNlYWVkYjJjYWUgPSBMLkF3ZXNvbWVNYXJrZXJzLmljb24oCiAgICAgICAgICAgICAgICB7ImV4dHJhQ2xhc3NlcyI6ICJmYS1yb3RhdGUtMCIsICJpY29uIjogImhvbWUiLCAiaWNvbkNvbG9yIjogIndoaXRlIiwgIm1hcmtlckNvbG9yIjogImJsdWUiLCAicHJlZml4IjogImdseXBoaWNvbiJ9CiAgICAgICAgICAgICk7CiAgICAgICAgICAgIG1hcmtlcl83ZmZlOTEzZDE5N2Q0MzU3YTc4N2NjM2Q4MzkwNjk4Ni5zZXRJY29uKGljb25fMTFkYjAzMTE4YzBiNDkyNGI1YmI5NWNlYWVkYjJjYWUpOwogICAgICAgIAogICAgCiAgICAgICAgdmFyIHBvcHVwX2JmNzBkODkzYjhmMTRlM2FiODdmNTVjMWU2YTUyMDRhID0gTC5wb3B1cCh7Im1heFdpZHRoIjogIjEwMCUifSk7CgogICAgICAgIAogICAgICAgICAgICB2YXIgaHRtbF82NzA1YTllNzMwZDI0NWJlOWNkYzk3YmY2N2VmZGVlYiA9ICQoYDxkaXYgaWQ9Imh0bWxfNjcwNWE5ZTczMGQyNDViZTljZGM5N2JmNjdlZmRlZWIiIHN0eWxlPSJ3aWR0aDogMTAwLjAlOyBoZWlnaHQ6IDEwMC4wJTsiPiAgICAgPHN0cm9uZz4gQ2l0eSA6ICNMb25kb248L3N0cm9uZz4gICAgIDwvZGl2PmApWzBdOwogICAgICAgICAgICBwb3B1cF9iZjcwZDg5M2I4ZjE0ZTNhYjg3ZjU1YzFlNmE1MjA0YS5zZXRDb250ZW50KGh0bWxfNjcwNWE5ZTczMGQyNDViZTljZGM5N2JmNjdlZmRlZWIpOwogICAgICAgIAoKICAgICAgICBtYXJrZXJfN2ZmZTkxM2QxOTdkNDM1N2E3ODdjYzNkODM5MDY5ODYuYmluZFBvcHVwKHBvcHVwX2JmNzBkODkzYjhmMTRlM2FiODdmNTVjMWU2YTUyMDRhKQogICAgICAgIDsKCiAgICAgICAgCiAgICAKICAgIAogICAgICAgICAgICBtYXJrZXJfN2ZmZTkxM2QxOTdkNDM1N2E3ODdjYzNkODM5MDY5ODYuYmluZFRvb2x0aXAoCiAgICAgICAgICAgICAgICBgPGRpdj4KICAgICAgICAgICAgICAgICAgICAgQ2l0eQogICAgICAgICAgICAgICAgIDwvZGl2PmAsCiAgICAgICAgICAgICAgICB7InN0aWNreSI6IHRydWV9CiAgICAgICAgICAgICk7CiAgICAgICAgCiAgICAKICAgICAgICAgICAgdmFyIG1hcmtlcl82N2YyYTE0Y2Q3Yjg0NmY2OWRjNmViNmRjM2VmZTYxYSA9IEwubWFya2VyKAogICAgICAgICAgICAgICAgWzUxLjUxMTUzMDksIC0wLjEzOTI3NjVdLAogICAgICAgICAgICAgICAge30KICAgICAgICAgICAgKS5hZGRUbyhtYXBfM2QxZjQ4MzM1OTIwNDgzY2EwNWVkNzkyMzVhNmZlYjApOwogICAgICAgIAogICAgCiAgICAgICAgICAgIHZhciBpY29uXzFlMGQ3YThlYzZkODQyOGFhNzA1NTc0ZDE0ZTk3YTI4ID0gTC5Bd2Vzb21lTWFya2Vycy5pY29uKAogICAgICAgICAgICAgICAgeyJleHRyYUNsYXNzZXMiOiAiZmEtcm90YXRlLTAiLCAiaWNvbiI6ICJob21lIiwgImljb25Db2xvciI6ICJ3aGl0ZSIsICJtYXJrZXJDb2xvciI6ICJibHVlIiwgInByZWZpeCI6ICJnbHlwaGljb24ifQogICAgICAgICAgICApOwogICAgICAgICAgICBtYXJrZXJfNjdmMmExNGNkN2I4NDZmNjlkYzZlYjZkYzNlZmU2MWEuc2V0SWNvbihpY29uXzFlMGQ3YThlYzZkODQyOGFhNzA1NTc0ZDE0ZTk3YTI4KTsKICAgICAgICAKICAgIAogICAgICAgIHZhciBwb3B1cF9mODEyMTcxNDEwMTk0NWQ0YTYzNGVjNzU5Yzg0MGJjYyA9IEwucG9wdXAoeyJtYXhXaWR0aCI6ICIxMDAlIn0pOwoKICAgICAgICAKICAgICAgICAgICAgdmFyIGh0bWxfN2Q5ZGNiYTY4MjI1NGE1ZTg0ZmY1ZTE3Yzg0MjQ4ODAgPSAkKGA8ZGl2IGlkPSJodG1sXzdkOWRjYmE2ODIyNTRhNWU4NGZmNWUxN2M4NDI0ODgwIiBzdHlsZT0id2lkdGg6IDEwMC4wJTsgaGVpZ2h0OiAxMDAuMCU7Ij4gICAgIDxzdHJvbmc+IENpdHkgOiAjTG9uZG9uPC9zdHJvbmc+ICAgICA8L2Rpdj5gKVswXTsKICAgICAgICAgICAgcG9wdXBfZjgxMjE3MTQxMDE5NDVkNGE2MzRlYzc1OWM4NDBiY2Muc2V0Q29udGVudChodG1sXzdkOWRjYmE2ODIyNTRhNWU4NGZmNWUxN2M4NDI0ODgwKTsKICAgICAgICAKCiAgICAgICAgbWFya2VyXzY3ZjJhMTRjZDdiODQ2ZjY5ZGM2ZWI2ZGMzZWZlNjFhLmJpbmRQb3B1cChwb3B1cF9mODEyMTcxNDEwMTk0NWQ0YTYzNGVjNzU5Yzg0MGJjYykKICAgICAgICA7CgogICAgICAgIAogICAgCiAgICAKICAgICAgICAgICAgbWFya2VyXzY3ZjJhMTRjZDdiODQ2ZjY5ZGM2ZWI2ZGMzZWZlNjFhLmJpbmRUb29sdGlwKAogICAgICAgICAgICAgICAgYDxkaXY+CiAgICAgICAgICAgICAgICAgICAgIENpdHkKICAgICAgICAgICAgICAgICA8L2Rpdj5gLAogICAgICAgICAgICAgICAgeyJzdGlja3kiOiB0cnVlfQogICAgICAgICAgICApOwogICAgICAgIAogICAgCiAgICAgICAgICAgIHZhciBtYXJrZXJfMmM2ZDQxNzdjOWE4NDc5OGFmZmFkNmQzNTE3Mjk0M2MgPSBMLm1hcmtlcigKICAgICAgICAgICAgICAgIFs1MS41MTA3NzM3LCAtMC4xMzkyNDQ3XSwKICAgICAgICAgICAgICAgIHt9CiAgICAgICAgICAgICkuYWRkVG8obWFwXzNkMWY0ODMzNTkyMDQ4M2NhMDVlZDc5MjM1YTZmZWIwKTsKICAgICAgICAKICAgIAogICAgICAgICAgICB2YXIgaWNvbl82M2NlZGQ5OGQ0MjE0MzllYTk1NzUyNDZkNTM3NWQ2MyA9IEwuQXdlc29tZU1hcmtlcnMuaWNvbigKICAgICAgICAgICAgICAgIHsiZXh0cmFDbGFzc2VzIjogImZhLXJvdGF0ZS0wIiwgImljb24iOiAiaG9tZSIsICJpY29uQ29sb3IiOiAid2hpdGUiLCAibWFya2VyQ29sb3IiOiAiYmx1ZSIsICJwcmVmaXgiOiAiZ2x5cGhpY29uIn0KICAgICAgICAgICAgKTsKICAgICAgICAgICAgbWFya2VyXzJjNmQ0MTc3YzlhODQ3OThhZmZhZDZkMzUxNzI5NDNjLnNldEljb24oaWNvbl82M2NlZGQ5OGQ0MjE0MzllYTk1NzUyNDZkNTM3NWQ2Myk7CiAgICAgICAgCiAgICAKICAgICAgICB2YXIgcG9wdXBfZGM2OTk2ZWY5N2RjNGE1NmI5ZWJkOTJiN2RjYTQzNzQgPSBMLnBvcHVwKHsibWF4V2lkdGgiOiAiMTAwJSJ9KTsKCiAgICAgICAgCiAgICAgICAgICAgIHZhciBodG1sX2Y3YzczMTQ0NTY1ODRhNzA4ZTQzYjMzMjAzMzM4N2JjID0gJChgPGRpdiBpZD0iaHRtbF9mN2M3MzE0NDU2NTg0YTcwOGU0M2IzMzIwMzMzODdiYyIgc3R5bGU9IndpZHRoOiAxMDAuMCU7IGhlaWdodDogMTAwLjAlOyI+ICAgICA8c3Ryb25nPiBDaXR5IDogI0xvbmRvbjwvc3Ryb25nPiAgICAgPC9kaXY+YClbMF07CiAgICAgICAgICAgIHBvcHVwX2RjNjk5NmVmOTdkYzRhNTZiOWViZDkyYjdkY2E0Mzc0LnNldENvbnRlbnQoaHRtbF9mN2M3MzE0NDU2NTg0YTcwOGU0M2IzMzIwMzMzODdiYyk7CiAgICAgICAgCgogICAgICAgIG1hcmtlcl8yYzZkNDE3N2M5YTg0Nzk4YWZmYWQ2ZDM1MTcyOTQzYy5iaW5kUG9wdXAocG9wdXBfZGM2OTk2ZWY5N2RjNGE1NmI5ZWJkOTJiN2RjYTQzNzQpCiAgICAgICAgOwoKICAgICAgICAKICAgIAogICAgCiAgICAgICAgICAgIG1hcmtlcl8yYzZkNDE3N2M5YTg0Nzk4YWZmYWQ2ZDM1MTcyOTQzYy5iaW5kVG9vbHRpcCgKICAgICAgICAgICAgICAgIGA8ZGl2PgogICAgICAgICAgICAgICAgICAgICBDaXR5CiAgICAgICAgICAgICAgICAgPC9kaXY+YCwKICAgICAgICAgICAgICAgIHsic3RpY2t5IjogdHJ1ZX0KICAgICAgICAgICAgKTsKICAgICAgICAKICAgIAogICAgICAgICAgICB2YXIgbWFya2VyXzdmNzJhZGI0NDE4MTQ0NTViMjg3Y2U5MWRlZmE3ODdkID0gTC5tYXJrZXIoCiAgICAgICAgICAgICAgICBbNTEuNTEwODgwMywgLTAuMTQxODk3M10sCiAgICAgICAgICAgICAgICB7fQogICAgICAgICAgICApLmFkZFRvKG1hcF8zZDFmNDgzMzU5MjA0ODNjYTA1ZWQ3OTIzNWE2ZmViMCk7CiAgICAgICAgCiAgICAKICAgICAgICAgICAgdmFyIGljb25fMWUzMGVhNWRhZTdiNGRkOGFkNmQ2MWYxYWQ4Mjc4MGUgPSBMLkF3ZXNvbWVNYXJrZXJzLmljb24oCiAgICAgICAgICAgICAgICB7ImV4dHJhQ2xhc3NlcyI6ICJmYS1yb3RhdGUtMCIsICJpY29uIjogImhvbWUiLCAiaWNvbkNvbG9yIjogIndoaXRlIiwgIm1hcmtlckNvbG9yIjogImJsdWUiLCAicHJlZml4IjogImdseXBoaWNvbiJ9CiAgICAgICAgICAgICk7CiAgICAgICAgICAgIG1hcmtlcl83ZjcyYWRiNDQxODE0NDU1YjI4N2NlOTFkZWZhNzg3ZC5zZXRJY29uKGljb25fMWUzMGVhNWRhZTdiNGRkOGFkNmQ2MWYxYWQ4Mjc4MGUpOwogICAgICAgIAogICAgCiAgICAgICAgdmFyIHBvcHVwXzZiZDI0MjM4NDY1MjQ3NTJiN2QxMzM3MTUxNDFkOTU1ID0gTC5wb3B1cCh7Im1heFdpZHRoIjogIjEwMCUifSk7CgogICAgICAgIAogICAgICAgICAgICB2YXIgaHRtbF9kN2NjODgwZjM4MDg0NzJhYWMxYjI2YWU2YzhkODdjNSA9ICQoYDxkaXYgaWQ9Imh0bWxfZDdjYzg4MGYzODA4NDcyYWFjMWIyNmFlNmM4ZDg3YzUiIHN0eWxlPSJ3aWR0aDogMTAwLjAlOyBoZWlnaHQ6IDEwMC4wJTsiPiAgICAgPHN0cm9uZz4gQ2l0eSA6ICNMb25kb248L3N0cm9uZz4gICAgIDwvZGl2PmApWzBdOwogICAgICAgICAgICBwb3B1cF82YmQyNDIzODQ2NTI0NzUyYjdkMTMzNzE1MTQxZDk1NS5zZXRDb250ZW50KGh0bWxfZDdjYzg4MGYzODA4NDcyYWFjMWIyNmFlNmM4ZDg3YzUpOwogICAgICAgIAoKICAgICAgICBtYXJrZXJfN2Y3MmFkYjQ0MTgxNDQ1NWIyODdjZTkxZGVmYTc4N2QuYmluZFBvcHVwKHBvcHVwXzZiZDI0MjM4NDY1MjQ3NTJiN2QxMzM3MTUxNDFkOTU1KQogICAgICAgIDsKCiAgICAgICAgCiAgICAKICAgIAogICAgICAgICAgICBtYXJrZXJfN2Y3MmFkYjQ0MTgxNDQ1NWIyODdjZTkxZGVmYTc4N2QuYmluZFRvb2x0aXAoCiAgICAgICAgICAgICAgICBgPGRpdj4KICAgICAgICAgICAgICAgICAgICAgQ2l0eQogICAgICAgICAgICAgICAgIDwvZGl2PmAsCiAgICAgICAgICAgICAgICB7InN0aWNreSI6IHRydWV9CiAgICAgICAgICAgICk7CiAgICAgICAgCiAgICAKICAgICAgICAgICAgdmFyIG1hcmtlcl8yYjUwOWFjZDEyNjc0NDJmYWRlNjBmN2M4ZDBmOTFhYyA9IEwubWFya2VyKAogICAgICAgICAgICAgICAgWzUxLjUxOTc3MiwgLTAuMTU5NzA5Ml0sCiAgICAgICAgICAgICAgICB7fQogICAgICAgICAgICApLmFkZFRvKG1hcF8zZDFmNDgzMzU5MjA0ODNjYTA1ZWQ3OTIzNWE2ZmViMCk7CiAgICAgICAgCiAgICAKICAgICAgICAgICAgdmFyIGljb25fM2QzZTVjYzM1Y2MzNDQ5Y2IwZTBiZmM3ZGE3YjQ1YTEgPSBMLkF3ZXNvbWVNYXJrZXJzLmljb24oCiAgICAgICAgICAgICAgICB7ImV4dHJhQ2xhc3NlcyI6ICJmYS1yb3RhdGUtMCIsICJpY29uIjogImhvbWUiLCAiaWNvbkNvbG9yIjogIndoaXRlIiwgIm1hcmtlckNvbG9yIjogImJsdWUiLCAicHJlZml4IjogImdseXBoaWNvbiJ9CiAgICAgICAgICAgICk7CiAgICAgICAgICAgIG1hcmtlcl8yYjUwOWFjZDEyNjc0NDJmYWRlNjBmN2M4ZDBmOTFhYy5zZXRJY29uKGljb25fM2QzZTVjYzM1Y2MzNDQ5Y2IwZTBiZmM3ZGE3YjQ1YTEpOwogICAgICAgIAogICAgCiAgICAgICAgdmFyIHBvcHVwX2FmOTA3ZGE1ODI2ZTQ1ZWFiYzRkNjA2NjI5MGIzY2M1ID0gTC5wb3B1cCh7Im1heFdpZHRoIjogIjEwMCUifSk7CgogICAgICAgIAogICAgICAgICAgICB2YXIgaHRtbF9hMjhhODlmMGZhYTI0Zjg1YmQ5ODUxZTc4MWMwYjEwMiA9ICQoYDxkaXYgaWQ9Imh0bWxfYTI4YTg5ZjBmYWEyNGY4NWJkOTg1MWU3ODFjMGIxMDIiIHN0eWxlPSJ3aWR0aDogMTAwLjAlOyBoZWlnaHQ6IDEwMC4wJTsiPiAgICAgPHN0cm9uZz4gQ2l0eSA6ICNMb25kb248L3N0cm9uZz4gICAgIDwvZGl2PmApWzBdOwogICAgICAgICAgICBwb3B1cF9hZjkwN2RhNTgyNmU0NWVhYmM0ZDYwNjYyOTBiM2NjNS5zZXRDb250ZW50KGh0bWxfYTI4YTg5ZjBmYWEyNGY4NWJkOTg1MWU3ODFjMGIxMDIpOwogICAgICAgIAoKICAgICAgICBtYXJrZXJfMmI1MDlhY2QxMjY3NDQyZmFkZTYwZjdjOGQwZjkxYWMuYmluZFBvcHVwKHBvcHVwX2FmOTA3ZGE1ODI2ZTQ1ZWFiYzRkNjA2NjI5MGIzY2M1KQogICAgICAgIDsKCiAgICAgICAgCiAgICAKICAgIAogICAgICAgICAgICBtYXJrZXJfMmI1MDlhY2QxMjY3NDQyZmFkZTYwZjdjOGQwZjkxYWMuYmluZFRvb2x0aXAoCiAgICAgICAgICAgICAgICBgPGRpdj4KICAgICAgICAgICAgICAgICAgICAgQ2l0eQogICAgICAgICAgICAgICAgIDwvZGl2PmAsCiAgICAgICAgICAgICAgICB7InN0aWNreSI6IHRydWV9CiAgICAgICAgICAgICk7CiAgICAgICAgCiAgICAKICAgICAgICAgICAgdmFyIG1hcmtlcl9mNDQxZjJlMWRiN2E0MDJlYWUxM2YzYTU4NGU1MDRiZSA9IEwubWFya2VyKAogICAgICAgICAgICAgICAgWzUxLjUxOTYxMzUsIC0wLjEwMjAyNjVdLAogICAgICAgICAgICAgICAge30KICAgICAgICAgICAgKS5hZGRUbyhtYXBfM2QxZjQ4MzM1OTIwNDgzY2EwNWVkNzkyMzVhNmZlYjApOwogICAgICAgIAogICAgCiAgICAgICAgICAgIHZhciBpY29uX2RlOTJiODBlYmM0ZTQ4Yzg5ZTA1ZDY0NDFjYjA1OGM5ID0gTC5Bd2Vzb21lTWFya2Vycy5pY29uKAogICAgICAgICAgICAgICAgeyJleHRyYUNsYXNzZXMiOiAiZmEtcm90YXRlLTAiLCAiaWNvbiI6ICJob21lIiwgImljb25Db2xvciI6ICJ3aGl0ZSIsICJtYXJrZXJDb2xvciI6ICJibHVlIiwgInByZWZpeCI6ICJnbHlwaGljb24ifQogICAgICAgICAgICApOwogICAgICAgICAgICBtYXJrZXJfZjQ0MWYyZTFkYjdhNDAyZWFlMTNmM2E1ODRlNTA0YmUuc2V0SWNvbihpY29uX2RlOTJiODBlYmM0ZTQ4Yzg5ZTA1ZDY0NDFjYjA1OGM5KTsKICAgICAgICAKICAgIAogICAgICAgIHZhciBwb3B1cF84NzE4MmJjZGEzZDA0ZDkxOWEwODkzZGVjMWQzOTI5YyA9IEwucG9wdXAoeyJtYXhXaWR0aCI6ICIxMDAlIn0pOwoKICAgICAgICAKICAgICAgICAgICAgdmFyIGh0bWxfM2FjNWNkMTU3MGFlNDg2ZmIzYmUwZWZlYjNhZGFiZDQgPSAkKGA8ZGl2IGlkPSJodG1sXzNhYzVjZDE1NzBhZTQ4NmZiM2JlMGVmZWIzYWRhYmQ0IiBzdHlsZT0id2lkdGg6IDEwMC4wJTsgaGVpZ2h0OiAxMDAuMCU7Ij4gICAgIDxzdHJvbmc+IENpdHkgOiAjTG9uZG9uPC9zdHJvbmc+ICAgICA8L2Rpdj5gKVswXTsKICAgICAgICAgICAgcG9wdXBfODcxODJiY2RhM2QwNGQ5MTlhMDg5M2RlYzFkMzkyOWMuc2V0Q29udGVudChodG1sXzNhYzVjZDE1NzBhZTQ4NmZiM2JlMGVmZWIzYWRhYmQ0KTsKICAgICAgICAKCiAgICAgICAgbWFya2VyX2Y0NDFmMmUxZGI3YTQwMmVhZTEzZjNhNTg0ZTUwNGJlLmJpbmRQb3B1cChwb3B1cF84NzE4MmJjZGEzZDA0ZDkxOWEwODkzZGVjMWQzOTI5YykKICAgICAgICA7CgogICAgICAgIAogICAgCiAgICAKICAgICAgICAgICAgbWFya2VyX2Y0NDFmMmUxZGI3YTQwMmVhZTEzZjNhNTg0ZTUwNGJlLmJpbmRUb29sdGlwKAogICAgICAgICAgICAgICAgYDxkaXY+CiAgICAgICAgICAgICAgICAgICAgIENpdHkKICAgICAgICAgICAgICAgICA8L2Rpdj5gLAogICAgICAgICAgICAgICAgeyJzdGlja3kiOiB0cnVlfQogICAgICAgICAgICApOwogICAgICAgIAogICAgCiAgICAgICAgICAgIHZhciBtYXJrZXJfZGFlZDlmNjM1Y2U4NDdiNDk3ODAyYWE2NTExNWEzMzIgPSBMLm1hcmtlcigKICAgICAgICAgICAgICAgIFs1MS41MjAzMjY4LCAtMC4wOTk0NTk2XSwKICAgICAgICAgICAgICAgIHt9CiAgICAgICAgICAgICkuYWRkVG8obWFwXzNkMWY0ODMzNTkyMDQ4M2NhMDVlZDc5MjM1YTZmZWIwKTsKICAgICAgICAKICAgIAogICAgICAgICAgICB2YXIgaWNvbl8zZTY1OGNmZDYzNzA0ZTc2YTdkN2ZmMDdiZWU4NDkyNSA9IEwuQXdlc29tZU1hcmtlcnMuaWNvbigKICAgICAgICAgICAgICAgIHsiZXh0cmFDbGFzc2VzIjogImZhLXJvdGF0ZS0wIiwgImljb24iOiAiaG9tZSIsICJpY29uQ29sb3IiOiAid2hpdGUiLCAibWFya2VyQ29sb3IiOiAiYmx1ZSIsICJwcmVmaXgiOiAiZ2x5cGhpY29uIn0KICAgICAgICAgICAgKTsKICAgICAgICAgICAgbWFya2VyX2RhZWQ5ZjYzNWNlODQ3YjQ5NzgwMmFhNjUxMTVhMzMyLnNldEljb24oaWNvbl8zZTY1OGNmZDYzNzA0ZTc2YTdkN2ZmMDdiZWU4NDkyNSk7CiAgICAgICAgCiAgICAKICAgICAgICB2YXIgcG9wdXBfYzBiYzdmNWMxNzhkNDExZGFlYWEzYmZiZjc0M2I5YWUgPSBMLnBvcHVwKHsibWF4V2lkdGgiOiAiMTAwJSJ9KTsKCiAgICAgICAgCiAgICAgICAgICAgIHZhciBodG1sXzcyODUxM2Y3YTFiNDRhZGU5ZDcwZjE1OTc3MzZmZjFhID0gJChgPGRpdiBpZD0iaHRtbF83Mjg1MTNmN2ExYjQ0YWRlOWQ3MGYxNTk3NzM2ZmYxYSIgc3R5bGU9IndpZHRoOiAxMDAuMCU7IGhlaWdodDogMTAwLjAlOyI+ICAgICA8c3Ryb25nPiBDaXR5IDogI0xvbmRvbjwvc3Ryb25nPiAgICAgPC9kaXY+YClbMF07CiAgICAgICAgICAgIHBvcHVwX2MwYmM3ZjVjMTc4ZDQxMWRhZWFhM2JmYmY3NDNiOWFlLnNldENvbnRlbnQoaHRtbF83Mjg1MTNmN2ExYjQ0YWRlOWQ3MGYxNTk3NzM2ZmYxYSk7CiAgICAgICAgCgogICAgICAgIG1hcmtlcl9kYWVkOWY2MzVjZTg0N2I0OTc4MDJhYTY1MTE1YTMzMi5iaW5kUG9wdXAocG9wdXBfYzBiYzdmNWMxNzhkNDExZGFlYWEzYmZiZjc0M2I5YWUpCiAgICAgICAgOwoKICAgICAgICAKICAgIAogICAgCiAgICAgICAgICAgIG1hcmtlcl9kYWVkOWY2MzVjZTg0N2I0OTc4MDJhYTY1MTE1YTMzMi5iaW5kVG9vbHRpcCgKICAgICAgICAgICAgICAgIGA8ZGl2PgogICAgICAgICAgICAgICAgICAgICBDaXR5CiAgICAgICAgICAgICAgICAgPC9kaXY+YCwKICAgICAgICAgICAgICAgIHsic3RpY2t5IjogdHJ1ZX0KICAgICAgICAgICAgKTsKICAgICAgICAKICAgIAogICAgICAgICAgICB2YXIgbWFya2VyXzcwNWIxNGJkZjYwYTRmMzI4MWQzZTc1ZjNjNDFmYTk4ID0gTC5tYXJrZXIoCiAgICAgICAgICAgICAgICBbNTEuNTIwNzc5LCAtMC4xMDc1OV0sCiAgICAgICAgICAgICAgICB7fQogICAgICAgICAgICApLmFkZFRvKG1hcF8zZDFmNDgzMzU5MjA0ODNjYTA1ZWQ3OTIzNWE2ZmViMCk7CiAgICAgICAgCiAgICAKICAgICAgICAgICAgdmFyIGljb25fYjg5NDQxZDgzNGIxNDhlYmIwOWQyMDdjMmYxNGI2ZDYgPSBMLkF3ZXNvbWVNYXJrZXJzLmljb24oCiAgICAgICAgICAgICAgICB7ImV4dHJhQ2xhc3NlcyI6ICJmYS1yb3RhdGUtMCIsICJpY29uIjogImhvbWUiLCAiaWNvbkNvbG9yIjogIndoaXRlIiwgIm1hcmtlckNvbG9yIjogImJsdWUiLCAicHJlZml4IjogImdseXBoaWNvbiJ9CiAgICAgICAgICAgICk7CiAgICAgICAgICAgIG1hcmtlcl83MDViMTRiZGY2MGE0ZjMyODFkM2U3NWYzYzQxZmE5OC5zZXRJY29uKGljb25fYjg5NDQxZDgzNGIxNDhlYmIwOWQyMDdjMmYxNGI2ZDYpOwogICAgICAgIAogICAgCiAgICAgICAgdmFyIHBvcHVwX2JjYTRhMWI4ZjExMjQxODc5OWE2ZGVmYWUyMDYxMTMxID0gTC5wb3B1cCh7Im1heFdpZHRoIjogIjEwMCUifSk7CgogICAgICAgIAogICAgICAgICAgICB2YXIgaHRtbF9hYjczNzIwYjFiZTE0NTkxODI1ZmYwMmFhNjk0NjgzNCA9ICQoYDxkaXYgaWQ9Imh0bWxfYWI3MzcyMGIxYmUxNDU5MTgyNWZmMDJhYTY5NDY4MzQiIHN0eWxlPSJ3aWR0aDogMTAwLjAlOyBoZWlnaHQ6IDEwMC4wJTsiPiAgICAgPHN0cm9uZz4gQ2l0eSA6ICNMb25kb248L3N0cm9uZz4gICAgIDwvZGl2PmApWzBdOwogICAgICAgICAgICBwb3B1cF9iY2E0YTFiOGYxMTI0MTg3OTlhNmRlZmFlMjA2MTEzMS5zZXRDb250ZW50KGh0bWxfYWI3MzcyMGIxYmUxNDU5MTgyNWZmMDJhYTY5NDY4MzQpOwogICAgICAgIAoKICAgICAgICBtYXJrZXJfNzA1YjE0YmRmNjBhNGYzMjgxZDNlNzVmM2M0MWZhOTguYmluZFBvcHVwKHBvcHVwX2JjYTRhMWI4ZjExMjQxODc5OWE2ZGVmYWUyMDYxMTMxKQogICAgICAgIDsKCiAgICAgICAgCiAgICAKICAgIAogICAgICAgICAgICBtYXJrZXJfNzA1YjE0YmRmNjBhNGYzMjgxZDNlNzVmM2M0MWZhOTguYmluZFRvb2x0aXAoCiAgICAgICAgICAgICAgICBgPGRpdj4KICAgICAgICAgICAgICAgICAgICAgQ2l0eQogICAgICAgICAgICAgICAgIDwvZGl2PmAsCiAgICAgICAgICAgICAgICB7InN0aWNreSI6IHRydWV9CiAgICAgICAgICAgICk7CiAgICAgICAgCiAgICAKICAgICAgICAgICAgdmFyIG1hcmtlcl8xMGFkZGQ3ODk3ODg0NzdlOWViMzg4ODUzMjE5NDJlNCA9IEwubWFya2VyKAogICAgICAgICAgICAgICAgWzUxLjUyOTIyNDUsIC0wLjA5MjEyMThdLAogICAgICAgICAgICAgICAge30KICAgICAgICAgICAgKS5hZGRUbyhtYXBfM2QxZjQ4MzM1OTIwNDgzY2EwNWVkNzkyMzVhNmZlYjApOwogICAgICAgIAogICAgCiAgICAgICAgICAgIHZhciBpY29uX2RmZDcyNTExYzk1YzRmMTViZTJjNDNmMzYyYjBkZThiID0gTC5Bd2Vzb21lTWFya2Vycy5pY29uKAogICAgICAgICAgICAgICAgeyJleHRyYUNsYXNzZXMiOiAiZmEtcm90YXRlLTAiLCAiaWNvbiI6ICJob21lIiwgImljb25Db2xvciI6ICJ3aGl0ZSIsICJtYXJrZXJDb2xvciI6ICJibHVlIiwgInByZWZpeCI6ICJnbHlwaGljb24ifQogICAgICAgICAgICApOwogICAgICAgICAgICBtYXJrZXJfMTBhZGRkNzg5Nzg4NDc3ZTllYjM4ODg1MzIxOTQyZTQuc2V0SWNvbihpY29uX2RmZDcyNTExYzk1YzRmMTViZTJjNDNmMzYyYjBkZThiKTsKICAgICAgICAKICAgIAogICAgICAgIHZhciBwb3B1cF80MDY4MmY3NjM3ZjU0YTBjODVlZTc4NTA5Mjg2OGEwYSA9IEwucG9wdXAoeyJtYXhXaWR0aCI6ICIxMDAlIn0pOwoKICAgICAgICAKICAgICAgICAgICAgdmFyIGh0bWxfMDYxMTZjMGQ1YWNiNDcwNGExZWMyMTc5YmRmM2FiNzMgPSAkKGA8ZGl2IGlkPSJodG1sXzA2MTE2YzBkNWFjYjQ3MDRhMWVjMjE3OWJkZjNhYjczIiBzdHlsZT0id2lkdGg6IDEwMC4wJTsgaGVpZ2h0OiAxMDAuMCU7Ij4gICAgIDxzdHJvbmc+IENpdHkgOiAjTG9uZG9uPC9zdHJvbmc+ICAgICA8L2Rpdj5gKVswXTsKICAgICAgICAgICAgcG9wdXBfNDA2ODJmNzYzN2Y1NGEwYzg1ZWU3ODUwOTI4NjhhMGEuc2V0Q29udGVudChodG1sXzA2MTE2YzBkNWFjYjQ3MDRhMWVjMjE3OWJkZjNhYjczKTsKICAgICAgICAKCiAgICAgICAgbWFya2VyXzEwYWRkZDc4OTc4ODQ3N2U5ZWIzODg4NTMyMTk0MmU0LmJpbmRQb3B1cChwb3B1cF80MDY4MmY3NjM3ZjU0YTBjODVlZTc4NTA5Mjg2OGEwYSkKICAgICAgICA7CgogICAgICAgIAogICAgCiAgICAKICAgICAgICAgICAgbWFya2VyXzEwYWRkZDc4OTc4ODQ3N2U5ZWIzODg4NTMyMTk0MmU0LmJpbmRUb29sdGlwKAogICAgICAgICAgICAgICAgYDxkaXY+CiAgICAgICAgICAgICAgICAgICAgIENpdHkKICAgICAgICAgICAgICAgICA8L2Rpdj5gLAogICAgICAgICAgICAgICAgeyJzdGlja3kiOiB0cnVlfQogICAgICAgICAgICApOwogICAgICAgIAogICAgCiAgICAgICAgICAgIHZhciBtYXJrZXJfZmEyYjI2MmM1NWRlNGQ0M2IyMTFhNTIxZGIxM2ViYjIgPSBMLm1hcmtlcigKICAgICAgICAgICAgICAgIFs1MS41Mzk1OTE0LCAtMC4xNTI1MDQ4XSwKICAgICAgICAgICAgICAgIHt9CiAgICAgICAgICAgICkuYWRkVG8obWFwXzNkMWY0ODMzNTkyMDQ4M2NhMDVlZDc5MjM1YTZmZWIwKTsKICAgICAgICAKICAgIAogICAgICAgICAgICB2YXIgaWNvbl81OTUwNzRmNGI0MTE0YzcwOTAwMzMyOWExYzUzYWI0ZiA9IEwuQXdlc29tZU1hcmtlcnMuaWNvbigKICAgICAgICAgICAgICAgIHsiZXh0cmFDbGFzc2VzIjogImZhLXJvdGF0ZS0wIiwgImljb24iOiAiaG9tZSIsICJpY29uQ29sb3IiOiAid2hpdGUiLCAibWFya2VyQ29sb3IiOiAiYmx1ZSIsICJwcmVmaXgiOiAiZ2x5cGhpY29uIn0KICAgICAgICAgICAgKTsKICAgICAgICAgICAgbWFya2VyX2ZhMmIyNjJjNTVkZTRkNDNiMjExYTUyMWRiMTNlYmIyLnNldEljb24oaWNvbl81OTUwNzRmNGI0MTE0YzcwOTAwMzMyOWExYzUzYWI0Zik7CiAgICAgICAgCiAgICAKICAgICAgICB2YXIgcG9wdXBfNWM5YTUxN2FjYmFkNDdjNDkwMWVmNzcxMWIyM2MxYTggPSBMLnBvcHVwKHsibWF4V2lkdGgiOiAiMTAwJSJ9KTsKCiAgICAgICAgCiAgICAgICAgICAgIHZhciBodG1sX2FjNDY4MjExYjg4ZDRmODViZTc3Yjg0YzAwNWUxODBlID0gJChgPGRpdiBpZD0iaHRtbF9hYzQ2ODIxMWI4OGQ0Zjg1YmU3N2I4NGMwMDVlMTgwZSIgc3R5bGU9IndpZHRoOiAxMDAuMCU7IGhlaWdodDogMTAwLjAlOyI+ICAgICA8c3Ryb25nPiBDaXR5IDogI0xvbmRvbjwvc3Ryb25nPiAgICAgPC9kaXY+YClbMF07CiAgICAgICAgICAgIHBvcHVwXzVjOWE1MTdhY2JhZDQ3YzQ5MDFlZjc3MTFiMjNjMWE4LnNldENvbnRlbnQoaHRtbF9hYzQ2ODIxMWI4OGQ0Zjg1YmU3N2I4NGMwMDVlMTgwZSk7CiAgICAgICAgCgogICAgICAgIG1hcmtlcl9mYTJiMjYyYzU1ZGU0ZDQzYjIxMWE1MjFkYjEzZWJiMi5iaW5kUG9wdXAocG9wdXBfNWM5YTUxN2FjYmFkNDdjNDkwMWVmNzcxMWIyM2MxYTgpCiAgICAgICAgOwoKICAgICAgICAKICAgIAogICAgCiAgICAgICAgICAgIG1hcmtlcl9mYTJiMjYyYzU1ZGU0ZDQzYjIxMWE1MjFkYjEzZWJiMi5iaW5kVG9vbHRpcCgKICAgICAgICAgICAgICAgIGA8ZGl2PgogICAgICAgICAgICAgICAgICAgICBDaXR5CiAgICAgICAgICAgICAgICAgPC9kaXY+YCwKICAgICAgICAgICAgICAgIHsic3RpY2t5IjogdHJ1ZX0KICAgICAgICAgICAgKTsKICAgICAgICAKICAgIAogICAgICAgICAgICB2YXIgbWFya2VyX2IxYTJjNTc0NTg3ODQ4N2ViOGJjZmUwNjAxOWNmOWEyID0gTC5tYXJrZXIoCiAgICAgICAgICAgICAgICBbNTEuNTIxMTE1OSwgLTAuMDc3ODM0NV0sCiAgICAgICAgICAgICAgICB7fQogICAgICAgICAgICApLmFkZFRvKG1hcF8zZDFmNDgzMzU5MjA0ODNjYTA1ZWQ3OTIzNWE2ZmViMCk7CiAgICAgICAgCiAgICAKICAgICAgICAgICAgdmFyIGljb25fYTdhNDlmMmE0YTY2NDBhY2I4ZDBiZmYyZDE0MjZhZDAgPSBMLkF3ZXNvbWVNYXJrZXJzLmljb24oCiAgICAgICAgICAgICAgICB7ImV4dHJhQ2xhc3NlcyI6ICJmYS1yb3RhdGUtMCIsICJpY29uIjogImhvbWUiLCAiaWNvbkNvbG9yIjogIndoaXRlIiwgIm1hcmtlckNvbG9yIjogImJsdWUiLCAicHJlZml4IjogImdseXBoaWNvbiJ9CiAgICAgICAgICAgICk7CiAgICAgICAgICAgIG1hcmtlcl9iMWEyYzU3NDU4Nzg0ODdlYjhiY2ZlMDYwMTljZjlhMi5zZXRJY29uKGljb25fYTdhNDlmMmE0YTY2NDBhY2I4ZDBiZmYyZDE0MjZhZDApOwogICAgICAgIAogICAgCiAgICAgICAgdmFyIHBvcHVwX2M3MzA0MmIxMzZlODQ3YjhhNGI3YjUyNzhlMDUzNmIzID0gTC5wb3B1cCh7Im1heFdpZHRoIjogIjEwMCUifSk7CgogICAgICAgIAogICAgICAgICAgICB2YXIgaHRtbF9kYTY4NDkyNzY4MGI0ZjQwODY2ZTk3NWI5MzE5YTVjZiA9ICQoYDxkaXYgaWQ9Imh0bWxfZGE2ODQ5Mjc2ODBiNGY0MDg2NmU5NzViOTMxOWE1Y2YiIHN0eWxlPSJ3aWR0aDogMTAwLjAlOyBoZWlnaHQ6IDEwMC4wJTsiPiAgICAgPHN0cm9uZz4gQ2l0eSA6ICNMb25kb248L3N0cm9uZz4gICAgIDwvZGl2PmApWzBdOwogICAgICAgICAgICBwb3B1cF9jNzMwNDJiMTM2ZTg0N2I4YTRiN2I1Mjc4ZTA1MzZiMy5zZXRDb250ZW50KGh0bWxfZGE2ODQ5Mjc2ODBiNGY0MDg2NmU5NzViOTMxOWE1Y2YpOwogICAgICAgIAoKICAgICAgICBtYXJrZXJfYjFhMmM1NzQ1ODc4NDg3ZWI4YmNmZTA2MDE5Y2Y5YTIuYmluZFBvcHVwKHBvcHVwX2M3MzA0MmIxMzZlODQ3YjhhNGI3YjUyNzhlMDUzNmIzKQogICAgICAgIDsKCiAgICAgICAgCiAgICAKICAgIAogICAgICAgICAgICBtYXJrZXJfYjFhMmM1NzQ1ODc4NDg3ZWI4YmNmZTA2MDE5Y2Y5YTIuYmluZFRvb2x0aXAoCiAgICAgICAgICAgICAgICBgPGRpdj4KICAgICAgICAgICAgICAgICAgICAgQ2l0eQogICAgICAgICAgICAgICAgIDwvZGl2PmAsCiAgICAgICAgICAgICAgICB7InN0aWNreSI6IHRydWV9CiAgICAgICAgICAgICk7CiAgICAgICAgCiAgICAKICAgICAgICAgICAgdmFyIG1hcmtlcl8zZWU3MDM1NWIyOTc0NjhmOTFkOTgzY2MwODZjNTdmOCA9IEwubWFya2VyKAogICAgICAgICAgICAgICAgWzUxLjQ5OTQ4LCAtMC4xOTI2MjddLAogICAgICAgICAgICAgICAge30KICAgICAgICAgICAgKS5hZGRUbyhtYXBfM2QxZjQ4MzM1OTIwNDgzY2EwNWVkNzkyMzVhNmZlYjApOwogICAgICAgIAogICAgCiAgICAgICAgICAgIHZhciBpY29uXzU1ZTllYzQ5ZDUwODQwYTdhMDhmZWEzMTVmZGMzYWZjID0gTC5Bd2Vzb21lTWFya2Vycy5pY29uKAogICAgICAgICAgICAgICAgeyJleHRyYUNsYXNzZXMiOiAiZmEtcm90YXRlLTAiLCAiaWNvbiI6ICJob21lIiwgImljb25Db2xvciI6ICJ3aGl0ZSIsICJtYXJrZXJDb2xvciI6ICJibHVlIiwgInByZWZpeCI6ICJnbHlwaGljb24ifQogICAgICAgICAgICApOwogICAgICAgICAgICBtYXJrZXJfM2VlNzAzNTViMjk3NDY4ZjkxZDk4M2NjMDg2YzU3Zjguc2V0SWNvbihpY29uXzU1ZTllYzQ5ZDUwODQwYTdhMDhmZWEzMTVmZGMzYWZjKTsKICAgICAgICAKICAgIAogICAgICAgIHZhciBwb3B1cF9jNTBlNjA4OWM4MGM0ZmE1YTRlMTExNjRlZTM3ZjJkZSA9IEwucG9wdXAoeyJtYXhXaWR0aCI6ICIxMDAlIn0pOwoKICAgICAgICAKICAgICAgICAgICAgdmFyIGh0bWxfY2VhZTYyYWQ2ZDdhNDU1ZTgyZWMzYjQyZTdkNGVkNTYgPSAkKGA8ZGl2IGlkPSJodG1sX2NlYWU2MmFkNmQ3YTQ1NWU4MmVjM2I0MmU3ZDRlZDU2IiBzdHlsZT0id2lkdGg6IDEwMC4wJTsgaGVpZ2h0OiAxMDAuMCU7Ij4gICAgIDxzdHJvbmc+IENpdHkgOiAjTG9uZG9uPC9zdHJvbmc+ICAgICA8L2Rpdj5gKVswXTsKICAgICAgICAgICAgcG9wdXBfYzUwZTYwODljODBjNGZhNWE0ZTExMTY0ZWUzN2YyZGUuc2V0Q29udGVudChodG1sX2NlYWU2MmFkNmQ3YTQ1NWU4MmVjM2I0MmU3ZDRlZDU2KTsKICAgICAgICAKCiAgICAgICAgbWFya2VyXzNlZTcwMzU1YjI5NzQ2OGY5MWQ5ODNjYzA4NmM1N2Y4LmJpbmRQb3B1cChwb3B1cF9jNTBlNjA4OWM4MGM0ZmE1YTRlMTExNjRlZTM3ZjJkZSkKICAgICAgICA7CgogICAgICAgIAogICAgCiAgICAKICAgICAgICAgICAgbWFya2VyXzNlZTcwMzU1YjI5NzQ2OGY5MWQ5ODNjYzA4NmM1N2Y4LmJpbmRUb29sdGlwKAogICAgICAgICAgICAgICAgYDxkaXY+CiAgICAgICAgICAgICAgICAgICAgIENpdHkKICAgICAgICAgICAgICAgICA8L2Rpdj5gLAogICAgICAgICAgICAgICAgeyJzdGlja3kiOiB0cnVlfQogICAgICAgICAgICApOwogICAgICAgIAogICAgCiAgICAgICAgICAgIHZhciBtYXJrZXJfYWFhMjE3NzZmZjc2NDIyZjkyOTM1OWNhZjFjOGZjOGUgPSBMLm1hcmtlcigKICAgICAgICAgICAgICAgIFs1Ni40NjE0MjgsIC0yLjk2ODExMV0sCiAgICAgICAgICAgICAgICB7fQogICAgICAgICAgICApLmFkZFRvKG1hcF8zZDFmNDgzMzU5MjA0ODNjYTA1ZWQ3OTIzNWE2ZmViMCk7CiAgICAgICAgCiAgICAKICAgICAgICAgICAgdmFyIGljb25fNzllNzE4ZWU3MTdhNDhkZDhjNzFiYmZjNzZjYWY0ZTUgPSBMLkF3ZXNvbWVNYXJrZXJzLmljb24oCiAgICAgICAgICAgICAgICB7ImV4dHJhQ2xhc3NlcyI6ICJmYS1yb3RhdGUtMCIsICJpY29uIjogImhvbWUiLCAiaWNvbkNvbG9yIjogIndoaXRlIiwgIm1hcmtlckNvbG9yIjogImJsdWUiLCAicHJlZml4IjogImdseXBoaWNvbiJ9CiAgICAgICAgICAgICk7CiAgICAgICAgICAgIG1hcmtlcl9hYWEyMTc3NmZmNzY0MjJmOTI5MzU5Y2FmMWM4ZmM4ZS5zZXRJY29uKGljb25fNzllNzE4ZWU3MTdhNDhkZDhjNzFiYmZjNzZjYWY0ZTUpOwogICAgICAgIAogICAgCiAgICAgICAgdmFyIHBvcHVwXzQwMmNkYjllYzYzZDQ2ZTk5ZmQzOGU5MTY3MDgxNDNjID0gTC5wb3B1cCh7Im1heFdpZHRoIjogIjEwMCUifSk7CgogICAgICAgIAogICAgICAgICAgICB2YXIgaHRtbF8xMjE3MTMzODhlNmQ0NjM2OTNiZDFkYzU4ZDVlMGVlZCA9ICQoYDxkaXYgaWQ9Imh0bWxfMTIxNzEzMzg4ZTZkNDYzNjkzYmQxZGM1OGQ1ZTBlZWQiIHN0eWxlPSJ3aWR0aDogMTAwLjAlOyBoZWlnaHQ6IDEwMC4wJTsiPiAgICAgPHN0cm9uZz4gQ2l0eSA6ICNEdW5kZWU8L3N0cm9uZz4gICAgIDwvZGl2PmApWzBdOwogICAgICAgICAgICBwb3B1cF80MDJjZGI5ZWM2M2Q0NmU5OWZkMzhlOTE2NzA4MTQzYy5zZXRDb250ZW50KGh0bWxfMTIxNzEzMzg4ZTZkNDYzNjkzYmQxZGM1OGQ1ZTBlZWQpOwogICAgICAgIAoKICAgICAgICBtYXJrZXJfYWFhMjE3NzZmZjc2NDIyZjkyOTM1OWNhZjFjOGZjOGUuYmluZFBvcHVwKHBvcHVwXzQwMmNkYjllYzYzZDQ2ZTk5ZmQzOGU5MTY3MDgxNDNjKQogICAgICAgIDsKCiAgICAgICAgCiAgICAKICAgIAogICAgICAgICAgICBtYXJrZXJfYWFhMjE3NzZmZjc2NDIyZjkyOTM1OWNhZjFjOGZjOGUuYmluZFRvb2x0aXAoCiAgICAgICAgICAgICAgICBgPGRpdj4KICAgICAgICAgICAgICAgICAgICAgQ2l0eQogICAgICAgICAgICAgICAgIDwvZGl2PmAsCiAgICAgICAgICAgICAgICB7InN0aWNreSI6IHRydWV9CiAgICAgICAgICAgICk7CiAgICAgICAgCiAgICAKICAgICAgICAgICAgdmFyIG1hcmtlcl80MDQ3ZTY5YzA4YmU0NmM3OGFkNWIxZTQ2MTdhOThkZCA9IEwubWFya2VyKAogICAgICAgICAgICAgICAgWzU0Ljk3MTA2NSwgLTEuNjE5NDAzNF0sCiAgICAgICAgICAgICAgICB7fQogICAgICAgICAgICApLmFkZFRvKG1hcF8zZDFmNDgzMzU5MjA0ODNjYTA1ZWQ3OTIzNWE2ZmViMCk7CiAgICAgICAgCiAgICAKICAgICAgICAgICAgdmFyIGljb25fOGM2ZWY1ZTU0ZmI1NDExMTkyM2U4MjM3MWVkMTg3OWYgPSBMLkF3ZXNvbWVNYXJrZXJzLmljb24oCiAgICAgICAgICAgICAgICB7ImV4dHJhQ2xhc3NlcyI6ICJmYS1yb3RhdGUtMCIsICJpY29uIjogImhvbWUiLCAiaWNvbkNvbG9yIjogIndoaXRlIiwgIm1hcmtlckNvbG9yIjogImJsdWUiLCAicHJlZml4IjogImdseXBoaWNvbiJ9CiAgICAgICAgICAgICk7CiAgICAgICAgICAgIG1hcmtlcl80MDQ3ZTY5YzA4YmU0NmM3OGFkNWIxZTQ2MTdhOThkZC5zZXRJY29uKGljb25fOGM2ZWY1ZTU0ZmI1NDExMTkyM2U4MjM3MWVkMTg3OWYpOwogICAgICAgIAogICAgCiAgICAgICAgdmFyIHBvcHVwXzFmNTQ2ZWM0ZWRlZDRjYWRhZGU2ZmJhNDdiM2EyYmViID0gTC5wb3B1cCh7Im1heFdpZHRoIjogIjEwMCUifSk7CgogICAgICAgIAogICAgICAgICAgICB2YXIgaHRtbF81M2FjMDBkNDdhZWM0ZDdhODlhMTA2ZjNmMjk4ZmQyNiA9ICQoYDxkaXYgaWQ9Imh0bWxfNTNhYzAwZDQ3YWVjNGQ3YTg5YTEwNmYzZjI5OGZkMjYiIHN0eWxlPSJ3aWR0aDogMTAwLjAlOyBoZWlnaHQ6IDEwMC4wJTsiPiAgICAgPHN0cm9uZz4gQ2l0eSA6ICNOZXdjYXN0bGUgVXBvbiBUeW5lPC9zdHJvbmc+ICAgICA8L2Rpdj5gKVswXTsKICAgICAgICAgICAgcG9wdXBfMWY1NDZlYzRlZGVkNGNhZGFkZTZmYmE0N2IzYTJiZWIuc2V0Q29udGVudChodG1sXzUzYWMwMGQ0N2FlYzRkN2E4OWExMDZmM2YyOThmZDI2KTsKICAgICAgICAKCiAgICAgICAgbWFya2VyXzQwNDdlNjljMDhiZTQ2Yzc4YWQ1YjFlNDYxN2E5OGRkLmJpbmRQb3B1cChwb3B1cF8xZjU0NmVjNGVkZWQ0Y2FkYWRlNmZiYTQ3YjNhMmJlYikKICAgICAgICA7CgogICAgICAgIAogICAgCiAgICAKICAgICAgICAgICAgbWFya2VyXzQwNDdlNjljMDhiZTQ2Yzc4YWQ1YjFlNDYxN2E5OGRkLmJpbmRUb29sdGlwKAogICAgICAgICAgICAgICAgYDxkaXY+CiAgICAgICAgICAgICAgICAgICAgIENpdHkKICAgICAgICAgICAgICAgICA8L2Rpdj5gLAogICAgICAgICAgICAgICAgeyJzdGlja3kiOiB0cnVlfQogICAgICAgICAgICApOwogICAgICAgIAogICAgCiAgICAgICAgICAgIHZhciBtYXJrZXJfMWVjOWM4MjkwMjFkNDU0OTkyNWE0MWRjZjE4YzZkOTIgPSBMLm1hcmtlcigKICAgICAgICAgICAgICAgIFs1NC45NzEzNDYsIC0xLjYxMTE0MV0sCiAgICAgICAgICAgICAgICB7fQogICAgICAgICAgICApLmFkZFRvKG1hcF8zZDFmNDgzMzU5MjA0ODNjYTA1ZWQ3OTIzNWE2ZmViMCk7CiAgICAgICAgCiAgICAKICAgICAgICAgICAgdmFyIGljb25fMDIzYmY0OTBiNDVhNDkwZjg2NTE5ODM2NTVmOTc2ZjAgPSBMLkF3ZXNvbWVNYXJrZXJzLmljb24oCiAgICAgICAgICAgICAgICB7ImV4dHJhQ2xhc3NlcyI6ICJmYS1yb3RhdGUtMCIsICJpY29uIjogImhvbWUiLCAiaWNvbkNvbG9yIjogIndoaXRlIiwgIm1hcmtlckNvbG9yIjogImJsdWUiLCAicHJlZml4IjogImdseXBoaWNvbiJ9CiAgICAgICAgICAgICk7CiAgICAgICAgICAgIG1hcmtlcl8xZWM5YzgyOTAyMWQ0NTQ5OTI1YTQxZGNmMThjNmQ5Mi5zZXRJY29uKGljb25fMDIzYmY0OTBiNDVhNDkwZjg2NTE5ODM2NTVmOTc2ZjApOwogICAgICAgIAogICAgCiAgICAgICAgdmFyIHBvcHVwXzA0NTI1MmQ0ZDYxYzQ5OGY4OGE0MzQyYjhkYjQ4NGUzID0gTC5wb3B1cCh7Im1heFdpZHRoIjogIjEwMCUifSk7CgogICAgICAgIAogICAgICAgICAgICB2YXIgaHRtbF80NWE1YjcxMGM1NTQ0Zjg1OGZhNThmNzkyNWZkMDNjYSA9ICQoYDxkaXYgaWQ9Imh0bWxfNDVhNWI3MTBjNTU0NGY4NThmYTU4Zjc5MjVmZDAzY2EiIHN0eWxlPSJ3aWR0aDogMTAwLjAlOyBoZWlnaHQ6IDEwMC4wJTsiPiAgICAgPHN0cm9uZz4gQ2l0eSA6ICNOZXdjYXN0bGUgVXBvbiBUeW5lPC9zdHJvbmc+ICAgICA8L2Rpdj5gKVswXTsKICAgICAgICAgICAgcG9wdXBfMDQ1MjUyZDRkNjFjNDk4Zjg4YTQzNDJiOGRiNDg0ZTMuc2V0Q29udGVudChodG1sXzQ1YTViNzEwYzU1NDRmODU4ZmE1OGY3OTI1ZmQwM2NhKTsKICAgICAgICAKCiAgICAgICAgbWFya2VyXzFlYzljODI5MDIxZDQ1NDk5MjVhNDFkY2YxOGM2ZDkyLmJpbmRQb3B1cChwb3B1cF8wNDUyNTJkNGQ2MWM0OThmODhhNDM0MmI4ZGI0ODRlMykKICAgICAgICA7CgogICAgICAgIAogICAgCiAgICAKICAgICAgICAgICAgbWFya2VyXzFlYzljODI5MDIxZDQ1NDk5MjVhNDFkY2YxOGM2ZDkyLmJpbmRUb29sdGlwKAogICAgICAgICAgICAgICAgYDxkaXY+CiAgICAgICAgICAgICAgICAgICAgIENpdHkKICAgICAgICAgICAgICAgICA8L2Rpdj5gLAogICAgICAgICAgICAgICAgeyJzdGlja3kiOiB0cnVlfQogICAgICAgICAgICApOwogICAgICAgIAogICAgCiAgICAgICAgICAgICAgICB2YXIgbGF0X2xuZ19wb3B1cF83YmU4NDI3MTQ0ZjI0MDk1ODY3ZjZlYmY0MzU5ZTYyMiA9IEwucG9wdXAoKTsKICAgICAgICAgICAgICAgIGZ1bmN0aW9uIGxhdExuZ1BvcChlKSB7CiAgICAgICAgICAgICAgICAgICAgbGF0X2xuZ19wb3B1cF83YmU4NDI3MTQ0ZjI0MDk1ODY3ZjZlYmY0MzU5ZTYyMgogICAgICAgICAgICAgICAgICAgICAgICAuc2V0TGF0TG5nKGUubGF0bG5nKQogICAgICAgICAgICAgICAgICAgICAgICAuc2V0Q29udGVudCgiTGF0aXR1ZGU6ICIgKyBlLmxhdGxuZy5sYXQudG9GaXhlZCg0KSArCiAgICAgICAgICAgICAgICAgICAgICAgICAgICAgICAgICAgICI8YnI+TG9uZ2l0dWRlOiAiICsgZS5sYXRsbmcubG5nLnRvRml4ZWQoNCkpCiAgICAgICAgICAgICAgICAgICAgICAgIC5vcGVuT24obWFwXzNkMWY0ODMzNTkyMDQ4M2NhMDVlZDc5MjM1YTZmZWIwKTsKICAgICAgICAgICAgICAgICAgICB9CiAgICAgICAgICAgICAgICBtYXBfM2QxZjQ4MzM1OTIwNDgzY2EwNWVkNzkyMzVhNmZlYjAub24oJ2NsaWNrJywgbGF0TG5nUG9wKTsKICAgICAgICAgICAgCjwvc2NyaXB0Pg== onload=\"this.contentDocument.open();this.contentDocument.write(atob(this.getAttribute('data-html')));this.contentDocument.close();\" allowfullscreen webkitallowfullscreen mozallowfullscreen></iframe></div></div>"
      ],
      "text/plain": [
       "<folium.folium.Map at 0x7fd5c9f74ef0>"
      ]
     },
     "execution_count": 42,
     "metadata": {},
     "output_type": "execute_result"
    }
   ],
   "source": [
    "m = folium.Map(location=[53.920779, -1.70759],\n",
    "               zoom_start=5,\n",
    "              tiles='OpenStreet Map'#'Stamen Terrain'\n",
    "              )\n",
    "\n",
    "\n",
    "tooltip = 'City'\n",
    "\n",
    "for e in final_df.iterrows():\n",
    "    html = f\"\"\"\n",
    "    <strong> City : #{e[1][6]}</strong>\n",
    "    \"\"\"\n",
    "    long= e[1][7]['coordinates'][-1]\n",
    "    lat=e[1][7]['coordinates'][0]\n",
    "    folium.Marker([long, lat], \n",
    "                  popup=html, \n",
    "                  tooltip=tooltip, \n",
    "                  icon=folium.Icon(icon='home',color='blue')).add_to(m)\n",
    "\n",
    "\n",
    "m.add_child(folium.LatLngPopup())"
   ]
  },
  {
   "cell_type": "code",
   "execution_count": 43,
   "metadata": {},
   "outputs": [],
   "source": [
    "final_df.to_json(\"OUTPUT/final.json\",orient=\"records\")"
   ]
  },
  {
   "cell_type": "markdown",
   "metadata": {},
   "source": [
    "## Scoring"
   ]
  },
  {
   "cell_type": "code",
   "execution_count": null,
   "metadata": {},
   "outputs": [],
   "source": [
    "#All the 15 locations pass all the filters, however, variability is important, and therefore, \n",
    "# those that have only one of one class will be penalized. "
   ]
  },
  {
   "cell_type": "code",
   "execution_count": 52,
   "metadata": {},
   "outputs": [],
   "source": [
    "final_df['score'] = final_df.apply(fn.score, axis=1)"
   ]
  },
  {
   "cell_type": "code",
   "execution_count": 53,
   "metadata": {},
   "outputs": [
    {
     "data": {
      "text/plain": [
       "{'type': 'Point', 'coordinates': [-0.0921218, 51.5292245]}"
      ]
     },
     "execution_count": 53,
     "metadata": {},
     "output_type": "execute_result"
    }
   ],
   "source": [
    "final_df=final_df.drop('level_0', axis=1)\n",
    "final_df= final_df.sort_values(by='score', ascending=False).reset_index()\n",
    "final_df['location'][0]"
   ]
  },
  {
   "cell_type": "code",
   "execution_count": 54,
   "metadata": {},
   "outputs": [
    {
     "name": "stdout",
     "output_type": "stream",
     "text": [
      "14.109000000000002 7.915705882352942\n"
     ]
    }
   ],
   "source": [
    "max_score=final_df['score'].max()\n",
    "mean_score=final_df['score'].mean()\n",
    "print(max_score, mean_score)"
   ]
  },
  {
   "cell_type": "code",
   "execution_count": 55,
   "metadata": {},
   "outputs": [],
   "source": [
    "#Using geocode api to get the actual address of the top score\n",
    "res = requests.get(\"https://geocode.xyz//51.5292245,-0.0921218?geoit=xml\",params={\"json\":1})\n"
   ]
  },
  {
   "cell_type": "code",
   "execution_count": 56,
   "metadata": {},
   "outputs": [
    {
     "name": "stdout",
     "output_type": "stream",
     "text": [
      "The selected location is in:  Nelson Passage London United Kingdom EC1V2QY\n"
     ]
    }
   ],
   "source": [
    "address = res.json()\n",
    "print('The selected location is in: ',address['staddress'], address['city'], address['country'], address['postal'])"
   ]
  },
  {
   "cell_type": "markdown",
   "metadata": {},
   "source": [
    "## Visualizing"
   ]
  },
  {
   "cell_type": "code",
   "execution_count": 57,
   "metadata": {},
   "outputs": [
    {
     "data": {
      "text/html": [
       "<div style=\"width:100%;\"><div style=\"position:relative;width:100%;height:0;padding-bottom:60%;\"><iframe src=\"about:blank\" style=\"position:absolute;width:100%;height:100%;left:0;top:0;border:none !important;\" data-html=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 onload=\"this.contentDocument.open();this.contentDocument.write(atob(this.getAttribute('data-html')));this.contentDocument.close();\" allowfullscreen webkitallowfullscreen mozallowfullscreen></iframe></div></div>"
      ],
      "text/plain": [
       "<folium.folium.Map at 0x7fd5c9e22240>"
      ]
     },
     "execution_count": 57,
     "metadata": {},
     "output_type": "execute_result"
    }
   ],
   "source": [
    "m = folium.Map(location=[51.5115309, -0.1392765],\n",
    "               zoom_start=13,\n",
    "              tiles='OpenStreet Map'#'Stamen Terrain'\n",
    "              )\n",
    "\n",
    "\n",
    "tooltip = 'Click for info'\n",
    "\n",
    "for e in final_df.iterrows():\n",
    "    html = f\"\"\"\n",
    "    <strong> Score : #{e[1][15]}</strong>\n",
    "    <p>Pro_companies:{e[1][8]}</p>\n",
    "    <p>airports:{e[1][9]}</p>\n",
    "    <p>kinder:{e[1][10]}</p>\n",
    "    <p>schools:{e[1][11]}</p>\n",
    "    <p>starbucks:{e[1][12]}</p>\n",
    "    <p>vegan:{e[1][13]}</p>\n",
    "    <p>discos:{e[1][14]}</p>\n",
    "    \"\"\"\n",
    "    long= e[1][7]['coordinates'][-1]\n",
    "    lat=e[1][7]['coordinates'][0]\n",
    "    if e[1][15]==max_score:\n",
    "        color='green'\n",
    "    elif e[1][15]>mean_score: color='blue'\n",
    "    else: color='red'\n",
    "    folium.Marker([long, lat], \n",
    "                  popup=html, \n",
    "                  tooltip=tooltip, \n",
    "                  icon=folium.Icon(icon='home',color=color)).add_to(m)\n",
    "\n",
    "folium.CircleMarker(\n",
    "    location=[51.5292245,-0.0921218],\n",
    "    radius=50,\n",
    "    popup='Optimal area',\n",
    "    color='#3186cc',\n",
    "    fill=True,\n",
    "    fill_color='#3186cc'\n",
    ").add_to(m)\n",
    "\n",
    "\n",
    "m.add_child(folium.LatLngPopup())\n"
   ]
  },
  {
   "cell_type": "code",
   "execution_count": 58,
   "metadata": {},
   "outputs": [],
   "source": [
    "m.save('OUTPUT/html_map.html')"
   ]
  }
 ],
 "metadata": {
  "kernelspec": {
   "display_name": "Python 3.6.9 64-bit",
   "language": "python",
   "name": "python36964bit36b15ce491344c3aaf77177bbb6e80c7"
  },
  "language_info": {
   "codemirror_mode": {
    "name": "ipython",
    "version": 3
   },
   "file_extension": ".py",
   "mimetype": "text/x-python",
   "name": "python",
   "nbconvert_exporter": "python",
   "pygments_lexer": "ipython3",
   "version": "3.6.9"
  }
 },
 "nbformat": 4,
 "nbformat_minor": 2
}
