{
 "cells": [
  {
   "cell_type": "code",
   "execution_count": 43,
   "metadata": {},
   "outputs": [
    {
     "data": {
      "text/plain": [
       "True"
      ]
     },
     "execution_count": 43,
     "metadata": {},
     "output_type": "execute_result"
    }
   ],
   "source": [
    "from pymongo import MongoClient\n",
    "import requests\n",
    "import pandas as pd\n",
    "import os\n",
    "from dotenv import load_dotenv\n",
    "import json\n",
    "import folium\n",
    "import src.cleaning_functions as fn\n",
    "import src.google_api_functions as gf\n",
    "import src.mongo_query_functions as mf\n",
    "load_dotenv()"
   ]
  },
  {
   "cell_type": "code",
   "execution_count": 44,
   "metadata": {},
   "outputs": [
    {
     "name": "stdout",
     "output_type": "stream",
     "text": [
      "mongodb://localhost/companies\n"
     ]
    }
   ],
   "source": [
    "\n",
    "dbName = \"companies\"\n",
    "mongodbURL = f\"mongodb://localhost/{dbName}\"\n",
    "print(mongodbURL)\n",
    "client = MongoClient(mongodbURL, connectTimeoutMS=10000,serverSelectionTimeoutMS=10000)\n",
    "db = client.get_database()"
   ]
  },
  {
   "cell_type": "markdown",
   "metadata": {},
   "source": [
    "# Filtering for offices in England"
   ]
  },
  {
   "cell_type": "code",
   "execution_count": 45,
   "metadata": {},
   "outputs": [],
   "source": [
    "#Find the all the different country codes to choose the one for england\n",
    "query={'offices': { '$exists': 'true', '$not': {'$size': 0} }}\n",
    "web_offices = list(db.companies.find(query,{\"offices\":1,\"name\":1}))\n",
    "\n",
    "countries=set()\n",
    "for i,e in enumerate(web_offices):\n",
    "    countries.add(e['offices'][0]['country_code'])\n",
    "#countries #GBR is the code for Great Britain"
   ]
  },
  {
   "cell_type": "code",
   "execution_count": 46,
   "metadata": {},
   "outputs": [],
   "source": [
    "#Start with filtering only for companies with offices in England\n",
    "query={'offices':{'$elemMatch':{'country_code':'GBR'}}}\n",
    "project = {\"name\":1, \"offices\":1,'total_money_raised':1,'founded_year':1, 'category_code':1}\n",
    "gb_offices = list(db.companies.find(query,project))"
   ]
  },
  {
   "cell_type": "code",
   "execution_count": 47,
   "metadata": {},
   "outputs": [],
   "source": [
    "office_df = pd.DataFrame(gb_offices).explode('offices')"
   ]
  },
  {
   "cell_type": "code",
   "execution_count": 48,
   "metadata": {},
   "outputs": [
    {
     "name": "stdout",
     "output_type": "stream",
     "text": [
      "(2574, 6)\n"
     ]
    },
    {
     "data": {
      "text/html": [
       "<div>\n",
       "<style scoped>\n",
       "    .dataframe tbody tr th:only-of-type {\n",
       "        vertical-align: middle;\n",
       "    }\n",
       "\n",
       "    .dataframe tbody tr th {\n",
       "        vertical-align: top;\n",
       "    }\n",
       "\n",
       "    .dataframe thead th {\n",
       "        text-align: right;\n",
       "    }\n",
       "</style>\n",
       "<table border=\"1\" class=\"dataframe\">\n",
       "  <thead>\n",
       "    <tr style=\"text-align: right;\">\n",
       "      <th></th>\n",
       "      <th>_id</th>\n",
       "      <th>name</th>\n",
       "      <th>category_code</th>\n",
       "      <th>founded_year</th>\n",
       "      <th>total_money_raised</th>\n",
       "      <th>offices</th>\n",
       "    </tr>\n",
       "  </thead>\n",
       "  <tbody>\n",
       "    <tr>\n",
       "      <th>0</th>\n",
       "      <td>52cdef7c4bab8bd675297da0</td>\n",
       "      <td>Babelgum</td>\n",
       "      <td>games_video</td>\n",
       "      <td>2007.0</td>\n",
       "      <td>$13.2M</td>\n",
       "      <td>{'description': '', 'address1': '', 'address2'...</td>\n",
       "    </tr>\n",
       "    <tr>\n",
       "      <th>1</th>\n",
       "      <td>52cdef7c4bab8bd675297da6</td>\n",
       "      <td>SpinVox</td>\n",
       "      <td>messaging</td>\n",
       "      <td>NaN</td>\n",
       "      <td>$106M</td>\n",
       "      <td>{'description': 'Corporate Headquarters', 'add...</td>\n",
       "    </tr>\n",
       "    <tr>\n",
       "      <th>2</th>\n",
       "      <td>52cdef7c4bab8bd675297da8</td>\n",
       "      <td>OpenX</td>\n",
       "      <td>advertising</td>\n",
       "      <td>2008.0</td>\n",
       "      <td>$75.5M</td>\n",
       "      <td>{'description': 'Headquarters', 'address1': '8...</td>\n",
       "    </tr>\n",
       "  </tbody>\n",
       "</table>\n",
       "</div>"
      ],
      "text/plain": [
       "                        _id      name category_code  founded_year  \\\n",
       "0  52cdef7c4bab8bd675297da0  Babelgum   games_video        2007.0   \n",
       "1  52cdef7c4bab8bd675297da6   SpinVox     messaging           NaN   \n",
       "2  52cdef7c4bab8bd675297da8     OpenX   advertising        2008.0   \n",
       "\n",
       "  total_money_raised                                            offices  \n",
       "0             $13.2M  {'description': '', 'address1': '', 'address2'...  \n",
       "1              $106M  {'description': 'Corporate Headquarters', 'add...  \n",
       "2             $75.5M  {'description': 'Headquarters', 'address1': '8...  "
      ]
     },
     "execution_count": 48,
     "metadata": {},
     "output_type": "execute_result"
    }
   ],
   "source": [
    "print(office_df.shape)\n",
    "office_df.head(3)"
   ]
  },
  {
   "cell_type": "code",
   "execution_count": 49,
   "metadata": {},
   "outputs": [
    {
     "data": {
      "text/html": [
       "<div>\n",
       "<style scoped>\n",
       "    .dataframe tbody tr th:only-of-type {\n",
       "        vertical-align: middle;\n",
       "    }\n",
       "\n",
       "    .dataframe tbody tr th {\n",
       "        vertical-align: top;\n",
       "    }\n",
       "\n",
       "    .dataframe thead th {\n",
       "        text-align: right;\n",
       "    }\n",
       "</style>\n",
       "<table border=\"1\" class=\"dataframe\">\n",
       "  <thead>\n",
       "    <tr style=\"text-align: right;\">\n",
       "      <th></th>\n",
       "      <th>0</th>\n",
       "      <th>1</th>\n",
       "      <th>2</th>\n",
       "    </tr>\n",
       "  </thead>\n",
       "  <tbody>\n",
       "    <tr>\n",
       "      <th>0</th>\n",
       "      <td>GBR</td>\n",
       "      <td>London</td>\n",
       "      <td>{'type': 'Point', 'coordinates': [-6.267494, 5...</td>\n",
       "    </tr>\n",
       "    <tr>\n",
       "      <th>1</th>\n",
       "      <td>GBR</td>\n",
       "      <td>Buckinghamshire</td>\n",
       "      <td>None</td>\n",
       "    </tr>\n",
       "    <tr>\n",
       "      <th>2</th>\n",
       "      <td>USA</td>\n",
       "      <td>Pasadena</td>\n",
       "      <td>{'type': 'Point', 'coordinates': [-118.1327468...</td>\n",
       "    </tr>\n",
       "  </tbody>\n",
       "</table>\n",
       "</div>"
      ],
      "text/plain": [
       "     0                1                                                  2\n",
       "0  GBR           London  {'type': 'Point', 'coordinates': [-6.267494, 5...\n",
       "1  GBR  Buckinghamshire                                               None\n",
       "2  USA         Pasadena  {'type': 'Point', 'coordinates': [-118.1327468..."
      ]
     },
     "execution_count": 49,
     "metadata": {},
     "output_type": "execute_result"
    }
   ],
   "source": [
    "#Extract get geoJson format from column offices with the extract_loc function\n",
    "offices = office_df.apply(fn.extract_loc,axis=1, result_type=\"expand\")\n",
    "offices.head(3)"
   ]
  },
  {
   "cell_type": "code",
   "execution_count": 50,
   "metadata": {},
   "outputs": [
    {
     "name": "stdout",
     "output_type": "stream",
     "text": [
      "(611, 9)\n",
      "__id              object\n",
      "name              object\n",
      "category_code     object\n",
      "founded_year     float64\n",
      "raised            object\n",
      "offices           object\n",
      "country           object\n",
      "city              object\n",
      "location          object\n",
      "dtype: object\n"
     ]
    },
    {
     "data": {
      "text/html": [
       "<div>\n",
       "<style scoped>\n",
       "    .dataframe tbody tr th:only-of-type {\n",
       "        vertical-align: middle;\n",
       "    }\n",
       "\n",
       "    .dataframe tbody tr th {\n",
       "        vertical-align: top;\n",
       "    }\n",
       "\n",
       "    .dataframe thead th {\n",
       "        text-align: right;\n",
       "    }\n",
       "</style>\n",
       "<table border=\"1\" class=\"dataframe\">\n",
       "  <thead>\n",
       "    <tr style=\"text-align: right;\">\n",
       "      <th></th>\n",
       "      <th>__id</th>\n",
       "      <th>name</th>\n",
       "      <th>category_code</th>\n",
       "      <th>founded_year</th>\n",
       "      <th>raised</th>\n",
       "      <th>offices</th>\n",
       "      <th>country</th>\n",
       "      <th>city</th>\n",
       "      <th>location</th>\n",
       "    </tr>\n",
       "  </thead>\n",
       "  <tbody>\n",
       "    <tr>\n",
       "      <th>0</th>\n",
       "      <td>52cdef7c4bab8bd675297da0</td>\n",
       "      <td>Babelgum</td>\n",
       "      <td>games_video</td>\n",
       "      <td>2007.0</td>\n",
       "      <td>$13.2M</td>\n",
       "      <td>{'description': '', 'address1': '', 'address2'...</td>\n",
       "      <td>GBR</td>\n",
       "      <td>London</td>\n",
       "      <td>{'type': 'Point', 'coordinates': [-6.267494, 5...</td>\n",
       "    </tr>\n",
       "    <tr>\n",
       "      <th>4</th>\n",
       "      <td>52cdef7c4bab8bd675297dcc</td>\n",
       "      <td>AllPeers</td>\n",
       "      <td>web</td>\n",
       "      <td>2004.0</td>\n",
       "      <td>$0</td>\n",
       "      <td>{'description': None, 'address1': None, 'addre...</td>\n",
       "      <td>GBR</td>\n",
       "      <td>Oxford</td>\n",
       "      <td>{'type': 'Point', 'coordinates': [-1.255824, 5...</td>\n",
       "    </tr>\n",
       "    <tr>\n",
       "      <th>5</th>\n",
       "      <td>52cdef7c4bab8bd675297de9</td>\n",
       "      <td>Zamzar</td>\n",
       "      <td>web</td>\n",
       "      <td>2006.0</td>\n",
       "      <td>$0</td>\n",
       "      <td>{'description': '', 'address1': '', 'address2'...</td>\n",
       "      <td>GBR</td>\n",
       "      <td>Southampton</td>\n",
       "      <td>{'type': 'Point', 'coordinates': [-1.3610845, ...</td>\n",
       "    </tr>\n",
       "  </tbody>\n",
       "</table>\n",
       "</div>"
      ],
      "text/plain": [
       "                       __id      name category_code  founded_year  raised  \\\n",
       "0  52cdef7c4bab8bd675297da0  Babelgum   games_video        2007.0  $13.2M   \n",
       "4  52cdef7c4bab8bd675297dcc  AllPeers           web        2004.0      $0   \n",
       "5  52cdef7c4bab8bd675297de9    Zamzar           web        2006.0      $0   \n",
       "\n",
       "                                             offices country         city  \\\n",
       "0  {'description': '', 'address1': '', 'address2'...     GBR       London   \n",
       "4  {'description': None, 'address1': None, 'addre...     GBR       Oxford   \n",
       "5  {'description': '', 'address1': '', 'address2'...     GBR  Southampton   \n",
       "\n",
       "                                            location  \n",
       "0  {'type': 'Point', 'coordinates': [-6.267494, 5...  \n",
       "4  {'type': 'Point', 'coordinates': [-1.255824, 5...  \n",
       "5  {'type': 'Point', 'coordinates': [-1.3610845, ...  "
      ]
     },
     "execution_count": 50,
     "metadata": {},
     "output_type": "execute_result"
    }
   ],
   "source": [
    "#Append it to office_df\n",
    "offices_loc = pd.concat([office_df, offices], axis=1)\n",
    "offices_loc.columns = ['__id', 'name', 'category_code','founded_year',  'raised', 'offices','country', 'city', 'location']\n",
    "\n",
    "#Only offices in england\n",
    "offices_loc = offices_loc[offices_loc.country=='GBR']\n",
    "\n",
    "#Only offices with a valid lat long\n",
    "offices_loc = offices_loc[~offices_loc.location.isnull()]\n",
    "\n",
    "#Explore the result\n",
    "print(offices_loc.shape)\n",
    "print(offices_loc.dtypes)\n",
    "offices_loc.head(3)"
   ]
  },
  {
   "cell_type": "code",
   "execution_count": 51,
   "metadata": {},
   "outputs": [],
   "source": [
    "#Formatting the raised money column with the clean_raised function\n",
    "offices_loc['raised'] = offices_loc.raised.apply(fn.clean_raised)"
   ]
  },
  {
   "cell_type": "code",
   "execution_count": 52,
   "metadata": {},
   "outputs": [
    {
     "data": {
      "text/plain": [
       "{'type': 'Point', 'coordinates': [-2.250166, 53.473606]}"
      ]
     },
     "execution_count": 52,
     "metadata": {},
     "output_type": "execute_result"
    }
   ],
   "source": [
    "offices_loc=offices_loc[['name', 'founded_year', 'category_code', 'raised', 'city', 'location']].reset_index()\n",
    "offices_loc['location'][4]"
   ]
  },
  {
   "cell_type": "code",
   "execution_count": 53,
   "metadata": {},
   "outputs": [],
   "source": [
    "#Export to json:\n",
    "offices_loc.to_json(\"OUTPUT/offices_loc.json\",orient=\"records\")"
   ]
  },
  {
   "cell_type": "code",
   "execution_count": 54,
   "metadata": {
    "scrolled": true
   },
   "outputs": [
    {
     "name": "stdout",
     "output_type": "stream",
     "text": [
      "2020-04-20T19:19:56.214+0200\tconnected to: mongodb://localhost/\n",
      "2020-04-20T19:19:56.215+0200\tdropping: companies.offices_loc_england\n",
      "2020-04-20T19:19:56.662+0200\t611 document(s) imported successfully. 0 document(s) failed to import.\n"
     ]
    }
   ],
   "source": [
    "#Incorporating new collection to database and create geoloc index\n",
    "!mongoimport --db companies --collection offices_loc_england --drop --jsonArray OUTPUT/offices_loc.json\n"
   ]
  },
  {
   "cell_type": "code",
   "execution_count": 55,
   "metadata": {},
   "outputs": [
    {
     "data": {
      "text/plain": [
       "'location_2dsphere'"
      ]
     },
     "execution_count": 55,
     "metadata": {},
     "output_type": "execute_result"
    }
   ],
   "source": [
    "db.list_collection_names()\n",
    "#Create a GeoJson index for this collection\n",
    "db.offices_loc_england.create_index([(\"location\", '2dsphere')])"
   ]
  },
  {
   "cell_type": "code",
   "execution_count": 56,
   "metadata": {},
   "outputs": [
    {
     "data": {
      "text/plain": [
       "{'_id_': {'v': 2, 'key': [('_id', 1)], 'ns': 'companies.offices_loc_england'},\n",
       " 'location_2dsphere': {'v': 2,\n",
       "  'key': [('location', '2dsphere')],\n",
       "  'ns': 'companies.offices_loc_england',\n",
       "  '2dsphereIndexVersion': 3}}"
      ]
     },
     "execution_count": 56,
     "metadata": {},
     "output_type": "execute_result"
    }
   ],
   "source": [
    "#Make sure that I assigned a correct GeoJson index in Mongo compass\n",
    "db.offices_loc_england.index_information()"
   ]
  },
  {
   "cell_type": "markdown",
   "metadata": {},
   "source": [
    "## Filtering to accomodate developers: top notch companies (raised 1 mill dollars) nearby"
   ]
  },
  {
   "cell_type": "code",
   "execution_count": 57,
   "metadata": {},
   "outputs": [],
   "source": [
    "offices = list(db.offices_loc_england.find({}))"
   ]
  },
  {
   "cell_type": "code",
   "execution_count": 58,
   "metadata": {},
   "outputs": [
    {
     "data": {
      "text/plain": [
       "611"
      ]
     },
     "execution_count": 58,
     "metadata": {},
     "output_type": "execute_result"
    }
   ],
   "source": [
    "len(offices)"
   ]
  },
  {
   "cell_type": "code",
   "execution_count": 59,
   "metadata": {},
   "outputs": [],
   "source": [
    "#Check wich categories are available to filter out those I am not interested in.\n",
    "p = list(db.companies.find({},{'category_code':1}))\n",
    "category = set()\n",
    "for e in p:\n",
    "    category.add(e['category_code'])\n",
    "#category "
   ]
  },
  {
   "cell_type": "code",
   "execution_count": 60,
   "metadata": {},
   "outputs": [
    {
     "data": {
      "text/plain": [
       "404"
      ]
     },
     "execution_count": 60,
     "metadata": {},
     "output_type": "execute_result"
    }
   ],
   "source": [
    "#Filter for offices with tech companies that have raised more than 1 mill within 5km range\n",
    "new_offices = mf.near_filter(db.offices_loc_england, offices,mf.near_success_offices, 'pro_nearby')\n",
    "len(new_offices)"
   ]
  },
  {
   "cell_type": "markdown",
   "metadata": {},
   "source": [
    "## Second filter: travelling for executives\n"
   ]
  },
  {
   "cell_type": "code",
   "execution_count": 61,
   "metadata": {},
   "outputs": [],
   "source": [
    "#Get apiKey for google:\n",
    "apiKey = os.getenv(\"GOOGLE_API2\")"
   ]
  },
  {
   "cell_type": "code",
   "execution_count": 62,
   "metadata": {},
   "outputs": [],
   "source": [
    "##Offices that are within 20 kilometers from an international airport\n",
    "filtered_lst=[]\n",
    "for of in new_offices:\n",
    "    n_airport = len(gf.get_google(gf.get_latlong(of), radius=20000, typ ='airport',apiKey=apiKey, keyw='international'))\n",
    "    if n_airport > 0:\n",
    "        of['airp_nearby'] = n_airport \n",
    "        filtered_lst.append(of)"
   ]
  },
  {
   "cell_type": "code",
   "execution_count": 63,
   "metadata": {},
   "outputs": [
    {
     "data": {
      "text/plain": [
       "379"
      ]
     },
     "execution_count": 63,
     "metadata": {},
     "output_type": "execute_result"
    }
   ],
   "source": [
    "#Luckily most of our candidates are in London and Manchester, where travelling is easy\n",
    "len(filtered_lst)"
   ]
  },
  {
   "cell_type": "markdown",
   "metadata": {},
   "source": [
    "## Kindergartens and nurseries and primary schools"
   ]
  },
  {
   "cell_type": "code",
   "execution_count": 91,
   "metadata": {},
   "outputs": [],
   "source": [
    "##Offices that are within 1 kilometers from a nursery or kindergarten. \n",
    "#This time we will be a bit more demanding and make the name include one of a series of words:\n",
    "kinder_lst = gf.school_kinder_filter(filtered_lst, ['kindergarten', 'nursery', 'primary'],'kinder', \n",
    "                                  radius=1000, typ='kindergarten', keyw='kindergarten', apiKey=apiKey)"
   ]
  },
  {
   "cell_type": "code",
   "execution_count": 92,
   "metadata": {},
   "outputs": [
    {
     "data": {
      "text/plain": [
       "201"
      ]
     },
     "execution_count": 92,
     "metadata": {},
     "output_type": "execute_result"
    }
   ],
   "source": [
    "len(kinder_lst)"
   ]
  },
  {
   "cell_type": "code",
   "execution_count": 95,
   "metadata": {},
   "outputs": [],
   "source": [
    "#For those with kids a bit older, let's make sure that they also have a primary school nearby\n",
    "school_lst = gf.school_kinder_filter(kinder_lst, ['school', 'primary'],'school', \n",
    "                                  radius=1000, typ='school', keyw='primary', apiKey=apiKey)"
   ]
  },
  {
   "cell_type": "code",
   "execution_count": 96,
   "metadata": {},
   "outputs": [
    {
     "data": {
      "text/plain": [
       "201"
      ]
     },
     "execution_count": 96,
     "metadata": {},
     "output_type": "execute_result"
    }
   ],
   "source": [
    "#It looks that kindergartens are way more limiting than primary schools\n",
    "len(school_lst)"
   ]
  },
  {
   "cell_type": "markdown",
   "metadata": {},
   "source": [
    "## Starbucks\n"
   ]
  },
  {
   "cell_type": "code",
   "execution_count": 97,
   "metadata": {},
   "outputs": [],
   "source": [
    "#The API from starbucks does not allow any email domain to register, \n",
    "# therefore, I will use actual store lat long from a kaggle dataset\n",
    "\n",
    "starbuck = pd.read_csv('INPUT/starbucks_stores.csv')\n",
    "#filtering to stores in england\n",
    "starbuck = starbuck[starbuck.Country=='GB']"
   ]
  },
  {
   "cell_type": "code",
   "execution_count": 98,
   "metadata": {},
   "outputs": [],
   "source": [
    "#Using the create_geojson function, I create a location geoJson in this df\n",
    "starbuck['location'] = starbuck.apply(mf.create_geojson, axis=1)"
   ]
  },
  {
   "cell_type": "code",
   "execution_count": 99,
   "metadata": {},
   "outputs": [],
   "source": [
    "#Drop the useless columns and export to a json\n",
    "starbucks = starbuck[['Store Name', 'City', 'location']]\n",
    "starbucks.to_json(\"OUTPUT/starbucks.json\",orient=\"records\")"
   ]
  },
  {
   "cell_type": "code",
   "execution_count": 100,
   "metadata": {},
   "outputs": [
    {
     "name": "stdout",
     "output_type": "stream",
     "text": [
      "2020-04-20T19:55:10.997+0200\tconnected to: mongodb://localhost/\n",
      "2020-04-20T19:55:10.998+0200\tdropping: companies.starbucks\n",
      "2020-04-20T19:55:11.455+0200\t901 document(s) imported successfully. 0 document(s) failed to import.\n"
     ]
    }
   ],
   "source": [
    "!mongoimport --db companies --collection starbucks --drop --jsonArray OUTPUT/starbucks.json"
   ]
  },
  {
   "cell_type": "code",
   "execution_count": 101,
   "metadata": {},
   "outputs": [
    {
     "data": {
      "text/plain": [
       "'location_2dsphere'"
      ]
     },
     "execution_count": 101,
     "metadata": {},
     "output_type": "execute_result"
    }
   ],
   "source": [
    "#CReate geoJson index\n",
    "db.starbucks.create_index([(\"location\", '2dsphere')])"
   ]
  },
  {
   "cell_type": "code",
   "execution_count": 102,
   "metadata": {},
   "outputs": [
    {
     "data": {
      "text/plain": [
       "{'_id_': {'v': 2, 'key': [('_id', 1)], 'ns': 'companies.starbucks'},\n",
       " 'location_2dsphere': {'v': 2,\n",
       "  'key': [('location', '2dsphere')],\n",
       "  'ns': 'companies.starbucks',\n",
       "  '2dsphereIndexVersion': 3}}"
      ]
     },
     "execution_count": 102,
     "metadata": {},
     "output_type": "execute_result"
    }
   ],
   "source": [
    "db.starbucks.index_information()"
   ]
  },
  {
   "cell_type": "code",
   "execution_count": 119,
   "metadata": {},
   "outputs": [],
   "source": [
    "#Filter the offices to those that within 200m from an starbucks\n",
    "\n",
    "starbucks_lst=[]\n",
    "for of in school_lst:\n",
    "    n_strbk = mf.near_starbuck(db.starbucks, of['location'], dist=200)\n",
    "    if n_strbk > 0:\n",
    "        of['starbucks'] = n_strbk \n",
    "        starbucks_lst.append(of)"
   ]
  },
  {
   "cell_type": "code",
   "execution_count": 120,
   "metadata": {},
   "outputs": [
    {
     "data": {
      "text/plain": [
       "23"
      ]
     },
     "execution_count": 120,
     "metadata": {},
     "output_type": "execute_result"
    }
   ],
   "source": [
    "len(starbucks_lst)"
   ]
  },
  {
   "cell_type": "markdown",
   "metadata": {},
   "source": [
    "## The vegan CEO"
   ]
  },
  {
   "cell_type": "code",
   "execution_count": 121,
   "metadata": {},
   "outputs": [],
   "source": [
    "#Make sure the CEO can get her vegan lunch\n",
    "ceo_lst = []\n",
    "for of in starbucks_lst:\n",
    "    n = len(gf.get_google(gf.get_latlong(of), radius=200, typ='restaurant', keyw='vegan', apiKey=apiKey))\n",
    "    if n > 0:\n",
    "        of['vegan'] = n \n",
    "        ceo_lst.append(of)"
   ]
  },
  {
   "cell_type": "code",
   "execution_count": 122,
   "metadata": {},
   "outputs": [
    {
     "data": {
      "text/plain": [
       "22"
      ]
     },
     "execution_count": 122,
     "metadata": {},
     "output_type": "execute_result"
    }
   ],
   "source": [
    "len(ceo_lst)"
   ]
  },
  {
   "cell_type": "markdown",
   "metadata": {},
   "source": [
    "## Friday disco party\n"
   ]
  },
  {
   "cell_type": "code",
   "execution_count": 123,
   "metadata": {},
   "outputs": [],
   "source": [
    "#Places with night life within 300m\n",
    "final = []\n",
    "for of in ceo_lst:\n",
    "    n = len(gf.get_google(gf.get_latlong(of), radius=200, typ='bar', keyw='night-club', apiKey=apiKey))\n",
    "    if n > 0:\n",
    "        of['disco'] = n \n",
    "        final.append(of)"
   ]
  },
  {
   "cell_type": "code",
   "execution_count": 124,
   "metadata": {},
   "outputs": [
    {
     "data": {
      "text/plain": [
       "18"
      ]
     },
     "execution_count": 124,
     "metadata": {},
     "output_type": "execute_result"
    }
   ],
   "source": [
    "len(final)"
   ]
  },
  {
   "cell_type": "markdown",
   "metadata": {},
   "source": [
    "**We are left with a total of 15 candidates for the location of our new office**"
   ]
  },
  {
   "cell_type": "code",
   "execution_count": 169,
   "metadata": {},
   "outputs": [
    {
     "data": {
      "text/html": [
       "<div>\n",
       "<style scoped>\n",
       "    .dataframe tbody tr th:only-of-type {\n",
       "        vertical-align: middle;\n",
       "    }\n",
       "\n",
       "    .dataframe tbody tr th {\n",
       "        vertical-align: top;\n",
       "    }\n",
       "\n",
       "    .dataframe thead th {\n",
       "        text-align: right;\n",
       "    }\n",
       "</style>\n",
       "<table border=\"1\" class=\"dataframe\">\n",
       "  <thead>\n",
       "    <tr style=\"text-align: right;\">\n",
       "      <th></th>\n",
       "      <th>level_0</th>\n",
       "      <th>index</th>\n",
       "      <th>name</th>\n",
       "      <th>founded_year</th>\n",
       "      <th>category_code</th>\n",
       "      <th>raised</th>\n",
       "      <th>city</th>\n",
       "      <th>location</th>\n",
       "      <th>pro_nearby</th>\n",
       "      <th>airp_nearby</th>\n",
       "      <th>kinder</th>\n",
       "      <th>school</th>\n",
       "      <th>starbucks</th>\n",
       "      <th>disco</th>\n",
       "      <th>vegan</th>\n",
       "    </tr>\n",
       "  </thead>\n",
       "  <tbody>\n",
       "    <tr>\n",
       "      <th>0</th>\n",
       "      <td>6</td>\n",
       "      <td>397</td>\n",
       "      <td>Big Property Ladder</td>\n",
       "      <td>1995.0</td>\n",
       "      <td>other</td>\n",
       "      <td>0.000</td>\n",
       "      <td>London.</td>\n",
       "      <td>{'type': 'Point', 'coordinates': [-0.1392765, ...</td>\n",
       "      <td>37</td>\n",
       "      <td>7</td>\n",
       "      <td>1</td>\n",
       "      <td>6</td>\n",
       "      <td>8</td>\n",
       "      <td>10</td>\n",
       "      <td>5</td>\n",
       "    </tr>\n",
       "    <tr>\n",
       "      <th>1</th>\n",
       "      <td>9</td>\n",
       "      <td>785</td>\n",
       "      <td>Quick TV</td>\n",
       "      <td>2007.0</td>\n",
       "      <td>enterprise</td>\n",
       "      <td>3.613</td>\n",
       "      <td>London</td>\n",
       "      <td>{'type': 'Point', 'coordinates': [-0.1392765, ...</td>\n",
       "      <td>37</td>\n",
       "      <td>7</td>\n",
       "      <td>1</td>\n",
       "      <td>6</td>\n",
       "      <td>8</td>\n",
       "      <td>10</td>\n",
       "      <td>5</td>\n",
       "    </tr>\n",
       "    <tr>\n",
       "      <th>2</th>\n",
       "      <td>14</td>\n",
       "      <td>1070</td>\n",
       "      <td>Eglue Business Technologies</td>\n",
       "      <td>2001.0</td>\n",
       "      <td>software</td>\n",
       "      <td>27.000</td>\n",
       "      <td>London</td>\n",
       "      <td>{'type': 'Point', 'coordinates': [-0.1392765, ...</td>\n",
       "      <td>37</td>\n",
       "      <td>7</td>\n",
       "      <td>1</td>\n",
       "      <td>6</td>\n",
       "      <td>8</td>\n",
       "      <td>10</td>\n",
       "      <td>5</td>\n",
       "    </tr>\n",
       "    <tr>\n",
       "      <th>3</th>\n",
       "      <td>8</td>\n",
       "      <td>590</td>\n",
       "      <td>Box UK</td>\n",
       "      <td>1998.0</td>\n",
       "      <td>software</td>\n",
       "      <td>0.000</td>\n",
       "      <td>London</td>\n",
       "      <td>{'type': 'Point', 'coordinates': [-0.1392447, ...</td>\n",
       "      <td>37</td>\n",
       "      <td>7</td>\n",
       "      <td>1</td>\n",
       "      <td>6</td>\n",
       "      <td>8</td>\n",
       "      <td>9</td>\n",
       "      <td>5</td>\n",
       "    </tr>\n",
       "    <tr>\n",
       "      <th>4</th>\n",
       "      <td>0</td>\n",
       "      <td>27</td>\n",
       "      <td>Seedcamp</td>\n",
       "      <td>2007.0</td>\n",
       "      <td>finance</td>\n",
       "      <td>5.450</td>\n",
       "      <td>London</td>\n",
       "      <td>{'type': 'Point', 'coordinates': [-0.1418973, ...</td>\n",
       "      <td>37</td>\n",
       "      <td>7</td>\n",
       "      <td>1</td>\n",
       "      <td>5</td>\n",
       "      <td>8</td>\n",
       "      <td>7</td>\n",
       "      <td>4</td>\n",
       "    </tr>\n",
       "  </tbody>\n",
       "</table>\n",
       "</div>"
      ],
      "text/plain": [
       "   level_0  index                         name  founded_year category_code  \\\n",
       "0        6    397          Big Property Ladder        1995.0         other   \n",
       "1        9    785                     Quick TV        2007.0    enterprise   \n",
       "2       14   1070  Eglue Business Technologies        2001.0      software   \n",
       "3        8    590                       Box UK        1998.0      software   \n",
       "4        0     27                     Seedcamp        2007.0       finance   \n",
       "\n",
       "   raised     city                                           location  \\\n",
       "0   0.000  London.  {'type': 'Point', 'coordinates': [-0.1392765, ...   \n",
       "1   3.613   London  {'type': 'Point', 'coordinates': [-0.1392765, ...   \n",
       "2  27.000   London  {'type': 'Point', 'coordinates': [-0.1392765, ...   \n",
       "3   0.000   London  {'type': 'Point', 'coordinates': [-0.1392447, ...   \n",
       "4   5.450   London  {'type': 'Point', 'coordinates': [-0.1418973, ...   \n",
       "\n",
       "   pro_nearby  airp_nearby  kinder  school  starbucks  disco  vegan  \n",
       "0          37            7       1       6          8     10      5  \n",
       "1          37            7       1       6          8     10      5  \n",
       "2          37            7       1       6          8     10      5  \n",
       "3          37            7       1       6          8      9      5  \n",
       "4          37            7       1       5          8      7      4  "
      ]
     },
     "execution_count": 169,
     "metadata": {},
     "output_type": "execute_result"
    }
   ],
   "source": [
    "#Now we can sort the values according our findings following the priorities\n",
    "final_df = pd.DataFrame(final)\n",
    "final_df=final_df.drop('_id', axis=1)\n",
    "final_df = final_df.sort_values(by=['pro_nearby', \n",
    "                                    'airp_nearby', 'kinder',\n",
    "                                    'school', 'starbucks','vegan','disco'], ascending=False).reset_index()\n",
    "final_df.head()\n"
   ]
  },
  {
   "cell_type": "code",
   "execution_count": 110,
   "metadata": {},
   "outputs": [
    {
     "data": {
      "text/html": [
       "<div style=\"width:100%;\"><div style=\"position:relative;width:100%;height:0;padding-bottom:60%;\"><iframe src=\"about:blank\" style=\"position:absolute;width:100%;height:100%;left:0;top:0;border:none !important;\" data-html=PCFET0NUWVBFIGh0bWw+CjxoZWFkPiAgICAKICAgIDxtZXRhIGh0dHAtZXF1aXY9ImNvbnRlbnQtdHlwZSIgY29udGVudD0idGV4dC9odG1sOyBjaGFyc2V0PVVURi04IiAvPgogICAgCiAgICAgICAgPHNjcmlwdD4KICAgICAgICAgICAgTF9OT19UT1VDSCA9IGZhbHNlOwogICAgICAgICAgICBMX0RJU0FCTEVfM0QgPSBmYWxzZTsKICAgICAgICA8L3NjcmlwdD4KICAgIAogICAgPHNjcmlwdCBzcmM9Imh0dHBzOi8vY2RuLmpzZGVsaXZyLm5ldC9ucG0vbGVhZmxldEAxLjUuMS9kaXN0L2xlYWZsZXQuanMiPjwvc2NyaXB0PgogICAgPHNjcmlwdCBzcmM9Imh0dHBzOi8vY29kZS5qcXVlcnkuY29tL2pxdWVyeS0xLjEyLjQubWluLmpzIj48L3NjcmlwdD4KICAgIDxzY3JpcHQgc3JjPSJodHRwczovL21heGNkbi5ib290c3RyYXBjZG4uY29tL2Jvb3RzdHJhcC8zLjIuMC9qcy9ib290c3RyYXAubWluLmpzIj48L3NjcmlwdD4KICAgIDxzY3JpcHQgc3JjPSJodHRwczovL2NkbmpzLmNsb3VkZmxhcmUuY29tL2FqYXgvbGlicy9MZWFmbGV0LmF3ZXNvbWUtbWFya2Vycy8yLjAuMi9sZWFmbGV0LmF3ZXNvbWUtbWFya2Vycy5qcyI+PC9zY3JpcHQ+CiAgICA8bGluayByZWw9InN0eWxlc2hlZXQiIGhyZWY9Imh0dHBzOi8vY2RuLmpzZGVsaXZyLm5ldC9ucG0vbGVhZmxldEAxLjUuMS9kaXN0L2xlYWZsZXQuY3NzIi8+CiAgICA8bGluayByZWw9InN0eWxlc2hlZXQiIGhyZWY9Imh0dHBzOi8vbWF4Y2RuLmJvb3RzdHJhcGNkbi5jb20vYm9vdHN0cmFwLzMuMi4wL2Nzcy9ib290c3RyYXAubWluLmNzcyIvPgogICAgPGxpbmsgcmVsPSJzdHlsZXNoZWV0IiBocmVmPSJodHRwczovL21heGNkbi5ib290c3RyYXBjZG4uY29tL2Jvb3RzdHJhcC8zLjIuMC9jc3MvYm9vdHN0cmFwLXRoZW1lLm1pbi5jc3MiLz4KICAgIDxsaW5rIHJlbD0ic3R5bGVzaGVldCIgaHJlZj0iaHR0cHM6Ly9tYXhjZG4uYm9vdHN0cmFwY2RuLmNvbS9mb250LWF3ZXNvbWUvNC42LjMvY3NzL2ZvbnQtYXdlc29tZS5taW4uY3NzIi8+CiAgICA8bGluayByZWw9InN0eWxlc2hlZXQiIGhyZWY9Imh0dHBzOi8vY2RuanMuY2xvdWRmbGFyZS5jb20vYWpheC9saWJzL0xlYWZsZXQuYXdlc29tZS1tYXJrZXJzLzIuMC4yL2xlYWZsZXQuYXdlc29tZS1tYXJrZXJzLmNzcyIvPgogICAgPGxpbmsgcmVsPSJzdHlsZXNoZWV0IiBocmVmPSJodHRwczovL3Jhd2Nkbi5naXRoYWNrLmNvbS9weXRob24tdmlzdWFsaXphdGlvbi9mb2xpdW0vbWFzdGVyL2ZvbGl1bS90ZW1wbGF0ZXMvbGVhZmxldC5hd2Vzb21lLnJvdGF0ZS5jc3MiLz4KICAgIDxzdHlsZT5odG1sLCBib2R5IHt3aWR0aDogMTAwJTtoZWlnaHQ6IDEwMCU7bWFyZ2luOiAwO3BhZGRpbmc6IDA7fTwvc3R5bGU+CiAgICA8c3R5bGU+I21hcCB7cG9zaXRpb246YWJzb2x1dGU7dG9wOjA7Ym90dG9tOjA7cmlnaHQ6MDtsZWZ0OjA7fTwvc3R5bGU+CiAgICAKICAgICAgICAgICAgPG1ldGEgbmFtZT0idmlld3BvcnQiIGNvbnRlbnQ9IndpZHRoPWRldmljZS13aWR0aCwKICAgICAgICAgICAgICAgIGluaXRpYWwtc2NhbGU9MS4wLCBtYXhpbXVtLXNjYWxlPTEuMCwgdXNlci1zY2FsYWJsZT1ubyIgLz4KICAgICAgICAgICAgPHN0eWxlPgogICAgICAgICAgICAgICAgI21hcF81YmVlMTgyNDUwMzc0OTcxYTk5MTFhNjk0YjM3MTQ4OCB7CiAgICAgICAgICAgICAgICAgICAgcG9zaXRpb246IHJlbGF0aXZlOwogICAgICAgICAgICAgICAgICAgIHdpZHRoOiAxMDAuMCU7CiAgICAgICAgICAgICAgICAgICAgaGVpZ2h0OiAxMDAuMCU7CiAgICAgICAgICAgICAgICAgICAgbGVmdDogMC4wJTsKICAgICAgICAgICAgICAgICAgICB0b3A6IDAuMCU7CiAgICAgICAgICAgICAgICB9CiAgICAgICAgICAgIDwvc3R5bGU+CiAgICAgICAgCjwvaGVhZD4KPGJvZHk+ICAgIAogICAgCiAgICAgICAgICAgIDxkaXYgY2xhc3M9ImZvbGl1bS1tYXAiIGlkPSJtYXBfNWJlZTE4MjQ1MDM3NDk3MWE5OTExYTY5NGIzNzE0ODgiID48L2Rpdj4KICAgICAgICAKPC9ib2R5Pgo8c2NyaXB0PiAgICAKICAgIAogICAgICAgICAgICB2YXIgbWFwXzViZWUxODI0NTAzNzQ5NzFhOTkxMWE2OTRiMzcxNDg4ID0gTC5tYXAoCiAgICAgICAgICAgICAgICAibWFwXzViZWUxODI0NTAzNzQ5NzFhOTkxMWE2OTRiMzcxNDg4IiwKICAgICAgICAgICAgICAgIHsKICAgICAgICAgICAgICAgICAgICBjZW50ZXI6IFs1My45MjA3NzksIC0xLjcwNzU5XSwKICAgICAgICAgICAgICAgICAgICBjcnM6IEwuQ1JTLkVQU0czODU3LAogICAgICAgICAgICAgICAgICAgIHpvb206IDUsCiAgICAgICAgICAgICAgICAgICAgem9vbUNvbnRyb2w6IHRydWUsCiAgICAgICAgICAgICAgICAgICAgcHJlZmVyQ2FudmFzOiBmYWxzZSwKICAgICAgICAgICAgICAgIH0KICAgICAgICAgICAgKTsKCiAgICAgICAgICAgIAoKICAgICAgICAKICAgIAogICAgICAgICAgICB2YXIgdGlsZV9sYXllcl82NWI4MTRhMDU0M2M0Y2FlYWRmODdmN2I0NzI0MDAxZiA9IEwudGlsZUxheWVyKAogICAgICAgICAgICAgICAgImh0dHBzOi8ve3N9LnRpbGUub3BlbnN0cmVldG1hcC5vcmcve3p9L3t4fS97eX0ucG5nIiwKICAgICAgICAgICAgICAgIHsiYXR0cmlidXRpb24iOiAiRGF0YSBieSBcdTAwMjZjb3B5OyBcdTAwM2NhIGhyZWY9XCJodHRwOi8vb3BlbnN0cmVldG1hcC5vcmdcIlx1MDAzZU9wZW5TdHJlZXRNYXBcdTAwM2MvYVx1MDAzZSwgdW5kZXIgXHUwMDNjYSBocmVmPVwiaHR0cDovL3d3dy5vcGVuc3RyZWV0bWFwLm9yZy9jb3B5cmlnaHRcIlx1MDAzZU9EYkxcdTAwM2MvYVx1MDAzZS4iLCAiZGV0ZWN0UmV0aW5hIjogZmFsc2UsICJtYXhOYXRpdmVab29tIjogMTgsICJtYXhab29tIjogMTgsICJtaW5ab29tIjogMCwgIm5vV3JhcCI6IGZhbHNlLCAib3BhY2l0eSI6IDEsICJzdWJkb21haW5zIjogImFiYyIsICJ0bXMiOiBmYWxzZX0KICAgICAgICAgICAgKS5hZGRUbyhtYXBfNWJlZTE4MjQ1MDM3NDk3MWE5OTExYTY5NGIzNzE0ODgpOwogICAgICAgIAogICAgCiAgICAgICAgICAgIHZhciBtYXJrZXJfMTBjZmYyZDk1MmQ3NDIyNjkxMGZhZTgxMjE2NjUzN2UgPSBMLm1hcmtlcigKICAgICAgICAgICAgICAgIFs1MS41MTE1MzA5LCAtMC4xMzkyNzY1XSwKICAgICAgICAgICAgICAgIHt9CiAgICAgICAgICAgICkuYWRkVG8obWFwXzViZWUxODI0NTAzNzQ5NzFhOTkxMWE2OTRiMzcxNDg4KTsKICAgICAgICAKICAgIAogICAgICAgICAgICB2YXIgaWNvbl9hYTM0OWE2ZGQwODE0YWY1ODRkODRjN2Q5YjI5NTUyMyA9IEwuQXdlc29tZU1hcmtlcnMuaWNvbigKICAgICAgICAgICAgICAgIHsiZXh0cmFDbGFzc2VzIjogImZhLXJvdGF0ZS0wIiwgImljb24iOiAiaG9tZSIsICJpY29uQ29sb3IiOiAid2hpdGUiLCAibWFya2VyQ29sb3IiOiAiYmx1ZSIsICJwcmVmaXgiOiAiZ2x5cGhpY29uIn0KICAgICAgICAgICAgKTsKICAgICAgICAgICAgbWFya2VyXzEwY2ZmMmQ5NTJkNzQyMjY5MTBmYWU4MTIxNjY1MzdlLnNldEljb24oaWNvbl9hYTM0OWE2ZGQwODE0YWY1ODRkODRjN2Q5YjI5NTUyMyk7CiAgICAgICAgCiAgICAKICAgICAgICB2YXIgcG9wdXBfNTYwZTgyMmU2MzhjNDM5ZThjYzcyMzk2NjAyZTg4ZDEgPSBMLnBvcHVwKHsibWF4V2lkdGgiOiAiMTAwJSJ9KTsKCiAgICAgICAgCiAgICAgICAgICAgIHZhciBodG1sX2UwMGFmNmYwMTYyYzRiNTJiMjhlMGU2YjZjZjVkNDk1ID0gJChgPGRpdiBpZD0iaHRtbF9lMDBhZjZmMDE2MmM0YjUyYjI4ZTBlNmI2Y2Y1ZDQ5NSIgc3R5bGU9IndpZHRoOiAxMDAuMCU7IGhlaWdodDogMTAwLjAlOyI+ICAgICA8c3Ryb25nPiBDaXR5IDogI0xvbmRvbi48L3N0cm9uZz4gICAgIDwvZGl2PmApWzBdOwogICAgICAgICAgICBwb3B1cF81NjBlODIyZTYzOGM0MzllOGNjNzIzOTY2MDJlODhkMS5zZXRDb250ZW50KGh0bWxfZTAwYWY2ZjAxNjJjNGI1MmIyOGUwZTZiNmNmNWQ0OTUpOwogICAgICAgIAoKICAgICAgICBtYXJrZXJfMTBjZmYyZDk1MmQ3NDIyNjkxMGZhZTgxMjE2NjUzN2UuYmluZFBvcHVwKHBvcHVwXzU2MGU4MjJlNjM4YzQzOWU4Y2M3MjM5NjYwMmU4OGQxKQogICAgICAgIDsKCiAgICAgICAgCiAgICAKICAgIAogICAgICAgICAgICBtYXJrZXJfMTBjZmYyZDk1MmQ3NDIyNjkxMGZhZTgxMjE2NjUzN2UuYmluZFRvb2x0aXAoCiAgICAgICAgICAgICAgICBgPGRpdj4KICAgICAgICAgICAgICAgICAgICAgQ2l0eQogICAgICAgICAgICAgICAgIDwvZGl2PmAsCiAgICAgICAgICAgICAgICB7InN0aWNreSI6IHRydWV9CiAgICAgICAgICAgICk7CiAgICAgICAgCiAgICAKICAgICAgICAgICAgdmFyIG1hcmtlcl85Y2JhYWY2NmYzYzI0YzgxOTdiODUxYjlhNmE4OTIxMSA9IEwubWFya2VyKAogICAgICAgICAgICAgICAgWzUxLjUxMDc3MzcsIC0wLjEzOTI0NDddLAogICAgICAgICAgICAgICAge30KICAgICAgICAgICAgKS5hZGRUbyhtYXBfNWJlZTE4MjQ1MDM3NDk3MWE5OTExYTY5NGIzNzE0ODgpOwogICAgICAgIAogICAgCiAgICAgICAgICAgIHZhciBpY29uXzc2ZjNkMDU3ZTc1ZDQyYzA5MmUyMzJmZjAwNmUzMTUzID0gTC5Bd2Vzb21lTWFya2Vycy5pY29uKAogICAgICAgICAgICAgICAgeyJleHRyYUNsYXNzZXMiOiAiZmEtcm90YXRlLTAiLCAiaWNvbiI6ICJob21lIiwgImljb25Db2xvciI6ICJ3aGl0ZSIsICJtYXJrZXJDb2xvciI6ICJibHVlIiwgInByZWZpeCI6ICJnbHlwaGljb24ifQogICAgICAgICAgICApOwogICAgICAgICAgICBtYXJrZXJfOWNiYWFmNjZmM2MyNGM4MTk3Yjg1MWI5YTZhODkyMTEuc2V0SWNvbihpY29uXzc2ZjNkMDU3ZTc1ZDQyYzA5MmUyMzJmZjAwNmUzMTUzKTsKICAgICAgICAKICAgIAogICAgICAgIHZhciBwb3B1cF8wOTBlN2MyYTI3NDM0NmYxOWRhZDA4MzQzZmQxOWUxNCA9IEwucG9wdXAoeyJtYXhXaWR0aCI6ICIxMDAlIn0pOwoKICAgICAgICAKICAgICAgICAgICAgdmFyIGh0bWxfZWQ3N2EwOTNmOWFjNDI1ZGEzODg3ODg4MTU2NjNkMTggPSAkKGA8ZGl2IGlkPSJodG1sX2VkNzdhMDkzZjlhYzQyNWRhMzg4Nzg4ODE1NjYzZDE4IiBzdHlsZT0id2lkdGg6IDEwMC4wJTsgaGVpZ2h0OiAxMDAuMCU7Ij4gICAgIDxzdHJvbmc+IENpdHkgOiAjTG9uZG9uPC9zdHJvbmc+ICAgICA8L2Rpdj5gKVswXTsKICAgICAgICAgICAgcG9wdXBfMDkwZTdjMmEyNzQzNDZmMTlkYWQwODM0M2ZkMTllMTQuc2V0Q29udGVudChodG1sX2VkNzdhMDkzZjlhYzQyNWRhMzg4Nzg4ODE1NjYzZDE4KTsKICAgICAgICAKCiAgICAgICAgbWFya2VyXzljYmFhZjY2ZjNjMjRjODE5N2I4NTFiOWE2YTg5MjExLmJpbmRQb3B1cChwb3B1cF8wOTBlN2MyYTI3NDM0NmYxOWRhZDA4MzQzZmQxOWUxNCkKICAgICAgICA7CgogICAgICAgIAogICAgCiAgICAKICAgICAgICAgICAgbWFya2VyXzljYmFhZjY2ZjNjMjRjODE5N2I4NTFiOWE2YTg5MjExLmJpbmRUb29sdGlwKAogICAgICAgICAgICAgICAgYDxkaXY+CiAgICAgICAgICAgICAgICAgICAgIENpdHkKICAgICAgICAgICAgICAgICA8L2Rpdj5gLAogICAgICAgICAgICAgICAgeyJzdGlja3kiOiB0cnVlfQogICAgICAgICAgICApOwogICAgICAgIAogICAgCiAgICAgICAgICAgIHZhciBtYXJrZXJfMjc4MTkxZmRkNTJmNGVkNjkzZjhlNWE0NWNjNWQ1Y2YgPSBMLm1hcmtlcigKICAgICAgICAgICAgICAgIFs1MS41MTE1MzA5LCAtMC4xMzkyNzY1XSwKICAgICAgICAgICAgICAgIHt9CiAgICAgICAgICAgICkuYWRkVG8obWFwXzViZWUxODI0NTAzNzQ5NzFhOTkxMWE2OTRiMzcxNDg4KTsKICAgICAgICAKICAgIAogICAgICAgICAgICB2YXIgaWNvbl9kMWVjZTgzYWQyNjY0YzM1OWFiZmM2M2JlMzQ0Y2E3ZCA9IEwuQXdlc29tZU1hcmtlcnMuaWNvbigKICAgICAgICAgICAgICAgIHsiZXh0cmFDbGFzc2VzIjogImZhLXJvdGF0ZS0wIiwgImljb24iOiAiaG9tZSIsICJpY29uQ29sb3IiOiAid2hpdGUiLCAibWFya2VyQ29sb3IiOiAiYmx1ZSIsICJwcmVmaXgiOiAiZ2x5cGhpY29uIn0KICAgICAgICAgICAgKTsKICAgICAgICAgICAgbWFya2VyXzI3ODE5MWZkZDUyZjRlZDY5M2Y4ZTVhNDVjYzVkNWNmLnNldEljb24oaWNvbl9kMWVjZTgzYWQyNjY0YzM1OWFiZmM2M2JlMzQ0Y2E3ZCk7CiAgICAgICAgCiAgICAKICAgICAgICB2YXIgcG9wdXBfNjM3YzJhYzU1MTE2NDFhNDg2ODI3NWE0OGIxY2Q0YjkgPSBMLnBvcHVwKHsibWF4V2lkdGgiOiAiMTAwJSJ9KTsKCiAgICAgICAgCiAgICAgICAgICAgIHZhciBodG1sX2FlOWFiMTkzNDI3ZDQyZGY5MThhODRiMjEyZGJkMWYwID0gJChgPGRpdiBpZD0iaHRtbF9hZTlhYjE5MzQyN2Q0MmRmOTE4YTg0YjIxMmRiZDFmMCIgc3R5bGU9IndpZHRoOiAxMDAuMCU7IGhlaWdodDogMTAwLjAlOyI+ICAgICA8c3Ryb25nPiBDaXR5IDogI0xvbmRvbjwvc3Ryb25nPiAgICAgPC9kaXY+YClbMF07CiAgICAgICAgICAgIHBvcHVwXzYzN2MyYWM1NTExNjQxYTQ4NjgyNzVhNDhiMWNkNGI5LnNldENvbnRlbnQoaHRtbF9hZTlhYjE5MzQyN2Q0MmRmOTE4YTg0YjIxMmRiZDFmMCk7CiAgICAgICAgCgogICAgICAgIG1hcmtlcl8yNzgxOTFmZGQ1MmY0ZWQ2OTNmOGU1YTQ1Y2M1ZDVjZi5iaW5kUG9wdXAocG9wdXBfNjM3YzJhYzU1MTE2NDFhNDg2ODI3NWE0OGIxY2Q0YjkpCiAgICAgICAgOwoKICAgICAgICAKICAgIAogICAgCiAgICAgICAgICAgIG1hcmtlcl8yNzgxOTFmZGQ1MmY0ZWQ2OTNmOGU1YTQ1Y2M1ZDVjZi5iaW5kVG9vbHRpcCgKICAgICAgICAgICAgICAgIGA8ZGl2PgogICAgICAgICAgICAgICAgICAgICBDaXR5CiAgICAgICAgICAgICAgICAgPC9kaXY+YCwKICAgICAgICAgICAgICAgIHsic3RpY2t5IjogdHJ1ZX0KICAgICAgICAgICAgKTsKICAgICAgICAKICAgIAogICAgICAgICAgICB2YXIgbWFya2VyXzNiZmU5ZDk3ZDk4MjQ3ODM5Mjk2YTYxMDQ1NDAxYTkyID0gTC5tYXJrZXIoCiAgICAgICAgICAgICAgICBbNTEuNTExNTMwOSwgLTAuMTM5Mjc2NV0sCiAgICAgICAgICAgICAgICB7fQogICAgICAgICAgICApLmFkZFRvKG1hcF81YmVlMTgyNDUwMzc0OTcxYTk5MTFhNjk0YjM3MTQ4OCk7CiAgICAgICAgCiAgICAKICAgICAgICAgICAgdmFyIGljb25fZjY0MjQ1NjNjM2ZkNDNjNTgxYTZlMTQyNmRjOTdmZTggPSBMLkF3ZXNvbWVNYXJrZXJzLmljb24oCiAgICAgICAgICAgICAgICB7ImV4dHJhQ2xhc3NlcyI6ICJmYS1yb3RhdGUtMCIsICJpY29uIjogImhvbWUiLCAiaWNvbkNvbG9yIjogIndoaXRlIiwgIm1hcmtlckNvbG9yIjogImJsdWUiLCAicHJlZml4IjogImdseXBoaWNvbiJ9CiAgICAgICAgICAgICk7CiAgICAgICAgICAgIG1hcmtlcl8zYmZlOWQ5N2Q5ODI0NzgzOTI5NmE2MTA0NTQwMWE5Mi5zZXRJY29uKGljb25fZjY0MjQ1NjNjM2ZkNDNjNTgxYTZlMTQyNmRjOTdmZTgpOwogICAgICAgIAogICAgCiAgICAgICAgdmFyIHBvcHVwXzg5ODdjYTFkMjA1ZjQ5MWNhZGZjMjEwMTViYjg1MmMxID0gTC5wb3B1cCh7Im1heFdpZHRoIjogIjEwMCUifSk7CgogICAgICAgIAogICAgICAgICAgICB2YXIgaHRtbF80YmRhOTI5OWYwN2E0NGNkODI0N2NkNWM5NDY5ODI0NCA9ICQoYDxkaXYgaWQ9Imh0bWxfNGJkYTkyOTlmMDdhNDRjZDgyNDdjZDVjOTQ2OTgyNDQiIHN0eWxlPSJ3aWR0aDogMTAwLjAlOyBoZWlnaHQ6IDEwMC4wJTsiPiAgICAgPHN0cm9uZz4gQ2l0eSA6ICNMb25kb248L3N0cm9uZz4gICAgIDwvZGl2PmApWzBdOwogICAgICAgICAgICBwb3B1cF84OTg3Y2ExZDIwNWY0OTFjYWRmYzIxMDE1YmI4NTJjMS5zZXRDb250ZW50KGh0bWxfNGJkYTkyOTlmMDdhNDRjZDgyNDdjZDVjOTQ2OTgyNDQpOwogICAgICAgIAoKICAgICAgICBtYXJrZXJfM2JmZTlkOTdkOTgyNDc4MzkyOTZhNjEwNDU0MDFhOTIuYmluZFBvcHVwKHBvcHVwXzg5ODdjYTFkMjA1ZjQ5MWNhZGZjMjEwMTViYjg1MmMxKQogICAgICAgIDsKCiAgICAgICAgCiAgICAKICAgIAogICAgICAgICAgICBtYXJrZXJfM2JmZTlkOTdkOTgyNDc4MzkyOTZhNjEwNDU0MDFhOTIuYmluZFRvb2x0aXAoCiAgICAgICAgICAgICAgICBgPGRpdj4KICAgICAgICAgICAgICAgICAgICAgQ2l0eQogICAgICAgICAgICAgICAgIDwvZGl2PmAsCiAgICAgICAgICAgICAgICB7InN0aWNreSI6IHRydWV9CiAgICAgICAgICAgICk7CiAgICAgICAgCiAgICAKICAgICAgICAgICAgdmFyIG1hcmtlcl9kNDZiOWM0OWVlNGE0NTQ3OGE0MTM2YzVmOWE3ODdkMyA9IEwubWFya2VyKAogICAgICAgICAgICAgICAgWzUxLjUxMDg4MDMsIC0wLjE0MTg5NzNdLAogICAgICAgICAgICAgICAge30KICAgICAgICAgICAgKS5hZGRUbyhtYXBfNWJlZTE4MjQ1MDM3NDk3MWE5OTExYTY5NGIzNzE0ODgpOwogICAgICAgIAogICAgCiAgICAgICAgICAgIHZhciBpY29uXzE1YmU2OWE0M2M4YjRiNmY4MmRmMWM5MmRkZThmZDNmID0gTC5Bd2Vzb21lTWFya2Vycy5pY29uKAogICAgICAgICAgICAgICAgeyJleHRyYUNsYXNzZXMiOiAiZmEtcm90YXRlLTAiLCAiaWNvbiI6ICJob21lIiwgImljb25Db2xvciI6ICJ3aGl0ZSIsICJtYXJrZXJDb2xvciI6ICJibHVlIiwgInByZWZpeCI6ICJnbHlwaGljb24ifQogICAgICAgICAgICApOwogICAgICAgICAgICBtYXJrZXJfZDQ2YjljNDllZTRhNDU0NzhhNDEzNmM1ZjlhNzg3ZDMuc2V0SWNvbihpY29uXzE1YmU2OWE0M2M4YjRiNmY4MmRmMWM5MmRkZThmZDNmKTsKICAgICAgICAKICAgIAogICAgICAgIHZhciBwb3B1cF9kNzAxMzkyMWQ2MGE0MGM3OTY5MDMzZTA1MWUyNjQ1OSA9IEwucG9wdXAoeyJtYXhXaWR0aCI6ICIxMDAlIn0pOwoKICAgICAgICAKICAgICAgICAgICAgdmFyIGh0bWxfMmJjZDJhZDEzNzlkNDkwMmEwNTU4MmE1OTRmYzFkYWMgPSAkKGA8ZGl2IGlkPSJodG1sXzJiY2QyYWQxMzc5ZDQ5MDJhMDU1ODJhNTk0ZmMxZGFjIiBzdHlsZT0id2lkdGg6IDEwMC4wJTsgaGVpZ2h0OiAxMDAuMCU7Ij4gICAgIDxzdHJvbmc+IENpdHkgOiAjTG9uZG9uPC9zdHJvbmc+ICAgICA8L2Rpdj5gKVswXTsKICAgICAgICAgICAgcG9wdXBfZDcwMTM5MjFkNjBhNDBjNzk2OTAzM2UwNTFlMjY0NTkuc2V0Q29udGVudChodG1sXzJiY2QyYWQxMzc5ZDQ5MDJhMDU1ODJhNTk0ZmMxZGFjKTsKICAgICAgICAKCiAgICAgICAgbWFya2VyX2Q0NmI5YzQ5ZWU0YTQ1NDc4YTQxMzZjNWY5YTc4N2QzLmJpbmRQb3B1cChwb3B1cF9kNzAxMzkyMWQ2MGE0MGM3OTY5MDMzZTA1MWUyNjQ1OSkKICAgICAgICA7CgogICAgICAgIAogICAgCiAgICAKICAgICAgICAgICAgbWFya2VyX2Q0NmI5YzQ5ZWU0YTQ1NDc4YTQxMzZjNWY5YTc4N2QzLmJpbmRUb29sdGlwKAogICAgICAgICAgICAgICAgYDxkaXY+CiAgICAgICAgICAgICAgICAgICAgIENpdHkKICAgICAgICAgICAgICAgICA8L2Rpdj5gLAogICAgICAgICAgICAgICAgeyJzdGlja3kiOiB0cnVlfQogICAgICAgICAgICApOwogICAgICAgIAogICAgCiAgICAgICAgICAgIHZhciBtYXJrZXJfZjAzYTZkYTZhYmVkNGI0Mjk1ZWVmN2ZmMGVhOTUyNzQgPSBMLm1hcmtlcigKICAgICAgICAgICAgICAgIFs1MS41MTE0OTQsIC0wLjEzOTI0NF0sCiAgICAgICAgICAgICAgICB7fQogICAgICAgICAgICApLmFkZFRvKG1hcF81YmVlMTgyNDUwMzc0OTcxYTk5MTFhNjk0YjM3MTQ4OCk7CiAgICAgICAgCiAgICAKICAgICAgICAgICAgdmFyIGljb25fNzZjMzBiZGI4NDExNDU4ZTk3M2EwOTUwMmU2ZDBiZjkgPSBMLkF3ZXNvbWVNYXJrZXJzLmljb24oCiAgICAgICAgICAgICAgICB7ImV4dHJhQ2xhc3NlcyI6ICJmYS1yb3RhdGUtMCIsICJpY29uIjogImhvbWUiLCAiaWNvbkNvbG9yIjogIndoaXRlIiwgIm1hcmtlckNvbG9yIjogImJsdWUiLCAicHJlZml4IjogImdseXBoaWNvbiJ9CiAgICAgICAgICAgICk7CiAgICAgICAgICAgIG1hcmtlcl9mMDNhNmRhNmFiZWQ0YjQyOTVlZWY3ZmYwZWE5NTI3NC5zZXRJY29uKGljb25fNzZjMzBiZGI4NDExNDU4ZTk3M2EwOTUwMmU2ZDBiZjkpOwogICAgICAgIAogICAgCiAgICAgICAgdmFyIHBvcHVwXzIxYzNjMDkxYTA4ZTQ3MGY5OWMxNjNjMmMwYTU2ZGU3ID0gTC5wb3B1cCh7Im1heFdpZHRoIjogIjEwMCUifSk7CgogICAgICAgIAogICAgICAgICAgICB2YXIgaHRtbF83MDhmMWMzY2RhZjM0ZGVlOWExNWZlOTVlMDkxNTlkZiA9ICQoYDxkaXYgaWQ9Imh0bWxfNzA4ZjFjM2NkYWYzNGRlZTlhMTVmZTk1ZTA5MTU5ZGYiIHN0eWxlPSJ3aWR0aDogMTAwLjAlOyBoZWlnaHQ6IDEwMC4wJTsiPiAgICAgPHN0cm9uZz4gQ2l0eSA6ICNMb25kb248L3N0cm9uZz4gICAgIDwvZGl2PmApWzBdOwogICAgICAgICAgICBwb3B1cF8yMWMzYzA5MWEwOGU0NzBmOTljMTYzYzJjMGE1NmRlNy5zZXRDb250ZW50KGh0bWxfNzA4ZjFjM2NkYWYzNGRlZTlhMTVmZTk1ZTA5MTU5ZGYpOwogICAgICAgIAoKICAgICAgICBtYXJrZXJfZjAzYTZkYTZhYmVkNGI0Mjk1ZWVmN2ZmMGVhOTUyNzQuYmluZFBvcHVwKHBvcHVwXzIxYzNjMDkxYTA4ZTQ3MGY5OWMxNjNjMmMwYTU2ZGU3KQogICAgICAgIDsKCiAgICAgICAgCiAgICAKICAgIAogICAgICAgICAgICBtYXJrZXJfZjAzYTZkYTZhYmVkNGI0Mjk1ZWVmN2ZmMGVhOTUyNzQuYmluZFRvb2x0aXAoCiAgICAgICAgICAgICAgICBgPGRpdj4KICAgICAgICAgICAgICAgICAgICAgQ2l0eQogICAgICAgICAgICAgICAgIDwvZGl2PmAsCiAgICAgICAgICAgICAgICB7InN0aWNreSI6IHRydWV9CiAgICAgICAgICAgICk7CiAgICAgICAgCiAgICAKICAgICAgICAgICAgdmFyIG1hcmtlcl9iMTg0ZTY0MjA4MDk0ZDQzYWMxMjA4N2E4YzQxODFmZiA9IEwubWFya2VyKAogICAgICAgICAgICAgICAgWzUxLjUxOTc3MiwgLTAuMTU5NzA5Ml0sCiAgICAgICAgICAgICAgICB7fQogICAgICAgICAgICApLmFkZFRvKG1hcF81YmVlMTgyNDUwMzc0OTcxYTk5MTFhNjk0YjM3MTQ4OCk7CiAgICAgICAgCiAgICAKICAgICAgICAgICAgdmFyIGljb25fNjc2MGQ2ZTZhMjg3NGRhMjljNTgyMjk3MGI2NGFlNWIgPSBMLkF3ZXNvbWVNYXJrZXJzLmljb24oCiAgICAgICAgICAgICAgICB7ImV4dHJhQ2xhc3NlcyI6ICJmYS1yb3RhdGUtMCIsICJpY29uIjogImhvbWUiLCAiaWNvbkNvbG9yIjogIndoaXRlIiwgIm1hcmtlckNvbG9yIjogImJsdWUiLCAicHJlZml4IjogImdseXBoaWNvbiJ9CiAgICAgICAgICAgICk7CiAgICAgICAgICAgIG1hcmtlcl9iMTg0ZTY0MjA4MDk0ZDQzYWMxMjA4N2E4YzQxODFmZi5zZXRJY29uKGljb25fNjc2MGQ2ZTZhMjg3NGRhMjljNTgyMjk3MGI2NGFlNWIpOwogICAgICAgIAogICAgCiAgICAgICAgdmFyIHBvcHVwXzhhYTMzZGQyM2NhMTQ3MjQ5ZjYwMTAyMjZiMThmZGE1ID0gTC5wb3B1cCh7Im1heFdpZHRoIjogIjEwMCUifSk7CgogICAgICAgIAogICAgICAgICAgICB2YXIgaHRtbF81YjM5NWViZjYwYjY0ZDU3YjE0MjU1ZTIzY2ZkYWE4NiA9ICQoYDxkaXYgaWQ9Imh0bWxfNWIzOTVlYmY2MGI2NGQ1N2IxNDI1NWUyM2NmZGFhODYiIHN0eWxlPSJ3aWR0aDogMTAwLjAlOyBoZWlnaHQ6IDEwMC4wJTsiPiAgICAgPHN0cm9uZz4gQ2l0eSA6ICNMb25kb248L3N0cm9uZz4gICAgIDwvZGl2PmApWzBdOwogICAgICAgICAgICBwb3B1cF84YWEzM2RkMjNjYTE0NzI0OWY2MDEwMjI2YjE4ZmRhNS5zZXRDb250ZW50KGh0bWxfNWIzOTVlYmY2MGI2NGQ1N2IxNDI1NWUyM2NmZGFhODYpOwogICAgICAgIAoKICAgICAgICBtYXJrZXJfYjE4NGU2NDIwODA5NGQ0M2FjMTIwODdhOGM0MTgxZmYuYmluZFBvcHVwKHBvcHVwXzhhYTMzZGQyM2NhMTQ3MjQ5ZjYwMTAyMjZiMThmZGE1KQogICAgICAgIDsKCiAgICAgICAgCiAgICAKICAgIAogICAgICAgICAgICBtYXJrZXJfYjE4NGU2NDIwODA5NGQ0M2FjMTIwODdhOGM0MTgxZmYuYmluZFRvb2x0aXAoCiAgICAgICAgICAgICAgICBgPGRpdj4KICAgICAgICAgICAgICAgICAgICAgQ2l0eQogICAgICAgICAgICAgICAgIDwvZGl2PmAsCiAgICAgICAgICAgICAgICB7InN0aWNreSI6IHRydWV9CiAgICAgICAgICAgICk7CiAgICAgICAgCiAgICAKICAgICAgICAgICAgdmFyIG1hcmtlcl8xYzkwZWY5YjkzZDQ0OTkwOGFhNDk4ZWRlYWUyMzI3MCA9IEwubWFya2VyKAogICAgICAgICAgICAgICAgWzUxLjUxOTYxMzUsIC0wLjEwMjAyNjVdLAogICAgICAgICAgICAgICAge30KICAgICAgICAgICAgKS5hZGRUbyhtYXBfNWJlZTE4MjQ1MDM3NDk3MWE5OTExYTY5NGIzNzE0ODgpOwogICAgICAgIAogICAgCiAgICAgICAgICAgIHZhciBpY29uXzExNzE1MTYzOTYzODRhYjhiZTZiZDhjMjMwZWI0MTJhID0gTC5Bd2Vzb21lTWFya2Vycy5pY29uKAogICAgICAgICAgICAgICAgeyJleHRyYUNsYXNzZXMiOiAiZmEtcm90YXRlLTAiLCAiaWNvbiI6ICJob21lIiwgImljb25Db2xvciI6ICJ3aGl0ZSIsICJtYXJrZXJDb2xvciI6ICJibHVlIiwgInByZWZpeCI6ICJnbHlwaGljb24ifQogICAgICAgICAgICApOwogICAgICAgICAgICBtYXJrZXJfMWM5MGVmOWI5M2Q0NDk5MDhhYTQ5OGVkZWFlMjMyNzAuc2V0SWNvbihpY29uXzExNzE1MTYzOTYzODRhYjhiZTZiZDhjMjMwZWI0MTJhKTsKICAgICAgICAKICAgIAogICAgICAgIHZhciBwb3B1cF80YTc3NjE2YTIyYWM0ZWVlYTY1MmU0YzY1OGQ4MzU0MyA9IEwucG9wdXAoeyJtYXhXaWR0aCI6ICIxMDAlIn0pOwoKICAgICAgICAKICAgICAgICAgICAgdmFyIGh0bWxfMzIwY2QxODc5MmU3NDJmMGFlOGIwOWQ5ZTlmMTk0YWEgPSAkKGA8ZGl2IGlkPSJodG1sXzMyMGNkMTg3OTJlNzQyZjBhZThiMDlkOWU5ZjE5NGFhIiBzdHlsZT0id2lkdGg6IDEwMC4wJTsgaGVpZ2h0OiAxMDAuMCU7Ij4gICAgIDxzdHJvbmc+IENpdHkgOiAjTG9uZG9uPC9zdHJvbmc+ICAgICA8L2Rpdj5gKVswXTsKICAgICAgICAgICAgcG9wdXBfNGE3NzYxNmEyMmFjNGVlZWE2NTJlNGM2NThkODM1NDMuc2V0Q29udGVudChodG1sXzMyMGNkMTg3OTJlNzQyZjBhZThiMDlkOWU5ZjE5NGFhKTsKICAgICAgICAKCiAgICAgICAgbWFya2VyXzFjOTBlZjliOTNkNDQ5OTA4YWE0OThlZGVhZTIzMjcwLmJpbmRQb3B1cChwb3B1cF80YTc3NjE2YTIyYWM0ZWVlYTY1MmU0YzY1OGQ4MzU0MykKICAgICAgICA7CgogICAgICAgIAogICAgCiAgICAKICAgICAgICAgICAgbWFya2VyXzFjOTBlZjliOTNkNDQ5OTA4YWE0OThlZGVhZTIzMjcwLmJpbmRUb29sdGlwKAogICAgICAgICAgICAgICAgYDxkaXY+CiAgICAgICAgICAgICAgICAgICAgIENpdHkKICAgICAgICAgICAgICAgICA8L2Rpdj5gLAogICAgICAgICAgICAgICAgeyJzdGlja3kiOiB0cnVlfQogICAgICAgICAgICApOwogICAgICAgIAogICAgCiAgICAgICAgICAgIHZhciBtYXJrZXJfNzhhMGM4MDhkOWI0NDEyYjg3NDkxZTk5MjczNzcyZTcgPSBMLm1hcmtlcigKICAgICAgICAgICAgICAgIFs1MS41MTg2MTE4LCAtMC4xMTE1MDldLAogICAgICAgICAgICAgICAge30KICAgICAgICAgICAgKS5hZGRUbyhtYXBfNWJlZTE4MjQ1MDM3NDk3MWE5OTExYTY5NGIzNzE0ODgpOwogICAgICAgIAogICAgCiAgICAgICAgICAgIHZhciBpY29uX2Y1MzY0MWUzM2M4MjRjYmU4NDRhMThmZjBkYTk0Y2I3ID0gTC5Bd2Vzb21lTWFya2Vycy5pY29uKAogICAgICAgICAgICAgICAgeyJleHRyYUNsYXNzZXMiOiAiZmEtcm90YXRlLTAiLCAiaWNvbiI6ICJob21lIiwgImljb25Db2xvciI6ICJ3aGl0ZSIsICJtYXJrZXJDb2xvciI6ICJibHVlIiwgInByZWZpeCI6ICJnbHlwaGljb24ifQogICAgICAgICAgICApOwogICAgICAgICAgICBtYXJrZXJfNzhhMGM4MDhkOWI0NDEyYjg3NDkxZTk5MjczNzcyZTcuc2V0SWNvbihpY29uX2Y1MzY0MWUzM2M4MjRjYmU4NDRhMThmZjBkYTk0Y2I3KTsKICAgICAgICAKICAgIAogICAgICAgIHZhciBwb3B1cF8xODk5YWJhMzdlOGU0NmJiOTU4NGZhN2JlMDg0NjZhMSA9IEwucG9wdXAoeyJtYXhXaWR0aCI6ICIxMDAlIn0pOwoKICAgICAgICAKICAgICAgICAgICAgdmFyIGh0bWxfM2Y4YjY3MTllM2M0NDNkYzk3OTRhMDc3ZDgwNmE4NzcgPSAkKGA8ZGl2IGlkPSJodG1sXzNmOGI2NzE5ZTNjNDQzZGM5Nzk0YTA3N2Q4MDZhODc3IiBzdHlsZT0id2lkdGg6IDEwMC4wJTsgaGVpZ2h0OiAxMDAuMCU7Ij4gICAgIDxzdHJvbmc+IENpdHkgOiAjTG9uZG9uPC9zdHJvbmc+ICAgICA8L2Rpdj5gKVswXTsKICAgICAgICAgICAgcG9wdXBfMTg5OWFiYTM3ZThlNDZiYjk1ODRmYTdiZTA4NDY2YTEuc2V0Q29udGVudChodG1sXzNmOGI2NzE5ZTNjNDQzZGM5Nzk0YTA3N2Q4MDZhODc3KTsKICAgICAgICAKCiAgICAgICAgbWFya2VyXzc4YTBjODA4ZDliNDQxMmI4NzQ5MWU5OTI3Mzc3MmU3LmJpbmRQb3B1cChwb3B1cF8xODk5YWJhMzdlOGU0NmJiOTU4NGZhN2JlMDg0NjZhMSkKICAgICAgICA7CgogICAgICAgIAogICAgCiAgICAKICAgICAgICAgICAgbWFya2VyXzc4YTBjODA4ZDliNDQxMmI4NzQ5MWU5OTI3Mzc3MmU3LmJpbmRUb29sdGlwKAogICAgICAgICAgICAgICAgYDxkaXY+CiAgICAgICAgICAgICAgICAgICAgIENpdHkKICAgICAgICAgICAgICAgICA8L2Rpdj5gLAogICAgICAgICAgICAgICAgeyJzdGlja3kiOiB0cnVlfQogICAgICAgICAgICApOwogICAgICAgIAogICAgCiAgICAgICAgICAgIHZhciBtYXJrZXJfOTgwZjUyZjM0NWExNGVjY2E2ZjEzYzhjNjkyNjljNzEgPSBMLm1hcmtlcigKICAgICAgICAgICAgICAgIFs1MS41MjA3NzksIC0wLjEwNzU5XSwKICAgICAgICAgICAgICAgIHt9CiAgICAgICAgICAgICkuYWRkVG8obWFwXzViZWUxODI0NTAzNzQ5NzFhOTkxMWE2OTRiMzcxNDg4KTsKICAgICAgICAKICAgIAogICAgICAgICAgICB2YXIgaWNvbl84MWVmNzc0YTkxMzI0YjVkOWFjODNjOWI5MDE0YTYzYiA9IEwuQXdlc29tZU1hcmtlcnMuaWNvbigKICAgICAgICAgICAgICAgIHsiZXh0cmFDbGFzc2VzIjogImZhLXJvdGF0ZS0wIiwgImljb24iOiAiaG9tZSIsICJpY29uQ29sb3IiOiAid2hpdGUiLCAibWFya2VyQ29sb3IiOiAiYmx1ZSIsICJwcmVmaXgiOiAiZ2x5cGhpY29uIn0KICAgICAgICAgICAgKTsKICAgICAgICAgICAgbWFya2VyXzk4MGY1MmYzNDVhMTRlY2NhNmYxM2M4YzY5MjY5YzcxLnNldEljb24oaWNvbl84MWVmNzc0YTkxMzI0YjVkOWFjODNjOWI5MDE0YTYzYik7CiAgICAgICAgCiAgICAKICAgICAgICB2YXIgcG9wdXBfMGJlOWFiY2RlNGRhNDhmMjlmYjVkYjFiYjA3MjAzNTQgPSBMLnBvcHVwKHsibWF4V2lkdGgiOiAiMTAwJSJ9KTsKCiAgICAgICAgCiAgICAgICAgICAgIHZhciBodG1sX2VjMDIzZjVhNWNmZDQxYTQ4ODM3NTJiN2Y0YWI3ZTkyID0gJChgPGRpdiBpZD0iaHRtbF9lYzAyM2Y1YTVjZmQ0MWE0ODgzNzUyYjdmNGFiN2U5MiIgc3R5bGU9IndpZHRoOiAxMDAuMCU7IGhlaWdodDogMTAwLjAlOyI+ICAgICA8c3Ryb25nPiBDaXR5IDogI0xvbmRvbjwvc3Ryb25nPiAgICAgPC9kaXY+YClbMF07CiAgICAgICAgICAgIHBvcHVwXzBiZTlhYmNkZTRkYTQ4ZjI5ZmI1ZGIxYmIwNzIwMzU0LnNldENvbnRlbnQoaHRtbF9lYzAyM2Y1YTVjZmQ0MWE0ODgzNzUyYjdmNGFiN2U5Mik7CiAgICAgICAgCgogICAgICAgIG1hcmtlcl85ODBmNTJmMzQ1YTE0ZWNjYTZmMTNjOGM2OTI2OWM3MS5iaW5kUG9wdXAocG9wdXBfMGJlOWFiY2RlNGRhNDhmMjlmYjVkYjFiYjA3MjAzNTQpCiAgICAgICAgOwoKICAgICAgICAKICAgIAogICAgCiAgICAgICAgICAgIG1hcmtlcl85ODBmNTJmMzQ1YTE0ZWNjYTZmMTNjOGM2OTI2OWM3MS5iaW5kVG9vbHRpcCgKICAgICAgICAgICAgICAgIGA8ZGl2PgogICAgICAgICAgICAgICAgICAgICBDaXR5CiAgICAgICAgICAgICAgICAgPC9kaXY+YCwKICAgICAgICAgICAgICAgIHsic3RpY2t5IjogdHJ1ZX0KICAgICAgICAgICAgKTsKICAgICAgICAKICAgIAogICAgICAgICAgICB2YXIgbWFya2VyXzJiM2RiYzk5MzQzYTQ0NWNiNWFmMjY4M2NkNWI0M2QyID0gTC5tYXJrZXIoCiAgICAgICAgICAgICAgICBbNTEuNTIwMzI2OCwgLTAuMDk5NDU5Nl0sCiAgICAgICAgICAgICAgICB7fQogICAgICAgICAgICApLmFkZFRvKG1hcF81YmVlMTgyNDUwMzc0OTcxYTk5MTFhNjk0YjM3MTQ4OCk7CiAgICAgICAgCiAgICAKICAgICAgICAgICAgdmFyIGljb25fMmM4ZWJjNzZjZDNkNDU2OWJhZTViOTIxOGI3ZTRmN2YgPSBMLkF3ZXNvbWVNYXJrZXJzLmljb24oCiAgICAgICAgICAgICAgICB7ImV4dHJhQ2xhc3NlcyI6ICJmYS1yb3RhdGUtMCIsICJpY29uIjogImhvbWUiLCAiaWNvbkNvbG9yIjogIndoaXRlIiwgIm1hcmtlckNvbG9yIjogImJsdWUiLCAicHJlZml4IjogImdseXBoaWNvbiJ9CiAgICAgICAgICAgICk7CiAgICAgICAgICAgIG1hcmtlcl8yYjNkYmM5OTM0M2E0NDVjYjVhZjI2ODNjZDViNDNkMi5zZXRJY29uKGljb25fMmM4ZWJjNzZjZDNkNDU2OWJhZTViOTIxOGI3ZTRmN2YpOwogICAgICAgIAogICAgCiAgICAgICAgdmFyIHBvcHVwX2NkYWYxMzEzYmQzMDQxYzBhNGU5MTY3NzgxZGY4YWUwID0gTC5wb3B1cCh7Im1heFdpZHRoIjogIjEwMCUifSk7CgogICAgICAgIAogICAgICAgICAgICB2YXIgaHRtbF9lN2I4NWNlZTIzZjI0NjY4YmUzN2NhZWM1ZTI1MDgxNCA9ICQoYDxkaXYgaWQ9Imh0bWxfZTdiODVjZWUyM2YyNDY2OGJlMzdjYWVjNWUyNTA4MTQiIHN0eWxlPSJ3aWR0aDogMTAwLjAlOyBoZWlnaHQ6IDEwMC4wJTsiPiAgICAgPHN0cm9uZz4gQ2l0eSA6ICNMb25kb248L3N0cm9uZz4gICAgIDwvZGl2PmApWzBdOwogICAgICAgICAgICBwb3B1cF9jZGFmMTMxM2JkMzA0MWMwYTRlOTE2Nzc4MWRmOGFlMC5zZXRDb250ZW50KGh0bWxfZTdiODVjZWUyM2YyNDY2OGJlMzdjYWVjNWUyNTA4MTQpOwogICAgICAgIAoKICAgICAgICBtYXJrZXJfMmIzZGJjOTkzNDNhNDQ1Y2I1YWYyNjgzY2Q1YjQzZDIuYmluZFBvcHVwKHBvcHVwX2NkYWYxMzEzYmQzMDQxYzBhNGU5MTY3NzgxZGY4YWUwKQogICAgICAgIDsKCiAgICAgICAgCiAgICAKICAgIAogICAgICAgICAgICBtYXJrZXJfMmIzZGJjOTkzNDNhNDQ1Y2I1YWYyNjgzY2Q1YjQzZDIuYmluZFRvb2x0aXAoCiAgICAgICAgICAgICAgICBgPGRpdj4KICAgICAgICAgICAgICAgICAgICAgQ2l0eQogICAgICAgICAgICAgICAgIDwvZGl2PmAsCiAgICAgICAgICAgICAgICB7InN0aWNreSI6IHRydWV9CiAgICAgICAgICAgICk7CiAgICAgICAgCiAgICAKICAgICAgICAgICAgdmFyIG1hcmtlcl9lN2JlOTcxZTNmYzI0NTZmYjcwNWQ2OGU0MjRlOWY1NiA9IEwubWFya2VyKAogICAgICAgICAgICAgICAgWzUxLjUzOTU5MTQsIC0wLjE1MjUwNDhdLAogICAgICAgICAgICAgICAge30KICAgICAgICAgICAgKS5hZGRUbyhtYXBfNWJlZTE4MjQ1MDM3NDk3MWE5OTExYTY5NGIzNzE0ODgpOwogICAgICAgIAogICAgCiAgICAgICAgICAgIHZhciBpY29uXzcyZGM4YmE5NGU1YjQ1MDliZjJhNDFlYTBiMzU5NDljID0gTC5Bd2Vzb21lTWFya2Vycy5pY29uKAogICAgICAgICAgICAgICAgeyJleHRyYUNsYXNzZXMiOiAiZmEtcm90YXRlLTAiLCAiaWNvbiI6ICJob21lIiwgImljb25Db2xvciI6ICJ3aGl0ZSIsICJtYXJrZXJDb2xvciI6ICJibHVlIiwgInByZWZpeCI6ICJnbHlwaGljb24ifQogICAgICAgICAgICApOwogICAgICAgICAgICBtYXJrZXJfZTdiZTk3MWUzZmMyNDU2ZmI3MDVkNjhlNDI0ZTlmNTYuc2V0SWNvbihpY29uXzcyZGM4YmE5NGU1YjQ1MDliZjJhNDFlYTBiMzU5NDljKTsKICAgICAgICAKICAgIAogICAgICAgIHZhciBwb3B1cF9iMDRkZmE5N2E2NmE0NjdjOGFlODE4NjMxMjFiZGQwYiA9IEwucG9wdXAoeyJtYXhXaWR0aCI6ICIxMDAlIn0pOwoKICAgICAgICAKICAgICAgICAgICAgdmFyIGh0bWxfM2E4M2I2MTljODZiNDQ2YTgzY2I1N2ZiNTJiNWEwYmYgPSAkKGA8ZGl2IGlkPSJodG1sXzNhODNiNjE5Yzg2YjQ0NmE4M2NiNTdmYjUyYjVhMGJmIiBzdHlsZT0id2lkdGg6IDEwMC4wJTsgaGVpZ2h0OiAxMDAuMCU7Ij4gICAgIDxzdHJvbmc+IENpdHkgOiAjTG9uZG9uPC9zdHJvbmc+ICAgICA8L2Rpdj5gKVswXTsKICAgICAgICAgICAgcG9wdXBfYjA0ZGZhOTdhNjZhNDY3YzhhZTgxODYzMTIxYmRkMGIuc2V0Q29udGVudChodG1sXzNhODNiNjE5Yzg2YjQ0NmE4M2NiNTdmYjUyYjVhMGJmKTsKICAgICAgICAKCiAgICAgICAgbWFya2VyX2U3YmU5NzFlM2ZjMjQ1NmZiNzA1ZDY4ZTQyNGU5ZjU2LmJpbmRQb3B1cChwb3B1cF9iMDRkZmE5N2E2NmE0NjdjOGFlODE4NjMxMjFiZGQwYikKICAgICAgICA7CgogICAgICAgIAogICAgCiAgICAKICAgICAgICAgICAgbWFya2VyX2U3YmU5NzFlM2ZjMjQ1NmZiNzA1ZDY4ZTQyNGU5ZjU2LmJpbmRUb29sdGlwKAogICAgICAgICAgICAgICAgYDxkaXY+CiAgICAgICAgICAgICAgICAgICAgIENpdHkKICAgICAgICAgICAgICAgICA8L2Rpdj5gLAogICAgICAgICAgICAgICAgeyJzdGlja3kiOiB0cnVlfQogICAgICAgICAgICApOwogICAgICAgIAogICAgCiAgICAgICAgICAgIHZhciBtYXJrZXJfNTUwM2UzNTYxNmYwNDFiOTlkMDFmYTk4MTA1OGY2ZWYgPSBMLm1hcmtlcigKICAgICAgICAgICAgICAgIFs1MS41MjExMTU5LCAtMC4wNzc4MzQ1XSwKICAgICAgICAgICAgICAgIHt9CiAgICAgICAgICAgICkuYWRkVG8obWFwXzViZWUxODI0NTAzNzQ5NzFhOTkxMWE2OTRiMzcxNDg4KTsKICAgICAgICAKICAgIAogICAgICAgICAgICB2YXIgaWNvbl81MmE2MzBkOWY4Nzk0MzA2OWUzNWQ3N2IwZTVkYmZhNSA9IEwuQXdlc29tZU1hcmtlcnMuaWNvbigKICAgICAgICAgICAgICAgIHsiZXh0cmFDbGFzc2VzIjogImZhLXJvdGF0ZS0wIiwgImljb24iOiAiaG9tZSIsICJpY29uQ29sb3IiOiAid2hpdGUiLCAibWFya2VyQ29sb3IiOiAiYmx1ZSIsICJwcmVmaXgiOiAiZ2x5cGhpY29uIn0KICAgICAgICAgICAgKTsKICAgICAgICAgICAgbWFya2VyXzU1MDNlMzU2MTZmMDQxYjk5ZDAxZmE5ODEwNThmNmVmLnNldEljb24oaWNvbl81MmE2MzBkOWY4Nzk0MzA2OWUzNWQ3N2IwZTVkYmZhNSk7CiAgICAgICAgCiAgICAKICAgICAgICB2YXIgcG9wdXBfNGVlMjIwYWMxYjdhNDIwZGFhYTk4OGQzZDhhNGU0ODcgPSBMLnBvcHVwKHsibWF4V2lkdGgiOiAiMTAwJSJ9KTsKCiAgICAgICAgCiAgICAgICAgICAgIHZhciBodG1sX2ZlYWY5MzgzNzNiMTRhYzBiOTgwZTllNjlhZjgwNmRiID0gJChgPGRpdiBpZD0iaHRtbF9mZWFmOTM4MzczYjE0YWMwYjk4MGU5ZTY5YWY4MDZkYiIgc3R5bGU9IndpZHRoOiAxMDAuMCU7IGhlaWdodDogMTAwLjAlOyI+ICAgICA8c3Ryb25nPiBDaXR5IDogI0xvbmRvbjwvc3Ryb25nPiAgICAgPC9kaXY+YClbMF07CiAgICAgICAgICAgIHBvcHVwXzRlZTIyMGFjMWI3YTQyMGRhYWE5ODhkM2Q4YTRlNDg3LnNldENvbnRlbnQoaHRtbF9mZWFmOTM4MzczYjE0YWMwYjk4MGU5ZTY5YWY4MDZkYik7CiAgICAgICAgCgogICAgICAgIG1hcmtlcl81NTAzZTM1NjE2ZjA0MWI5OWQwMWZhOTgxMDU4ZjZlZi5iaW5kUG9wdXAocG9wdXBfNGVlMjIwYWMxYjdhNDIwZGFhYTk4OGQzZDhhNGU0ODcpCiAgICAgICAgOwoKICAgICAgICAKICAgIAogICAgCiAgICAgICAgICAgIG1hcmtlcl81NTAzZTM1NjE2ZjA0MWI5OWQwMWZhOTgxMDU4ZjZlZi5iaW5kVG9vbHRpcCgKICAgICAgICAgICAgICAgIGA8ZGl2PgogICAgICAgICAgICAgICAgICAgICBDaXR5CiAgICAgICAgICAgICAgICAgPC9kaXY+YCwKICAgICAgICAgICAgICAgIHsic3RpY2t5IjogdHJ1ZX0KICAgICAgICAgICAgKTsKICAgICAgICAKICAgIAogICAgICAgICAgICB2YXIgbWFya2VyXzNjZTEzYTQzYjYwYTRhN2I5NTBkYjdjZGE2OGQwNWQxID0gTC5tYXJrZXIoCiAgICAgICAgICAgICAgICBbNTEuNDk5NDgsIC0wLjE5MjYyN10sCiAgICAgICAgICAgICAgICB7fQogICAgICAgICAgICApLmFkZFRvKG1hcF81YmVlMTgyNDUwMzc0OTcxYTk5MTFhNjk0YjM3MTQ4OCk7CiAgICAgICAgCiAgICAKICAgICAgICAgICAgdmFyIGljb25fNDY2Mjc1MGNmOTVlNDcyOTgxNzViZTk0ZDAxNGNiMTEgPSBMLkF3ZXNvbWVNYXJrZXJzLmljb24oCiAgICAgICAgICAgICAgICB7ImV4dHJhQ2xhc3NlcyI6ICJmYS1yb3RhdGUtMCIsICJpY29uIjogImhvbWUiLCAiaWNvbkNvbG9yIjogIndoaXRlIiwgIm1hcmtlckNvbG9yIjogImJsdWUiLCAicHJlZml4IjogImdseXBoaWNvbiJ9CiAgICAgICAgICAgICk7CiAgICAgICAgICAgIG1hcmtlcl8zY2UxM2E0M2I2MGE0YTdiOTUwZGI3Y2RhNjhkMDVkMS5zZXRJY29uKGljb25fNDY2Mjc1MGNmOTVlNDcyOTgxNzViZTk0ZDAxNGNiMTEpOwogICAgICAgIAogICAgCiAgICAgICAgdmFyIHBvcHVwXzAxMmRmODVkOGViMTQwODA5ZjlhMGE1MWQ4Y2Q0NzBjID0gTC5wb3B1cCh7Im1heFdpZHRoIjogIjEwMCUifSk7CgogICAgICAgIAogICAgICAgICAgICB2YXIgaHRtbF9hM2FlNGU2YTM3Njk0MDViYjQwZWU0MDMxZWE5N2I3YyA9ICQoYDxkaXYgaWQ9Imh0bWxfYTNhZTRlNmEzNzY5NDA1YmI0MGVlNDAzMWVhOTdiN2MiIHN0eWxlPSJ3aWR0aDogMTAwLjAlOyBoZWlnaHQ6IDEwMC4wJTsiPiAgICAgPHN0cm9uZz4gQ2l0eSA6ICNMb25kb248L3N0cm9uZz4gICAgIDwvZGl2PmApWzBdOwogICAgICAgICAgICBwb3B1cF8wMTJkZjg1ZDhlYjE0MDgwOWY5YTBhNTFkOGNkNDcwYy5zZXRDb250ZW50KGh0bWxfYTNhZTRlNmEzNzY5NDA1YmI0MGVlNDAzMWVhOTdiN2MpOwogICAgICAgIAoKICAgICAgICBtYXJrZXJfM2NlMTNhNDNiNjBhNGE3Yjk1MGRiN2NkYTY4ZDA1ZDEuYmluZFBvcHVwKHBvcHVwXzAxMmRmODVkOGViMTQwODA5ZjlhMGE1MWQ4Y2Q0NzBjKQogICAgICAgIDsKCiAgICAgICAgCiAgICAKICAgIAogICAgICAgICAgICBtYXJrZXJfM2NlMTNhNDNiNjBhNGE3Yjk1MGRiN2NkYTY4ZDA1ZDEuYmluZFRvb2x0aXAoCiAgICAgICAgICAgICAgICBgPGRpdj4KICAgICAgICAgICAgICAgICAgICAgQ2l0eQogICAgICAgICAgICAgICAgIDwvZGl2PmAsCiAgICAgICAgICAgICAgICB7InN0aWNreSI6IHRydWV9CiAgICAgICAgICAgICk7CiAgICAgICAgCiAgICAKICAgICAgICAgICAgdmFyIG1hcmtlcl83MzMyOTg5ZDgzOGY0NzU5OTcxZDNhMDEzMDhlMzQ5NSA9IEwubWFya2VyKAogICAgICAgICAgICAgICAgWzU2LjQ2MTQyOCwgLTIuOTY4MTExXSwKICAgICAgICAgICAgICAgIHt9CiAgICAgICAgICAgICkuYWRkVG8obWFwXzViZWUxODI0NTAzNzQ5NzFhOTkxMWE2OTRiMzcxNDg4KTsKICAgICAgICAKICAgIAogICAgICAgICAgICB2YXIgaWNvbl84Mjk0NDQxYmYxMjI0NjczOWJiNzhhMTk3NWI3NmQ2ZCA9IEwuQXdlc29tZU1hcmtlcnMuaWNvbigKICAgICAgICAgICAgICAgIHsiZXh0cmFDbGFzc2VzIjogImZhLXJvdGF0ZS0wIiwgImljb24iOiAiaG9tZSIsICJpY29uQ29sb3IiOiAid2hpdGUiLCAibWFya2VyQ29sb3IiOiAiYmx1ZSIsICJwcmVmaXgiOiAiZ2x5cGhpY29uIn0KICAgICAgICAgICAgKTsKICAgICAgICAgICAgbWFya2VyXzczMzI5ODlkODM4ZjQ3NTk5NzFkM2EwMTMwOGUzNDk1LnNldEljb24oaWNvbl84Mjk0NDQxYmYxMjI0NjczOWJiNzhhMTk3NWI3NmQ2ZCk7CiAgICAgICAgCiAgICAKICAgICAgICB2YXIgcG9wdXBfNDliYjY1YzY3MWFlNGY3ZGI2NjFkODdlYzUzZTc5MTcgPSBMLnBvcHVwKHsibWF4V2lkdGgiOiAiMTAwJSJ9KTsKCiAgICAgICAgCiAgICAgICAgICAgIHZhciBodG1sX2VkMGY4ZDIyMWE5YTQwYjQ5ODRhNTdmNTBiMDdjNWFhID0gJChgPGRpdiBpZD0iaHRtbF9lZDBmOGQyMjFhOWE0MGI0OTg0YTU3ZjUwYjA3YzVhYSIgc3R5bGU9IndpZHRoOiAxMDAuMCU7IGhlaWdodDogMTAwLjAlOyI+ICAgICA8c3Ryb25nPiBDaXR5IDogI0R1bmRlZTwvc3Ryb25nPiAgICAgPC9kaXY+YClbMF07CiAgICAgICAgICAgIHBvcHVwXzQ5YmI2NWM2NzFhZTRmN2RiNjYxZDg3ZWM1M2U3OTE3LnNldENvbnRlbnQoaHRtbF9lZDBmOGQyMjFhOWE0MGI0OTg0YTU3ZjUwYjA3YzVhYSk7CiAgICAgICAgCgogICAgICAgIG1hcmtlcl83MzMyOTg5ZDgzOGY0NzU5OTcxZDNhMDEzMDhlMzQ5NS5iaW5kUG9wdXAocG9wdXBfNDliYjY1YzY3MWFlNGY3ZGI2NjFkODdlYzUzZTc5MTcpCiAgICAgICAgOwoKICAgICAgICAKICAgIAogICAgCiAgICAgICAgICAgIG1hcmtlcl83MzMyOTg5ZDgzOGY0NzU5OTcxZDNhMDEzMDhlMzQ5NS5iaW5kVG9vbHRpcCgKICAgICAgICAgICAgICAgIGA8ZGl2PgogICAgICAgICAgICAgICAgICAgICBDaXR5CiAgICAgICAgICAgICAgICAgPC9kaXY+YCwKICAgICAgICAgICAgICAgIHsic3RpY2t5IjogdHJ1ZX0KICAgICAgICAgICAgKTsKICAgICAgICAKICAgIAogICAgICAgICAgICB2YXIgbWFya2VyXzhmNjJhZjNmYmNhNzRiNDVhZjA5MjEzNGRkYzI1YmRmID0gTC5tYXJrZXIoCiAgICAgICAgICAgICAgICBbNTQuOTcxMDY1LCAtMS42MTk0MDM0XSwKICAgICAgICAgICAgICAgIHt9CiAgICAgICAgICAgICkuYWRkVG8obWFwXzViZWUxODI0NTAzNzQ5NzFhOTkxMWE2OTRiMzcxNDg4KTsKICAgICAgICAKICAgIAogICAgICAgICAgICB2YXIgaWNvbl84Y2QzMjU0Yzk2ODE0OWQwYWY1YjRjMTAyYWZlYTVmMCA9IEwuQXdlc29tZU1hcmtlcnMuaWNvbigKICAgICAgICAgICAgICAgIHsiZXh0cmFDbGFzc2VzIjogImZhLXJvdGF0ZS0wIiwgImljb24iOiAiaG9tZSIsICJpY29uQ29sb3IiOiAid2hpdGUiLCAibWFya2VyQ29sb3IiOiAiYmx1ZSIsICJwcmVmaXgiOiAiZ2x5cGhpY29uIn0KICAgICAgICAgICAgKTsKICAgICAgICAgICAgbWFya2VyXzhmNjJhZjNmYmNhNzRiNDVhZjA5MjEzNGRkYzI1YmRmLnNldEljb24oaWNvbl84Y2QzMjU0Yzk2ODE0OWQwYWY1YjRjMTAyYWZlYTVmMCk7CiAgICAgICAgCiAgICAKICAgICAgICB2YXIgcG9wdXBfMDBmY2U2M2VlOWNhNDE4MThmMjQ1Y2UxYjdlZWVlMGQgPSBMLnBvcHVwKHsibWF4V2lkdGgiOiAiMTAwJSJ9KTsKCiAgICAgICAgCiAgICAgICAgICAgIHZhciBodG1sX2YzMzcwZGViOTdlYjQ0MGRhMTAwYTc0N2FlMjdhMTVjID0gJChgPGRpdiBpZD0iaHRtbF9mMzM3MGRlYjk3ZWI0NDBkYTEwMGE3NDdhZTI3YTE1YyIgc3R5bGU9IndpZHRoOiAxMDAuMCU7IGhlaWdodDogMTAwLjAlOyI+ICAgICA8c3Ryb25nPiBDaXR5IDogI05ld2Nhc3RsZSBVcG9uIFR5bmU8L3N0cm9uZz4gICAgIDwvZGl2PmApWzBdOwogICAgICAgICAgICBwb3B1cF8wMGZjZTYzZWU5Y2E0MTgxOGYyNDVjZTFiN2VlZWUwZC5zZXRDb250ZW50KGh0bWxfZjMzNzBkZWI5N2ViNDQwZGExMDBhNzQ3YWUyN2ExNWMpOwogICAgICAgIAoKICAgICAgICBtYXJrZXJfOGY2MmFmM2ZiY2E3NGI0NWFmMDkyMTM0ZGRjMjViZGYuYmluZFBvcHVwKHBvcHVwXzAwZmNlNjNlZTljYTQxODE4ZjI0NWNlMWI3ZWVlZTBkKQogICAgICAgIDsKCiAgICAgICAgCiAgICAKICAgIAogICAgICAgICAgICBtYXJrZXJfOGY2MmFmM2ZiY2E3NGI0NWFmMDkyMTM0ZGRjMjViZGYuYmluZFRvb2x0aXAoCiAgICAgICAgICAgICAgICBgPGRpdj4KICAgICAgICAgICAgICAgICAgICAgQ2l0eQogICAgICAgICAgICAgICAgIDwvZGl2PmAsCiAgICAgICAgICAgICAgICB7InN0aWNreSI6IHRydWV9CiAgICAgICAgICAgICk7CiAgICAgICAgCiAgICAKICAgICAgICAgICAgdmFyIG1hcmtlcl80MmY3NGRkZWI1MDc0NWQzYjlmMTAzYTMzNTYyMzk2ZSA9IEwubWFya2VyKAogICAgICAgICAgICAgICAgWzU0Ljk3MTM0NiwgLTEuNjExMTQxXSwKICAgICAgICAgICAgICAgIHt9CiAgICAgICAgICAgICkuYWRkVG8obWFwXzViZWUxODI0NTAzNzQ5NzFhOTkxMWE2OTRiMzcxNDg4KTsKICAgICAgICAKICAgIAogICAgICAgICAgICB2YXIgaWNvbl83NTJiMTBlN2E2NDQ0NTExYmEyZWE5MGVmMjIwZWU3MCA9IEwuQXdlc29tZU1hcmtlcnMuaWNvbigKICAgICAgICAgICAgICAgIHsiZXh0cmFDbGFzc2VzIjogImZhLXJvdGF0ZS0wIiwgImljb24iOiAiaG9tZSIsICJpY29uQ29sb3IiOiAid2hpdGUiLCAibWFya2VyQ29sb3IiOiAiYmx1ZSIsICJwcmVmaXgiOiAiZ2x5cGhpY29uIn0KICAgICAgICAgICAgKTsKICAgICAgICAgICAgbWFya2VyXzQyZjc0ZGRlYjUwNzQ1ZDNiOWYxMDNhMzM1NjIzOTZlLnNldEljb24oaWNvbl83NTJiMTBlN2E2NDQ0NTExYmEyZWE5MGVmMjIwZWU3MCk7CiAgICAgICAgCiAgICAKICAgICAgICB2YXIgcG9wdXBfNWViMjQwNWE0OTdiNGFhNWE3OTQ5M2U2OTU5ZDM0MzQgPSBMLnBvcHVwKHsibWF4V2lkdGgiOiAiMTAwJSJ9KTsKCiAgICAgICAgCiAgICAgICAgICAgIHZhciBodG1sX2MxMzhiNjA3MzJhNTQzNmE4MmY0ZDcyN2YwZTM3MmRhID0gJChgPGRpdiBpZD0iaHRtbF9jMTM4YjYwNzMyYTU0MzZhODJmNGQ3MjdmMGUzNzJkYSIgc3R5bGU9IndpZHRoOiAxMDAuMCU7IGhlaWdodDogMTAwLjAlOyI+ICAgICA8c3Ryb25nPiBDaXR5IDogI05ld2Nhc3RsZSBVcG9uIFR5bmU8L3N0cm9uZz4gICAgIDwvZGl2PmApWzBdOwogICAgICAgICAgICBwb3B1cF81ZWIyNDA1YTQ5N2I0YWE1YTc5NDkzZTY5NTlkMzQzNC5zZXRDb250ZW50KGh0bWxfYzEzOGI2MDczMmE1NDM2YTgyZjRkNzI3ZjBlMzcyZGEpOwogICAgICAgIAoKICAgICAgICBtYXJrZXJfNDJmNzRkZGViNTA3NDVkM2I5ZjEwM2EzMzU2MjM5NmUuYmluZFBvcHVwKHBvcHVwXzVlYjI0MDVhNDk3YjRhYTVhNzk0OTNlNjk1OWQzNDM0KQogICAgICAgIDsKCiAgICAgICAgCiAgICAKICAgIAogICAgICAgICAgICBtYXJrZXJfNDJmNzRkZGViNTA3NDVkM2I5ZjEwM2EzMzU2MjM5NmUuYmluZFRvb2x0aXAoCiAgICAgICAgICAgICAgICBgPGRpdj4KICAgICAgICAgICAgICAgICAgICAgQ2l0eQogICAgICAgICAgICAgICAgIDwvZGl2PmAsCiAgICAgICAgICAgICAgICB7InN0aWNreSI6IHRydWV9CiAgICAgICAgICAgICk7CiAgICAgICAgCiAgICAKICAgICAgICAgICAgICAgIHZhciBsYXRfbG5nX3BvcHVwXzViMjFkZWZiNDQ5OTQ0M2RiNDZkYTAzYjEwM2ExNDllID0gTC5wb3B1cCgpOwogICAgICAgICAgICAgICAgZnVuY3Rpb24gbGF0TG5nUG9wKGUpIHsKICAgICAgICAgICAgICAgICAgICBsYXRfbG5nX3BvcHVwXzViMjFkZWZiNDQ5OTQ0M2RiNDZkYTAzYjEwM2ExNDllCiAgICAgICAgICAgICAgICAgICAgICAgIC5zZXRMYXRMbmcoZS5sYXRsbmcpCiAgICAgICAgICAgICAgICAgICAgICAgIC5zZXRDb250ZW50KCJMYXRpdHVkZTogIiArIGUubGF0bG5nLmxhdC50b0ZpeGVkKDQpICsKICAgICAgICAgICAgICAgICAgICAgICAgICAgICAgICAgICAgIjxicj5Mb25naXR1ZGU6ICIgKyBlLmxhdGxuZy5sbmcudG9GaXhlZCg0KSkKICAgICAgICAgICAgICAgICAgICAgICAgLm9wZW5PbihtYXBfNWJlZTE4MjQ1MDM3NDk3MWE5OTExYTY5NGIzNzE0ODgpOwogICAgICAgICAgICAgICAgICAgIH0KICAgICAgICAgICAgICAgIG1hcF81YmVlMTgyNDUwMzc0OTcxYTk5MTFhNjk0YjM3MTQ4OC5vbignY2xpY2snLCBsYXRMbmdQb3ApOwogICAgICAgICAgICAKPC9zY3JpcHQ+ onload=\"this.contentDocument.open();this.contentDocument.write(atob(this.getAttribute('data-html')));this.contentDocument.close();\" allowfullscreen webkitallowfullscreen mozallowfullscreen></iframe></div></div>"
      ],
      "text/plain": [
       "<folium.folium.Map at 0x7fecea865a58>"
      ]
     },
     "execution_count": 110,
     "metadata": {},
     "output_type": "execute_result"
    }
   ],
   "source": [
    "m = folium.Map(location=[53.920779, -1.70759],\n",
    "               zoom_start=5,\n",
    "              tiles='OpenStreet Map'#'Stamen Terrain'\n",
    "              )\n",
    "\n",
    "\n",
    "tooltip = 'City'\n",
    "\n",
    "for e in final_df.iterrows():\n",
    "    html = f\"\"\"\n",
    "    <strong> City : #{e[1][6]}</strong>\n",
    "    \"\"\"\n",
    "    long= e[1][7]['coordinates'][-1]\n",
    "    lat=e[1][7]['coordinates'][0]\n",
    "    folium.Marker([long, lat], \n",
    "                  popup=html, \n",
    "                  tooltip=tooltip, \n",
    "                  icon=folium.Icon(icon='home',color='blue')).add_to(m)\n",
    "\n",
    "\n",
    "m.add_child(folium.LatLngPopup())"
   ]
  },
  {
   "cell_type": "code",
   "execution_count": 111,
   "metadata": {},
   "outputs": [],
   "source": [
    "final_df.to_json(\"OUTPUT/final.json\",orient=\"records\")"
   ]
  },
  {
   "cell_type": "markdown",
   "metadata": {},
   "source": [
    "## Scoring"
   ]
  },
  {
   "cell_type": "code",
   "execution_count": null,
   "metadata": {},
   "outputs": [],
   "source": [
    "#All the 15 locations pass all the filters, however, variability is important, and therefore, \n",
    "# those that have only one of one class will be penalized. "
   ]
  },
  {
   "cell_type": "code",
   "execution_count": 171,
   "metadata": {},
   "outputs": [],
   "source": [
    "final_df['score'] = final_df.apply(fn.score, axis=1)"
   ]
  },
  {
   "cell_type": "code",
   "execution_count": 172,
   "metadata": {},
   "outputs": [
    {
     "data": {
      "text/plain": [
       "{'type': 'Point', 'coordinates': [-0.1597092, 51.519772]}"
      ]
     },
     "execution_count": 172,
     "metadata": {},
     "output_type": "execute_result"
    }
   ],
   "source": [
    "final_df=final_df.drop('level_0', axis=1)\n",
    "final_df= final_df.sort_values(by='score', ascending=False).reset_index()\n",
    "final_df['location'][0]"
   ]
  },
  {
   "cell_type": "code",
   "execution_count": 146,
   "metadata": {},
   "outputs": [
    {
     "name": "stdout",
     "output_type": "stream",
     "text": [
      "13.410999999999998 7.852666666666668\n"
     ]
    }
   ],
   "source": [
    "max_score=final_df['score'].max()\n",
    "mean_score=final_df['score'].mean()\n",
    "print(max_score, mean_score)"
   ]
  },
  {
   "cell_type": "code",
   "execution_count": 141,
   "metadata": {},
   "outputs": [],
   "source": [
    "#Using geocode api to get the actual address of the top score\n",
    "res = requests.get(\"https://geocode.xyz//51.5115309,-0.1392765?geoit=xml\",params={\"json\":1})\n"
   ]
  },
  {
   "cell_type": "code",
   "execution_count": 142,
   "metadata": {},
   "outputs": [
    {
     "name": "stdout",
     "output_type": "stream",
     "text": [
      "The selected location is in:  Regent Street London United Kingdom W1B4DA\n"
     ]
    }
   ],
   "source": [
    "address = res.json()\n",
    "print('The selected location is in: ',address['staddress'], address['city'], address['country'], address['postal'])"
   ]
  },
  {
   "cell_type": "markdown",
   "metadata": {},
   "source": [
    "## Visualizing"
   ]
  },
  {
   "cell_type": "code",
   "execution_count": 173,
   "metadata": {},
   "outputs": [
    {
     "data": {
      "text/html": [
       "<div style=\"width:100%;\"><div style=\"position:relative;width:100%;height:0;padding-bottom:60%;\"><iframe src=\"about:blank\" style=\"position:absolute;width:100%;height:100%;left:0;top:0;border:none !important;\" data-html=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 onload=\"this.contentDocument.open();this.contentDocument.write(atob(this.getAttribute('data-html')));this.contentDocument.close();\" allowfullscreen webkitallowfullscreen mozallowfullscreen></iframe></div></div>"
      ],
      "text/plain": [
       "<folium.folium.Map at 0x7fecea787a20>"
      ]
     },
     "execution_count": 173,
     "metadata": {},
     "output_type": "execute_result"
    }
   ],
   "source": [
    "m = folium.Map(location=[51.5115309, -0.1392765],\n",
    "               zoom_start=13,\n",
    "              tiles='OpenStreet Map'#'Stamen Terrain'\n",
    "              )\n",
    "\n",
    "\n",
    "tooltip = 'Click for info'\n",
    "\n",
    "for e in final_df.iterrows():\n",
    "    html = f\"\"\"\n",
    "    <strong> Score : #{e[1][15]}</strong>\n",
    "    <p>Pro_companies:{e[1][8]}</p>\n",
    "    <p>airports:{e[1][9]}</p>\n",
    "    <p>kinder:{e[1][10]}</p>\n",
    "    <p>schools:{e[1][11]}</p>\n",
    "    <p>starbucks:{e[1][12]}</p>\n",
    "    <p>vegan:{e[1][13]}</p>\n",
    "    <p>discos:{e[1][14]}</p>\n",
    "    \"\"\"\n",
    "    long= e[1][7]['coordinates'][-1]\n",
    "    lat=e[1][7]['coordinates'][0]\n",
    "    if e[1][15]==max_score:\n",
    "        color='green'\n",
    "    elif e[1][15]>mean_score: color='blue'\n",
    "    else: color='red'\n",
    "    folium.Marker([long, lat], \n",
    "                  popup=html, \n",
    "                  tooltip=tooltip, \n",
    "                  icon=folium.Icon(icon='home',color=color)).add_to(m)\n",
    "\n",
    "folium.CircleMarker(\n",
    "    location=[51.519772, -0.1597092],\n",
    "    radius=50,\n",
    "    popup='Optimal area',\n",
    "    color='#3186cc',\n",
    "    fill=True,\n",
    "    fill_color='#3186cc'\n",
    ").add_to(m)\n",
    "\n",
    "\n",
    "m.add_child(folium.LatLngPopup())\n"
   ]
  },
  {
   "cell_type": "code",
   "execution_count": 174,
   "metadata": {},
   "outputs": [],
   "source": [
    "m.save('OUTPUT/html_map.html')"
   ]
  }
 ],
 "metadata": {
  "kernelspec": {
   "display_name": "Python 3.6.9 64-bit",
   "language": "python",
   "name": "python36964bit36b15ce491344c3aaf77177bbb6e80c7"
  },
  "language_info": {
   "codemirror_mode": {
    "name": "ipython",
    "version": 3
   },
   "file_extension": ".py",
   "mimetype": "text/x-python",
   "name": "python",
   "nbconvert_exporter": "python",
   "pygments_lexer": "ipython3",
   "version": "3.6.9"
  }
 },
 "nbformat": 4,
 "nbformat_minor": 2
}
