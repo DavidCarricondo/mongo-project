{
 "cells": [
  {
   "cell_type": "code",
   "execution_count": 55,
   "metadata": {},
   "outputs": [
    {
     "data": {
      "text/plain": [
       "True"
      ]
     },
     "execution_count": 55,
     "metadata": {},
     "output_type": "execute_result"
    }
   ],
   "source": [
    "from pymongo import MongoClient\n",
    "import requests\n",
    "import pandas as pd\n",
    "import os\n",
    "from dotenv import load_dotenv\n",
    "import json\n",
    "import folium\n",
    "import src.cleaning_functions as fn\n",
    "import src.google_api_functions as gf\n",
    "import src.mongo_query_functions as mf\n",
    "load_dotenv()"
   ]
  },
  {
   "cell_type": "code",
   "execution_count": 56,
   "metadata": {},
   "outputs": [
    {
     "name": "stdout",
     "output_type": "stream",
     "text": [
      "mongodb://localhost/companies\n"
     ]
    }
   ],
   "source": [
    "\n",
    "dbName = \"companies\"\n",
    "mongodbURL = f\"mongodb://localhost/{dbName}\"\n",
    "print(mongodbURL)\n",
    "client = MongoClient(mongodbURL, connectTimeoutMS=10000,serverSelectionTimeoutMS=10000)\n",
    "db = client.get_database()"
   ]
  },
  {
   "cell_type": "markdown",
   "metadata": {},
   "source": [
    "# Filtering for offices in England"
   ]
  },
  {
   "cell_type": "code",
   "execution_count": 57,
   "metadata": {},
   "outputs": [],
   "source": [
    "#Find the all the different country codes to choose the one for england\n",
    "query={'offices': { '$exists': 'true', '$not': {'$size': 0} }}\n",
    "web_offices = list(db.companies.find(query,{\"offices\":1,\"name\":1}))\n",
    "\n",
    "countries=set()\n",
    "for i,e in enumerate(web_offices):\n",
    "    countries.add(e['offices'][0]['country_code'])\n",
    "#countries #GBR is the code for Great Britain"
   ]
  },
  {
   "cell_type": "code",
   "execution_count": 58,
   "metadata": {},
   "outputs": [],
   "source": [
    "#Start with filtering only for companies with offices in England\n",
    "query={'offices':{'$elemMatch':{'country_code':'GBR'}}}\n",
    "project = {\"name\":1, \"offices\":1,'total_money_raised':1,'founded_year':1, 'category_code':1}\n",
    "gb_offices = list(db.companies.find(query,project))"
   ]
  },
  {
   "cell_type": "code",
   "execution_count": 59,
   "metadata": {},
   "outputs": [],
   "source": [
    "office_df = pd.DataFrame(gb_offices).explode('offices')"
   ]
  },
  {
   "cell_type": "code",
   "execution_count": 60,
   "metadata": {},
   "outputs": [
    {
     "name": "stdout",
     "output_type": "stream",
     "text": [
      "(2574, 6)\n"
     ]
    },
    {
     "data": {
      "text/html": [
       "<div>\n",
       "<style scoped>\n",
       "    .dataframe tbody tr th:only-of-type {\n",
       "        vertical-align: middle;\n",
       "    }\n",
       "\n",
       "    .dataframe tbody tr th {\n",
       "        vertical-align: top;\n",
       "    }\n",
       "\n",
       "    .dataframe thead th {\n",
       "        text-align: right;\n",
       "    }\n",
       "</style>\n",
       "<table border=\"1\" class=\"dataframe\">\n",
       "  <thead>\n",
       "    <tr style=\"text-align: right;\">\n",
       "      <th></th>\n",
       "      <th>_id</th>\n",
       "      <th>name</th>\n",
       "      <th>category_code</th>\n",
       "      <th>founded_year</th>\n",
       "      <th>total_money_raised</th>\n",
       "      <th>offices</th>\n",
       "    </tr>\n",
       "  </thead>\n",
       "  <tbody>\n",
       "    <tr>\n",
       "      <th>0</th>\n",
       "      <td>52cdef7c4bab8bd675297da0</td>\n",
       "      <td>Babelgum</td>\n",
       "      <td>games_video</td>\n",
       "      <td>2007.0</td>\n",
       "      <td>$13.2M</td>\n",
       "      <td>{'description': '', 'address1': '', 'address2'...</td>\n",
       "    </tr>\n",
       "    <tr>\n",
       "      <th>1</th>\n",
       "      <td>52cdef7c4bab8bd675297da6</td>\n",
       "      <td>SpinVox</td>\n",
       "      <td>messaging</td>\n",
       "      <td>NaN</td>\n",
       "      <td>$106M</td>\n",
       "      <td>{'description': 'Corporate Headquarters', 'add...</td>\n",
       "    </tr>\n",
       "    <tr>\n",
       "      <th>2</th>\n",
       "      <td>52cdef7c4bab8bd675297da8</td>\n",
       "      <td>OpenX</td>\n",
       "      <td>advertising</td>\n",
       "      <td>2008.0</td>\n",
       "      <td>$75.5M</td>\n",
       "      <td>{'description': 'Headquarters', 'address1': '8...</td>\n",
       "    </tr>\n",
       "  </tbody>\n",
       "</table>\n",
       "</div>"
      ],
      "text/plain": [
       "                        _id      name category_code  founded_year  \\\n",
       "0  52cdef7c4bab8bd675297da0  Babelgum   games_video        2007.0   \n",
       "1  52cdef7c4bab8bd675297da6   SpinVox     messaging           NaN   \n",
       "2  52cdef7c4bab8bd675297da8     OpenX   advertising        2008.0   \n",
       "\n",
       "  total_money_raised                                            offices  \n",
       "0             $13.2M  {'description': '', 'address1': '', 'address2'...  \n",
       "1              $106M  {'description': 'Corporate Headquarters', 'add...  \n",
       "2             $75.5M  {'description': 'Headquarters', 'address1': '8...  "
      ]
     },
     "execution_count": 60,
     "metadata": {},
     "output_type": "execute_result"
    }
   ],
   "source": [
    "print(office_df.shape)\n",
    "office_df.head(3)"
   ]
  },
  {
   "cell_type": "code",
   "execution_count": 61,
   "metadata": {},
   "outputs": [
    {
     "data": {
      "text/html": [
       "<div>\n",
       "<style scoped>\n",
       "    .dataframe tbody tr th:only-of-type {\n",
       "        vertical-align: middle;\n",
       "    }\n",
       "\n",
       "    .dataframe tbody tr th {\n",
       "        vertical-align: top;\n",
       "    }\n",
       "\n",
       "    .dataframe thead th {\n",
       "        text-align: right;\n",
       "    }\n",
       "</style>\n",
       "<table border=\"1\" class=\"dataframe\">\n",
       "  <thead>\n",
       "    <tr style=\"text-align: right;\">\n",
       "      <th></th>\n",
       "      <th>0</th>\n",
       "      <th>1</th>\n",
       "      <th>2</th>\n",
       "    </tr>\n",
       "  </thead>\n",
       "  <tbody>\n",
       "    <tr>\n",
       "      <th>0</th>\n",
       "      <td>GBR</td>\n",
       "      <td>London</td>\n",
       "      <td>{'type': 'Point', 'coordinates': [-6.267494, 5...</td>\n",
       "    </tr>\n",
       "    <tr>\n",
       "      <th>1</th>\n",
       "      <td>GBR</td>\n",
       "      <td>Buckinghamshire</td>\n",
       "      <td>None</td>\n",
       "    </tr>\n",
       "    <tr>\n",
       "      <th>2</th>\n",
       "      <td>USA</td>\n",
       "      <td>Pasadena</td>\n",
       "      <td>{'type': 'Point', 'coordinates': [-118.1327468...</td>\n",
       "    </tr>\n",
       "  </tbody>\n",
       "</table>\n",
       "</div>"
      ],
      "text/plain": [
       "     0                1                                                  2\n",
       "0  GBR           London  {'type': 'Point', 'coordinates': [-6.267494, 5...\n",
       "1  GBR  Buckinghamshire                                               None\n",
       "2  USA         Pasadena  {'type': 'Point', 'coordinates': [-118.1327468..."
      ]
     },
     "execution_count": 61,
     "metadata": {},
     "output_type": "execute_result"
    }
   ],
   "source": [
    "#Extract get geoJson format from column offices with the extract_loc function\n",
    "offices = office_df.apply(fn.extract_loc,axis=1, result_type=\"expand\")\n",
    "offices.head(3)"
   ]
  },
  {
   "cell_type": "code",
   "execution_count": 71,
   "metadata": {},
   "outputs": [
    {
     "name": "stdout",
     "output_type": "stream",
     "text": [
      "(611, 9)\n",
      "__id              object\n",
      "name              object\n",
      "category_code     object\n",
      "founded_year     float64\n",
      "raised            object\n",
      "offices           object\n",
      "country           object\n",
      "city              object\n",
      "location          object\n",
      "dtype: object\n"
     ]
    },
    {
     "data": {
      "text/html": [
       "<div>\n",
       "<style scoped>\n",
       "    .dataframe tbody tr th:only-of-type {\n",
       "        vertical-align: middle;\n",
       "    }\n",
       "\n",
       "    .dataframe tbody tr th {\n",
       "        vertical-align: top;\n",
       "    }\n",
       "\n",
       "    .dataframe thead th {\n",
       "        text-align: right;\n",
       "    }\n",
       "</style>\n",
       "<table border=\"1\" class=\"dataframe\">\n",
       "  <thead>\n",
       "    <tr style=\"text-align: right;\">\n",
       "      <th></th>\n",
       "      <th>__id</th>\n",
       "      <th>name</th>\n",
       "      <th>category_code</th>\n",
       "      <th>founded_year</th>\n",
       "      <th>raised</th>\n",
       "      <th>offices</th>\n",
       "      <th>country</th>\n",
       "      <th>city</th>\n",
       "      <th>location</th>\n",
       "    </tr>\n",
       "  </thead>\n",
       "  <tbody>\n",
       "    <tr>\n",
       "      <th>0</th>\n",
       "      <td>52cdef7c4bab8bd675297da0</td>\n",
       "      <td>Babelgum</td>\n",
       "      <td>games_video</td>\n",
       "      <td>2007.0</td>\n",
       "      <td>$13.2M</td>\n",
       "      <td>{'description': '', 'address1': '', 'address2'...</td>\n",
       "      <td>GBR</td>\n",
       "      <td>London</td>\n",
       "      <td>{'type': 'Point', 'coordinates': [-6.267494, 5...</td>\n",
       "    </tr>\n",
       "    <tr>\n",
       "      <th>4</th>\n",
       "      <td>52cdef7c4bab8bd675297dcc</td>\n",
       "      <td>AllPeers</td>\n",
       "      <td>web</td>\n",
       "      <td>2004.0</td>\n",
       "      <td>$0</td>\n",
       "      <td>{'description': None, 'address1': None, 'addre...</td>\n",
       "      <td>GBR</td>\n",
       "      <td>Oxford</td>\n",
       "      <td>{'type': 'Point', 'coordinates': [-1.255824, 5...</td>\n",
       "    </tr>\n",
       "    <tr>\n",
       "      <th>5</th>\n",
       "      <td>52cdef7c4bab8bd675297de9</td>\n",
       "      <td>Zamzar</td>\n",
       "      <td>web</td>\n",
       "      <td>2006.0</td>\n",
       "      <td>$0</td>\n",
       "      <td>{'description': '', 'address1': '', 'address2'...</td>\n",
       "      <td>GBR</td>\n",
       "      <td>Southampton</td>\n",
       "      <td>{'type': 'Point', 'coordinates': [-1.3610845, ...</td>\n",
       "    </tr>\n",
       "  </tbody>\n",
       "</table>\n",
       "</div>"
      ],
      "text/plain": [
       "                       __id      name category_code  founded_year  raised  \\\n",
       "0  52cdef7c4bab8bd675297da0  Babelgum   games_video        2007.0  $13.2M   \n",
       "4  52cdef7c4bab8bd675297dcc  AllPeers           web        2004.0      $0   \n",
       "5  52cdef7c4bab8bd675297de9    Zamzar           web        2006.0      $0   \n",
       "\n",
       "                                             offices country         city  \\\n",
       "0  {'description': '', 'address1': '', 'address2'...     GBR       London   \n",
       "4  {'description': None, 'address1': None, 'addre...     GBR       Oxford   \n",
       "5  {'description': '', 'address1': '', 'address2'...     GBR  Southampton   \n",
       "\n",
       "                                            location  \n",
       "0  {'type': 'Point', 'coordinates': [-6.267494, 5...  \n",
       "4  {'type': 'Point', 'coordinates': [-1.255824, 5...  \n",
       "5  {'type': 'Point', 'coordinates': [-1.3610845, ...  "
      ]
     },
     "execution_count": 71,
     "metadata": {},
     "output_type": "execute_result"
    }
   ],
   "source": [
    "#Append it to office_df\n",
    "offices_loc = pd.concat([office_df, offices], axis=1)\n",
    "offices_loc.columns = ['__id', 'name', 'category_code','founded_year',  'raised', 'offices','country', 'city', 'location']\n",
    "\n",
    "#Only offices in england\n",
    "offices_loc = offices_loc[offices_loc.country=='GBR']\n",
    "\n",
    "#Only offices with a valid lat long\n",
    "offices_loc = offices_loc[~offices_loc.location.isnull()]\n",
    "\n",
    "#Explore the result\n",
    "print(offices_loc.shape)\n",
    "print(offices_loc.dtypes)\n",
    "offices_loc.head(3)"
   ]
  },
  {
   "cell_type": "code",
   "execution_count": 72,
   "metadata": {},
   "outputs": [],
   "source": [
    "#Formatting the raised money column with the clean_raised function\n",
    "offices_loc['raised'] = offices_loc.raised.apply(fn.clean_raised)"
   ]
  },
  {
   "cell_type": "code",
   "execution_count": 73,
   "metadata": {},
   "outputs": [
    {
     "data": {
      "text/plain": [
       "{'type': 'Point', 'coordinates': [-2.250166, 53.473606]}"
      ]
     },
     "execution_count": 73,
     "metadata": {},
     "output_type": "execute_result"
    }
   ],
   "source": [
    "offices_loc=offices_loc[['name', 'founded_year', 'category_code', 'raised', 'city', 'location']].reset_index()\n",
    "offices_loc['location'][4]"
   ]
  },
  {
   "cell_type": "code",
   "execution_count": 74,
   "metadata": {},
   "outputs": [],
   "source": [
    "#Export to json:\n",
    "offices_loc.to_json(\"OUTPUT/offices_loc.json\",orient=\"records\")"
   ]
  },
  {
   "cell_type": "code",
   "execution_count": 75,
   "metadata": {
    "scrolled": true
   },
   "outputs": [
    {
     "name": "stdout",
     "output_type": "stream",
     "text": [
      "2020-04-20T12:00:33.456+0200\tconnected to: mongodb://localhost/\n",
      "2020-04-20T12:00:33.457+0200\tdropping: companies.offices_loc_england\n",
      "2020-04-20T12:00:33.816+0200\t611 document(s) imported successfully. 0 document(s) failed to import.\n"
     ]
    }
   ],
   "source": [
    "#Incorporating new collection to database and create geoloc index\n",
    "!mongoimport --db companies --collection offices_loc_england --drop --jsonArray OUTPUT/offices_loc.json\n"
   ]
  },
  {
   "cell_type": "code",
   "execution_count": 77,
   "metadata": {},
   "outputs": [
    {
     "data": {
      "text/plain": [
       "'location_2dsphere'"
      ]
     },
     "execution_count": 77,
     "metadata": {},
     "output_type": "execute_result"
    }
   ],
   "source": [
    "db.list_collection_names()\n",
    "#Create a GeoJson index for this collection\n",
    "db.offices_loc_england.create_index([(\"location\", '2dsphere')])"
   ]
  },
  {
   "cell_type": "code",
   "execution_count": 78,
   "metadata": {},
   "outputs": [
    {
     "data": {
      "text/plain": [
       "{'_id_': {'v': 2, 'key': [('_id', 1)], 'ns': 'companies.offices_loc_england'},\n",
       " 'location_2dsphere': {'v': 2,\n",
       "  'key': [('location', '2dsphere')],\n",
       "  'ns': 'companies.offices_loc_england',\n",
       "  '2dsphereIndexVersion': 3}}"
      ]
     },
     "execution_count": 78,
     "metadata": {},
     "output_type": "execute_result"
    }
   ],
   "source": [
    "#Make sure that I assigned a correct GeoJson index in Mongo compass\n",
    "db.offices_loc_england.index_information()"
   ]
  },
  {
   "cell_type": "markdown",
   "metadata": {},
   "source": [
    "## Filtering to accomodate developers: top notch companies (raised 1 mill dollars) nearby"
   ]
  },
  {
   "cell_type": "code",
   "execution_count": 79,
   "metadata": {},
   "outputs": [],
   "source": [
    "offices = list(db.offices_loc_england.find({}))"
   ]
  },
  {
   "cell_type": "code",
   "execution_count": 81,
   "metadata": {},
   "outputs": [
    {
     "data": {
      "text/plain": [
       "611"
      ]
     },
     "execution_count": 81,
     "metadata": {},
     "output_type": "execute_result"
    }
   ],
   "source": [
    "len(offices)"
   ]
  },
  {
   "cell_type": "code",
   "execution_count": 82,
   "metadata": {},
   "outputs": [],
   "source": [
    "#Check wich categories are available to filter out those I am not interested in.\n",
    "p = list(db.companies.find({},{'category_code':1}))\n",
    "category = set()\n",
    "for e in p:\n",
    "    category.add(e['category_code'])\n",
    "#category "
   ]
  },
  {
   "cell_type": "code",
   "execution_count": 83,
   "metadata": {},
   "outputs": [
    {
     "data": {
      "text/plain": [
       "404"
      ]
     },
     "execution_count": 83,
     "metadata": {},
     "output_type": "execute_result"
    }
   ],
   "source": [
    "#Filter for offices with tech companies that have raised more than 1 mill within 5km range\n",
    "new_offices = mf.near_filter(db.offices_loc_england, offices,mf.near_success_offices, 'pro_nearby')\n",
    "len(new_offices)"
   ]
  },
  {
   "cell_type": "markdown",
   "metadata": {},
   "source": [
    "## Second filter: travelling for executives\n"
   ]
  },
  {
   "cell_type": "code",
   "execution_count": 86,
   "metadata": {},
   "outputs": [],
   "source": [
    "#Get apiKey for google:\n",
    "apiKey = os.getenv(\"GOOGLE_API2\")"
   ]
  },
  {
   "cell_type": "code",
   "execution_count": 91,
   "metadata": {},
   "outputs": [],
   "source": [
    "##Offices that are within 20 kilometers from an international airport\n",
    "filtered_lst=[]\n",
    "for of in new_offices:\n",
    "    n_airport = len(gf.get_google(gf.get_latlong(of), radius=20000, typ ='airport',apiKey=apiKey, keyw='international'))\n",
    "    if n_airport > 0:\n",
    "        of['airp_nearby'] = n_airport \n",
    "        filtered_lst.append(of)"
   ]
  },
  {
   "cell_type": "code",
   "execution_count": 92,
   "metadata": {},
   "outputs": [
    {
     "data": {
      "text/plain": [
       "378"
      ]
     },
     "execution_count": 92,
     "metadata": {},
     "output_type": "execute_result"
    }
   ],
   "source": [
    "#Luckily most of our candidates are in London and Manchester, where travelling is easy\n",
    "len(filtered_lst)"
   ]
  },
  {
   "cell_type": "markdown",
   "metadata": {},
   "source": [
    "## Kindergartens and nurseries and primary schools"
   ]
  },
  {
   "cell_type": "code",
   "execution_count": null,
   "metadata": {},
   "outputs": [],
   "source": [
    "##Offices that are within 1 kilometers from a nursery or kindergarten. \n",
    "#This time we will be a bit more demanding and make the name include one of a series of words:\n",
    "kinder_lst = gf.school_kinder_filter(kinder_lst, ['kindergarten', 'nursery', 'primary'],'kinder', \n",
    "                                  radius=1000, typ='kindergarten', keyw='kindergarten', apiKey=apiKey)"
   ]
  },
  {
   "cell_type": "code",
   "execution_count": 98,
   "metadata": {},
   "outputs": [
    {
     "data": {
      "text/plain": [
       "199"
      ]
     },
     "execution_count": 98,
     "metadata": {},
     "output_type": "execute_result"
    }
   ],
   "source": [
    "len(kinder_lst)"
   ]
  },
  {
   "cell_type": "code",
   "execution_count": 112,
   "metadata": {},
   "outputs": [],
   "source": [
    "#For those with kids a bit older, let's make sure that they also have a primary school nearby\n",
    "school_lst = gf.school_kinder_filter(kinder_lst, ['school', 'primary'],'school', \n",
    "                                  radius=1000, typ='school', keyw='primary', apiKey=apiKey)"
   ]
  },
  {
   "cell_type": "code",
   "execution_count": 121,
   "metadata": {},
   "outputs": [
    {
     "data": {
      "text/plain": [
       "198"
      ]
     },
     "execution_count": 121,
     "metadata": {},
     "output_type": "execute_result"
    }
   ],
   "source": [
    "#It looks that kindergartens are way more limiting than primary schools\n",
    "len(school_lst)"
   ]
  },
  {
   "cell_type": "markdown",
   "metadata": {},
   "source": [
    "## Starbucks\n"
   ]
  },
  {
   "cell_type": "code",
   "execution_count": 114,
   "metadata": {},
   "outputs": [],
   "source": [
    "#The API from starbucks does not allow any email domain to register, \n",
    "# therefore, I will use actual store lat long from a kaggle dataset\n",
    "\n",
    "starbuck = pd.read_csv('INPUT/starbucks_stores.csv')\n",
    "#filtering to stores in england\n",
    "starbuck = starbuck[starbuck.Country=='GB']"
   ]
  },
  {
   "cell_type": "code",
   "execution_count": 115,
   "metadata": {},
   "outputs": [],
   "source": [
    "#Using the create_geojson function, I create a location geoJson in this df\n",
    "starbuck['location'] = starbuck.apply(mf.create_geojson, axis=1)"
   ]
  },
  {
   "cell_type": "code",
   "execution_count": 116,
   "metadata": {},
   "outputs": [],
   "source": [
    "#Drop the useless columns and export to a json\n",
    "starbucks = starbuck[['Store Name', 'City', 'location']]\n",
    "starbucks.to_json(\"OUTPUT/starbucks.json\",orient=\"records\")"
   ]
  },
  {
   "cell_type": "code",
   "execution_count": 117,
   "metadata": {},
   "outputs": [
    {
     "name": "stdout",
     "output_type": "stream",
     "text": [
      "2020-04-20T13:00:00.719+0200\tconnected to: mongodb://localhost/\n",
      "2020-04-20T13:00:00.720+0200\tdropping: companies.starbucks\n",
      "2020-04-20T13:00:01.089+0200\t901 document(s) imported successfully. 0 document(s) failed to import.\n"
     ]
    }
   ],
   "source": [
    "!mongoimport --db companies --collection starbucks --drop --jsonArray OUTPUT/starbucks.json"
   ]
  },
  {
   "cell_type": "code",
   "execution_count": 118,
   "metadata": {},
   "outputs": [
    {
     "data": {
      "text/plain": [
       "'location_2dsphere'"
      ]
     },
     "execution_count": 118,
     "metadata": {},
     "output_type": "execute_result"
    }
   ],
   "source": [
    "#CReate geoJson index\n",
    "db.starbucks.create_index([(\"location\", '2dsphere')])"
   ]
  },
  {
   "cell_type": "code",
   "execution_count": 126,
   "metadata": {},
   "outputs": [
    {
     "data": {
      "text/plain": [
       "{'_id_': {'v': 2, 'key': [('_id', 1)], 'ns': 'companies.starbucks'},\n",
       " 'location_2dsphere': {'v': 2,\n",
       "  'key': [('location', '2dsphere')],\n",
       "  'ns': 'companies.starbucks',\n",
       "  '2dsphereIndexVersion': 3}}"
      ]
     },
     "execution_count": 126,
     "metadata": {},
     "output_type": "execute_result"
    }
   ],
   "source": [
    "db.starbucks.index_information()"
   ]
  },
  {
   "cell_type": "code",
   "execution_count": 157,
   "metadata": {},
   "outputs": [
    {
     "name": "stderr",
     "output_type": "stream",
     "text": [
      "/home/david/.local/lib/python3.6/site-packages/ipykernel_launcher.py:3: DeprecationWarning: count is deprecated. Use Collection.count_documents instead.\n",
      "  This is separate from the ipykernel package so we can avoid doing imports until\n"
     ]
    }
   ],
   "source": [
    "#Filter the offices to those that within 200m from an starbucks\n",
    "\n",
    "starbucks_lst=[]\n",
    "for of in school_lst:\n",
    "    n_strbk = mf.near_starbuck(db.starbucks, of['location'], dist=200)\n",
    "    if n_strbk > 0:\n",
    "        of['starbucks'] = n_strbk \n",
    "        starbucks_lst.append(of)"
   ]
  },
  {
   "cell_type": "code",
   "execution_count": 158,
   "metadata": {},
   "outputs": [
    {
     "data": {
      "text/plain": [
       "22"
      ]
     },
     "execution_count": 158,
     "metadata": {},
     "output_type": "execute_result"
    }
   ],
   "source": [
    "len(starbucks_lst)"
   ]
  },
  {
   "cell_type": "markdown",
   "metadata": {},
   "source": [
    "## The vegan CEO"
   ]
  },
  {
   "cell_type": "code",
   "execution_count": 160,
   "metadata": {},
   "outputs": [],
   "source": [
    "#Make sure the CEO can get her vegan lunch\n",
    "ceo_lst = []\n",
    "for of in starbucks_lst:\n",
    "    n = len(gf.get_google(gf.get_latlong(of), radius=200, typ='restaurant', keyw='vegan', apiKey=apiKey))\n",
    "    if n > 0:\n",
    "        of['starbucks'] = n \n",
    "        ceo_lst.append(of)"
   ]
  },
  {
   "cell_type": "code",
   "execution_count": 161,
   "metadata": {},
   "outputs": [
    {
     "data": {
      "text/plain": [
       "20"
      ]
     },
     "execution_count": 161,
     "metadata": {},
     "output_type": "execute_result"
    }
   ],
   "source": [
    "len(ceo_lst)"
   ]
  },
  {
   "cell_type": "markdown",
   "metadata": {},
   "source": [
    "## Friday disco party\n"
   ]
  },
  {
   "cell_type": "code",
   "execution_count": 165,
   "metadata": {},
   "outputs": [],
   "source": [
    "#Places with night life within 300m\n",
    "final = []\n",
    "for of in ceo_lst:\n",
    "    n = len(gf.get_google(gf.get_latlong(of), radius=300, typ='bar', keyw='night-club', apiKey=apiKey))\n",
    "    if n > 0:\n",
    "        of['disco'] = n \n",
    "        final.append(of)"
   ]
  },
  {
   "cell_type": "code",
   "execution_count": 166,
   "metadata": {},
   "outputs": [
    {
     "data": {
      "text/plain": [
       "19"
      ]
     },
     "execution_count": 166,
     "metadata": {},
     "output_type": "execute_result"
    }
   ],
   "source": [
    "len(final)"
   ]
  },
  {
   "cell_type": "markdown",
   "metadata": {},
   "source": [
    "**We are left with a total of 19 candidates for the location of our new office**"
   ]
  },
  {
   "cell_type": "code",
   "execution_count": 168,
   "metadata": {},
   "outputs": [
    {
     "data": {
      "text/html": [
       "<div>\n",
       "<style scoped>\n",
       "    .dataframe tbody tr th:only-of-type {\n",
       "        vertical-align: middle;\n",
       "    }\n",
       "\n",
       "    .dataframe tbody tr th {\n",
       "        vertical-align: top;\n",
       "    }\n",
       "\n",
       "    .dataframe thead th {\n",
       "        text-align: right;\n",
       "    }\n",
       "</style>\n",
       "<table border=\"1\" class=\"dataframe\">\n",
       "  <thead>\n",
       "    <tr style=\"text-align: right;\">\n",
       "      <th></th>\n",
       "      <th>level_0</th>\n",
       "      <th>index</th>\n",
       "      <th>name</th>\n",
       "      <th>founded_year</th>\n",
       "      <th>category_code</th>\n",
       "      <th>raised</th>\n",
       "      <th>city</th>\n",
       "      <th>location</th>\n",
       "      <th>pro_nearby</th>\n",
       "      <th>airp_nearby</th>\n",
       "      <th>kinder</th>\n",
       "      <th>school</th>\n",
       "      <th>starbucks</th>\n",
       "      <th>disco</th>\n",
       "    </tr>\n",
       "  </thead>\n",
       "  <tbody>\n",
       "    <tr>\n",
       "      <th>0</th>\n",
       "      <td>6</td>\n",
       "      <td>397</td>\n",
       "      <td>Big Property Ladder</td>\n",
       "      <td>1995.0</td>\n",
       "      <td>other</td>\n",
       "      <td>0.000</td>\n",
       "      <td>London.</td>\n",
       "      <td>{'type': 'Point', 'coordinates': [-0.1392765, ...</td>\n",
       "      <td>37</td>\n",
       "      <td>7</td>\n",
       "      <td>1</td>\n",
       "      <td>6</td>\n",
       "      <td>7</td>\n",
       "      <td>19</td>\n",
       "    </tr>\n",
       "    <tr>\n",
       "      <th>1</th>\n",
       "      <td>10</td>\n",
       "      <td>785</td>\n",
       "      <td>Quick TV</td>\n",
       "      <td>2007.0</td>\n",
       "      <td>enterprise</td>\n",
       "      <td>3.613</td>\n",
       "      <td>London</td>\n",
       "      <td>{'type': 'Point', 'coordinates': [-0.1392765, ...</td>\n",
       "      <td>37</td>\n",
       "      <td>7</td>\n",
       "      <td>1</td>\n",
       "      <td>6</td>\n",
       "      <td>7</td>\n",
       "      <td>19</td>\n",
       "    </tr>\n",
       "    <tr>\n",
       "      <th>2</th>\n",
       "      <td>15</td>\n",
       "      <td>1070</td>\n",
       "      <td>Eglue Business Technologies</td>\n",
       "      <td>2001.0</td>\n",
       "      <td>software</td>\n",
       "      <td>27.000</td>\n",
       "      <td>London</td>\n",
       "      <td>{'type': 'Point', 'coordinates': [-0.1392765, ...</td>\n",
       "      <td>37</td>\n",
       "      <td>7</td>\n",
       "      <td>1</td>\n",
       "      <td>6</td>\n",
       "      <td>7</td>\n",
       "      <td>19</td>\n",
       "    </tr>\n",
       "    <tr>\n",
       "      <th>3</th>\n",
       "      <td>8</td>\n",
       "      <td>576</td>\n",
       "      <td>litl</td>\n",
       "      <td>2007.0</td>\n",
       "      <td>hardware</td>\n",
       "      <td>0.000</td>\n",
       "      <td>London</td>\n",
       "      <td>{'type': 'Point', 'coordinates': [-0.139244, 5...</td>\n",
       "      <td>37</td>\n",
       "      <td>7</td>\n",
       "      <td>1</td>\n",
       "      <td>6</td>\n",
       "      <td>7</td>\n",
       "      <td>18</td>\n",
       "    </tr>\n",
       "    <tr>\n",
       "      <th>4</th>\n",
       "      <td>9</td>\n",
       "      <td>590</td>\n",
       "      <td>Box UK</td>\n",
       "      <td>1998.0</td>\n",
       "      <td>software</td>\n",
       "      <td>0.000</td>\n",
       "      <td>London</td>\n",
       "      <td>{'type': 'Point', 'coordinates': [-0.1392447, ...</td>\n",
       "      <td>37</td>\n",
       "      <td>7</td>\n",
       "      <td>1</td>\n",
       "      <td>6</td>\n",
       "      <td>7</td>\n",
       "      <td>18</td>\n",
       "    </tr>\n",
       "  </tbody>\n",
       "</table>\n",
       "</div>"
      ],
      "text/plain": [
       "   level_0  index                         name  founded_year category_code  \\\n",
       "0        6    397          Big Property Ladder        1995.0         other   \n",
       "1       10    785                     Quick TV        2007.0    enterprise   \n",
       "2       15   1070  Eglue Business Technologies        2001.0      software   \n",
       "3        8    576                         litl        2007.0      hardware   \n",
       "4        9    590                       Box UK        1998.0      software   \n",
       "\n",
       "   raised     city                                           location  \\\n",
       "0   0.000  London.  {'type': 'Point', 'coordinates': [-0.1392765, ...   \n",
       "1   3.613   London  {'type': 'Point', 'coordinates': [-0.1392765, ...   \n",
       "2  27.000   London  {'type': 'Point', 'coordinates': [-0.1392765, ...   \n",
       "3   0.000   London  {'type': 'Point', 'coordinates': [-0.139244, 5...   \n",
       "4   0.000   London  {'type': 'Point', 'coordinates': [-0.1392447, ...   \n",
       "\n",
       "   pro_nearby  airp_nearby  kinder  school  starbucks  disco  \n",
       "0          37            7       1       6          7     19  \n",
       "1          37            7       1       6          7     19  \n",
       "2          37            7       1       6          7     19  \n",
       "3          37            7       1       6          7     18  \n",
       "4          37            7       1       6          7     18  "
      ]
     },
     "execution_count": 168,
     "metadata": {},
     "output_type": "execute_result"
    }
   ],
   "source": [
    "#Now we can sort the values according our findings following the priorities\n",
    "final_df = pd.DataFrame(final)\n",
    "final_df=final_df.drop('_id', axis=1)\n",
    "final_df = final_df.sort_values(by=['pro_nearby', \n",
    "                                    'airp_nearby', 'kinder',\n",
    "                                    'school', 'starbucks','disco'], ascending=False).reset_index()\n",
    "final_df.head()\n"
   ]
  },
  {
   "cell_type": "code",
   "execution_count": 169,
   "metadata": {},
   "outputs": [],
   "source": [
    "final_df.to_json(\"OUTPUT/final.json\",orient=\"records\")"
   ]
  },
  {
   "cell_type": "markdown",
   "metadata": {},
   "source": [
    "## Visualizing"
   ]
  },
  {
   "cell_type": "code",
   "execution_count": 210,
   "metadata": {},
   "outputs": [
    {
     "data": {
      "text/plain": [
       "[-0.1392765, 51.5115309]"
      ]
     },
     "execution_count": 210,
     "metadata": {},
     "output_type": "execute_result"
    }
   ],
   "source": [
    "final_df.location[0]['coordinates']"
   ]
  },
  {
   "cell_type": "code",
   "execution_count": 219,
   "metadata": {},
   "outputs": [
    {
     "data": {
      "text/html": [
       "<div style=\"width:100%;\"><div style=\"position:relative;width:100%;height:0;padding-bottom:60%;\"><iframe src=\"about:blank\" style=\"position:absolute;width:100%;height:100%;left:0;top:0;border:none !important;\" data-html=PCFET0NUWVBFIGh0bWw+CjxoZWFkPiAgICAKICAgIDxtZXRhIGh0dHAtZXF1aXY9ImNvbnRlbnQtdHlwZSIgY29udGVudD0idGV4dC9odG1sOyBjaGFyc2V0PVVURi04IiAvPgogICAgCiAgICAgICAgPHNjcmlwdD4KICAgICAgICAgICAgTF9OT19UT1VDSCA9IGZhbHNlOwogICAgICAgICAgICBMX0RJU0FCTEVfM0QgPSBmYWxzZTsKICAgICAgICA8L3NjcmlwdD4KICAgIAogICAgPHNjcmlwdCBzcmM9Imh0dHBzOi8vY2RuLmpzZGVsaXZyLm5ldC9ucG0vbGVhZmxldEAxLjUuMS9kaXN0L2xlYWZsZXQuanMiPjwvc2NyaXB0PgogICAgPHNjcmlwdCBzcmM9Imh0dHBzOi8vY29kZS5qcXVlcnkuY29tL2pxdWVyeS0xLjEyLjQubWluLmpzIj48L3NjcmlwdD4KICAgIDxzY3JpcHQgc3JjPSJodHRwczovL21heGNkbi5ib290c3RyYXBjZG4uY29tL2Jvb3RzdHJhcC8zLjIuMC9qcy9ib290c3RyYXAubWluLmpzIj48L3NjcmlwdD4KICAgIDxzY3JpcHQgc3JjPSJodHRwczovL2NkbmpzLmNsb3VkZmxhcmUuY29tL2FqYXgvbGlicy9MZWFmbGV0LmF3ZXNvbWUtbWFya2Vycy8yLjAuMi9sZWFmbGV0LmF3ZXNvbWUtbWFya2Vycy5qcyI+PC9zY3JpcHQ+CiAgICA8bGluayByZWw9InN0eWxlc2hlZXQiIGhyZWY9Imh0dHBzOi8vY2RuLmpzZGVsaXZyLm5ldC9ucG0vbGVhZmxldEAxLjUuMS9kaXN0L2xlYWZsZXQuY3NzIi8+CiAgICA8bGluayByZWw9InN0eWxlc2hlZXQiIGhyZWY9Imh0dHBzOi8vbWF4Y2RuLmJvb3RzdHJhcGNkbi5jb20vYm9vdHN0cmFwLzMuMi4wL2Nzcy9ib290c3RyYXAubWluLmNzcyIvPgogICAgPGxpbmsgcmVsPSJzdHlsZXNoZWV0IiBocmVmPSJodHRwczovL21heGNkbi5ib290c3RyYXBjZG4uY29tL2Jvb3RzdHJhcC8zLjIuMC9jc3MvYm9vdHN0cmFwLXRoZW1lLm1pbi5jc3MiLz4KICAgIDxsaW5rIHJlbD0ic3R5bGVzaGVldCIgaHJlZj0iaHR0cHM6Ly9tYXhjZG4uYm9vdHN0cmFwY2RuLmNvbS9mb250LWF3ZXNvbWUvNC42LjMvY3NzL2ZvbnQtYXdlc29tZS5taW4uY3NzIi8+CiAgICA8bGluayByZWw9InN0eWxlc2hlZXQiIGhyZWY9Imh0dHBzOi8vY2RuanMuY2xvdWRmbGFyZS5jb20vYWpheC9saWJzL0xlYWZsZXQuYXdlc29tZS1tYXJrZXJzLzIuMC4yL2xlYWZsZXQuYXdlc29tZS1tYXJrZXJzLmNzcyIvPgogICAgPGxpbmsgcmVsPSJzdHlsZXNoZWV0IiBocmVmPSJodHRwczovL3Jhd2Nkbi5naXRoYWNrLmNvbS9weXRob24tdmlzdWFsaXphdGlvbi9mb2xpdW0vbWFzdGVyL2ZvbGl1bS90ZW1wbGF0ZXMvbGVhZmxldC5hd2Vzb21lLnJvdGF0ZS5jc3MiLz4KICAgIDxzdHlsZT5odG1sLCBib2R5IHt3aWR0aDogMTAwJTtoZWlnaHQ6IDEwMCU7bWFyZ2luOiAwO3BhZGRpbmc6IDA7fTwvc3R5bGU+CiAgICA8c3R5bGU+I21hcCB7cG9zaXRpb246YWJzb2x1dGU7dG9wOjA7Ym90dG9tOjA7cmlnaHQ6MDtsZWZ0OjA7fTwvc3R5bGU+CiAgICAKICAgICAgICAgICAgPG1ldGEgbmFtZT0idmlld3BvcnQiIGNvbnRlbnQ9IndpZHRoPWRldmljZS13aWR0aCwKICAgICAgICAgICAgICAgIGluaXRpYWwtc2NhbGU9MS4wLCBtYXhpbXVtLXNjYWxlPTEuMCwgdXNlci1zY2FsYWJsZT1ubyIgLz4KICAgICAgICAgICAgPHN0eWxlPgogICAgICAgICAgICAgICAgI21hcF9iNjQ0MmU4NjBlMDg0NTc0ODY2ZDVlYTMxOGYyZGE3NyB7CiAgICAgICAgICAgICAgICAgICAgcG9zaXRpb246IHJlbGF0aXZlOwogICAgICAgICAgICAgICAgICAgIHdpZHRoOiAxMDAuMCU7CiAgICAgICAgICAgICAgICAgICAgaGVpZ2h0OiAxMDAuMCU7CiAgICAgICAgICAgICAgICAgICAgbGVmdDogMC4wJTsKICAgICAgICAgICAgICAgICAgICB0b3A6IDAuMCU7CiAgICAgICAgICAgICAgICB9CiAgICAgICAgICAgIDwvc3R5bGU+CiAgICAgICAgCjwvaGVhZD4KPGJvZHk+ICAgIAogICAgCiAgICAgICAgICAgIDxkaXYgY2xhc3M9ImZvbGl1bS1tYXAiIGlkPSJtYXBfYjY0NDJlODYwZTA4NDU3NDg2NmQ1ZWEzMThmMmRhNzciID48L2Rpdj4KICAgICAgICAKPC9ib2R5Pgo8c2NyaXB0PiAgICAKICAgIAogICAgICAgICAgICB2YXIgbWFwX2I2NDQyZTg2MGUwODQ1NzQ4NjZkNWVhMzE4ZjJkYTc3ID0gTC5tYXAoCiAgICAgICAgICAgICAgICAibWFwX2I2NDQyZTg2MGUwODQ1NzQ4NjZkNWVhMzE4ZjJkYTc3IiwKICAgICAgICAgICAgICAgIHsKICAgICAgICAgICAgICAgICAgICBjZW50ZXI6IFs1MS41MjA3NzksIC0wLjEwNzU5XSwKICAgICAgICAgICAgICAgICAgICBjcnM6IEwuQ1JTLkVQU0czODU3LAogICAgICAgICAgICAgICAgICAgIHpvb206IDEzLAogICAgICAgICAgICAgICAgICAgIHpvb21Db250cm9sOiB0cnVlLAogICAgICAgICAgICAgICAgICAgIHByZWZlckNhbnZhczogZmFsc2UsCiAgICAgICAgICAgICAgICB9CiAgICAgICAgICAgICk7CgogICAgICAgICAgICAKCiAgICAgICAgCiAgICAKICAgICAgICAgICAgdmFyIHRpbGVfbGF5ZXJfNTU2Y2YwNWJkZjJkNGMyODliZTMyZmQ2N2FjMTNjNmIgPSBMLnRpbGVMYXllcigKICAgICAgICAgICAgICAgICJodHRwczovL3tzfS50aWxlLm9wZW5zdHJlZXRtYXAub3JnL3t6fS97eH0ve3l9LnBuZyIsCiAgICAgICAgICAgICAgICB7ImF0dHJpYnV0aW9uIjogIkRhdGEgYnkgXHUwMDI2Y29weTsgXHUwMDNjYSBocmVmPVwiaHR0cDovL29wZW5zdHJlZXRtYXAub3JnXCJcdTAwM2VPcGVuU3RyZWV0TWFwXHUwMDNjL2FcdTAwM2UsIHVuZGVyIFx1MDAzY2EgaHJlZj1cImh0dHA6Ly93d3cub3BlbnN0cmVldG1hcC5vcmcvY29weXJpZ2h0XCJcdTAwM2VPRGJMXHUwMDNjL2FcdTAwM2UuIiwgImRldGVjdFJldGluYSI6IGZhbHNlLCAibWF4TmF0aXZlWm9vbSI6IDE4LCAibWF4Wm9vbSI6IDE4LCAibWluWm9vbSI6IDAsICJub1dyYXAiOiBmYWxzZSwgIm9wYWNpdHkiOiAxLCAic3ViZG9tYWlucyI6ICJhYmMiLCAidG1zIjogZmFsc2V9CiAgICAgICAgICAgICkuYWRkVG8obWFwX2I2NDQyZTg2MGUwODQ1NzQ4NjZkNWVhMzE4ZjJkYTc3KTsKICAgICAgICAKICAgIAogICAgICAgICAgICB2YXIgbWFya2VyXzllN2E3OGFiNzJhOTRiYzNiZjc4MjJhN2IwYjQ3YjliID0gTC5tYXJrZXIoCiAgICAgICAgICAgICAgICBbNTEuNTExNTMwOSwgLTAuMTM5Mjc2NV0sCiAgICAgICAgICAgICAgICB7fQogICAgICAgICAgICApLmFkZFRvKG1hcF9iNjQ0MmU4NjBlMDg0NTc0ODY2ZDVlYTMxOGYyZGE3Nyk7CiAgICAgICAgCiAgICAKICAgICAgICAgICAgdmFyIGljb25fZjIzMmM0YTRlNmU2NGNhNjliODFlZmVmOGVkNWI5Y2QgPSBMLkF3ZXNvbWVNYXJrZXJzLmljb24oCiAgICAgICAgICAgICAgICB7ImV4dHJhQ2xhc3NlcyI6ICJmYS1yb3RhdGUtMCIsICJpY29uIjogImluZm8tc2lnbiIsICJpY29uQ29sb3IiOiAid2hpdGUiLCAibWFya2VyQ29sb3IiOiAiZ3JlZW4iLCAicHJlZml4IjogImdseXBoaWNvbiJ9CiAgICAgICAgICAgICk7CiAgICAgICAgICAgIG1hcmtlcl85ZTdhNzhhYjcyYTk0YmMzYmY3ODIyYTdiMGI0N2I5Yi5zZXRJY29uKGljb25fZjIzMmM0YTRlNmU2NGNhNjliODFlZmVmOGVkNWI5Y2QpOwogICAgICAgIAogICAgCiAgICAgICAgdmFyIHBvcHVwX2QxYmE0MzVjNDEwMTQ5ZDM5MTU2OTIyZTRkYjQwZjliID0gTC5wb3B1cCh7Im1heFdpZHRoIjogIjEwMCUifSk7CgogICAgICAgIAogICAgICAgICAgICB2YXIgaHRtbF81OWM5ZWQ4YzgzZGE0ZjJiYmJlNWYyYzM1ZGMxZjk4ZiA9ICQoYDxkaXYgaWQ9Imh0bWxfNTljOWVkOGM4M2RhNGYyYmJiZTVmMmMzNWRjMWY5OGYiIHN0eWxlPSJ3aWR0aDogMTAwLjAlOyBoZWlnaHQ6IDEwMC4wJTsiPiAgICAgPHN0cm9uZz4gUmFua2luZyA6ICMwPC9zdHJvbmc+ICAgICA8cD4gICAgIFByb19jb21wYW5pZXM6MzcsICAgICBhaXJwb3J0czo3LCAgICAga2luZGVyOjEsICAgICBzY2hvb2xzOjYsICAgICBzdGFyYnVja3M6NywgICAgIGRpc2NvczoxOSAgICAgPC9wPiAgICAgPC9kaXY+YClbMF07CiAgICAgICAgICAgIHBvcHVwX2QxYmE0MzVjNDEwMTQ5ZDM5MTU2OTIyZTRkYjQwZjliLnNldENvbnRlbnQoaHRtbF81OWM5ZWQ4YzgzZGE0ZjJiYmJlNWYyYzM1ZGMxZjk4Zik7CiAgICAgICAgCgogICAgICAgIG1hcmtlcl85ZTdhNzhhYjcyYTk0YmMzYmY3ODIyYTdiMGI0N2I5Yi5iaW5kUG9wdXAocG9wdXBfZDFiYTQzNWM0MTAxNDlkMzkxNTY5MjJlNGRiNDBmOWIpCiAgICAgICAgOwoKICAgICAgICAKICAgIAogICAgCiAgICAgICAgICAgIG1hcmtlcl85ZTdhNzhhYjcyYTk0YmMzYmY3ODIyYTdiMGI0N2I5Yi5iaW5kVG9vbHRpcCgKICAgICAgICAgICAgICAgIGA8ZGl2PgogICAgICAgICAgICAgICAgICAgICBDbGljayBtZSEKICAgICAgICAgICAgICAgICA8L2Rpdj5gLAogICAgICAgICAgICAgICAgeyJzdGlja3kiOiB0cnVlfQogICAgICAgICAgICApOwogICAgICAgIAogICAgCiAgICAgICAgICAgIHZhciBtYXJrZXJfZTcxZDFhZWViMzA2NGY0NWEyYzQyNDZlNjVkMmVlMTMgPSBMLm1hcmtlcigKICAgICAgICAgICAgICAgIFs1MS41MTE1MzA5LCAtMC4xMzkyNzY1XSwKICAgICAgICAgICAgICAgIHt9CiAgICAgICAgICAgICkuYWRkVG8obWFwX2I2NDQyZTg2MGUwODQ1NzQ4NjZkNWVhMzE4ZjJkYTc3KTsKICAgICAgICAKICAgIAogICAgICAgICAgICB2YXIgaWNvbl85ZGJiMDdlYTk5NTI0NTE2OTU1YmI3OTgwNzRjMzI2MSA9IEwuQXdlc29tZU1hcmtlcnMuaWNvbigKICAgICAgICAgICAgICAgIHsiZXh0cmFDbGFzc2VzIjogImZhLXJvdGF0ZS0wIiwgImljb24iOiAiaW5mby1zaWduIiwgImljb25Db2xvciI6ICJ3aGl0ZSIsICJtYXJrZXJDb2xvciI6ICJncmVlbiIsICJwcmVmaXgiOiAiZ2x5cGhpY29uIn0KICAgICAgICAgICAgKTsKICAgICAgICAgICAgbWFya2VyX2U3MWQxYWVlYjMwNjRmNDVhMmM0MjQ2ZTY1ZDJlZTEzLnNldEljb24oaWNvbl85ZGJiMDdlYTk5NTI0NTE2OTU1YmI3OTgwNzRjMzI2MSk7CiAgICAgICAgCiAgICAKICAgICAgICB2YXIgcG9wdXBfMDY5MDcyOGY4MDkwNDg4OGE5ODQ4Y2M5M2ZjNzZkYTkgPSBMLnBvcHVwKHsibWF4V2lkdGgiOiAiMTAwJSJ9KTsKCiAgICAgICAgCiAgICAgICAgICAgIHZhciBodG1sX2M2MjgwMjc1ZjE2MTQyMzhiNWVjMDY4YmVhMDZiYjg2ID0gJChgPGRpdiBpZD0iaHRtbF9jNjI4MDI3NWYxNjE0MjM4YjVlYzA2OGJlYTA2YmI4NiIgc3R5bGU9IndpZHRoOiAxMDAuMCU7IGhlaWdodDogMTAwLjAlOyI+ICAgICA8c3Ryb25nPiBSYW5raW5nIDogIzE8L3N0cm9uZz4gICAgIDxwPiAgICAgUHJvX2NvbXBhbmllczozNywgICAgIGFpcnBvcnRzOjcsICAgICBraW5kZXI6MSwgICAgIHNjaG9vbHM6NiwgICAgIHN0YXJidWNrczo3LCAgICAgZGlzY29zOjE5ICAgICA8L3A+ICAgICA8L2Rpdj5gKVswXTsKICAgICAgICAgICAgcG9wdXBfMDY5MDcyOGY4MDkwNDg4OGE5ODQ4Y2M5M2ZjNzZkYTkuc2V0Q29udGVudChodG1sX2M2MjgwMjc1ZjE2MTQyMzhiNWVjMDY4YmVhMDZiYjg2KTsKICAgICAgICAKCiAgICAgICAgbWFya2VyX2U3MWQxYWVlYjMwNjRmNDVhMmM0MjQ2ZTY1ZDJlZTEzLmJpbmRQb3B1cChwb3B1cF8wNjkwNzI4ZjgwOTA0ODg4YTk4NDhjYzkzZmM3NmRhOSkKICAgICAgICA7CgogICAgICAgIAogICAgCiAgICAKICAgICAgICAgICAgbWFya2VyX2U3MWQxYWVlYjMwNjRmNDVhMmM0MjQ2ZTY1ZDJlZTEzLmJpbmRUb29sdGlwKAogICAgICAgICAgICAgICAgYDxkaXY+CiAgICAgICAgICAgICAgICAgICAgIENsaWNrIG1lIQogICAgICAgICAgICAgICAgIDwvZGl2PmAsCiAgICAgICAgICAgICAgICB7InN0aWNreSI6IHRydWV9CiAgICAgICAgICAgICk7CiAgICAgICAgCiAgICAKICAgICAgICAgICAgdmFyIG1hcmtlcl81OTQ0Njk3ZGQ4Yjc0MWNmOWZmYmNjMTZkY2VkYzhhYSA9IEwubWFya2VyKAogICAgICAgICAgICAgICAgWzUxLjUxMTUzMDksIC0wLjEzOTI3NjVdLAogICAgICAgICAgICAgICAge30KICAgICAgICAgICAgKS5hZGRUbyhtYXBfYjY0NDJlODYwZTA4NDU3NDg2NmQ1ZWEzMThmMmRhNzcpOwogICAgICAgIAogICAgCiAgICAgICAgICAgIHZhciBpY29uXzM5YzVmMzY0N2FiYjRhNzI4MmZlMjhkMmQ0ZGFkZDRmID0gTC5Bd2Vzb21lTWFya2Vycy5pY29uKAogICAgICAgICAgICAgICAgeyJleHRyYUNsYXNzZXMiOiAiZmEtcm90YXRlLTAiLCAiaWNvbiI6ICJpbmZvLXNpZ24iLCAiaWNvbkNvbG9yIjogIndoaXRlIiwgIm1hcmtlckNvbG9yIjogImdyZWVuIiwgInByZWZpeCI6ICJnbHlwaGljb24ifQogICAgICAgICAgICApOwogICAgICAgICAgICBtYXJrZXJfNTk0NDY5N2RkOGI3NDFjZjlmZmJjYzE2ZGNlZGM4YWEuc2V0SWNvbihpY29uXzM5YzVmMzY0N2FiYjRhNzI4MmZlMjhkMmQ0ZGFkZDRmKTsKICAgICAgICAKICAgIAogICAgICAgIHZhciBwb3B1cF9mNjM3ZDVkMmNlMzU0ZWE2ODkwMDU1MzExYTZmMWFjNSA9IEwucG9wdXAoeyJtYXhXaWR0aCI6ICIxMDAlIn0pOwoKICAgICAgICAKICAgICAgICAgICAgdmFyIGh0bWxfZjc3MGUxMzc0NDg4NDE3ZmI2YTU4NzVjNjRlYmU3NTYgPSAkKGA8ZGl2IGlkPSJodG1sX2Y3NzBlMTM3NDQ4ODQxN2ZiNmE1ODc1YzY0ZWJlNzU2IiBzdHlsZT0id2lkdGg6IDEwMC4wJTsgaGVpZ2h0OiAxMDAuMCU7Ij4gICAgIDxzdHJvbmc+IFJhbmtpbmcgOiAjMjwvc3Ryb25nPiAgICAgPHA+ICAgICBQcm9fY29tcGFuaWVzOjM3LCAgICAgYWlycG9ydHM6NywgICAgIGtpbmRlcjoxLCAgICAgc2Nob29sczo2LCAgICAgc3RhcmJ1Y2tzOjcsICAgICBkaXNjb3M6MTkgICAgIDwvcD4gICAgIDwvZGl2PmApWzBdOwogICAgICAgICAgICBwb3B1cF9mNjM3ZDVkMmNlMzU0ZWE2ODkwMDU1MzExYTZmMWFjNS5zZXRDb250ZW50KGh0bWxfZjc3MGUxMzc0NDg4NDE3ZmI2YTU4NzVjNjRlYmU3NTYpOwogICAgICAgIAoKICAgICAgICBtYXJrZXJfNTk0NDY5N2RkOGI3NDFjZjlmZmJjYzE2ZGNlZGM4YWEuYmluZFBvcHVwKHBvcHVwX2Y2MzdkNWQyY2UzNTRlYTY4OTAwNTUzMTFhNmYxYWM1KQogICAgICAgIDsKCiAgICAgICAgCiAgICAKICAgIAogICAgICAgICAgICBtYXJrZXJfNTk0NDY5N2RkOGI3NDFjZjlmZmJjYzE2ZGNlZGM4YWEuYmluZFRvb2x0aXAoCiAgICAgICAgICAgICAgICBgPGRpdj4KICAgICAgICAgICAgICAgICAgICAgQ2xpY2sgbWUhCiAgICAgICAgICAgICAgICAgPC9kaXY+YCwKICAgICAgICAgICAgICAgIHsic3RpY2t5IjogdHJ1ZX0KICAgICAgICAgICAgKTsKICAgICAgICAKICAgIAogICAgICAgICAgICB2YXIgbWFya2VyXzhiNDQ1MTgyODQ5NTRkYWY5OWRmZWFiZWVkMWQ5YTRlID0gTC5tYXJrZXIoCiAgICAgICAgICAgICAgICBbNTEuNTExNDk0LCAtMC4xMzkyNDRdLAogICAgICAgICAgICAgICAge30KICAgICAgICAgICAgKS5hZGRUbyhtYXBfYjY0NDJlODYwZTA4NDU3NDg2NmQ1ZWEzMThmMmRhNzcpOwogICAgICAgIAogICAgCiAgICAgICAgICAgIHZhciBpY29uX2YwM2Y5OWQzNGU2ODQwM2Q4YThmNzk2NzZlMzA5MTE1ID0gTC5Bd2Vzb21lTWFya2Vycy5pY29uKAogICAgICAgICAgICAgICAgeyJleHRyYUNsYXNzZXMiOiAiZmEtcm90YXRlLTAiLCAiaWNvbiI6ICJpbmZvLXNpZ24iLCAiaWNvbkNvbG9yIjogIndoaXRlIiwgIm1hcmtlckNvbG9yIjogImdyZWVuIiwgInByZWZpeCI6ICJnbHlwaGljb24ifQogICAgICAgICAgICApOwogICAgICAgICAgICBtYXJrZXJfOGI0NDUxODI4NDk1NGRhZjk5ZGZlYWJlZWQxZDlhNGUuc2V0SWNvbihpY29uX2YwM2Y5OWQzNGU2ODQwM2Q4YThmNzk2NzZlMzA5MTE1KTsKICAgICAgICAKICAgIAogICAgICAgIHZhciBwb3B1cF8xZjQ5ZmMzMzQ2YTA0YjA3YjFkZDM3NzMzYWE3YTE2OCA9IEwucG9wdXAoeyJtYXhXaWR0aCI6ICIxMDAlIn0pOwoKICAgICAgICAKICAgICAgICAgICAgdmFyIGh0bWxfNGI1MWU4ZTU4MTM5NDE4NDlhZmExZTc0ZjdlMTc4ZGYgPSAkKGA8ZGl2IGlkPSJodG1sXzRiNTFlOGU1ODEzOTQxODQ5YWZhMWU3NGY3ZTE3OGRmIiBzdHlsZT0id2lkdGg6IDEwMC4wJTsgaGVpZ2h0OiAxMDAuMCU7Ij4gICAgIDxzdHJvbmc+IFJhbmtpbmcgOiAjMzwvc3Ryb25nPiAgICAgPHA+ICAgICBQcm9fY29tcGFuaWVzOjM3LCAgICAgYWlycG9ydHM6NywgICAgIGtpbmRlcjoxLCAgICAgc2Nob29sczo2LCAgICAgc3RhcmJ1Y2tzOjcsICAgICBkaXNjb3M6MTggICAgIDwvcD4gICAgIDwvZGl2PmApWzBdOwogICAgICAgICAgICBwb3B1cF8xZjQ5ZmMzMzQ2YTA0YjA3YjFkZDM3NzMzYWE3YTE2OC5zZXRDb250ZW50KGh0bWxfNGI1MWU4ZTU4MTM5NDE4NDlhZmExZTc0ZjdlMTc4ZGYpOwogICAgICAgIAoKICAgICAgICBtYXJrZXJfOGI0NDUxODI4NDk1NGRhZjk5ZGZlYWJlZWQxZDlhNGUuYmluZFBvcHVwKHBvcHVwXzFmNDlmYzMzNDZhMDRiMDdiMWRkMzc3MzNhYTdhMTY4KQogICAgICAgIDsKCiAgICAgICAgCiAgICAKICAgIAogICAgICAgICAgICBtYXJrZXJfOGI0NDUxODI4NDk1NGRhZjk5ZGZlYWJlZWQxZDlhNGUuYmluZFRvb2x0aXAoCiAgICAgICAgICAgICAgICBgPGRpdj4KICAgICAgICAgICAgICAgICAgICAgQ2xpY2sgbWUhCiAgICAgICAgICAgICAgICAgPC9kaXY+YCwKICAgICAgICAgICAgICAgIHsic3RpY2t5IjogdHJ1ZX0KICAgICAgICAgICAgKTsKICAgICAgICAKICAgIAogICAgICAgICAgICB2YXIgbWFya2VyXzMyNTNlZjVhMmI1ZDQ3Y2FhNTFmNDFkNDkwNWNjM2QyID0gTC5tYXJrZXIoCiAgICAgICAgICAgICAgICBbNTEuNTEwNzczNywgLTAuMTM5MjQ0N10sCiAgICAgICAgICAgICAgICB7fQogICAgICAgICAgICApLmFkZFRvKG1hcF9iNjQ0MmU4NjBlMDg0NTc0ODY2ZDVlYTMxOGYyZGE3Nyk7CiAgICAgICAgCiAgICAKICAgICAgICAgICAgdmFyIGljb25fNDcyZWUyNTA4OTk5NDI5YWFiMjNhMTY0NDhmYWEwNjQgPSBMLkF3ZXNvbWVNYXJrZXJzLmljb24oCiAgICAgICAgICAgICAgICB7ImV4dHJhQ2xhc3NlcyI6ICJmYS1yb3RhdGUtMCIsICJpY29uIjogImluZm8tc2lnbiIsICJpY29uQ29sb3IiOiAid2hpdGUiLCAibWFya2VyQ29sb3IiOiAiZ3JlZW4iLCAicHJlZml4IjogImdseXBoaWNvbiJ9CiAgICAgICAgICAgICk7CiAgICAgICAgICAgIG1hcmtlcl8zMjUzZWY1YTJiNWQ0N2NhYTUxZjQxZDQ5MDVjYzNkMi5zZXRJY29uKGljb25fNDcyZWUyNTA4OTk5NDI5YWFiMjNhMTY0NDhmYWEwNjQpOwogICAgICAgIAogICAgCiAgICAgICAgdmFyIHBvcHVwX2I3M2QyN2U4YTY0NjQxNzE5OGQwMDc2N2YxNmJkN2U3ID0gTC5wb3B1cCh7Im1heFdpZHRoIjogIjEwMCUifSk7CgogICAgICAgIAogICAgICAgICAgICB2YXIgaHRtbF9kY2VjNWQ1N2I5YjM0OTZiODllN2ZiOGY0Y2RmMzkxNyA9ICQoYDxkaXYgaWQ9Imh0bWxfZGNlYzVkNTdiOWIzNDk2Yjg5ZTdmYjhmNGNkZjM5MTciIHN0eWxlPSJ3aWR0aDogMTAwLjAlOyBoZWlnaHQ6IDEwMC4wJTsiPiAgICAgPHN0cm9uZz4gUmFua2luZyA6ICM0PC9zdHJvbmc+ICAgICA8cD4gICAgIFByb19jb21wYW5pZXM6MzcsICAgICBhaXJwb3J0czo3LCAgICAga2luZGVyOjEsICAgICBzY2hvb2xzOjYsICAgICBzdGFyYnVja3M6NywgICAgIGRpc2NvczoxOCAgICAgPC9wPiAgICAgPC9kaXY+YClbMF07CiAgICAgICAgICAgIHBvcHVwX2I3M2QyN2U4YTY0NjQxNzE5OGQwMDc2N2YxNmJkN2U3LnNldENvbnRlbnQoaHRtbF9kY2VjNWQ1N2I5YjM0OTZiODllN2ZiOGY0Y2RmMzkxNyk7CiAgICAgICAgCgogICAgICAgIG1hcmtlcl8zMjUzZWY1YTJiNWQ0N2NhYTUxZjQxZDQ5MDVjYzNkMi5iaW5kUG9wdXAocG9wdXBfYjczZDI3ZThhNjQ2NDE3MTk4ZDAwNzY3ZjE2YmQ3ZTcpCiAgICAgICAgOwoKICAgICAgICAKICAgIAogICAgCiAgICAgICAgICAgIG1hcmtlcl8zMjUzZWY1YTJiNWQ0N2NhYTUxZjQxZDQ5MDVjYzNkMi5iaW5kVG9vbHRpcCgKICAgICAgICAgICAgICAgIGA8ZGl2PgogICAgICAgICAgICAgICAgICAgICBDbGljayBtZSEKICAgICAgICAgICAgICAgICA8L2Rpdj5gLAogICAgICAgICAgICAgICAgeyJzdGlja3kiOiB0cnVlfQogICAgICAgICAgICApOwogICAgICAgIAogICAgCiAgICAgICAgICAgIHZhciBtYXJrZXJfODk5MjVkMDVjZTAzNGMyYmJhYTA1Yzk1YzkzZGFmMGMgPSBMLm1hcmtlcigKICAgICAgICAgICAgICAgIFs1MS41MTA4ODAzLCAtMC4xNDE4OTczXSwKICAgICAgICAgICAgICAgIHt9CiAgICAgICAgICAgICkuYWRkVG8obWFwX2I2NDQyZTg2MGUwODQ1NzQ4NjZkNWVhMzE4ZjJkYTc3KTsKICAgICAgICAKICAgIAogICAgICAgICAgICB2YXIgaWNvbl8zNDVhZGFjMTEzYjQ0MGFiYmUxNGVmZmI0NmNiOTNlZCA9IEwuQXdlc29tZU1hcmtlcnMuaWNvbigKICAgICAgICAgICAgICAgIHsiZXh0cmFDbGFzc2VzIjogImZhLXJvdGF0ZS0wIiwgImljb24iOiAiaW5mby1zaWduIiwgImljb25Db2xvciI6ICJ3aGl0ZSIsICJtYXJrZXJDb2xvciI6ICJibHVlIiwgInByZWZpeCI6ICJnbHlwaGljb24ifQogICAgICAgICAgICApOwogICAgICAgICAgICBtYXJrZXJfODk5MjVkMDVjZTAzNGMyYmJhYTA1Yzk1YzkzZGFmMGMuc2V0SWNvbihpY29uXzM0NWFkYWMxMTNiNDQwYWJiZTE0ZWZmYjQ2Y2I5M2VkKTsKICAgICAgICAKICAgIAogICAgICAgIHZhciBwb3B1cF9jZjFjYWIyZDVmM2M0YWEwYmFkYTM4NTcwYjgzY2M2NiA9IEwucG9wdXAoeyJtYXhXaWR0aCI6ICIxMDAlIn0pOwoKICAgICAgICAKICAgICAgICAgICAgdmFyIGh0bWxfNjdlMzMzNTdiNTZmNGFjN2FhMTRmNDk5MzU0YmRlZTYgPSAkKGA8ZGl2IGlkPSJodG1sXzY3ZTMzMzU3YjU2ZjRhYzdhYTE0ZjQ5OTM1NGJkZWU2IiBzdHlsZT0id2lkdGg6IDEwMC4wJTsgaGVpZ2h0OiAxMDAuMCU7Ij4gICAgIDxzdHJvbmc+IFJhbmtpbmcgOiAjNTwvc3Ryb25nPiAgICAgPHA+ICAgICBQcm9fY29tcGFuaWVzOjM3LCAgICAgYWlycG9ydHM6NywgICAgIGtpbmRlcjoxLCAgICAgc2Nob29sczo1LCAgICAgc3RhcmJ1Y2tzOjQsICAgICBkaXNjb3M6MTAgICAgIDwvcD4gICAgIDwvZGl2PmApWzBdOwogICAgICAgICAgICBwb3B1cF9jZjFjYWIyZDVmM2M0YWEwYmFkYTM4NTcwYjgzY2M2Ni5zZXRDb250ZW50KGh0bWxfNjdlMzMzNTdiNTZmNGFjN2FhMTRmNDk5MzU0YmRlZTYpOwogICAgICAgIAoKICAgICAgICBtYXJrZXJfODk5MjVkMDVjZTAzNGMyYmJhYTA1Yzk1YzkzZGFmMGMuYmluZFBvcHVwKHBvcHVwX2NmMWNhYjJkNWYzYzRhYTBiYWRhMzg1NzBiODNjYzY2KQogICAgICAgIDsKCiAgICAgICAgCiAgICAKICAgIAogICAgICAgICAgICBtYXJrZXJfODk5MjVkMDVjZTAzNGMyYmJhYTA1Yzk1YzkzZGFmMGMuYmluZFRvb2x0aXAoCiAgICAgICAgICAgICAgICBgPGRpdj4KICAgICAgICAgICAgICAgICAgICAgQ2xpY2sgbWUhCiAgICAgICAgICAgICAgICAgPC9kaXY+YCwKICAgICAgICAgICAgICAgIHsic3RpY2t5IjogdHJ1ZX0KICAgICAgICAgICAgKTsKICAgICAgICAKICAgIAogICAgICAgICAgICB2YXIgbWFya2VyX2MxYmIzNzhjZmU2NzQ2MDRhNmM3YjgwZTM1NTMzMDc2ID0gTC5tYXJrZXIoCiAgICAgICAgICAgICAgICBbNTEuNTE5NzcyLCAtMC4xNTk3MDkyXSwKICAgICAgICAgICAgICAgIHt9CiAgICAgICAgICAgICkuYWRkVG8obWFwX2I2NDQyZTg2MGUwODQ1NzQ4NjZkNWVhMzE4ZjJkYTc3KTsKICAgICAgICAKICAgIAogICAgICAgICAgICB2YXIgaWNvbl8zZTQwMzQ4NTQxYWI0N2U2YjRhYzlkN2E0MjNiZTYzOCA9IEwuQXdlc29tZU1hcmtlcnMuaWNvbigKICAgICAgICAgICAgICAgIHsiZXh0cmFDbGFzc2VzIjogImZhLXJvdGF0ZS0wIiwgImljb24iOiAiaW5mby1zaWduIiwgImljb25Db2xvciI6ICJ3aGl0ZSIsICJtYXJrZXJDb2xvciI6ICJibHVlIiwgInByZWZpeCI6ICJnbHlwaGljb24ifQogICAgICAgICAgICApOwogICAgICAgICAgICBtYXJrZXJfYzFiYjM3OGNmZTY3NDYwNGE2YzdiODBlMzU1MzMwNzYuc2V0SWNvbihpY29uXzNlNDAzNDg1NDFhYjQ3ZTZiNGFjOWQ3YTQyM2JlNjM4KTsKICAgICAgICAKICAgIAogICAgICAgIHZhciBwb3B1cF83MjhhNTFhNjdhMjE0YTAzODhkM2QzM2YyYmRlYzllMCA9IEwucG9wdXAoeyJtYXhXaWR0aCI6ICIxMDAlIn0pOwoKICAgICAgICAKICAgICAgICAgICAgdmFyIGh0bWxfODEyNWRhMzU5NDU5NDNhNzgwNDdkMjM1MzliOGJmMjQgPSAkKGA8ZGl2IGlkPSJodG1sXzgxMjVkYTM1OTQ1OTQzYTc4MDQ3ZDIzNTM5YjhiZjI0IiBzdHlsZT0id2lkdGg6IDEwMC4wJTsgaGVpZ2h0OiAxMDAuMCU7Ij4gICAgIDxzdHJvbmc+IFJhbmtpbmcgOiAjNjwvc3Ryb25nPiAgICAgPHA+ICAgICBQcm9fY29tcGFuaWVzOjM1LCAgICAgYWlycG9ydHM6NywgICAgIGtpbmRlcjo0LCAgICAgc2Nob29sczoxMiwgICAgIHN0YXJidWNrczoxLCAgICAgZGlzY29zOjIgICAgIDwvcD4gICAgIDwvZGl2PmApWzBdOwogICAgICAgICAgICBwb3B1cF83MjhhNTFhNjdhMjE0YTAzODhkM2QzM2YyYmRlYzllMC5zZXRDb250ZW50KGh0bWxfODEyNWRhMzU5NDU5NDNhNzgwNDdkMjM1MzliOGJmMjQpOwogICAgICAgIAoKICAgICAgICBtYXJrZXJfYzFiYjM3OGNmZTY3NDYwNGE2YzdiODBlMzU1MzMwNzYuYmluZFBvcHVwKHBvcHVwXzcyOGE1MWE2N2EyMTRhMDM4OGQzZDMzZjJiZGVjOWUwKQogICAgICAgIDsKCiAgICAgICAgCiAgICAKICAgIAogICAgICAgICAgICBtYXJrZXJfYzFiYjM3OGNmZTY3NDYwNGE2YzdiODBlMzU1MzMwNzYuYmluZFRvb2x0aXAoCiAgICAgICAgICAgICAgICBgPGRpdj4KICAgICAgICAgICAgICAgICAgICAgQ2xpY2sgbWUhCiAgICAgICAgICAgICAgICAgPC9kaXY+YCwKICAgICAgICAgICAgICAgIHsic3RpY2t5IjogdHJ1ZX0KICAgICAgICAgICAgKTsKICAgICAgICAKICAgIAogICAgICAgICAgICB2YXIgbWFya2VyX2MwMzYwNjY5YTZjYTQxMDA4YzZlMzM0MWI3ZmVmNDY4ID0gTC5tYXJrZXIoCiAgICAgICAgICAgICAgICBbNTEuNTIwNzc5LCAtMC4xMDc1OV0sCiAgICAgICAgICAgICAgICB7fQogICAgICAgICAgICApLmFkZFRvKG1hcF9iNjQ0MmU4NjBlMDg0NTc0ODY2ZDVlYTMxOGYyZGE3Nyk7CiAgICAgICAgCiAgICAKICAgICAgICAgICAgdmFyIGljb25fYjMzNzBjZTJmMjk4NDI1YWIwYzM1ZTE2OGVmMzkzNTYgPSBMLkF3ZXNvbWVNYXJrZXJzLmljb24oCiAgICAgICAgICAgICAgICB7ImV4dHJhQ2xhc3NlcyI6ICJmYS1yb3RhdGUtMCIsICJpY29uIjogImluZm8tc2lnbiIsICJpY29uQ29sb3IiOiAid2hpdGUiLCAibWFya2VyQ29sb3IiOiAiYmx1ZSIsICJwcmVmaXgiOiAiZ2x5cGhpY29uIn0KICAgICAgICAgICAgKTsKICAgICAgICAgICAgbWFya2VyX2MwMzYwNjY5YTZjYTQxMDA4YzZlMzM0MWI3ZmVmNDY4LnNldEljb24oaWNvbl9iMzM3MGNlMmYyOTg0MjVhYjBjMzVlMTY4ZWYzOTM1Nik7CiAgICAgICAgCiAgICAKICAgICAgICB2YXIgcG9wdXBfOTQ1ZjEzYTBkYzI4NGFlZTgwOTUwZjRkYTkzZDQ5MjUgPSBMLnBvcHVwKHsibWF4V2lkdGgiOiAiMTAwJSJ9KTsKCiAgICAgICAgCiAgICAgICAgICAgIHZhciBodG1sXzE4M2EzZTc2ZTVjNDQ1MzliYmY4ZGNjYzg2N2E3Zjg4ID0gJChgPGRpdiBpZD0iaHRtbF8xODNhM2U3NmU1YzQ0NTM5YmJmOGRjY2M4NjdhN2Y4OCIgc3R5bGU9IndpZHRoOiAxMDAuMCU7IGhlaWdodDogMTAwLjAlOyI+ICAgICA8c3Ryb25nPiBSYW5raW5nIDogIzc8L3N0cm9uZz4gICAgIDxwPiAgICAgUHJvX2NvbXBhbmllczozNCwgICAgIGFpcnBvcnRzOjYsICAgICBraW5kZXI6MiwgICAgIHNjaG9vbHM6MTQsICAgICBzdGFyYnVja3M6NCwgICAgIGRpc2NvczoxICAgICA8L3A+ICAgICA8L2Rpdj5gKVswXTsKICAgICAgICAgICAgcG9wdXBfOTQ1ZjEzYTBkYzI4NGFlZTgwOTUwZjRkYTkzZDQ5MjUuc2V0Q29udGVudChodG1sXzE4M2EzZTc2ZTVjNDQ1MzliYmY4ZGNjYzg2N2E3Zjg4KTsKICAgICAgICAKCiAgICAgICAgbWFya2VyX2MwMzYwNjY5YTZjYTQxMDA4YzZlMzM0MWI3ZmVmNDY4LmJpbmRQb3B1cChwb3B1cF85NDVmMTNhMGRjMjg0YWVlODA5NTBmNGRhOTNkNDkyNSkKICAgICAgICA7CgogICAgICAgIAogICAgCiAgICAKICAgICAgICAgICAgbWFya2VyX2MwMzYwNjY5YTZjYTQxMDA4YzZlMzM0MWI3ZmVmNDY4LmJpbmRUb29sdGlwKAogICAgICAgICAgICAgICAgYDxkaXY+CiAgICAgICAgICAgICAgICAgICAgIENsaWNrIG1lIQogICAgICAgICAgICAgICAgIDwvZGl2PmAsCiAgICAgICAgICAgICAgICB7InN0aWNreSI6IHRydWV9CiAgICAgICAgICAgICk7CiAgICAgICAgCiAgICAKICAgICAgICAgICAgdmFyIG1hcmtlcl84NDUxYzI3YTliYjM0MjAyOWM2OTYzYzRjZTFkYmNlNiA9IEwubWFya2VyKAogICAgICAgICAgICAgICAgWzUxLjUxOTYxMzUsIC0wLjEwMjAyNjVdLAogICAgICAgICAgICAgICAge30KICAgICAgICAgICAgKS5hZGRUbyhtYXBfYjY0NDJlODYwZTA4NDU3NDg2NmQ1ZWEzMThmMmRhNzcpOwogICAgICAgIAogICAgCiAgICAgICAgICAgIHZhciBpY29uXzMzZTcxNTJiMjdjZDQ3NmQ4YWJkZWUzNTVhMTlkNmQ4ID0gTC5Bd2Vzb21lTWFya2Vycy5pY29uKAogICAgICAgICAgICAgICAgeyJleHRyYUNsYXNzZXMiOiAiZmEtcm90YXRlLTAiLCAiaWNvbiI6ICJpbmZvLXNpZ24iLCAiaWNvbkNvbG9yIjogIndoaXRlIiwgIm1hcmtlckNvbG9yIjogImJsdWUiLCAicHJlZml4IjogImdseXBoaWNvbiJ9CiAgICAgICAgICAgICk7CiAgICAgICAgICAgIG1hcmtlcl84NDUxYzI3YTliYjM0MjAyOWM2OTYzYzRjZTFkYmNlNi5zZXRJY29uKGljb25fMzNlNzE1MmIyN2NkNDc2ZDhhYmRlZTM1NWExOWQ2ZDgpOwogICAgICAgIAogICAgCiAgICAgICAgdmFyIHBvcHVwX2QxYzM1NmI3ODBhMDQ5Nzk4MzMyZTlhZjEwNzdmMWE2ID0gTC5wb3B1cCh7Im1heFdpZHRoIjogIjEwMCUifSk7CgogICAgICAgIAogICAgICAgICAgICB2YXIgaHRtbF84NDgwNjI1MWJiYjE0ZGE1YTdiMzg4MmY4MWEwYjQxNiA9ICQoYDxkaXYgaWQ9Imh0bWxfODQ4MDYyNTFiYmIxNGRhNWE3YjM4ODJmODFhMGI0MTYiIHN0eWxlPSJ3aWR0aDogMTAwLjAlOyBoZWlnaHQ6IDEwMC4wJTsiPiAgICAgPHN0cm9uZz4gUmFua2luZyA6ICM4PC9zdHJvbmc+ICAgICA8cD4gICAgIFByb19jb21wYW5pZXM6MzQsICAgICBhaXJwb3J0czo2LCAgICAga2luZGVyOjIsICAgICBzY2hvb2xzOjEzLCAgICAgc3RhcmJ1Y2tzOjEsICAgICBkaXNjb3M6MyAgICAgPC9wPiAgICAgPC9kaXY+YClbMF07CiAgICAgICAgICAgIHBvcHVwX2QxYzM1NmI3ODBhMDQ5Nzk4MzMyZTlhZjEwNzdmMWE2LnNldENvbnRlbnQoaHRtbF84NDgwNjI1MWJiYjE0ZGE1YTdiMzg4MmY4MWEwYjQxNik7CiAgICAgICAgCgogICAgICAgIG1hcmtlcl84NDUxYzI3YTliYjM0MjAyOWM2OTYzYzRjZTFkYmNlNi5iaW5kUG9wdXAocG9wdXBfZDFjMzU2Yjc4MGEwNDk3OTgzMzJlOWFmMTA3N2YxYTYpCiAgICAgICAgOwoKICAgICAgICAKICAgIAogICAgCiAgICAgICAgICAgIG1hcmtlcl84NDUxYzI3YTliYjM0MjAyOWM2OTYzYzRjZTFkYmNlNi5iaW5kVG9vbHRpcCgKICAgICAgICAgICAgICAgIGA8ZGl2PgogICAgICAgICAgICAgICAgICAgICBDbGljayBtZSEKICAgICAgICAgICAgICAgICA8L2Rpdj5gLAogICAgICAgICAgICAgICAgeyJzdGlja3kiOiB0cnVlfQogICAgICAgICAgICApOwogICAgICAgIAogICAgCiAgICAgICAgICAgIHZhciBtYXJrZXJfNjk3MzIzZDgzNmU0NDVmNzg1MGUwNmZlMmI2ZmE1NjIgPSBMLm1hcmtlcigKICAgICAgICAgICAgICAgIFs1MS41MjAzMjY4LCAtMC4wOTk0NTk2XSwKICAgICAgICAgICAgICAgIHt9CiAgICAgICAgICAgICkuYWRkVG8obWFwX2I2NDQyZTg2MGUwODQ1NzQ4NjZkNWVhMzE4ZjJkYTc3KTsKICAgICAgICAKICAgIAogICAgICAgICAgICB2YXIgaWNvbl80MDI5MGZhMGIyNzQ0MzMyOTIwODQ5ZGQ3YTI5MzBiNCA9IEwuQXdlc29tZU1hcmtlcnMuaWNvbigKICAgICAgICAgICAgICAgIHsiZXh0cmFDbGFzc2VzIjogImZhLXJvdGF0ZS0wIiwgImljb24iOiAiaW5mby1zaWduIiwgImljb25Db2xvciI6ICJ3aGl0ZSIsICJtYXJrZXJDb2xvciI6ICJibHVlIiwgInByZWZpeCI6ICJnbHlwaGljb24ifQogICAgICAgICAgICApOwogICAgICAgICAgICBtYXJrZXJfNjk3MzIzZDgzNmU0NDVmNzg1MGUwNmZlMmI2ZmE1NjIuc2V0SWNvbihpY29uXzQwMjkwZmEwYjI3NDQzMzI5MjA4NDlkZDdhMjkzMGI0KTsKICAgICAgICAKICAgIAogICAgICAgIHZhciBwb3B1cF9hMDkxZWFmYTZlYzk0OGNlYTY5YmYyMzBhMmU1ZjRmOSA9IEwucG9wdXAoeyJtYXhXaWR0aCI6ICIxMDAlIn0pOwoKICAgICAgICAKICAgICAgICAgICAgdmFyIGh0bWxfZDZkMGM0M2NmMzhhNDUwZjliNDRlYzUzNjk3YWU3MGQgPSAkKGA8ZGl2IGlkPSJodG1sX2Q2ZDBjNDNjZjM4YTQ1MGY5YjQ0ZWM1MzY5N2FlNzBkIiBzdHlsZT0id2lkdGg6IDEwMC4wJTsgaGVpZ2h0OiAxMDAuMCU7Ij4gICAgIDxzdHJvbmc+IFJhbmtpbmcgOiAjOTwvc3Ryb25nPiAgICAgPHA+ICAgICBQcm9fY29tcGFuaWVzOjM0LCAgICAgYWlycG9ydHM6NiwgICAgIGtpbmRlcjoyLCAgICAgc2Nob29sczoxMiwgICAgIHN0YXJidWNrczoxLCAgICAgZGlzY29zOjIgICAgIDwvcD4gICAgIDwvZGl2PmApWzBdOwogICAgICAgICAgICBwb3B1cF9hMDkxZWFmYTZlYzk0OGNlYTY5YmYyMzBhMmU1ZjRmOS5zZXRDb250ZW50KGh0bWxfZDZkMGM0M2NmMzhhNDUwZjliNDRlYzUzNjk3YWU3MGQpOwogICAgICAgIAoKICAgICAgICBtYXJrZXJfNjk3MzIzZDgzNmU0NDVmNzg1MGUwNmZlMmI2ZmE1NjIuYmluZFBvcHVwKHBvcHVwX2EwOTFlYWZhNmVjOTQ4Y2VhNjliZjIzMGEyZTVmNGY5KQogICAgICAgIDsKCiAgICAgICAgCiAgICAKICAgIAogICAgICAgICAgICBtYXJrZXJfNjk3MzIzZDgzNmU0NDVmNzg1MGUwNmZlMmI2ZmE1NjIuYmluZFRvb2x0aXAoCiAgICAgICAgICAgICAgICBgPGRpdj4KICAgICAgICAgICAgICAgICAgICAgQ2xpY2sgbWUhCiAgICAgICAgICAgICAgICAgPC9kaXY+YCwKICAgICAgICAgICAgICAgIHsic3RpY2t5IjogdHJ1ZX0KICAgICAgICAgICAgKTsKICAgICAgICAKICAgIAogICAgICAgICAgICB2YXIgbWFya2VyXzI4ZWRjMDJmMjllNDQ2ZjY5MGUxMjk1MjM5MWFhMTc3ID0gTC5tYXJrZXIoCiAgICAgICAgICAgICAgICBbNTEuNTIxMjksIC0wLjEwOTc4XSwKICAgICAgICAgICAgICAgIHt9CiAgICAgICAgICAgICkuYWRkVG8obWFwX2I2NDQyZTg2MGUwODQ1NzQ4NjZkNWVhMzE4ZjJkYTc3KTsKICAgICAgICAKICAgIAogICAgICAgICAgICB2YXIgaWNvbl81MjZjYjlhN2ExNTM0NmUxYTZlNTk0ZTI0M2EyMmI2YiA9IEwuQXdlc29tZU1hcmtlcnMuaWNvbigKICAgICAgICAgICAgICAgIHsiZXh0cmFDbGFzc2VzIjogImZhLXJvdGF0ZS0wIiwgImljb24iOiAiaW5mby1zaWduIiwgImljb25Db2xvciI6ICJ3aGl0ZSIsICJtYXJrZXJDb2xvciI6ICJyZWQiLCAicHJlZml4IjogImdseXBoaWNvbiJ9CiAgICAgICAgICAgICk7CiAgICAgICAgICAgIG1hcmtlcl8yOGVkYzAyZjI5ZTQ0NmY2OTBlMTI5NTIzOTFhYTE3Ny5zZXRJY29uKGljb25fNTI2Y2I5YTdhMTUzNDZlMWE2ZTU5NGUyNDNhMjJiNmIpOwogICAgICAgIAogICAgCiAgICAgICAgdmFyIHBvcHVwXzBiOWU4ZTNjNjQ3ZTQyNTFiZmIzYjA3NTE3NTk0NDk2ID0gTC5wb3B1cCh7Im1heFdpZHRoIjogIjEwMCUifSk7CgogICAgICAgIAogICAgICAgICAgICB2YXIgaHRtbF85MTdiMjRkMTIxZTA0MGM3YjZiNzAwMDE3NWE4MzZjZCA9ICQoYDxkaXYgaWQ9Imh0bWxfOTE3YjI0ZDEyMWUwNDBjN2I2YjcwMDAxNzVhODM2Y2QiIHN0eWxlPSJ3aWR0aDogMTAwLjAlOyBoZWlnaHQ6IDEwMC4wJTsiPiAgICAgPHN0cm9uZz4gUmFua2luZyA6ICMxMDwvc3Ryb25nPiAgICAgPHA+ICAgICBQcm9fY29tcGFuaWVzOjM0LCAgICAgYWlycG9ydHM6NiwgICAgIGtpbmRlcjoxLCAgICAgc2Nob29sczoxNywgICAgIHN0YXJidWNrczo0LCAgICAgZGlzY29zOjEgICAgIDwvcD4gICAgIDwvZGl2PmApWzBdOwogICAgICAgICAgICBwb3B1cF8wYjllOGUzYzY0N2U0MjUxYmZiM2IwNzUxNzU5NDQ5Ni5zZXRDb250ZW50KGh0bWxfOTE3YjI0ZDEyMWUwNDBjN2I2YjcwMDAxNzVhODM2Y2QpOwogICAgICAgIAoKICAgICAgICBtYXJrZXJfMjhlZGMwMmYyOWU0NDZmNjkwZTEyOTUyMzkxYWExNzcuYmluZFBvcHVwKHBvcHVwXzBiOWU4ZTNjNjQ3ZTQyNTFiZmIzYjA3NTE3NTk0NDk2KQogICAgICAgIDsKCiAgICAgICAgCiAgICAKICAgIAogICAgICAgICAgICBtYXJrZXJfMjhlZGMwMmYyOWU0NDZmNjkwZTEyOTUyMzkxYWExNzcuYmluZFRvb2x0aXAoCiAgICAgICAgICAgICAgICBgPGRpdj4KICAgICAgICAgICAgICAgICAgICAgQ2xpY2sgbWUhCiAgICAgICAgICAgICAgICAgPC9kaXY+YCwKICAgICAgICAgICAgICAgIHsic3RpY2t5IjogdHJ1ZX0KICAgICAgICAgICAgKTsKICAgICAgICAKICAgIAogICAgICAgICAgICB2YXIgbWFya2VyX2IzOWViZTExMjhjNjRmZTI5ZTk2NGY5ZmJjY2EzZTU0ID0gTC5tYXJrZXIoCiAgICAgICAgICAgICAgICBbNTEuNTE4NjExOCwgLTAuMTExNTA5XSwKICAgICAgICAgICAgICAgIHt9CiAgICAgICAgICAgICkuYWRkVG8obWFwX2I2NDQyZTg2MGUwODQ1NzQ4NjZkNWVhMzE4ZjJkYTc3KTsKICAgICAgICAKICAgIAogICAgICAgICAgICB2YXIgaWNvbl9hZjYyMTFiYTM1YmE0ZTY3OWE3NGFlMzE4MmYyNTA4MCA9IEwuQXdlc29tZU1hcmtlcnMuaWNvbigKICAgICAgICAgICAgICAgIHsiZXh0cmFDbGFzc2VzIjogImZhLXJvdGF0ZS0wIiwgImljb24iOiAiaW5mby1zaWduIiwgImljb25Db2xvciI6ICJ3aGl0ZSIsICJtYXJrZXJDb2xvciI6ICJyZWQiLCAicHJlZml4IjogImdseXBoaWNvbiJ9CiAgICAgICAgICAgICk7CiAgICAgICAgICAgIG1hcmtlcl9iMzllYmUxMTI4YzY0ZmUyOWU5NjRmOWZiY2NhM2U1NC5zZXRJY29uKGljb25fYWY2MjExYmEzNWJhNGU2NzlhNzRhZTMxODJmMjUwODApOwogICAgICAgIAogICAgCiAgICAgICAgdmFyIHBvcHVwXzEzMGY1MGY1YTFhODRkMmE4ZThhNDRhYzA4YjRiMGMzID0gTC5wb3B1cCh7Im1heFdpZHRoIjogIjEwMCUifSk7CgogICAgICAgIAogICAgICAgICAgICB2YXIgaHRtbF9iN2NmMzMwODVmYWY0NTUzYTI3NTc4OTU1NDljMGExNiA9ICQoYDxkaXYgaWQ9Imh0bWxfYjdjZjMzMDg1ZmFmNDU1M2EyNzU3ODk1NTQ5YzBhMTYiIHN0eWxlPSJ3aWR0aDogMTAwLjAlOyBoZWlnaHQ6IDEwMC4wJTsiPiAgICAgPHN0cm9uZz4gUmFua2luZyA6ICMxMTwvc3Ryb25nPiAgICAgPHA+ICAgICBQcm9fY29tcGFuaWVzOjM0LCAgICAgYWlycG9ydHM6NiwgICAgIGtpbmRlcjoxLCAgICAgc2Nob29sczoxMiwgICAgIHN0YXJidWNrczoyLCAgICAgZGlzY29zOjEgICAgIDwvcD4gICAgIDwvZGl2PmApWzBdOwogICAgICAgICAgICBwb3B1cF8xMzBmNTBmNWExYTg0ZDJhOGU4YTQ0YWMwOGI0YjBjMy5zZXRDb250ZW50KGh0bWxfYjdjZjMzMDg1ZmFmNDU1M2EyNzU3ODk1NTQ5YzBhMTYpOwogICAgICAgIAoKICAgICAgICBtYXJrZXJfYjM5ZWJlMTEyOGM2NGZlMjllOTY0ZjlmYmNjYTNlNTQuYmluZFBvcHVwKHBvcHVwXzEzMGY1MGY1YTFhODRkMmE4ZThhNDRhYzA4YjRiMGMzKQogICAgICAgIDsKCiAgICAgICAgCiAgICAKICAgIAogICAgICAgICAgICBtYXJrZXJfYjM5ZWJlMTEyOGM2NGZlMjllOTY0ZjlmYmNjYTNlNTQuYmluZFRvb2x0aXAoCiAgICAgICAgICAgICAgICBgPGRpdj4KICAgICAgICAgICAgICAgICAgICAgQ2xpY2sgbWUhCiAgICAgICAgICAgICAgICAgPC9kaXY+YCwKICAgICAgICAgICAgICAgIHsic3RpY2t5IjogdHJ1ZX0KICAgICAgICAgICAgKTsKICAgICAgICAKICAgIAogICAgICAgICAgICB2YXIgbWFya2VyX2NmMTMzMGZhYWFmNTRjODY5ODhlZTNlMmRmMjU2MmQ1ID0gTC5tYXJrZXIoCiAgICAgICAgICAgICAgICBbNTEuNTI5MjI0NSwgLTAuMDkyMTIxOF0sCiAgICAgICAgICAgICAgICB7fQogICAgICAgICAgICApLmFkZFRvKG1hcF9iNjQ0MmU4NjBlMDg0NTc0ODY2ZDVlYTMxOGYyZGE3Nyk7CiAgICAgICAgCiAgICAKICAgICAgICAgICAgdmFyIGljb25fYTI1YTBiZGNlNGQ1NDk0MGE0N2FjNjNiMTZhNjVmMzUgPSBMLkF3ZXNvbWVNYXJrZXJzLmljb24oCiAgICAgICAgICAgICAgICB7ImV4dHJhQ2xhc3NlcyI6ICJmYS1yb3RhdGUtMCIsICJpY29uIjogImluZm8tc2lnbiIsICJpY29uQ29sb3IiOiAid2hpdGUiLCAibWFya2VyQ29sb3IiOiAicmVkIiwgInByZWZpeCI6ICJnbHlwaGljb24ifQogICAgICAgICAgICApOwogICAgICAgICAgICBtYXJrZXJfY2YxMzMwZmFhYWY1NGM4Njk4OGVlM2UyZGYyNTYyZDUuc2V0SWNvbihpY29uX2EyNWEwYmRjZTRkNTQ5NDBhNDdhYzYzYjE2YTY1ZjM1KTsKICAgICAgICAKICAgIAogICAgICAgIHZhciBwb3B1cF80OTRhZTNhY2U3Y2E0NGY3OWIwMDVjMzlmMTlkMzliNiA9IEwucG9wdXAoeyJtYXhXaWR0aCI6ICIxMDAlIn0pOwoKICAgICAgICAKICAgICAgICAgICAgdmFyIGh0bWxfMjg1NjFhMTdhMDA2NDMyYTg4ZWEyYTVkM2E0Y2JkMGEgPSAkKGA8ZGl2IGlkPSJodG1sXzI4NTYxYTE3YTAwNjQzMmE4OGVhMmE1ZDNhNGNiZDBhIiBzdHlsZT0id2lkdGg6IDEwMC4wJTsgaGVpZ2h0OiAxMDAuMCU7Ij4gICAgIDxzdHJvbmc+IFJhbmtpbmcgOiAjMTI8L3N0cm9uZz4gICAgIDxwPiAgICAgUHJvX2NvbXBhbmllczozMywgICAgIGFpcnBvcnRzOjYsICAgICBraW5kZXI6MywgICAgIHNjaG9vbHM6MTgsICAgICBzdGFyYnVja3M6MSwgICAgIGRpc2NvczoyICAgICA8L3A+ICAgICA8L2Rpdj5gKVswXTsKICAgICAgICAgICAgcG9wdXBfNDk0YWUzYWNlN2NhNDRmNzliMDA1YzM5ZjE5ZDM5YjYuc2V0Q29udGVudChodG1sXzI4NTYxYTE3YTAwNjQzMmE4OGVhMmE1ZDNhNGNiZDBhKTsKICAgICAgICAKCiAgICAgICAgbWFya2VyX2NmMTMzMGZhYWFmNTRjODY5ODhlZTNlMmRmMjU2MmQ1LmJpbmRQb3B1cChwb3B1cF80OTRhZTNhY2U3Y2E0NGY3OWIwMDVjMzlmMTlkMzliNikKICAgICAgICA7CgogICAgICAgIAogICAgCiAgICAKICAgICAgICAgICAgbWFya2VyX2NmMTMzMGZhYWFmNTRjODY5ODhlZTNlMmRmMjU2MmQ1LmJpbmRUb29sdGlwKAogICAgICAgICAgICAgICAgYDxkaXY+CiAgICAgICAgICAgICAgICAgICAgIENsaWNrIG1lIQogICAgICAgICAgICAgICAgIDwvZGl2PmAsCiAgICAgICAgICAgICAgICB7InN0aWNreSI6IHRydWV9CiAgICAgICAgICAgICk7CiAgICAgICAgCiAgICAKICAgICAgICAgICAgdmFyIG1hcmtlcl85NTYxNjIxOWFjMTk0MzcxODBlOGUzMmU5MGE5ZTExYSA9IEwubWFya2VyKAogICAgICAgICAgICAgICAgWzUxLjUzOTU5MTQsIC0wLjE1MjUwNDhdLAogICAgICAgICAgICAgICAge30KICAgICAgICAgICAgKS5hZGRUbyhtYXBfYjY0NDJlODYwZTA4NDU3NDg2NmQ1ZWEzMThmMmRhNzcpOwogICAgICAgIAogICAgCiAgICAgICAgICAgIHZhciBpY29uXzhmZjE5Y2Q2NWJjZDRhY2VhOTU4N2ZkZmRlMmI1OTA1ID0gTC5Bd2Vzb21lTWFya2Vycy5pY29uKAogICAgICAgICAgICAgICAgeyJleHRyYUNsYXNzZXMiOiAiZmEtcm90YXRlLTAiLCAiaWNvbiI6ICJpbmZvLXNpZ24iLCAiaWNvbkNvbG9yIjogIndoaXRlIiwgIm1hcmtlckNvbG9yIjogInJlZCIsICJwcmVmaXgiOiAiZ2x5cGhpY29uIn0KICAgICAgICAgICAgKTsKICAgICAgICAgICAgbWFya2VyXzk1NjE2MjE5YWMxOTQzNzE4MGU4ZTMyZTkwYTllMTFhLnNldEljb24oaWNvbl84ZmYxOWNkNjViY2Q0YWNlYTk1ODdmZGZkZTJiNTkwNSk7CiAgICAgICAgCiAgICAKICAgICAgICB2YXIgcG9wdXBfZmZmNWIxY2VkOTM1NGJlNjgzMmE5ODZkMGUwOGZkOGQgPSBMLnBvcHVwKHsibWF4V2lkdGgiOiAiMTAwJSJ9KTsKCiAgICAgICAgCiAgICAgICAgICAgIHZhciBodG1sX2QwM2VmOTg2MTVlZDQ0YWNiMzJlYjM0OGI2ZDVmOWJhID0gJChgPGRpdiBpZD0iaHRtbF9kMDNlZjk4NjE1ZWQ0NGFjYjMyZWIzNDhiNmQ1ZjliYSIgc3R5bGU9IndpZHRoOiAxMDAuMCU7IGhlaWdodDogMTAwLjAlOyI+ICAgICA8c3Ryb25nPiBSYW5raW5nIDogIzEzPC9zdHJvbmc+ICAgICA8cD4gICAgIFByb19jb21wYW5pZXM6MzIsICAgICBhaXJwb3J0czo2LCAgICAga2luZGVyOjEsICAgICBzY2hvb2xzOjExLCAgICAgc3RhcmJ1Y2tzOjYsICAgICBkaXNjb3M6MSAgICAgPC9wPiAgICAgPC9kaXY+YClbMF07CiAgICAgICAgICAgIHBvcHVwX2ZmZjViMWNlZDkzNTRiZTY4MzJhOTg2ZDBlMDhmZDhkLnNldENvbnRlbnQoaHRtbF9kMDNlZjk4NjE1ZWQ0NGFjYjMyZWIzNDhiNmQ1ZjliYSk7CiAgICAgICAgCgogICAgICAgIG1hcmtlcl85NTYxNjIxOWFjMTk0MzcxODBlOGUzMmU5MGE5ZTExYS5iaW5kUG9wdXAocG9wdXBfZmZmNWIxY2VkOTM1NGJlNjgzMmE5ODZkMGUwOGZkOGQpCiAgICAgICAgOwoKICAgICAgICAKICAgIAogICAgCiAgICAgICAgICAgIG1hcmtlcl85NTYxNjIxOWFjMTk0MzcxODBlOGUzMmU5MGE5ZTExYS5iaW5kVG9vbHRpcCgKICAgICAgICAgICAgICAgIGA8ZGl2PgogICAgICAgICAgICAgICAgICAgICBDbGljayBtZSEKICAgICAgICAgICAgICAgICA8L2Rpdj5gLAogICAgICAgICAgICAgICAgeyJzdGlja3kiOiB0cnVlfQogICAgICAgICAgICApOwogICAgICAgIAogICAgCiAgICAgICAgICAgIHZhciBtYXJrZXJfODU5Y2Y1YzU5MDk5NDFjOGIyZWUwYjEzY2U2MzViNTYgPSBMLm1hcmtlcigKICAgICAgICAgICAgICAgIFs1MS41MjExMTU5LCAtMC4wNzc4MzQ1XSwKICAgICAgICAgICAgICAgIHt9CiAgICAgICAgICAgICkuYWRkVG8obWFwX2I2NDQyZTg2MGUwODQ1NzQ4NjZkNWVhMzE4ZjJkYTc3KTsKICAgICAgICAKICAgIAogICAgICAgICAgICB2YXIgaWNvbl8xNTMzNTU5N2NjOWE0NzEyYTQ2Yjk1NjBjNjE4MTRkZSA9IEwuQXdlc29tZU1hcmtlcnMuaWNvbigKICAgICAgICAgICAgICAgIHsiZXh0cmFDbGFzc2VzIjogImZhLXJvdGF0ZS0wIiwgImljb24iOiAiaW5mby1zaWduIiwgImljb25Db2xvciI6ICJ3aGl0ZSIsICJtYXJrZXJDb2xvciI6ICJyZWQiLCAicHJlZml4IjogImdseXBoaWNvbiJ9CiAgICAgICAgICAgICk7CiAgICAgICAgICAgIG1hcmtlcl84NTljZjVjNTkwOTk0MWM4YjJlZTBiMTNjZTYzNWI1Ni5zZXRJY29uKGljb25fMTUzMzU1OTdjYzlhNDcxMmE0NmI5NTYwYzYxODE0ZGUpOwogICAgICAgIAogICAgCiAgICAgICAgdmFyIHBvcHVwX2MzMjE3ODVkYmFlYjQxZjJhMjQyMGY5ZGE3MTQ4MDBhID0gTC5wb3B1cCh7Im1heFdpZHRoIjogIjEwMCUifSk7CgogICAgICAgIAogICAgICAgICAgICB2YXIgaHRtbF85YzJhNjZkZjk1Y2Y0Mzg0OThhZDY1NTgxMjUyNWEyMyA9ICQoYDxkaXYgaWQ9Imh0bWxfOWMyYTY2ZGY5NWNmNDM4NDk4YWQ2NTU4MTI1MjVhMjMiIHN0eWxlPSJ3aWR0aDogMTAwLjAlOyBoZWlnaHQ6IDEwMC4wJTsiPiAgICAgPHN0cm9uZz4gUmFua2luZyA6ICMxNDwvc3Ryb25nPiAgICAgPHA+ICAgICBQcm9fY29tcGFuaWVzOjMxLCAgICAgYWlycG9ydHM6NiwgICAgIGtpbmRlcjoxLCAgICAgc2Nob29sczoxOCwgICAgIHN0YXJidWNrczo4LCAgICAgZGlzY29zOjExICAgICA8L3A+ICAgICA8L2Rpdj5gKVswXTsKICAgICAgICAgICAgcG9wdXBfYzMyMTc4NWRiYWViNDFmMmEyNDIwZjlkYTcxNDgwMGEuc2V0Q29udGVudChodG1sXzljMmE2NmRmOTVjZjQzODQ5OGFkNjU1ODEyNTI1YTIzKTsKICAgICAgICAKCiAgICAgICAgbWFya2VyXzg1OWNmNWM1OTA5OTQxYzhiMmVlMGIxM2NlNjM1YjU2LmJpbmRQb3B1cChwb3B1cF9jMzIxNzg1ZGJhZWI0MWYyYTI0MjBmOWRhNzE0ODAwYSkKICAgICAgICA7CgogICAgICAgIAogICAgCiAgICAKICAgICAgICAgICAgbWFya2VyXzg1OWNmNWM1OTA5OTQxYzhiMmVlMGIxM2NlNjM1YjU2LmJpbmRUb29sdGlwKAogICAgICAgICAgICAgICAgYDxkaXY+CiAgICAgICAgICAgICAgICAgICAgIENsaWNrIG1lIQogICAgICAgICAgICAgICAgIDwvZGl2PmAsCiAgICAgICAgICAgICAgICB7InN0aWNreSI6IHRydWV9CiAgICAgICAgICAgICk7CiAgICAgICAgCiAgICAKICAgICAgICAgICAgdmFyIG1hcmtlcl9iODQxNzgwZjUwNjQ0MTdkOThiMTNlNDJkMDAzMmNlMyA9IEwubWFya2VyKAogICAgICAgICAgICAgICAgWzUxLjQ5OTEwOTQsIC0wLjE5ODQ4MDJdLAogICAgICAgICAgICAgICAge30KICAgICAgICAgICAgKS5hZGRUbyhtYXBfYjY0NDJlODYwZTA4NDU3NDg2NmQ1ZWEzMThmMmRhNzcpOwogICAgICAgIAogICAgCiAgICAgICAgICAgIHZhciBpY29uXzkxNTBlMDA2ZTg0NjRiMmQ4YjgzYzljNmUwZGM0OTA5ID0gTC5Bd2Vzb21lTWFya2Vycy5pY29uKAogICAgICAgICAgICAgICAgeyJleHRyYUNsYXNzZXMiOiAiZmEtcm90YXRlLTAiLCAiaWNvbiI6ICJpbmZvLXNpZ24iLCAiaWNvbkNvbG9yIjogIndoaXRlIiwgIm1hcmtlckNvbG9yIjogInJlZCIsICJwcmVmaXgiOiAiZ2x5cGhpY29uIn0KICAgICAgICAgICAgKTsKICAgICAgICAgICAgbWFya2VyX2I4NDE3ODBmNTA2NDQxN2Q5OGIxM2U0MmQwMDMyY2UzLnNldEljb24oaWNvbl85MTUwZTAwNmU4NDY0YjJkOGI4M2M5YzZlMGRjNDkwOSk7CiAgICAgICAgCiAgICAKICAgICAgICB2YXIgcG9wdXBfNTI1ZDM5OWViZGVhNGM1MmJhN2VhYmMxNGIyMzQ0NmIgPSBMLnBvcHVwKHsibWF4V2lkdGgiOiAiMTAwJSJ9KTsKCiAgICAgICAgCiAgICAgICAgICAgIHZhciBodG1sXzFiYzcwYjRkYTQ5NDRmNzhiZGM2NzhlOWE0NTE2ZGU3ID0gJChgPGRpdiBpZD0iaHRtbF8xYmM3MGI0ZGE0OTQ0Zjc4YmRjNjc4ZTlhNDUxNmRlNyIgc3R5bGU9IndpZHRoOiAxMDAuMCU7IGhlaWdodDogMTAwLjAlOyI+ICAgICA8c3Ryb25nPiBSYW5raW5nIDogIzE1PC9zdHJvbmc+ICAgICA8cD4gICAgIFByb19jb21wYW5pZXM6MTIsICAgICBhaXJwb3J0czo5LCAgICAga2luZGVyOjQsICAgICBzY2hvb2xzOjEzLCAgICAgc3RhcmJ1Y2tzOjEsICAgICBkaXNjb3M6MSAgICAgPC9wPiAgICAgPC9kaXY+YClbMF07CiAgICAgICAgICAgIHBvcHVwXzUyNWQzOTllYmRlYTRjNTJiYTdlYWJjMTRiMjM0NDZiLnNldENvbnRlbnQoaHRtbF8xYmM3MGI0ZGE0OTQ0Zjc4YmRjNjc4ZTlhNDUxNmRlNyk7CiAgICAgICAgCgogICAgICAgIG1hcmtlcl9iODQxNzgwZjUwNjQ0MTdkOThiMTNlNDJkMDAzMmNlMy5iaW5kUG9wdXAocG9wdXBfNTI1ZDM5OWViZGVhNGM1MmJhN2VhYmMxNGIyMzQ0NmIpCiAgICAgICAgOwoKICAgICAgICAKICAgIAogICAgCiAgICAgICAgICAgIG1hcmtlcl9iODQxNzgwZjUwNjQ0MTdkOThiMTNlNDJkMDAzMmNlMy5iaW5kVG9vbHRpcCgKICAgICAgICAgICAgICAgIGA8ZGl2PgogICAgICAgICAgICAgICAgICAgICBDbGljayBtZSEKICAgICAgICAgICAgICAgICA8L2Rpdj5gLAogICAgICAgICAgICAgICAgeyJzdGlja3kiOiB0cnVlfQogICAgICAgICAgICApOwogICAgICAgIAogICAgCiAgICAgICAgICAgIHZhciBtYXJrZXJfM2RhNTJmN2E5Zjc0NDVmZDg2MjhkMjRlMDUxMWFiY2EgPSBMLm1hcmtlcigKICAgICAgICAgICAgICAgIFs1Ni40NjE0MjgsIC0yLjk2ODExMV0sCiAgICAgICAgICAgICAgICB7fQogICAgICAgICAgICApLmFkZFRvKG1hcF9iNjQ0MmU4NjBlMDg0NTc0ODY2ZDVlYTMxOGYyZGE3Nyk7CiAgICAgICAgCiAgICAKICAgICAgICAgICAgdmFyIGljb25fNzA4YzdhMzUxMzE1NGFlOWI4MmFlN2Y1ODY4ZWNmMzIgPSBMLkF3ZXNvbWVNYXJrZXJzLmljb24oCiAgICAgICAgICAgICAgICB7ImV4dHJhQ2xhc3NlcyI6ICJmYS1yb3RhdGUtMCIsICJpY29uIjogImluZm8tc2lnbiIsICJpY29uQ29sb3IiOiAid2hpdGUiLCAibWFya2VyQ29sb3IiOiAicmVkIiwgInByZWZpeCI6ICJnbHlwaGljb24ifQogICAgICAgICAgICApOwogICAgICAgICAgICBtYXJrZXJfM2RhNTJmN2E5Zjc0NDVmZDg2MjhkMjRlMDUxMWFiY2Euc2V0SWNvbihpY29uXzcwOGM3YTM1MTMxNTRhZTliODJhZTdmNTg2OGVjZjMyKTsKICAgICAgICAKICAgIAogICAgICAgIHZhciBwb3B1cF9kMDUxMDM4NzQyNjI0NWEwOTBmZGZlMzAyYmQ0YmQ5MiA9IEwucG9wdXAoeyJtYXhXaWR0aCI6ICIxMDAlIn0pOwoKICAgICAgICAKICAgICAgICAgICAgdmFyIGh0bWxfODUyODFjNTFiNmRmNDE4OGJmNDA5YzY4YzgwNzQyMDIgPSAkKGA8ZGl2IGlkPSJodG1sXzg1MjgxYzUxYjZkZjQxODhiZjQwOWM2OGM4MDc0MjAyIiBzdHlsZT0id2lkdGg6IDEwMC4wJTsgaGVpZ2h0OiAxMDAuMCU7Ij4gICAgIDxzdHJvbmc+IFJhbmtpbmcgOiAjMTY8L3N0cm9uZz4gICAgIDxwPiAgICAgUHJvX2NvbXBhbmllczoyLCAgICAgYWlycG9ydHM6MSwgICAgIGtpbmRlcjo2LCAgICAgc2Nob29sczo0LCAgICAgc3RhcmJ1Y2tzOjIwLCAgICAgZGlzY29zOjEzICAgICA8L3A+ICAgICA8L2Rpdj5gKVswXTsKICAgICAgICAgICAgcG9wdXBfZDA1MTAzODc0MjYyNDVhMDkwZmRmZTMwMmJkNGJkOTIuc2V0Q29udGVudChodG1sXzg1MjgxYzUxYjZkZjQxODhiZjQwOWM2OGM4MDc0MjAyKTsKICAgICAgICAKCiAgICAgICAgbWFya2VyXzNkYTUyZjdhOWY3NDQ1ZmQ4NjI4ZDI0ZTA1MTFhYmNhLmJpbmRQb3B1cChwb3B1cF9kMDUxMDM4NzQyNjI0NWEwOTBmZGZlMzAyYmQ0YmQ5MikKICAgICAgICA7CgogICAgICAgIAogICAgCiAgICAKICAgICAgICAgICAgbWFya2VyXzNkYTUyZjdhOWY3NDQ1ZmQ4NjI4ZDI0ZTA1MTFhYmNhLmJpbmRUb29sdGlwKAogICAgICAgICAgICAgICAgYDxkaXY+CiAgICAgICAgICAgICAgICAgICAgIENsaWNrIG1lIQogICAgICAgICAgICAgICAgIDwvZGl2PmAsCiAgICAgICAgICAgICAgICB7InN0aWNreSI6IHRydWV9CiAgICAgICAgICAgICk7CiAgICAgICAgCiAgICAKICAgICAgICAgICAgdmFyIG1hcmtlcl8zNjM1MDc0Zjc5YWY0Mjg5ODdiMWFiNmQ0ZWE3MjMzZSA9IEwubWFya2VyKAogICAgICAgICAgICAgICAgWzU0Ljk3MTA2NSwgLTEuNjE5NDAzNF0sCiAgICAgICAgICAgICAgICB7fQogICAgICAgICAgICApLmFkZFRvKG1hcF9iNjQ0MmU4NjBlMDg0NTc0ODY2ZDVlYTMxOGYyZGE3Nyk7CiAgICAgICAgCiAgICAKICAgICAgICAgICAgdmFyIGljb25fMTQxYTUwYjc3OTAzNDU2NWJlZDY5NmNmY2I4NzBkN2QgPSBMLkF3ZXNvbWVNYXJrZXJzLmljb24oCiAgICAgICAgICAgICAgICB7ImV4dHJhQ2xhc3NlcyI6ICJmYS1yb3RhdGUtMCIsICJpY29uIjogImluZm8tc2lnbiIsICJpY29uQ29sb3IiOiAid2hpdGUiLCAibWFya2VyQ29sb3IiOiAicmVkIiwgInByZWZpeCI6ICJnbHlwaGljb24ifQogICAgICAgICAgICApOwogICAgICAgICAgICBtYXJrZXJfMzYzNTA3NGY3OWFmNDI4OTg3YjFhYjZkNGVhNzIzM2Uuc2V0SWNvbihpY29uXzE0MWE1MGI3NzkwMzQ1NjViZWQ2OTZjZmNiODcwZDdkKTsKICAgICAgICAKICAgIAogICAgICAgIHZhciBwb3B1cF8xZTk5Yjk4ZWM1ODg0YmYwOWM1MWU1MThjZGEzZDg4MSA9IEwucG9wdXAoeyJtYXhXaWR0aCI6ICIxMDAlIn0pOwoKICAgICAgICAKICAgICAgICAgICAgdmFyIGh0bWxfMWRkOWUyNzMwOWYxNGZmMmJkOGU0ZDE0ZGFmOTgwYTAgPSAkKGA8ZGl2IGlkPSJodG1sXzFkZDllMjczMDlmMTRmZjJiZDhlNGQxNGRhZjk4MGEwIiBzdHlsZT0id2lkdGg6IDEwMC4wJTsgaGVpZ2h0OiAxMDAuMCU7Ij4gICAgIDxzdHJvbmc+IFJhbmtpbmcgOiAjMTc8L3N0cm9uZz4gICAgIDxwPiAgICAgUHJvX2NvbXBhbmllczoxLCAgICAgYWlycG9ydHM6MiwgICAgIGtpbmRlcjoxLCAgICAgc2Nob29sczo3LCAgICAgc3RhcmJ1Y2tzOjEzLCAgICAgZGlzY29zOjIwICAgICA8L3A+ICAgICA8L2Rpdj5gKVswXTsKICAgICAgICAgICAgcG9wdXBfMWU5OWI5OGVjNTg4NGJmMDljNTFlNTE4Y2RhM2Q4ODEuc2V0Q29udGVudChodG1sXzFkZDllMjczMDlmMTRmZjJiZDhlNGQxNGRhZjk4MGEwKTsKICAgICAgICAKCiAgICAgICAgbWFya2VyXzM2MzUwNzRmNzlhZjQyODk4N2IxYWI2ZDRlYTcyMzNlLmJpbmRQb3B1cChwb3B1cF8xZTk5Yjk4ZWM1ODg0YmYwOWM1MWU1MThjZGEzZDg4MSkKICAgICAgICA7CgogICAgICAgIAogICAgCiAgICAKICAgICAgICAgICAgbWFya2VyXzM2MzUwNzRmNzlhZjQyODk4N2IxYWI2ZDRlYTcyMzNlLmJpbmRUb29sdGlwKAogICAgICAgICAgICAgICAgYDxkaXY+CiAgICAgICAgICAgICAgICAgICAgIENsaWNrIG1lIQogICAgICAgICAgICAgICAgIDwvZGl2PmAsCiAgICAgICAgICAgICAgICB7InN0aWNreSI6IHRydWV9CiAgICAgICAgICAgICk7CiAgICAgICAgCiAgICAKICAgICAgICAgICAgdmFyIG1hcmtlcl9kMmIwM2ExNTljNTU0M2E5YTA5ZDk5ZjlmNzFiNjNkMSA9IEwubWFya2VyKAogICAgICAgICAgICAgICAgWzU0Ljk3MTM0NiwgLTEuNjExMTQxXSwKICAgICAgICAgICAgICAgIHt9CiAgICAgICAgICAgICkuYWRkVG8obWFwX2I2NDQyZTg2MGUwODQ1NzQ4NjZkNWVhMzE4ZjJkYTc3KTsKICAgICAgICAKICAgIAogICAgICAgICAgICB2YXIgaWNvbl82MDk3ODExOTkxYWE0ZTI0YjViM2ZhZTEyMjgwNjBlYiA9IEwuQXdlc29tZU1hcmtlcnMuaWNvbigKICAgICAgICAgICAgICAgIHsiZXh0cmFDbGFzc2VzIjogImZhLXJvdGF0ZS0wIiwgImljb24iOiAiaW5mby1zaWduIiwgImljb25Db2xvciI6ICJ3aGl0ZSIsICJtYXJrZXJDb2xvciI6ICJyZWQiLCAicHJlZml4IjogImdseXBoaWNvbiJ9CiAgICAgICAgICAgICk7CiAgICAgICAgICAgIG1hcmtlcl9kMmIwM2ExNTljNTU0M2E5YTA5ZDk5ZjlmNzFiNjNkMS5zZXRJY29uKGljb25fNjA5NzgxMTk5MWFhNGUyNGI1YjNmYWUxMjI4MDYwZWIpOwogICAgICAgIAogICAgCiAgICAgICAgdmFyIHBvcHVwXzhmOWNmOGMxYmRjZjRmOTE5YzcyNTE1Yzk5MjllOGUzID0gTC5wb3B1cCh7Im1heFdpZHRoIjogIjEwMCUifSk7CgogICAgICAgIAogICAgICAgICAgICB2YXIgaHRtbF8yMjBiNWZlYmQ3OTU0MjAzOWQ1MmRhNTc4NTMwNTJiZSA9ICQoYDxkaXYgaWQ9Imh0bWxfMjIwYjVmZWJkNzk1NDIwMzlkNTJkYTU3ODUzMDUyYmUiIHN0eWxlPSJ3aWR0aDogMTAwLjAlOyBoZWlnaHQ6IDEwMC4wJTsiPiAgICAgPHN0cm9uZz4gUmFua2luZyA6ICMxODwvc3Ryb25nPiAgICAgPHA+ICAgICBQcm9fY29tcGFuaWVzOjEsICAgICBhaXJwb3J0czoyLCAgICAga2luZGVyOjEsICAgICBzY2hvb2xzOjMsICAgICBzdGFyYnVja3M6MTUsICAgICBkaXNjb3M6MjAgICAgIDwvcD4gICAgIDwvZGl2PmApWzBdOwogICAgICAgICAgICBwb3B1cF84ZjljZjhjMWJkY2Y0ZjkxOWM3MjUxNWM5OTI5ZThlMy5zZXRDb250ZW50KGh0bWxfMjIwYjVmZWJkNzk1NDIwMzlkNTJkYTU3ODUzMDUyYmUpOwogICAgICAgIAoKICAgICAgICBtYXJrZXJfZDJiMDNhMTU5YzU1NDNhOWEwOWQ5OWY5ZjcxYjYzZDEuYmluZFBvcHVwKHBvcHVwXzhmOWNmOGMxYmRjZjRmOTE5YzcyNTE1Yzk5MjllOGUzKQogICAgICAgIDsKCiAgICAgICAgCiAgICAKICAgIAogICAgICAgICAgICBtYXJrZXJfZDJiMDNhMTU5YzU1NDNhOWEwOWQ5OWY5ZjcxYjYzZDEuYmluZFRvb2x0aXAoCiAgICAgICAgICAgICAgICBgPGRpdj4KICAgICAgICAgICAgICAgICAgICAgQ2xpY2sgbWUhCiAgICAgICAgICAgICAgICAgPC9kaXY+YCwKICAgICAgICAgICAgICAgIHsic3RpY2t5IjogdHJ1ZX0KICAgICAgICAgICAgKTsKICAgICAgICAKICAgIAogICAgICAgICAgICB2YXIgY2lyY2xlX21hcmtlcl9iYzVjNjg2MjRjZDc0NDg0YjY5ZTZlODQwMzdlMzkxYyA9IEwuY2lyY2xlTWFya2VyKAogICAgICAgICAgICAgICAgWzUxLjUxMTUzMDksIC0wLjEzOTI3NjVdLAogICAgICAgICAgICAgICAgeyJidWJibGluZ01vdXNlRXZlbnRzIjogdHJ1ZSwgImNvbG9yIjogIiMzMTg2Y2MiLCAiZGFzaEFycmF5IjogbnVsbCwgImRhc2hPZmZzZXQiOiBudWxsLCAiZmlsbCI6IHRydWUsICJmaWxsQ29sb3IiOiAiIzMxODZjYyIsICJmaWxsT3BhY2l0eSI6IDAuMiwgImZpbGxSdWxlIjogImV2ZW5vZGQiLCAibGluZUNhcCI6ICJyb3VuZCIsICJsaW5lSm9pbiI6ICJyb3VuZCIsICJvcGFjaXR5IjogMS4wLCAicmFkaXVzIjogNTAsICJzdHJva2UiOiB0cnVlLCAid2VpZ2h0IjogM30KICAgICAgICAgICAgKS5hZGRUbyhtYXBfYjY0NDJlODYwZTA4NDU3NDg2NmQ1ZWEzMThmMmRhNzcpOwogICAgICAgIAogICAgCiAgICAgICAgdmFyIHBvcHVwX2EzMjU3ZjczNDBiYjQ4ZWQ4ZTIwYzBiNWE1ZWRjODI3ID0gTC5wb3B1cCh7Im1heFdpZHRoIjogIjEwMCUifSk7CgogICAgICAgIAogICAgICAgICAgICB2YXIgaHRtbF9iZGVhNzRkYWI5MGM0ZjI1OTA5YjU3YmRiMDJmNzUyMSA9ICQoYDxkaXYgaWQ9Imh0bWxfYmRlYTc0ZGFiOTBjNGYyNTkwOWI1N2JkYjAyZjc1MjEiIHN0eWxlPSJ3aWR0aDogMTAwLjAlOyBoZWlnaHQ6IDEwMC4wJTsiPk9wdGltYWwgYXJlYTwvZGl2PmApWzBdOwogICAgICAgICAgICBwb3B1cF9hMzI1N2Y3MzQwYmI0OGVkOGUyMGMwYjVhNWVkYzgyNy5zZXRDb250ZW50KGh0bWxfYmRlYTc0ZGFiOTBjNGYyNTkwOWI1N2JkYjAyZjc1MjEpOwogICAgICAgIAoKICAgICAgICBjaXJjbGVfbWFya2VyX2JjNWM2ODYyNGNkNzQ0ODRiNjllNmU4NDAzN2UzOTFjLmJpbmRQb3B1cChwb3B1cF9hMzI1N2Y3MzQwYmI0OGVkOGUyMGMwYjVhNWVkYzgyNykKICAgICAgICA7CgogICAgICAgIAogICAgCiAgICAKICAgICAgICAgICAgICAgIHZhciBsYXRfbG5nX3BvcHVwX2FhNGE0OGE2OGRhODRkY2RhZmFkZThmYjg4NjIxNjgwID0gTC5wb3B1cCgpOwogICAgICAgICAgICAgICAgZnVuY3Rpb24gbGF0TG5nUG9wKGUpIHsKICAgICAgICAgICAgICAgICAgICBsYXRfbG5nX3BvcHVwX2FhNGE0OGE2OGRhODRkY2RhZmFkZThmYjg4NjIxNjgwCiAgICAgICAgICAgICAgICAgICAgICAgIC5zZXRMYXRMbmcoZS5sYXRsbmcpCiAgICAgICAgICAgICAgICAgICAgICAgIC5zZXRDb250ZW50KCJMYXRpdHVkZTogIiArIGUubGF0bG5nLmxhdC50b0ZpeGVkKDQpICsKICAgICAgICAgICAgICAgICAgICAgICAgICAgICAgICAgICAgIjxicj5Mb25naXR1ZGU6ICIgKyBlLmxhdGxuZy5sbmcudG9GaXhlZCg0KSkKICAgICAgICAgICAgICAgICAgICAgICAgLm9wZW5PbihtYXBfYjY0NDJlODYwZTA4NDU3NDg2NmQ1ZWEzMThmMmRhNzcpOwogICAgICAgICAgICAgICAgICAgIH0KICAgICAgICAgICAgICAgIG1hcF9iNjQ0MmU4NjBlMDg0NTc0ODY2ZDVlYTMxOGYyZGE3Ny5vbignY2xpY2snLCBsYXRMbmdQb3ApOwogICAgICAgICAgICAKPC9zY3JpcHQ+ onload=\"this.contentDocument.open();this.contentDocument.write(atob(this.getAttribute('data-html')));this.contentDocument.close();\" allowfullscreen webkitallowfullscreen mozallowfullscreen></iframe></div></div>"
      ],
      "text/plain": [
       "<folium.folium.Map at 0x7f81040f2a20>"
      ]
     },
     "execution_count": 219,
     "metadata": {},
     "output_type": "execute_result"
    }
   ],
   "source": [
    "m = folium.Map(location=[51.520779, -0.10759],\n",
    "               zoom_start=13,\n",
    "              tiles='OpenStreet Map'#'Stamen Terrain'\n",
    "              )\n",
    "\n",
    "\n",
    "tooltip = 'Click me!'\n",
    "\n",
    "for e in final_df.iterrows():\n",
    "    html = f\"\"\"\n",
    "    <strong> Ranking : #{e[0]}</strong>\n",
    "    <p>\n",
    "    Pro_companies:{e[1][8]},\n",
    "    airports:{e[1][9]},\n",
    "    kinder:{e[1][10]},\n",
    "    schools:{e[1][11]},\n",
    "    starbucks:{e[1][12]},\n",
    "    discos:{e[1][13]}\n",
    "    </p>\n",
    "    \"\"\"\n",
    "    long= e[1][7]['coordinates'][-1]\n",
    "    lat=e[1][7]['coordinates'][0]\n",
    "    if e[0]<5:\n",
    "        color='green'\n",
    "    elif e[0]<10: color='blue'\n",
    "    else: color='red'\n",
    "    folium.Marker([long, lat], \n",
    "                  popup=html, \n",
    "                  tooltip=tooltip, \n",
    "                  icon=folium.Icon(color=color)).add_to(m)\n",
    "\n",
    "folium.CircleMarker(\n",
    "    location=[51.5115309, -0.1392765],\n",
    "    radius=50,\n",
    "    popup='Optimal area',\n",
    "    color='#3186cc',\n",
    "    fill=True,\n",
    "    fill_color='#3186cc'\n",
    ").add_to(m)\n",
    "\n",
    "#for i,e in enumerate(final_df['location']):\n",
    "#    i = folium.GeoJson(\n",
    "#        data=e,\n",
    "#        tooltip=tooltip)\n",
    "#\n",
    "#    i.add_child(folium.Popup('outline Popup on GeoJSON'))\n",
    "#    i.add_to(m)\n",
    "\n",
    "\n",
    "m.add_child(folium.LatLngPopup())\n"
   ]
  },
  {
   "cell_type": "code",
   "execution_count": 221,
   "metadata": {},
   "outputs": [],
   "source": [
    "m.save('OUTPUT/html_map.html')"
   ]
  }
 ],
 "metadata": {
  "kernelspec": {
   "display_name": "Python 3.6.9 64-bit",
   "language": "python",
   "name": "python36964bit36b15ce491344c3aaf77177bbb6e80c7"
  },
  "language_info": {
   "codemirror_mode": {
    "name": "ipython",
    "version": 3
   },
   "file_extension": ".py",
   "mimetype": "text/x-python",
   "name": "python",
   "nbconvert_exporter": "python",
   "pygments_lexer": "ipython3",
   "version": "3.6.9"
  }
 },
 "nbformat": 4,
 "nbformat_minor": 2
}
