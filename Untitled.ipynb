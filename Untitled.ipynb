{
 "cells": [
  {
   "cell_type": "code",
   "execution_count": 131,
   "metadata": {},
   "outputs": [],
   "source": [
    "from pymongo import MongoClient\n",
    "import pandas as pd"
   ]
  },
  {
   "cell_type": "code",
   "execution_count": 4,
   "metadata": {},
   "outputs": [
    {
     "name": "stdout",
     "output_type": "stream",
     "text": [
      "mongodb://localhost/companies\n"
     ]
    }
   ],
   "source": [
    "\n",
    "dbName = \"companies\"\n",
    "mongodbURL = f\"mongodb://localhost/{dbName}\"\n",
    "print(mongodbURL)\n",
    "client = MongoClient(mongodbURL, connectTimeoutMS=2000,serverSelectionTimeoutMS=2000)\n",
    "db = client.get_database()"
   ]
  },
  {
   "cell_type": "markdown",
   "metadata": {},
   "source": [
    "# Filtering for offices in England"
   ]
  },
  {
   "cell_type": "code",
   "execution_count": 132,
   "metadata": {},
   "outputs": [],
   "source": [
    "#Find the all the different country codes\n",
    "query={'offices': { '$exists': 'true', '$not': {'$size': 0} }}\n",
    "web_offices = list(db.companies.find(query,{\"offices\":1,\"name\":1}))\n",
    "\n",
    "countries=set()\n",
    "for i,e in enumerate(web_offices):\n",
    "    countries.add(e['offices'][0]['country_code'])\n",
    "#countries"
   ]
  },
  {
   "cell_type": "code",
   "execution_count": 150,
   "metadata": {},
   "outputs": [],
   "source": [
    "#Start with filtering only for offices in England\n",
    "query={'offices':{'$elemMatch':{'country_code':'GBR'}}}\n",
    "gb_offices = list(db.companies.find(query,{\"name\":1, \"offices\":1,'total_money_raised':1,'founded_year':1}))"
   ]
  },
  {
   "cell_type": "code",
   "execution_count": 155,
   "metadata": {},
   "outputs": [],
   "source": [
    "office_df = pd.DataFrame(gb_offices).explode('offices')"
   ]
  },
  {
   "cell_type": "code",
   "execution_count": 156,
   "metadata": {},
   "outputs": [
    {
     "data": {
      "text/html": [
       "<div>\n",
       "<style scoped>\n",
       "    .dataframe tbody tr th:only-of-type {\n",
       "        vertical-align: middle;\n",
       "    }\n",
       "\n",
       "    .dataframe tbody tr th {\n",
       "        vertical-align: top;\n",
       "    }\n",
       "\n",
       "    .dataframe thead th {\n",
       "        text-align: right;\n",
       "    }\n",
       "</style>\n",
       "<table border=\"1\" class=\"dataframe\">\n",
       "  <thead>\n",
       "    <tr style=\"text-align: right;\">\n",
       "      <th></th>\n",
       "      <th>_id</th>\n",
       "      <th>name</th>\n",
       "      <th>founded_year</th>\n",
       "      <th>total_money_raised</th>\n",
       "      <th>offices</th>\n",
       "    </tr>\n",
       "  </thead>\n",
       "  <tbody>\n",
       "    <tr>\n",
       "      <th>0</th>\n",
       "      <td>52cdef7c4bab8bd675297da0</td>\n",
       "      <td>Babelgum</td>\n",
       "      <td>2007.0</td>\n",
       "      <td>$13.2M</td>\n",
       "      <td>{'description': '', 'address1': '', 'address2'...</td>\n",
       "    </tr>\n",
       "    <tr>\n",
       "      <th>1</th>\n",
       "      <td>52cdef7c4bab8bd675297da6</td>\n",
       "      <td>SpinVox</td>\n",
       "      <td>NaN</td>\n",
       "      <td>$106M</td>\n",
       "      <td>{'description': 'Corporate Headquarters', 'add...</td>\n",
       "    </tr>\n",
       "    <tr>\n",
       "      <th>2</th>\n",
       "      <td>52cdef7c4bab8bd675297da8</td>\n",
       "      <td>OpenX</td>\n",
       "      <td>2008.0</td>\n",
       "      <td>$75.5M</td>\n",
       "      <td>{'description': 'Headquarters', 'address1': '8...</td>\n",
       "    </tr>\n",
       "    <tr>\n",
       "      <th>2</th>\n",
       "      <td>52cdef7c4bab8bd675297da8</td>\n",
       "      <td>OpenX</td>\n",
       "      <td>2008.0</td>\n",
       "      <td>$75.5M</td>\n",
       "      <td>{'description': 'New York', 'address1': '584 B...</td>\n",
       "    </tr>\n",
       "    <tr>\n",
       "      <th>2</th>\n",
       "      <td>52cdef7c4bab8bd675297da8</td>\n",
       "      <td>OpenX</td>\n",
       "      <td>2008.0</td>\n",
       "      <td>$75.5M</td>\n",
       "      <td>{'description': 'London', 'address1': '1 Maple...</td>\n",
       "    </tr>\n",
       "  </tbody>\n",
       "</table>\n",
       "</div>"
      ],
      "text/plain": [
       "                        _id      name  founded_year total_money_raised  \\\n",
       "0  52cdef7c4bab8bd675297da0  Babelgum        2007.0             $13.2M   \n",
       "1  52cdef7c4bab8bd675297da6   SpinVox           NaN              $106M   \n",
       "2  52cdef7c4bab8bd675297da8     OpenX        2008.0             $75.5M   \n",
       "2  52cdef7c4bab8bd675297da8     OpenX        2008.0             $75.5M   \n",
       "2  52cdef7c4bab8bd675297da8     OpenX        2008.0             $75.5M   \n",
       "\n",
       "                                             offices  \n",
       "0  {'description': '', 'address1': '', 'address2'...  \n",
       "1  {'description': 'Corporate Headquarters', 'add...  \n",
       "2  {'description': 'Headquarters', 'address1': '8...  \n",
       "2  {'description': 'New York', 'address1': '584 B...  \n",
       "2  {'description': 'London', 'address1': '1 Maple...  "
      ]
     },
     "execution_count": 156,
     "metadata": {},
     "output_type": "execute_result"
    }
   ],
   "source": [
    "office_df.head()"
   ]
  },
  {
   "cell_type": "code",
   "execution_count": 157,
   "metadata": {},
   "outputs": [
    {
     "data": {
      "text/plain": [
       "{'description': '',\n",
       " 'address1': '',\n",
       " 'address2': '',\n",
       " 'zip_code': '',\n",
       " 'city': 'London',\n",
       " 'state_code': None,\n",
       " 'country_code': 'GBR',\n",
       " 'latitude': 53.344104,\n",
       " 'longitude': -6.267494}"
      ]
     },
     "execution_count": 157,
     "metadata": {},
     "output_type": "execute_result"
    }
   ],
   "source": [
    "office_df['offices'][0]"
   ]
  },
  {
   "cell_type": "code",
   "execution_count": 170,
   "metadata": {},
   "outputs": [],
   "source": [
    "def extract_loc(x):\n",
    "    of = x['offices']\n",
    "    if of[\"longitude\"]==None:\n",
    "        return (of['country_code'],\n",
    "           of['city'], \n",
    "                None)\n",
    "    return (of['country_code'],\n",
    "           of['city'],\n",
    "           {\"type\":\"Point\",\n",
    "                    \"coordinates\":[of[\"longitude\"],of[\"latitude\"]]})"
   ]
  },
  {
   "cell_type": "code",
   "execution_count": 173,
   "metadata": {},
   "outputs": [
    {
     "data": {
      "text/html": [
       "<div>\n",
       "<style scoped>\n",
       "    .dataframe tbody tr th:only-of-type {\n",
       "        vertical-align: middle;\n",
       "    }\n",
       "\n",
       "    .dataframe tbody tr th {\n",
       "        vertical-align: top;\n",
       "    }\n",
       "\n",
       "    .dataframe thead th {\n",
       "        text-align: right;\n",
       "    }\n",
       "</style>\n",
       "<table border=\"1\" class=\"dataframe\">\n",
       "  <thead>\n",
       "    <tr style=\"text-align: right;\">\n",
       "      <th></th>\n",
       "      <th>0</th>\n",
       "      <th>1</th>\n",
       "      <th>2</th>\n",
       "    </tr>\n",
       "  </thead>\n",
       "  <tbody>\n",
       "    <tr>\n",
       "      <th>0</th>\n",
       "      <td>GBR</td>\n",
       "      <td>London</td>\n",
       "      <td>{'type': 'Point', 'coordinates': [-6.267494, 5...</td>\n",
       "    </tr>\n",
       "    <tr>\n",
       "      <th>1</th>\n",
       "      <td>GBR</td>\n",
       "      <td>Buckinghamshire</td>\n",
       "      <td>None</td>\n",
       "    </tr>\n",
       "    <tr>\n",
       "      <th>2</th>\n",
       "      <td>USA</td>\n",
       "      <td>Pasadena</td>\n",
       "      <td>{'type': 'Point', 'coordinates': [-118.1327468...</td>\n",
       "    </tr>\n",
       "    <tr>\n",
       "      <th>2</th>\n",
       "      <td>USA</td>\n",
       "      <td>New York</td>\n",
       "      <td>None</td>\n",
       "    </tr>\n",
       "    <tr>\n",
       "      <th>2</th>\n",
       "      <td>GBR</td>\n",
       "      <td>London</td>\n",
       "      <td>None</td>\n",
       "    </tr>\n",
       "  </tbody>\n",
       "</table>\n",
       "</div>"
      ],
      "text/plain": [
       "     0                1                                                  2\n",
       "0  GBR           London  {'type': 'Point', 'coordinates': [-6.267494, 5...\n",
       "1  GBR  Buckinghamshire                                               None\n",
       "2  USA         Pasadena  {'type': 'Point', 'coordinates': [-118.1327468...\n",
       "2  USA         New York                                               None\n",
       "2  GBR           London                                               None"
      ]
     },
     "execution_count": 173,
     "metadata": {},
     "output_type": "execute_result"
    }
   ],
   "source": [
    "offices = office_df.apply(extract_loc,axis=1, result_type=\"expand\")\n",
    "offices.head()"
   ]
  },
  {
   "cell_type": "code",
   "execution_count": 220,
   "metadata": {},
   "outputs": [
    {
     "data": {
      "text/html": [
       "<div>\n",
       "<style scoped>\n",
       "    .dataframe tbody tr th:only-of-type {\n",
       "        vertical-align: middle;\n",
       "    }\n",
       "\n",
       "    .dataframe tbody tr th {\n",
       "        vertical-align: top;\n",
       "    }\n",
       "\n",
       "    .dataframe thead th {\n",
       "        text-align: right;\n",
       "    }\n",
       "</style>\n",
       "<table border=\"1\" class=\"dataframe\">\n",
       "  <thead>\n",
       "    <tr style=\"text-align: right;\">\n",
       "      <th></th>\n",
       "      <th>__id</th>\n",
       "      <th>name</th>\n",
       "      <th>founded_year</th>\n",
       "      <th>raised</th>\n",
       "      <th>offices</th>\n",
       "      <th>country</th>\n",
       "      <th>city</th>\n",
       "      <th>location</th>\n",
       "    </tr>\n",
       "  </thead>\n",
       "  <tbody>\n",
       "    <tr>\n",
       "      <th>1326</th>\n",
       "      <td>52cdef7f4bab8bd67529c6ae</td>\n",
       "      <td>Systems Integration</td>\n",
       "      <td>NaN</td>\n",
       "      <td>£850k</td>\n",
       "      <td>{'description': '', 'address1': 'TRENT HOUSE, ...</td>\n",
       "      <td>GBR</td>\n",
       "      <td></td>\n",
       "      <td>None</td>\n",
       "    </tr>\n",
       "    <tr>\n",
       "      <th>1327</th>\n",
       "      <td>52cdef7f4bab8bd67529c6c0</td>\n",
       "      <td>Block Shield</td>\n",
       "      <td>2000.0</td>\n",
       "      <td>$0</td>\n",
       "      <td>{'description': '', 'address1': '190 Strand', ...</td>\n",
       "      <td>GBR</td>\n",
       "      <td>London</td>\n",
       "      <td>{'type': 'Point', 'coordinates': [-0.114374, 5...</td>\n",
       "    </tr>\n",
       "    <tr>\n",
       "      <th>1328</th>\n",
       "      <td>52cdef7f4bab8bd67529c6cc</td>\n",
       "      <td>Knowledge Genes</td>\n",
       "      <td>2008.0</td>\n",
       "      <td>$0</td>\n",
       "      <td>{'description': 'Research and Development', 'a...</td>\n",
       "      <td>GBR</td>\n",
       "      <td></td>\n",
       "      <td>None</td>\n",
       "    </tr>\n",
       "    <tr>\n",
       "      <th>1329</th>\n",
       "      <td>52cdef7f4bab8bd67529c6dc</td>\n",
       "      <td>acrossair</td>\n",
       "      <td>2009.0</td>\n",
       "      <td>$0</td>\n",
       "      <td>{'description': '198 High Holborn', 'address1'...</td>\n",
       "      <td>GBR</td>\n",
       "      <td>London</td>\n",
       "      <td>{'type': 'Point', 'coordinates': [-0.1165365, ...</td>\n",
       "    </tr>\n",
       "    <tr>\n",
       "      <th>1330</th>\n",
       "      <td>52cdef7f4bab8bd67529c6e6</td>\n",
       "      <td>OfficialVirtualDJ</td>\n",
       "      <td>2009.0</td>\n",
       "      <td>€25M</td>\n",
       "      <td>{'description': 'Created in London', 'address1...</td>\n",
       "      <td>GBR</td>\n",
       "      <td>London</td>\n",
       "      <td>None</td>\n",
       "    </tr>\n",
       "  </tbody>\n",
       "</table>\n",
       "</div>"
      ],
      "text/plain": [
       "                          __id                 name  founded_year raised  \\\n",
       "1326  52cdef7f4bab8bd67529c6ae  Systems Integration           NaN  £850k   \n",
       "1327  52cdef7f4bab8bd67529c6c0         Block Shield        2000.0     $0   \n",
       "1328  52cdef7f4bab8bd67529c6cc      Knowledge Genes        2008.0     $0   \n",
       "1329  52cdef7f4bab8bd67529c6dc            acrossair        2009.0     $0   \n",
       "1330  52cdef7f4bab8bd67529c6e6    OfficialVirtualDJ        2009.0   €25M   \n",
       "\n",
       "                                                offices country    city  \\\n",
       "1326  {'description': '', 'address1': 'TRENT HOUSE, ...     GBR           \n",
       "1327  {'description': '', 'address1': '190 Strand', ...     GBR  London   \n",
       "1328  {'description': 'Research and Development', 'a...     GBR           \n",
       "1329  {'description': '198 High Holborn', 'address1'...     GBR  London   \n",
       "1330  {'description': 'Created in London', 'address1...     GBR  London   \n",
       "\n",
       "                                               location  \n",
       "1326                                               None  \n",
       "1327  {'type': 'Point', 'coordinates': [-0.114374, 5...  \n",
       "1328                                               None  \n",
       "1329  {'type': 'Point', 'coordinates': [-0.1165365, ...  \n",
       "1330                                               None  "
      ]
     },
     "execution_count": 220,
     "metadata": {},
     "output_type": "execute_result"
    }
   ],
   "source": [
    "#Append to office_df\n",
    "offices_loc = pd.concat([office_df, offices], axis=1)\n",
    "offices_loc.columns = ['__id', 'name', 'founded_year', 'raised', 'offices','country', 'city', 'location']\n",
    "offices_loc = offices_loc[offices_loc.country=='GBR']\n",
    "#offices_loc['raised'] = offices_loc.raised.apply(lam)\n"
   ]
  },
  {
   "cell_type": "code",
   "execution_count": 221,
   "metadata": {},
   "outputs": [],
   "source": [
    "#Euros: 1.09 dollars\n",
    "#Punds: 1.25\n",
    "def clean_raised(x):\n",
    "    currency = {'$':0,'£':1.25,'€':1.09}\n",
    "    a = 0\n",
    "    if len(x)<3:\n",
    "        return 0\n",
    "    for c in currency:\n",
    "        if c in x:\n",
    "            a = float(x[1:-1])*currency[c]\n",
    "        if 'k' in x:\n",
    "            a = a/10\n",
    "    return round(a,3)\n",
    "        "
   ]
  },
  {
   "cell_type": "code",
   "execution_count": 222,
   "metadata": {},
   "outputs": [
    {
     "ename": "ValueError",
     "evalue": "could not convert string to float: '$30'",
     "output_type": "error",
     "traceback": [
      "\u001b[0;31m-----------------------\u001b[0m",
      "\u001b[0;31mValueError\u001b[0mTraceback (most recent call last)",
      "\u001b[0;32m<ipython-input-222-f2eafea7788a>\u001b[0m in \u001b[0;36m<module>\u001b[0;34m\u001b[0m\n\u001b[0;32m----> 1\u001b[0;31m \u001b[0moffices_loc\u001b[0m\u001b[0;34m[\u001b[0m\u001b[0;34m'raised'\u001b[0m\u001b[0;34m]\u001b[0m \u001b[0;34m=\u001b[0m \u001b[0moffices_loc\u001b[0m\u001b[0;34m.\u001b[0m\u001b[0mraised\u001b[0m\u001b[0;34m.\u001b[0m\u001b[0mapply\u001b[0m\u001b[0;34m(\u001b[0m\u001b[0mclean_raised\u001b[0m\u001b[0;34m)\u001b[0m\u001b[0;34m\u001b[0m\u001b[0;34m\u001b[0m\u001b[0m\n\u001b[0m",
      "\u001b[0;32m~/.local/lib/python3.6/site-packages/pandas/core/series.py\u001b[0m in \u001b[0;36mapply\u001b[0;34m(self, func, convert_dtype, args, **kwds)\u001b[0m\n\u001b[1;32m   3846\u001b[0m             \u001b[0;32melse\u001b[0m\u001b[0;34m:\u001b[0m\u001b[0;34m\u001b[0m\u001b[0;34m\u001b[0m\u001b[0m\n\u001b[1;32m   3847\u001b[0m                 \u001b[0mvalues\u001b[0m \u001b[0;34m=\u001b[0m \u001b[0mself\u001b[0m\u001b[0;34m.\u001b[0m\u001b[0mastype\u001b[0m\u001b[0;34m(\u001b[0m\u001b[0mobject\u001b[0m\u001b[0;34m)\u001b[0m\u001b[0;34m.\u001b[0m\u001b[0mvalues\u001b[0m\u001b[0;34m\u001b[0m\u001b[0;34m\u001b[0m\u001b[0m\n\u001b[0;32m-> 3848\u001b[0;31m                 \u001b[0mmapped\u001b[0m \u001b[0;34m=\u001b[0m \u001b[0mlib\u001b[0m\u001b[0;34m.\u001b[0m\u001b[0mmap_infer\u001b[0m\u001b[0;34m(\u001b[0m\u001b[0mvalues\u001b[0m\u001b[0;34m,\u001b[0m \u001b[0mf\u001b[0m\u001b[0;34m,\u001b[0m \u001b[0mconvert\u001b[0m\u001b[0;34m=\u001b[0m\u001b[0mconvert_dtype\u001b[0m\u001b[0;34m)\u001b[0m\u001b[0;34m\u001b[0m\u001b[0;34m\u001b[0m\u001b[0m\n\u001b[0m\u001b[1;32m   3849\u001b[0m \u001b[0;34m\u001b[0m\u001b[0m\n\u001b[1;32m   3850\u001b[0m         \u001b[0;32mif\u001b[0m \u001b[0mlen\u001b[0m\u001b[0;34m(\u001b[0m\u001b[0mmapped\u001b[0m\u001b[0;34m)\u001b[0m \u001b[0;32mand\u001b[0m \u001b[0misinstance\u001b[0m\u001b[0;34m(\u001b[0m\u001b[0mmapped\u001b[0m\u001b[0;34m[\u001b[0m\u001b[0;36m0\u001b[0m\u001b[0;34m]\u001b[0m\u001b[0;34m,\u001b[0m \u001b[0mSeries\u001b[0m\u001b[0;34m)\u001b[0m\u001b[0;34m:\u001b[0m\u001b[0;34m\u001b[0m\u001b[0;34m\u001b[0m\u001b[0m\n",
      "\u001b[0;32mpandas/_libs/lib.pyx\u001b[0m in \u001b[0;36mpandas._libs.lib.map_infer\u001b[0;34m()\u001b[0m\n",
      "\u001b[0;32m<ipython-input-221-5b6bc1c0c098>\u001b[0m in \u001b[0;36mclean_raised\u001b[0;34m(x)\u001b[0m\n\u001b[1;32m      8\u001b[0m     \u001b[0;32mfor\u001b[0m \u001b[0mc\u001b[0m \u001b[0;32min\u001b[0m \u001b[0mcurrency\u001b[0m\u001b[0;34m:\u001b[0m\u001b[0;34m\u001b[0m\u001b[0;34m\u001b[0m\u001b[0m\n\u001b[1;32m      9\u001b[0m         \u001b[0;32mif\u001b[0m \u001b[0mc\u001b[0m \u001b[0;32min\u001b[0m \u001b[0mx\u001b[0m\u001b[0;34m:\u001b[0m\u001b[0;34m\u001b[0m\u001b[0;34m\u001b[0m\u001b[0m\n\u001b[0;32m---> 10\u001b[0;31m             \u001b[0ma\u001b[0m \u001b[0;34m=\u001b[0m \u001b[0mfloat\u001b[0m\u001b[0;34m(\u001b[0m\u001b[0mx\u001b[0m\u001b[0;34m[\u001b[0m\u001b[0;36m1\u001b[0m\u001b[0;34m:\u001b[0m\u001b[0;34m-\u001b[0m\u001b[0;36m1\u001b[0m\u001b[0;34m]\u001b[0m\u001b[0;34m)\u001b[0m\u001b[0;34m*\u001b[0m\u001b[0mcurrency\u001b[0m\u001b[0;34m[\u001b[0m\u001b[0mc\u001b[0m\u001b[0;34m]\u001b[0m\u001b[0;34m\u001b[0m\u001b[0;34m\u001b[0m\u001b[0m\n\u001b[0m\u001b[1;32m     11\u001b[0m         \u001b[0;32mif\u001b[0m \u001b[0;34m'k'\u001b[0m \u001b[0;32min\u001b[0m \u001b[0mx\u001b[0m\u001b[0;34m:\u001b[0m\u001b[0;34m\u001b[0m\u001b[0;34m\u001b[0m\u001b[0m\n\u001b[1;32m     12\u001b[0m             \u001b[0ma\u001b[0m \u001b[0;34m=\u001b[0m \u001b[0ma\u001b[0m\u001b[0;34m/\u001b[0m\u001b[0;36m10\u001b[0m\u001b[0;34m\u001b[0m\u001b[0;34m\u001b[0m\u001b[0m\n",
      "\u001b[0;31mValueError\u001b[0m: could not convert string to float: '$30'"
     ]
    }
   ],
   "source": [
    "offices_loc['raised'] = offices_loc.raised.apply(clean_raised)"
   ]
  },
  {
   "cell_type": "markdown",
   "metadata": {},
   "source": [
    "## Filtering to accomodate developers: top notch companies (raised 1 mill dollars)"
   ]
  },
  {
   "cell_type": "code",
   "execution_count": 217,
   "metadata": {},
   "outputs": [
    {
     "data": {
      "text/plain": [
       "5.5"
      ]
     },
     "execution_count": 217,
     "metadata": {},
     "output_type": "execute_result"
    }
   ],
   "source": []
  },
  {
   "cell_type": "code",
   "execution_count": null,
   "metadata": {},
   "outputs": [],
   "source": []
  },
  {
   "cell_type": "code",
   "execution_count": null,
   "metadata": {},
   "outputs": [],
   "source": []
  },
  {
   "cell_type": "code",
   "execution_count": null,
   "metadata": {},
   "outputs": [],
   "source": []
  },
  {
   "cell_type": "code",
   "execution_count": null,
   "metadata": {},
   "outputs": [],
   "source": []
  },
  {
   "cell_type": "code",
   "execution_count": null,
   "metadata": {},
   "outputs": [],
   "source": []
  },
  {
   "cell_type": "code",
   "execution_count": null,
   "metadata": {},
   "outputs": [],
   "source": []
  },
  {
   "cell_type": "code",
   "execution_count": null,
   "metadata": {},
   "outputs": [],
   "source": []
  },
  {
   "cell_type": "code",
   "execution_count": null,
   "metadata": {},
   "outputs": [],
   "source": [
    "def getOfficeNear(address, maxDist=1000):\n",
    "    point = geocode(address)\n",
    "    return {\n",
    "       \"office\": {\n",
    "         \"$near\": {\n",
    "           \"$geometry\": point,\n",
    "           \"$maxDistance\": maxDist,\n",
    "         }\n",
    "       }\n",
    "    }"
   ]
  },
  {
   "cell_type": "code",
   "execution_count": 14,
   "metadata": {},
   "outputs": [],
   "source": []
  },
  {
   "cell_type": "code",
   "execution_count": 15,
   "metadata": {},
   "outputs": [
    {
     "data": {
      "text/plain": [
       "({'category_code': 'web'}, {'offices': 1, 'name': 1})"
      ]
     },
     "execution_count": 15,
     "metadata": {},
     "output_type": "execute_result"
    }
   ],
   "source": []
  },
  {
   "cell_type": "code",
   "execution_count": 7,
   "metadata": {},
   "outputs": [
    {
     "data": {
      "text/plain": [
       "'\\nhttps://maps.googleapis.com/maps/api/place/nearbysearch/json\\n  ?location=-33.8670522,151.1957362\\n  &radius=500\\n  &types=food\\n  &name=harbour\\n  &key=YOUR_API_KEY\\n'"
      ]
     },
     "execution_count": 7,
     "metadata": {},
     "output_type": "execute_result"
    }
   ],
   "source": [
    "#Example of a google api query:\n",
    "'''\n",
    "https://maps.googleapis.com/maps/api/place/nearbysearch/json\n",
    "  ?location=-33.8670522,151.1957362\n",
    "  &radius=500\n",
    "  &types=food\n",
    "  &name=harbour\n",
    "  &key=YOUR_API_KEY\n",
    "'''"
   ]
  }
 ],
 "metadata": {
  "kernelspec": {
   "display_name": "Python 3.6.9 64-bit",
   "language": "python",
   "name": "python36964bit36b15ce491344c3aaf77177bbb6e80c7"
  },
  "language_info": {
   "codemirror_mode": {
    "name": "ipython",
    "version": 3
   },
   "file_extension": ".py",
   "mimetype": "text/x-python",
   "name": "python",
   "nbconvert_exporter": "python",
   "pygments_lexer": "ipython3",
   "version": "3.6.9"
  }
 },
 "nbformat": 4,
 "nbformat_minor": 2
}
